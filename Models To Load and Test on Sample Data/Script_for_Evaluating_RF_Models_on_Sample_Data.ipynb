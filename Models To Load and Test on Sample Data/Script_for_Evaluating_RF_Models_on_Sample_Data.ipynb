{
  "nbformat": 4,
  "nbformat_minor": 0,
  "metadata": {
    "kernelspec": {
      "display_name": "Python 3",
      "language": "python",
      "name": "python3"
    },
    "language_info": {
      "codemirror_mode": {
        "name": "ipython",
        "version": 3
      },
      "file_extension": ".py",
      "mimetype": "text/x-python",
      "name": "python",
      "nbconvert_exporter": "python",
      "pygments_lexer": "ipython3",
      "version": "3.8.3"
    },
    "colab": {
      "name": "Script for Evaluating RF Models on Sample Data.ipynb",
      "provenance": [],
      "collapsed_sections": []
    }
  },
  "cells": [
    {
      "cell_type": "code",
      "metadata": {
        "colab": {
          "base_uri": "https://localhost:8080/"
        },
        "id": "L_iOOuGsTuP5",
        "outputId": "091c0c66-0fc6-4e02-bfcc-b1d2d0740226"
      },
      "source": [
        "#Mouting drive for getting access to MyDrive\n",
        "from google.colab import drive\n",
        "drive.mount('/content/drive/')"
      ],
      "execution_count": 11,
      "outputs": [
        {
          "output_type": "stream",
          "text": [
            "Drive already mounted at /content/drive/; to attempt to forcibly remount, call drive.mount(\"/content/drive/\", force_remount=True).\n"
          ],
          "name": "stdout"
        }
      ]
    },
    {
      "cell_type": "markdown",
      "metadata": {
        "id": "PMFauJMDajy5"
      },
      "source": [
        "##Importing required Libraries"
      ]
    },
    {
      "cell_type": "code",
      "metadata": {
        "id": "2D1Fpq6Iuddk"
      },
      "source": [
        "# Visualization Libraries\n",
        "import matplotlib\n",
        "import matplotlib.pyplot as plt\n",
        "import seaborn as sns\n",
        "\n",
        "#Preprocessing Libraries\n",
        "import pandas as pd\n",
        "from sklearn.model_selection import train_test_split\n",
        "from sklearn.metrics import precision_score, recall_score, confusion_matrix, classification_report, accuracy_score, f1_score\n",
        "\n",
        "# ML Libraries\n",
        "from sklearn.ensemble import RandomForestClassifier,VotingClassifier\n",
        "from sklearn.neighbors import KNeighborsClassifier\n",
        "from sklearn.neural_network import MLPClassifier\n",
        "\n",
        "# Evaluation Metrics\n",
        "#from yellowbrick.classifier import ClassificationReport\n",
        "from sklearn import metrics"
      ],
      "execution_count": 12,
      "outputs": []
    },
    {
      "cell_type": "markdown",
      "metadata": {
        "id": "qvD3MargFZor"
      },
      "source": [
        "##Loading small sample_data for the evaluation of model."
      ]
    },
    {
      "cell_type": "code",
      "metadata": {
        "id": "ll0DjqWcKVpS"
      },
      "source": [
        "sample_data = pd.read_pickle(\"drive/My Drive/Colab Notebooks/CMPE_255_Project/Sample_Data_RF1.pkl\")"
      ],
      "execution_count": 13,
      "outputs": []
    },
    {
      "cell_type": "code",
      "metadata": {
        "colab": {
          "base_uri": "https://localhost:8080/",
          "height": 239
        },
        "id": "WFP2HoLsGkPi",
        "outputId": "b3431afc-e4bd-470d-9605-c903cff082cd"
      },
      "source": [
        "sample_data.head()"
      ],
      "execution_count": 14,
      "outputs": [
        {
          "output_type": "execute_result",
          "data": {
            "text/html": [
              "<div>\n",
              "<style scoped>\n",
              "    .dataframe tbody tr th:only-of-type {\n",
              "        vertical-align: middle;\n",
              "    }\n",
              "\n",
              "    .dataframe tbody tr th {\n",
              "        vertical-align: top;\n",
              "    }\n",
              "\n",
              "    .dataframe thead th {\n",
              "        text-align: right;\n",
              "    }\n",
              "</style>\n",
              "<table border=\"1\" class=\"dataframe\">\n",
              "  <thead>\n",
              "    <tr style=\"text-align: right;\">\n",
              "      <th></th>\n",
              "      <th>IUCR</th>\n",
              "      <th>Description</th>\n",
              "      <th>Location Description</th>\n",
              "      <th>Arrest</th>\n",
              "      <th>Domestic</th>\n",
              "      <th>Beat</th>\n",
              "      <th>District</th>\n",
              "      <th>Ward</th>\n",
              "      <th>Community Area</th>\n",
              "      <th>FBI Code</th>\n",
              "      <th>Year</th>\n",
              "      <th>Latitude</th>\n",
              "      <th>Longitude</th>\n",
              "      <th>Month</th>\n",
              "      <th>Day_num</th>\n",
              "      <th>Time</th>\n",
              "      <th>day_of_week</th>\n",
              "      <th>primary_type_grouped</th>\n",
              "      <th>zone</th>\n",
              "      <th>Count_CrimeType_Column</th>\n",
              "    </tr>\n",
              "  </thead>\n",
              "  <tbody>\n",
              "    <tr>\n",
              "      <th>6230038</th>\n",
              "      <td>3</td>\n",
              "      <td>66</td>\n",
              "      <td>17</td>\n",
              "      <td>True</td>\n",
              "      <td>False</td>\n",
              "      <td>312</td>\n",
              "      <td>3.0</td>\n",
              "      <td>20.0</td>\n",
              "      <td>42.0</td>\n",
              "      <td>2</td>\n",
              "      <td>2018</td>\n",
              "      <td>41.777697</td>\n",
              "      <td>-87.613148</td>\n",
              "      <td>5</td>\n",
              "      <td>13</td>\n",
              "      <td>14</td>\n",
              "      <td>3</td>\n",
              "      <td>5</td>\n",
              "      <td>2</td>\n",
              "      <td>112895.0</td>\n",
              "    </tr>\n",
              "    <tr>\n",
              "      <th>6566590</th>\n",
              "      <td>95</td>\n",
              "      <td>348</td>\n",
              "      <td>139</td>\n",
              "      <td>False</td>\n",
              "      <td>False</td>\n",
              "      <td>212</td>\n",
              "      <td>2.0</td>\n",
              "      <td>4.0</td>\n",
              "      <td>35.0</td>\n",
              "      <td>7</td>\n",
              "      <td>2015</td>\n",
              "      <td>41.830697</td>\n",
              "      <td>-87.614477</td>\n",
              "      <td>3</td>\n",
              "      <td>2</td>\n",
              "      <td>21</td>\n",
              "      <td>1</td>\n",
              "      <td>6</td>\n",
              "      <td>2</td>\n",
              "      <td>2327482.0</td>\n",
              "    </tr>\n",
              "    <tr>\n",
              "      <th>2835911</th>\n",
              "      <td>307</td>\n",
              "      <td>444</td>\n",
              "      <td>158</td>\n",
              "      <td>False</td>\n",
              "      <td>False</td>\n",
              "      <td>1412</td>\n",
              "      <td>14.0</td>\n",
              "      <td>35.0</td>\n",
              "      <td>21.0</td>\n",
              "      <td>25</td>\n",
              "      <td>2006</td>\n",
              "      <td>41.939225</td>\n",
              "      <td>-87.716621</td>\n",
              "      <td>3</td>\n",
              "      <td>14</td>\n",
              "      <td>2</td>\n",
              "      <td>5</td>\n",
              "      <td>4</td>\n",
              "      <td>3</td>\n",
              "      <td>517088.0</td>\n",
              "    </tr>\n",
              "    <tr>\n",
              "      <th>5171670</th>\n",
              "      <td>61</td>\n",
              "      <td>66</td>\n",
              "      <td>181</td>\n",
              "      <td>True</td>\n",
              "      <td>False</td>\n",
              "      <td>1013</td>\n",
              "      <td>10.0</td>\n",
              "      <td>22.0</td>\n",
              "      <td>30.0</td>\n",
              "      <td>4</td>\n",
              "      <td>2011</td>\n",
              "      <td>41.844699</td>\n",
              "      <td>-87.727806</td>\n",
              "      <td>12</td>\n",
              "      <td>11</td>\n",
              "      <td>1</td>\n",
              "      <td>3</td>\n",
              "      <td>3</td>\n",
              "      <td>2</td>\n",
              "      <td>1640154.0</td>\n",
              "    </tr>\n",
              "    <tr>\n",
              "      <th>3509131</th>\n",
              "      <td>85</td>\n",
              "      <td>340</td>\n",
              "      <td>147</td>\n",
              "      <td>False</td>\n",
              "      <td>False</td>\n",
              "      <td>1811</td>\n",
              "      <td>18.0</td>\n",
              "      <td>32.0</td>\n",
              "      <td>7.0</td>\n",
              "      <td>7</td>\n",
              "      <td>2007</td>\n",
              "      <td>41.921606</td>\n",
              "      <td>-87.665477</td>\n",
              "      <td>7</td>\n",
              "      <td>26</td>\n",
              "      <td>11</td>\n",
              "      <td>4</td>\n",
              "      <td>6</td>\n",
              "      <td>3</td>\n",
              "      <td>2327482.0</td>\n",
              "    </tr>\n",
              "  </tbody>\n",
              "</table>\n",
              "</div>"
            ],
            "text/plain": [
              "         IUCR  Description  ...  zone  Count_CrimeType_Column\n",
              "6230038     3           66  ...     2                112895.0\n",
              "6566590    95          348  ...     2               2327482.0\n",
              "2835911   307          444  ...     3                517088.0\n",
              "5171670    61           66  ...     2               1640154.0\n",
              "3509131    85          340  ...     3               2327482.0\n",
              "\n",
              "[5 rows x 20 columns]"
            ]
          },
          "metadata": {
            "tags": []
          },
          "execution_count": 14
        }
      ]
    },
    {
      "cell_type": "code",
      "metadata": {
        "colab": {
          "base_uri": "https://localhost:8080/"
        },
        "id": "SCs7UwV6Gm93",
        "outputId": "8cdd718d-0553-4c48-be56-9ca640d2be31"
      },
      "source": [
        "sample_data.shape"
      ],
      "execution_count": 15,
      "outputs": [
        {
          "output_type": "execute_result",
          "data": {
            "text/plain": [
              "(500, 20)"
            ]
          },
          "metadata": {
            "tags": []
          },
          "execution_count": 15
        }
      ]
    },
    {
      "cell_type": "markdown",
      "metadata": {
        "id": "LAhtS4hya0iU"
      },
      "source": [
        "##Run below code for processing data."
      ]
    },
    {
      "cell_type": "code",
      "metadata": {
        "id": "e9oHvMOrbFcw"
      },
      "source": [
        "# Convert Categorical Attributes to Numerical\n",
        "for col_name in sample_data.columns:\n",
        "    if(sample_data[col_name].dtype == 'object'):\n",
        "        sample_data[col_name]= sample_data[col_name].astype('category')\n",
        "        sample_data[col_name] = sample_data[col_name].cat.codes"
      ],
      "execution_count": 16,
      "outputs": []
    },
    {
      "cell_type": "code",
      "metadata": {
        "colab": {
          "base_uri": "https://localhost:8080/"
        },
        "id": "gnqmk-bubmNk",
        "outputId": "649fb95b-2f37-432c-9a19-1de5154922e4"
      },
      "source": [
        "sample_data.info()"
      ],
      "execution_count": 17,
      "outputs": [
        {
          "output_type": "stream",
          "text": [
            "<class 'pandas.core.frame.DataFrame'>\n",
            "Int64Index: 500 entries, 6230038 to 5420524\n",
            "Data columns (total 20 columns):\n",
            " #   Column                  Non-Null Count  Dtype  \n",
            "---  ------                  --------------  -----  \n",
            " 0   IUCR                    500 non-null    int16  \n",
            " 1   Description             500 non-null    int16  \n",
            " 2   Location Description    500 non-null    int16  \n",
            " 3   Arrest                  500 non-null    bool   \n",
            " 4   Domestic                500 non-null    bool   \n",
            " 5   Beat                    500 non-null    int64  \n",
            " 6   District                500 non-null    float64\n",
            " 7   Ward                    500 non-null    float64\n",
            " 8   Community Area          500 non-null    float64\n",
            " 9   FBI Code                500 non-null    int8   \n",
            " 10  Year                    500 non-null    int64  \n",
            " 11  Latitude                500 non-null    float64\n",
            " 12  Longitude               500 non-null    float64\n",
            " 13  Month                   500 non-null    int64  \n",
            " 14  Day_num                 500 non-null    int64  \n",
            " 15  Time                    500 non-null    int64  \n",
            " 16  day_of_week             500 non-null    int8   \n",
            " 17  primary_type_grouped    500 non-null    int8   \n",
            " 18  zone                    500 non-null    int8   \n",
            " 19  Count_CrimeType_Column  500 non-null    float64\n",
            "dtypes: bool(2), float64(6), int16(3), int64(5), int8(4)\n",
            "memory usage: 52.7 KB\n"
          ],
          "name": "stdout"
        }
      ]
    },
    {
      "cell_type": "code",
      "metadata": {
        "colab": {
          "base_uri": "https://localhost:8080/",
          "height": 239
        },
        "id": "ek--QbPceAVh",
        "outputId": "567e1c47-ea79-49c1-979d-02e5b5381aac"
      },
      "source": [
        "sample_data.head()"
      ],
      "execution_count": 18,
      "outputs": [
        {
          "output_type": "execute_result",
          "data": {
            "text/html": [
              "<div>\n",
              "<style scoped>\n",
              "    .dataframe tbody tr th:only-of-type {\n",
              "        vertical-align: middle;\n",
              "    }\n",
              "\n",
              "    .dataframe tbody tr th {\n",
              "        vertical-align: top;\n",
              "    }\n",
              "\n",
              "    .dataframe thead th {\n",
              "        text-align: right;\n",
              "    }\n",
              "</style>\n",
              "<table border=\"1\" class=\"dataframe\">\n",
              "  <thead>\n",
              "    <tr style=\"text-align: right;\">\n",
              "      <th></th>\n",
              "      <th>IUCR</th>\n",
              "      <th>Description</th>\n",
              "      <th>Location Description</th>\n",
              "      <th>Arrest</th>\n",
              "      <th>Domestic</th>\n",
              "      <th>Beat</th>\n",
              "      <th>District</th>\n",
              "      <th>Ward</th>\n",
              "      <th>Community Area</th>\n",
              "      <th>FBI Code</th>\n",
              "      <th>Year</th>\n",
              "      <th>Latitude</th>\n",
              "      <th>Longitude</th>\n",
              "      <th>Month</th>\n",
              "      <th>Day_num</th>\n",
              "      <th>Time</th>\n",
              "      <th>day_of_week</th>\n",
              "      <th>primary_type_grouped</th>\n",
              "      <th>zone</th>\n",
              "      <th>Count_CrimeType_Column</th>\n",
              "    </tr>\n",
              "  </thead>\n",
              "  <tbody>\n",
              "    <tr>\n",
              "      <th>6230038</th>\n",
              "      <td>3</td>\n",
              "      <td>66</td>\n",
              "      <td>17</td>\n",
              "      <td>True</td>\n",
              "      <td>False</td>\n",
              "      <td>312</td>\n",
              "      <td>3.0</td>\n",
              "      <td>20.0</td>\n",
              "      <td>42.0</td>\n",
              "      <td>2</td>\n",
              "      <td>2018</td>\n",
              "      <td>41.777697</td>\n",
              "      <td>-87.613148</td>\n",
              "      <td>5</td>\n",
              "      <td>13</td>\n",
              "      <td>14</td>\n",
              "      <td>3</td>\n",
              "      <td>5</td>\n",
              "      <td>2</td>\n",
              "      <td>112895.0</td>\n",
              "    </tr>\n",
              "    <tr>\n",
              "      <th>6566590</th>\n",
              "      <td>95</td>\n",
              "      <td>348</td>\n",
              "      <td>139</td>\n",
              "      <td>False</td>\n",
              "      <td>False</td>\n",
              "      <td>212</td>\n",
              "      <td>2.0</td>\n",
              "      <td>4.0</td>\n",
              "      <td>35.0</td>\n",
              "      <td>7</td>\n",
              "      <td>2015</td>\n",
              "      <td>41.830697</td>\n",
              "      <td>-87.614477</td>\n",
              "      <td>3</td>\n",
              "      <td>2</td>\n",
              "      <td>21</td>\n",
              "      <td>1</td>\n",
              "      <td>6</td>\n",
              "      <td>2</td>\n",
              "      <td>2327482.0</td>\n",
              "    </tr>\n",
              "    <tr>\n",
              "      <th>2835911</th>\n",
              "      <td>307</td>\n",
              "      <td>444</td>\n",
              "      <td>158</td>\n",
              "      <td>False</td>\n",
              "      <td>False</td>\n",
              "      <td>1412</td>\n",
              "      <td>14.0</td>\n",
              "      <td>35.0</td>\n",
              "      <td>21.0</td>\n",
              "      <td>25</td>\n",
              "      <td>2006</td>\n",
              "      <td>41.939225</td>\n",
              "      <td>-87.716621</td>\n",
              "      <td>3</td>\n",
              "      <td>14</td>\n",
              "      <td>2</td>\n",
              "      <td>5</td>\n",
              "      <td>4</td>\n",
              "      <td>3</td>\n",
              "      <td>517088.0</td>\n",
              "    </tr>\n",
              "    <tr>\n",
              "      <th>5171670</th>\n",
              "      <td>61</td>\n",
              "      <td>66</td>\n",
              "      <td>181</td>\n",
              "      <td>True</td>\n",
              "      <td>False</td>\n",
              "      <td>1013</td>\n",
              "      <td>10.0</td>\n",
              "      <td>22.0</td>\n",
              "      <td>30.0</td>\n",
              "      <td>4</td>\n",
              "      <td>2011</td>\n",
              "      <td>41.844699</td>\n",
              "      <td>-87.727806</td>\n",
              "      <td>12</td>\n",
              "      <td>11</td>\n",
              "      <td>1</td>\n",
              "      <td>3</td>\n",
              "      <td>3</td>\n",
              "      <td>2</td>\n",
              "      <td>1640154.0</td>\n",
              "    </tr>\n",
              "    <tr>\n",
              "      <th>3509131</th>\n",
              "      <td>85</td>\n",
              "      <td>340</td>\n",
              "      <td>147</td>\n",
              "      <td>False</td>\n",
              "      <td>False</td>\n",
              "      <td>1811</td>\n",
              "      <td>18.0</td>\n",
              "      <td>32.0</td>\n",
              "      <td>7.0</td>\n",
              "      <td>7</td>\n",
              "      <td>2007</td>\n",
              "      <td>41.921606</td>\n",
              "      <td>-87.665477</td>\n",
              "      <td>7</td>\n",
              "      <td>26</td>\n",
              "      <td>11</td>\n",
              "      <td>4</td>\n",
              "      <td>6</td>\n",
              "      <td>3</td>\n",
              "      <td>2327482.0</td>\n",
              "    </tr>\n",
              "  </tbody>\n",
              "</table>\n",
              "</div>"
            ],
            "text/plain": [
              "         IUCR  Description  ...  zone  Count_CrimeType_Column\n",
              "6230038     3           66  ...     2                112895.0\n",
              "6566590    95          348  ...     2               2327482.0\n",
              "2835911   307          444  ...     3                517088.0\n",
              "5171670    61           66  ...     2               1640154.0\n",
              "3509131    85          340  ...     3               2327482.0\n",
              "\n",
              "[5 rows x 20 columns]"
            ]
          },
          "metadata": {
            "tags": []
          },
          "execution_count": 18
        }
      ]
    },
    {
      "cell_type": "markdown",
      "metadata": {
        "id": "lPBO9eKsFOIE"
      },
      "source": [
        "##Run below code for testing RF1 model which has 100% accuracy on sample data."
      ]
    },
    {
      "cell_type": "code",
      "metadata": {
        "colab": {
          "base_uri": "https://localhost:8080/"
        },
        "id": "XUHbxUpxKnf4",
        "outputId": "2e1db16d-10cd-4267-a059-54d230f2eaaf"
      },
      "source": [
        "Features = [\"IUCR\",\"Description\",\"FBI Code\"]\n",
        "print('Full Features: ', Features)\n",
        "\n",
        "target ='primary_type_grouped'"
      ],
      "execution_count": 19,
      "outputs": [
        {
          "output_type": "stream",
          "text": [
            "Full Features:  ['IUCR', 'Description', 'FBI Code']\n"
          ],
          "name": "stdout"
        }
      ]
    },
    {
      "cell_type": "code",
      "metadata": {
        "colab": {
          "base_uri": "https://localhost:8080/"
        },
        "id": "KqJM5QRLK7wI",
        "outputId": "d082767a-4273-42d6-f0fa-3e3467709516"
      },
      "source": [
        "import os\n",
        "print(os.listdir(r\"drive/My Drive/Colab Notebooks/CMPE_255_Project\"))"
      ],
      "execution_count": 20,
      "outputs": [
        {
          "output_type": "stream",
          "text": [
            "['Chicago_Crime', 'Chicago_Crime_Processed_Data.pkl', 'Sample_Data_RF1.pkl', 'RF1.joblib', 'Sample_Data_Proj.pkl', 'RF2.joblib', 'Dataset_csv_preprocessed']\n"
          ],
          "name": "stdout"
        }
      ]
    },
    {
      "cell_type": "code",
      "metadata": {
        "id": "B-ofsJIdK07m"
      },
      "source": [
        "import joblib"
      ],
      "execution_count": 21,
      "outputs": []
    },
    {
      "cell_type": "code",
      "metadata": {
        "id": "CZXlcCoKHVRH"
      },
      "source": [
        "loaded_rf = joblib.load(\"drive/My Drive/Colab Notebooks/CMPE_255_Project/RF1.joblib\")"
      ],
      "execution_count": 22,
      "outputs": []
    },
    {
      "cell_type": "code",
      "metadata": {
        "id": "HH7dypx7Hxj8"
      },
      "source": [
        "s_y1 = sample_data[Features]    #Features to test\n",
        "s_y2 = sample_data[target]      #Target Class to test"
      ],
      "execution_count": 23,
      "outputs": []
    },
    {
      "cell_type": "code",
      "metadata": {
        "id": "Ev65XYNAIQjc"
      },
      "source": [
        "sample_y2= loaded_rf.predict(s_y1)"
      ],
      "execution_count": 33,
      "outputs": []
    },
    {
      "cell_type": "code",
      "metadata": {
        "colab": {
          "base_uri": "https://localhost:8080/"
        },
        "id": "FMbdqji2INCB",
        "outputId": "54d757dc-bf84-49e3-f5f3-96986144647b"
      },
      "source": [
        "#Testing accuracy\n",
        "sample_accuracy=accuracy_score(sample_y2, s_y2)\n",
        "print('Accuracy for testing data for RF1 model on sample data:', sample_accuracy*100, '%.')"
      ],
      "execution_count": 41,
      "outputs": [
        {
          "output_type": "stream",
          "text": [
            "Accuracy for testing data for RF1 model on sample data: 100.0 %.\n"
          ],
          "name": "stdout"
        }
      ]
    },
    {
      "cell_type": "markdown",
      "metadata": {
        "id": "vtUc-w0PE_sA"
      },
      "source": [
        "###--------------------------------------------------------------------------------------------------------------------------------------------------------------------------#"
      ]
    },
    {
      "cell_type": "markdown",
      "metadata": {
        "id": "ZvCASUnFLzg5"
      },
      "source": [
        "##Run below code for RF2 model which had 48% accuracy."
      ]
    },
    {
      "cell_type": "markdown",
      "metadata": {
        "id": "CeF124QnGoNG"
      },
      "source": [
        "The model RF2.joblib file is 2GB which was very large to upload on github. Please refer below link for the file link.\n",
        "\n",
        "Link to RF2 model: https://drive.google.com/file/d/1BxHKRGDah_hdhEJ3fGGoH4a_qBH-_T9L/view?usp=sharing\n"
      ]
    },
    {
      "cell_type": "code",
      "metadata": {
        "colab": {
          "base_uri": "https://localhost:8080/"
        },
        "id": "zYVuYh3HLy-W",
        "outputId": "375bd60a-75d7-439f-a641-5bfcf68254bb"
      },
      "source": [
        "Features_RF2 = [\"District\",\"Ward\",\"Community Area\",\"Latitude\",\"Longitude\",\"Month\",\"Year\",\"Time\",\"zone\",\"Location Description\",\"Beat\"]\n",
        "print('Full Features: ', Features_RF2)\n",
        "\n",
        "target ='primary_type_grouped'"
      ],
      "execution_count": 26,
      "outputs": [
        {
          "output_type": "stream",
          "text": [
            "Full Features:  ['District', 'Ward', 'Community Area', 'Latitude', 'Longitude', 'Month', 'Year', 'Time', 'zone', 'Location Description', 'Beat']\n"
          ],
          "name": "stdout"
        }
      ]
    },
    {
      "cell_type": "code",
      "metadata": {
        "colab": {
          "base_uri": "https://localhost:8080/"
        },
        "id": "-o5dWlwMCxeD",
        "outputId": "6fc95ba3-5f3b-4ad1-b026-591e1bad5956"
      },
      "source": [
        "import os\n",
        "print(os.listdir(r\"drive/My Drive/Colab Notebooks/CMPE_255_Project\"))"
      ],
      "execution_count": 27,
      "outputs": [
        {
          "output_type": "stream",
          "text": [
            "['Chicago_Crime', 'Chicago_Crime_Processed_Data.pkl', 'Sample_Data_RF1.pkl', 'RF1.joblib', 'Sample_Data_Proj.pkl', 'RF2.joblib', 'Dataset_csv_preprocessed']\n"
          ],
          "name": "stdout"
        }
      ]
    },
    {
      "cell_type": "code",
      "metadata": {
        "id": "m1OKdy6tDGf4"
      },
      "source": [
        "import joblib"
      ],
      "execution_count": 28,
      "outputs": []
    },
    {
      "cell_type": "code",
      "metadata": {
        "id": "MLEkqothDb_5"
      },
      "source": [
        "loaded_rf2 = joblib.load(\"drive/My Drive/Colab Notebooks/CMPE_255_Project/RF2.joblib\")"
      ],
      "execution_count": 29,
      "outputs": []
    },
    {
      "cell_type": "code",
      "metadata": {
        "id": "TNmHaZoODfV9"
      },
      "source": [
        "sRF2_y1 = sample_data[Features_RF2]    #Features to test\n",
        "sRF2_y2 = sample_data[target]      #Target Class to test"
      ],
      "execution_count": 30,
      "outputs": []
    },
    {
      "cell_type": "code",
      "metadata": {
        "id": "EJO1z8I0DrHQ"
      },
      "source": [
        "sampleRF2_y2= loaded_rf2.predict(sRF2_y1)"
      ],
      "execution_count": 37,
      "outputs": []
    },
    {
      "cell_type": "code",
      "metadata": {
        "colab": {
          "base_uri": "https://localhost:8080/"
        },
        "id": "PoPmmlHNEs9F",
        "outputId": "fb5e2b75-623f-4a61-910b-ab9a51e53be5"
      },
      "source": [
        "#Testing accuracy\n",
        "sampleRF2_accuracy=accuracy_score(sampleRF2_y2, sRF2_y2)\n",
        "print('Accuracy for testing data for RF2 model on sample data:', sampleRF2_accuracy*100, '%.')"
      ],
      "execution_count": 40,
      "outputs": [
        {
          "output_type": "stream",
          "text": [
            "Accuracy for testing data for RF2 model on sample data: 44.800000000000004 %.\n"
          ],
          "name": "stdout"
        }
      ]
    }
  ]
}