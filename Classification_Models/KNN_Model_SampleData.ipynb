{
  "nbformat": 4,
  "nbformat_minor": 0,
  "metadata": {
    "colab": {
      "name": "KNN-Model-SampleData.ipynb",
      "provenance": []
    },
    "kernelspec": {
      "name": "python3",
      "display_name": "Python 3"
    },
    "language_info": {
      "name": "python"
    }
  },
  "cells": [
    {
      "cell_type": "code",
      "metadata": {
        "id": "C6ZmnTHmJ6m1"
      },
      "source": [
        "import os"
      ],
      "execution_count": 1,
      "outputs": []
    },
    {
      "cell_type": "code",
      "metadata": {
        "colab": {
          "base_uri": "https://localhost:8080/"
        },
        "id": "ztwt1rfoKKhv",
        "outputId": "3d4f890f-43c7-43a7-f5d6-8c42be74d4d7"
      },
      "source": [
        "!pip install findspark\n",
        "!pip install pyspark\n",
        "import findspark\n",
        "from pyspark.sql import SparkSession"
      ],
      "execution_count": 2,
      "outputs": [
        {
          "output_type": "stream",
          "text": [
            "Collecting findspark\n",
            "  Downloading https://files.pythonhosted.org/packages/fc/2d/2e39f9a023479ea798eed4351cd66f163ce61e00c717e03c37109f00c0f2/findspark-1.4.2-py2.py3-none-any.whl\n",
            "Installing collected packages: findspark\n",
            "Successfully installed findspark-1.4.2\n",
            "Collecting pyspark\n",
            "\u001b[?25l  Downloading https://files.pythonhosted.org/packages/45/b0/9d6860891ab14a39d4bddf80ba26ce51c2f9dc4805e5c6978ac0472c120a/pyspark-3.1.1.tar.gz (212.3MB)\n",
            "\u001b[K     |████████████████████████████████| 212.3MB 85kB/s \n",
            "\u001b[?25hCollecting py4j==0.10.9\n",
            "\u001b[?25l  Downloading https://files.pythonhosted.org/packages/9e/b6/6a4fb90cd235dc8e265a6a2067f2a2c99f0d91787f06aca4bcf7c23f3f80/py4j-0.10.9-py2.py3-none-any.whl (198kB)\n",
            "\u001b[K     |████████████████████████████████| 204kB 63.7MB/s \n",
            "\u001b[?25hBuilding wheels for collected packages: pyspark\n",
            "  Building wheel for pyspark (setup.py) ... \u001b[?25l\u001b[?25hdone\n",
            "  Created wheel for pyspark: filename=pyspark-3.1.1-py2.py3-none-any.whl size=212767604 sha256=3246e6ec36b4839c41555903297a4ba53f5a6252f3daaca0949a86f2368038d9\n",
            "  Stored in directory: /root/.cache/pip/wheels/0b/90/c0/01de724414ef122bd05f056541fb6a0ecf47c7ca655f8b3c0f\n",
            "Successfully built pyspark\n",
            "Installing collected packages: py4j, pyspark\n",
            "Successfully installed py4j-0.10.9 pyspark-3.1.1\n"
          ],
          "name": "stdout"
        }
      ]
    },
    {
      "cell_type": "code",
      "metadata": {
        "colab": {
          "base_uri": "https://localhost:8080/"
        },
        "id": "pIlzAxb6KNL8",
        "outputId": "7be5b703-0b9d-4851-93bb-f2c52efe7b76"
      },
      "source": [
        "!pip install pyspark\n",
        "from pyspark import SparkContext\n",
        "from pyspark.sql import SparkSession\n",
        "from pyspark.sql import DataFrame\n",
        "import csv\n",
        "from pyspark.sql.types import *\n",
        "from pyspark.sql.functions import format_number, when\n",
        "import pyspark.sql.functions as F"
      ],
      "execution_count": 3,
      "outputs": [
        {
          "output_type": "stream",
          "text": [
            "Requirement already satisfied: pyspark in /usr/local/lib/python3.7/dist-packages (3.1.1)\n",
            "Requirement already satisfied: py4j==0.10.9 in /usr/local/lib/python3.7/dist-packages (from pyspark) (0.10.9)\n"
          ],
          "name": "stdout"
        }
      ]
    },
    {
      "cell_type": "code",
      "metadata": {
        "id": "b8tad1u8KZQL"
      },
      "source": [
        "import pandas as pd\n",
        "import matplotlib.pyplot as plt\n",
        "import seaborn as sns\n",
        "import numpy as np\n",
        "\n",
        "from sklearn.model_selection import train_test_split, cross_val_score\n",
        "from sklearn.neighbors import KNeighborsClassifier\n",
        "from sklearn import metrics\n",
        "from sklearn.preprocessing import StandardScaler\n",
        "from sklearn.preprocessing import LabelEncoder"
      ],
      "execution_count": 4,
      "outputs": []
    },
    {
      "cell_type": "code",
      "metadata": {
        "colab": {
          "base_uri": "https://localhost:8080/",
          "height": 37
        },
        "id": "FDgTYbDqK9vD",
        "outputId": "4a53339c-ed78-4dd1-b1ab-a54763f69f48"
      },
      "source": [
        "import tensorflow as tf\n",
        "tf.test.gpu_device_name()"
      ],
      "execution_count": 5,
      "outputs": [
        {
          "output_type": "execute_result",
          "data": {
            "application/vnd.google.colaboratory.intrinsic+json": {
              "type": "string"
            },
            "text/plain": [
              "''"
            ]
          },
          "metadata": {
            "tags": []
          },
          "execution_count": 5
        }
      ]
    },
    {
      "cell_type": "code",
      "metadata": {
        "id": "IyBcuIWNK_7o"
      },
      "source": [
        "crime_data = pd.read_pickle('/content/Sample_Data_Proj.pkl')"
      ],
      "execution_count": 6,
      "outputs": []
    },
    {
      "cell_type": "code",
      "metadata": {
        "colab": {
          "base_uri": "https://localhost:8080/",
          "height": 326
        },
        "id": "RqgoKsGYLGLR",
        "outputId": "69d39424-7e1c-44aa-e797-0b531f3db1e5"
      },
      "source": [
        "crime_data.head()"
      ],
      "execution_count": 7,
      "outputs": [
        {
          "output_type": "execute_result",
          "data": {
            "text/html": [
              "<div>\n",
              "<style scoped>\n",
              "    .dataframe tbody tr th:only-of-type {\n",
              "        vertical-align: middle;\n",
              "    }\n",
              "\n",
              "    .dataframe tbody tr th {\n",
              "        vertical-align: top;\n",
              "    }\n",
              "\n",
              "    .dataframe thead th {\n",
              "        text-align: right;\n",
              "    }\n",
              "</style>\n",
              "<table border=\"1\" class=\"dataframe\">\n",
              "  <thead>\n",
              "    <tr style=\"text-align: right;\">\n",
              "      <th></th>\n",
              "      <th>IUCR</th>\n",
              "      <th>Description</th>\n",
              "      <th>Location Description</th>\n",
              "      <th>Arrest</th>\n",
              "      <th>Domestic</th>\n",
              "      <th>Beat</th>\n",
              "      <th>District</th>\n",
              "      <th>Ward</th>\n",
              "      <th>Community Area</th>\n",
              "      <th>FBI Code</th>\n",
              "      <th>Year</th>\n",
              "      <th>Latitude</th>\n",
              "      <th>Longitude</th>\n",
              "      <th>Month</th>\n",
              "      <th>Day_num</th>\n",
              "      <th>Time</th>\n",
              "      <th>day_of_week</th>\n",
              "      <th>primary_type_grouped</th>\n",
              "      <th>zone</th>\n",
              "      <th>Count_CrimeType_Column</th>\n",
              "    </tr>\n",
              "  </thead>\n",
              "  <tbody>\n",
              "    <tr>\n",
              "      <th>5404128</th>\n",
              "      <td>0890</td>\n",
              "      <td>FROM BUILDING</td>\n",
              "      <td>RESIDENCE</td>\n",
              "      <td>False</td>\n",
              "      <td>False</td>\n",
              "      <td>2424</td>\n",
              "      <td>24.0</td>\n",
              "      <td>49.0</td>\n",
              "      <td>1.0</td>\n",
              "      <td>06</td>\n",
              "      <td>2012</td>\n",
              "      <td>42.015517</td>\n",
              "      <td>-87.679075</td>\n",
              "      <td>7</td>\n",
              "      <td>3</td>\n",
              "      <td>12</td>\n",
              "      <td>Tuesday</td>\n",
              "      <td>THEFT</td>\n",
              "      <td>North</td>\n",
              "      <td>2327482.0</td>\n",
              "    </tr>\n",
              "    <tr>\n",
              "      <th>4166807</th>\n",
              "      <td>1320</td>\n",
              "      <td>TO VEHICLE</td>\n",
              "      <td>STREET</td>\n",
              "      <td>False</td>\n",
              "      <td>False</td>\n",
              "      <td>612</td>\n",
              "      <td>6.0</td>\n",
              "      <td>17.0</td>\n",
              "      <td>71.0</td>\n",
              "      <td>14</td>\n",
              "      <td>2008</td>\n",
              "      <td>41.754053</td>\n",
              "      <td>-87.659465</td>\n",
              "      <td>12</td>\n",
              "      <td>31</td>\n",
              "      <td>23</td>\n",
              "      <td>Wednesday</td>\n",
              "      <td>CRIMINAL_OFFENSE</td>\n",
              "      <td>West</td>\n",
              "      <td>1230761.0</td>\n",
              "    </tr>\n",
              "    <tr>\n",
              "      <th>443362</th>\n",
              "      <td>1310</td>\n",
              "      <td>TO PROPERTY</td>\n",
              "      <td>RESIDENCE</td>\n",
              "      <td>False</td>\n",
              "      <td>False</td>\n",
              "      <td>234</td>\n",
              "      <td>2.0</td>\n",
              "      <td>4.0</td>\n",
              "      <td>41.0</td>\n",
              "      <td>14</td>\n",
              "      <td>2017</td>\n",
              "      <td>41.799545</td>\n",
              "      <td>-87.588742</td>\n",
              "      <td>2</td>\n",
              "      <td>20</td>\n",
              "      <td>12</td>\n",
              "      <td>Monday</td>\n",
              "      <td>CRIMINAL_OFFENSE</td>\n",
              "      <td>East</td>\n",
              "      <td>1230761.0</td>\n",
              "    </tr>\n",
              "    <tr>\n",
              "      <th>3983378</th>\n",
              "      <td>0630</td>\n",
              "      <td>ATTEMPT FORCIBLE ENTRY</td>\n",
              "      <td>APARTMENT</td>\n",
              "      <td>False</td>\n",
              "      <td>False</td>\n",
              "      <td>2515</td>\n",
              "      <td>25.0</td>\n",
              "      <td>37.0</td>\n",
              "      <td>19.0</td>\n",
              "      <td>05</td>\n",
              "      <td>2008</td>\n",
              "      <td>41.921231</td>\n",
              "      <td>-87.775626</td>\n",
              "      <td>9</td>\n",
              "      <td>23</td>\n",
              "      <td>12</td>\n",
              "      <td>Tuesday</td>\n",
              "      <td>THEFT</td>\n",
              "      <td>North</td>\n",
              "      <td>2327482.0</td>\n",
              "    </tr>\n",
              "    <tr>\n",
              "      <th>2065057</th>\n",
              "      <td>0460</td>\n",
              "      <td>SIMPLE</td>\n",
              "      <td>CHA APARTMENT</td>\n",
              "      <td>False</td>\n",
              "      <td>False</td>\n",
              "      <td>212</td>\n",
              "      <td>2.0</td>\n",
              "      <td>4.0</td>\n",
              "      <td>35.0</td>\n",
              "      <td>08B</td>\n",
              "      <td>2003</td>\n",
              "      <td>41.824825</td>\n",
              "      <td>-87.613636</td>\n",
              "      <td>10</td>\n",
              "      <td>14</td>\n",
              "      <td>16</td>\n",
              "      <td>Tuesday</td>\n",
              "      <td>NON-CRIMINAL_ASSAULT</td>\n",
              "      <td>East</td>\n",
              "      <td>1640154.0</td>\n",
              "    </tr>\n",
              "  </tbody>\n",
              "</table>\n",
              "</div>"
            ],
            "text/plain": [
              "         IUCR             Description  ...   zone  Count_CrimeType_Column\n",
              "5404128  0890           FROM BUILDING  ...  North               2327482.0\n",
              "4166807  1320              TO VEHICLE  ...   West               1230761.0\n",
              "443362   1310             TO PROPERTY  ...   East               1230761.0\n",
              "3983378  0630  ATTEMPT FORCIBLE ENTRY  ...  North               2327482.0\n",
              "2065057  0460                  SIMPLE  ...   East               1640154.0\n",
              "\n",
              "[5 rows x 20 columns]"
            ]
          },
          "metadata": {
            "tags": []
          },
          "execution_count": 7
        }
      ]
    },
    {
      "cell_type": "code",
      "metadata": {
        "colab": {
          "base_uri": "https://localhost:8080/"
        },
        "id": "FTJVUBrNLIcI",
        "outputId": "49029f06-f3d1-488c-ca0a-bffb69196813"
      },
      "source": [
        "crime_data.columns"
      ],
      "execution_count": 8,
      "outputs": [
        {
          "output_type": "execute_result",
          "data": {
            "text/plain": [
              "Index(['IUCR', 'Description', 'Location Description', 'Arrest', 'Domestic',\n",
              "       'Beat', 'District', 'Ward', 'Community Area', 'FBI Code', 'Year',\n",
              "       'Latitude', 'Longitude', 'Month', 'Day_num', 'Time', 'day_of_week',\n",
              "       'primary_type_grouped', 'zone', 'Count_CrimeType_Column'],\n",
              "      dtype='object')"
            ]
          },
          "metadata": {
            "tags": []
          },
          "execution_count": 8
        }
      ]
    },
    {
      "cell_type": "code",
      "metadata": {
        "id": "BP1d7kR3LKrS"
      },
      "source": [
        "primaryVisualizeDF = crime_data.groupby('primary_type_grouped').size()"
      ],
      "execution_count": 9,
      "outputs": []
    },
    {
      "cell_type": "code",
      "metadata": {
        "colab": {
          "base_uri": "https://localhost:8080/",
          "height": 878
        },
        "id": "ENEKlFOWLN0R",
        "outputId": "bc12e945-7889-4bdd-ec82-123e4aeeb914"
      },
      "source": [
        "primaryVisualizeDF.plot.pie(figsize = (15,15))\n",
        "plt.xlabel('primary_type_grouped', fontsize=10, color = 'red')\n",
        "plt.legend()"
      ],
      "execution_count": 10,
      "outputs": [
        {
          "output_type": "execute_result",
          "data": {
            "text/plain": [
              "<matplotlib.legend.Legend at 0x7f35b0b47690>"
            ]
          },
          "metadata": {
            "tags": []
          },
          "execution_count": 10
        },
        {
          "output_type": "display_data",
          "data": {
            "image/png": "[encoded data removed]",
            "text/plain": [
              "<Figure size 1080x1080 with 1 Axes>"
            ]
          },
          "metadata": {
            "tags": []
          }
        }
      ]
    },
    {
      "cell_type": "code",
      "metadata": {
        "id": "8f7AnbWpLP-j"
      },
      "source": [
        "data = crime_data.replace(to_replace='None', value=np.nan).dropna()"
      ],
      "execution_count": 11,
      "outputs": []
    },
    {
      "cell_type": "code",
      "metadata": {
        "id": "cxg1jKibLXZQ"
      },
      "source": [
        "# create an instance of label encoder for categorical variables\n",
        "labelEncoder = LabelEncoder()"
      ],
      "execution_count": 12,
      "outputs": []
    },
    {
      "cell_type": "code",
      "metadata": {
        "colab": {
          "base_uri": "https://localhost:8080/"
        },
        "id": "1sWHEYkILbaf",
        "outputId": "a972db39-de8d-4057-c5fc-015c91064f4e"
      },
      "source": [
        "primaryEncoded = labelEncoder.fit_transform(data['District'])\n",
        "primaryEncoded"
      ],
      "execution_count": 13,
      "outputs": [
        {
          "output_type": "execute_result",
          "data": {
            "text/plain": [
              "array([20,  5,  1, 21,  1, 11, 20,  8, 11, 10, 11,  3,  3,  7,  2,  0,  1,\n",
              "       10,  2, 19, 15,  5,  5, 10, 10,  5,  3,  1,  3,  5, 13, 16, 10, 14,\n",
              "       11, 14,  3,  3,  5,  9,  7, 18,  7,  7, 10,  8,  2,  6,  1, 16,  3,\n",
              "        3,  2,  2, 20,  7, 13, 11,  2,  8, 15, 17, 11, 19, 18, 10,  6,  5,\n",
              "       17,  6,  2,  5, 14, 16, 12, 21,  9, 15, 14,  2, 10,  2, 21, 10,  6,\n",
              "       17,  8, 13, 13, 15, 18, 11,  9,  1, 13,  5,  0,  3, 13,  4,  0,  1,\n",
              "        2,  6, 12,  3,  0,  3, 20,  7, 16,  5, 10,  2, 10, 15,  5, 17, 12,\n",
              "       14,  2, 21,  3,  1,  7, 21, 15, 11, 12,  2, 13, 11, 10,  7,  7, 12,\n",
              "        9,  8,  0,  3,  8,  6, 18,  0, 13, 11, 15,  4,  0,  7,  1,  6, 11,\n",
              "       12,  5,  6, 13, 17, 19, 15, 14,  3, 20, 14,  3, 19, 11,  5,  6, 11,\n",
              "        0,  4,  8, 10, 16, 16, 16,  5, 13,  7, 11,  1, 13,  3,  4,  5,  2,\n",
              "        2,  2,  8,  1, 21, 17, 17,  3, 16, 12,  6, 17,  4, 13, 19,  9, 11,\n",
              "       12, 16,  5, 20, 11,  6,  6, 10, 19, 20, 20,  7, 12,  9, 10,  4,  1,\n",
              "        6, 21, 10, 11, 17, 13,  4, 10, 10,  9,  8, 10, 11, 21, 10,  2, 21,\n",
              "        4, 11,  5, 19, 21,  5,  5, 16, 11,  2,  6, 12, 21,  2, 18,  8,  4,\n",
              "       10, 10,  8,  1,  4, 19,  6,  8,  8, 14,  5,  5,  2, 17, 13,  6,  8,\n",
              "        9, 17, 16, 14,  5, 11, 21,  6,  7,  5,  5, 12,  1, 12, 14,  2, 21,\n",
              "        3, 21, 12, 10,  8, 15, 12,  3, 11,  7,  8, 15,  6,  0, 10,  9,  4,\n",
              "        2, 12,  9, 14, 11,  1,  4, 18,  8,  6, 15, 21,  4,  1, 15,  4,  5,\n",
              "       20,  7,  1,  8,  0,  8,  0, 17,  3, 11,  7, 20, 10,  1,  9, 13,  6,\n",
              "        0, 10, 11,  7,  5,  5,  6,  8,  2,  6, 20, 21,  7, 11, 21, 13, 13,\n",
              "        2,  6,  0,  4, 19, 17, 12, 20,  2,  9, 10, 13, 18,  7,  6,  2, 19,\n",
              "        7, 15,  2,  3,  8,  3,  1,  8, 12,  8, 20, 13, 16,  9, 12, 21, 11,\n",
              "        3,  2,  3, 20,  8,  6,  6,  7, 19,  1, 13,  4, 13,  1, 11, 13,  1,\n",
              "        7, 10, 20,  5, 21, 17,  7, 15,  3, 14,  0,  2, 14, 14, 12, 21,  3,\n",
              "        6, 12,  3,  7,  1,  3, 12, 14,  5,  9, 17, 20,  1,  1,  5, 21, 16,\n",
              "       10, 20, 20, 12, 14,  2, 11, 12,  5,  5,  4,  0, 17,  2,  0,  4, 12,\n",
              "       20,  1,  2,  4,  2,  8, 16,  5, 14, 13,  2,  6,  8, 10, 16,  6, 15,\n",
              "        2,  5, 16,  9,  7,  8,  3, 11,  7, 21, 17, 17, 13,  8,  8, 16,  4,\n",
              "        9, 18,  0, 21,  2, 18,  6, 10,  1, 10,  6,  6,  3,  4, 18,  3,  6,\n",
              "       21,  6,  7, 21,  1,  6, 18,  9,  0,  7,  3,  3,  4,  4,  5,  6, 11,\n",
              "        5, 13, 12,  6,  3, 10, 11, 14, 17, 12,  5, 21, 13, 13,  0,  8,  2,\n",
              "       19,  5, 15,  0,  4, 17,  6,  5,  5, 21,  6, 14, 16, 12, 10,  5,  6,\n",
              "        6,  7,  9,  7, 16, 21, 19,  2,  3, 17,  6, 13, 21, 14,  7, 14, 21,\n",
              "        2,  8,  7, 21, 10,  6, 10, 17, 21,  0, 16,  8, 15,  3,  8, 12,  3,\n",
              "       19,  7,  5,  5, 20, 13,  6,  9, 18, 17,  3, 15, 10, 13,  0, 14,  1,\n",
              "        9, 10, 15,  1,  8, 18, 18,  1, 16, 17, 16, 16, 12,  2, 14, 16,  0,\n",
              "       20,  4,  4, 13,  3, 16,  6,  4, 14,  7,  6,  7, 17, 16,  5,  9,  3,\n",
              "        5, 11, 16, 10, 16,  9,  5, 15, 10, 19, 21,  6, 11,  1,  0,  7,  2,\n",
              "       10, 19, 11,  9, 14,  3,  7,  4,  8, 10,  5, 16, 16,  2,  1,  3,  6,\n",
              "       18, 12, 14, 10,  3, 11, 14, 13,  6,  5, 21, 12, 10,  7,  9,  2,  6,\n",
              "       11, 14, 12, 17,  8,  6, 17, 16, 13, 10,  2,  2, 11, 12, 21, 15, 19,\n",
              "        2, 21,  0,  6, 12,  7,  5,  2,  3, 15, 21, 20,  3,  7,  1,  4,  2,\n",
              "        3, 10,  2, 10, 13, 12, 17,  4, 10,  6, 10,  9, 19,  2, 15,  7, 13,\n",
              "        2,  6, 19, 21, 15,  8,  5,  9,  7, 11,  1,  6, 10,  8,  8, 20, 19,\n",
              "       18,  3,  9,  8, 14, 13, 17, 21, 10,  1, 10, 12,  0,  9,  4, 12,  4,\n",
              "        4, 16,  7, 21, 12,  3,  2,  5, 10, 17, 19, 10, 12,  5,  4, 10, 10,\n",
              "       20,  8,  5,  6,  3, 14,  6, 21, 10,  5,  5, 16, 11,  4,  2,  9, 14,\n",
              "       21, 10, 11,  0,  7,  4,  7, 21,  4, 21,  7,  3,  0, 21, 13, 12, 21,\n",
              "       18, 16,  6,  8,  3,  9, 13, 20,  3, 19,  0, 11, 12, 15,  8, 10, 11,\n",
              "        2,  4,  4,  6,  9, 15, 17, 10, 14, 12,  5,  6, 20, 21, 16,  8,  8,\n",
              "        7, 17, 21,  3,  3,  8, 11,  2,  6, 13,  2,  6,  8,  5,  5,  6, 14,\n",
              "        7, 10,  8,  7, 12,  7, 11,  1,  9, 19,  3, 16,  3, 21,  6,  8, 13,\n",
              "       19,  0, 10, 12,  2,  2, 16, 14,  6, 12, 16,  9, 13, 12,  2,  7, 19,\n",
              "        3,  6, 19,  3,  7, 20, 13, 16, 12, 13,  8, 20, 19, 17,  3,  7, 11,\n",
              "       21, 14, 16,  8, 17,  9,  3, 10, 10,  9,  8,  7, 13, 17, 14, 21, 14,\n",
              "        2,  4,  4,  7,  8, 16,  6, 16, 21, 14, 10,  1, 17, 19, 12, 18,  9,\n",
              "        7,  6,  1,  0,  6,  3,  1, 10, 15,  5,  7,  3, 11, 19,  6, 14, 15,\n",
              "       10, 21,  9, 14,  6,  1, 16,  0,  5,  7, 19, 10,  4,  6])"
            ]
          },
          "metadata": {
            "tags": []
          },
          "execution_count": 13
        }
      ]
    },
    {
      "cell_type": "code",
      "metadata": {
        "id": "HecX25JwLdR2"
      },
      "source": [
        "data['District'] = primaryEncoded"
      ],
      "execution_count": 14,
      "outputs": []
    },
    {
      "cell_type": "code",
      "metadata": {
        "id": "b1GhrmzALghu"
      },
      "source": [
        "# create an instance of label encoder for categorical variables\n",
        "labelEncoder2 = LabelEncoder()"
      ],
      "execution_count": 15,
      "outputs": []
    },
    {
      "cell_type": "code",
      "metadata": {
        "colab": {
          "base_uri": "https://localhost:8080/"
        },
        "id": "ihG1iEMkLiUz",
        "outputId": "2d4c880d-d823-435d-a18a-ee5d57e5df08"
      },
      "source": [
        "locDiscEncoded = labelEncoder2.fit_transform(data['IUCR'])\n",
        "locDiscEncoded"
      ],
      "execution_count": 55,
      "outputs": [
        {
          "output_type": "execute_result",
          "data": {
            "text/plain": [
              "array([ 40,  65,  64,  28,  13,   2,  65,  37,  17,   4,  65,  55,  27,\n",
              "        42,  46,  13,  42, 102,  27,  13, 100, 100,  13,  17,  13,  42,\n",
              "        31,  37,  85,  64,  93, 100,  67,  65,  31,  40,   3,  17,  31,\n",
              "        17, 113,  42,  12,  31,  24,  13,  37,  23,  64,  31,  26,  27,\n",
              "        32,  17,  64,  40,  26,  64,   5,  85,  56,  31,  30,  31,  32,\n",
              "         3,  79,  85,  31,  17,  27,  37,  64,  30,  64,  68,  17,  31,\n",
              "       117,  19,  85,  64,  65,  85,  26,  37,  39,  45,  13,  18, 100,\n",
              "        42, 110,  30,  94,  40,  40,  26, 100,  17,  13,  31,  64,  45,\n",
              "        26,  26,  30,  13,  64,   2,  65,  17,  26, 100,  65,  41,  30,\n",
              "       101,  42,  30, 103,  31,  26,  17,  17,  43,  64,  26,  31,  64,\n",
              "        13,  65,  91,  42,  42,  31,  31,  47,  55,  64,  37,  16,  64,\n",
              "        56,  64,  17,  31, 100, 105,  30,  31,   3,  17, 100,  42,  42,\n",
              "         8,  40,  17,  40,  42,  84,  65,  25,  26,  43,  13,  17,  30,\n",
              "        25,  58,  31,  13,  65,   3,  55,  40,  26, 116,  30,  27,  30,\n",
              "        31,  72,  10,  42,  17,  70,  31,  65,  66,  13,  13,  26,  64,\n",
              "        61,  17,  85, 101,  76,  31,  13,  10,  85,  55,  37,  42,  73,\n",
              "        55,  17,  73,   2,  13,  30,  85,  42,  31,  66,  17,  42,  26,\n",
              "        13,  25,  17,  24,  37,  90,  70,  26,  65,  17,  26,  91,  31,\n",
              "        66,  17,  95,  28,  61,  31,  31,  32,  64,  37,  25, 110,  30,\n",
              "        64,  17,  26,  64,  42,   3,  83,  13,  17,  15,  13,  17,  26,\n",
              "         2,  25, 108,  68,  27,  26,  30,  30,  76,  31,  31,  85,  13,\n",
              "        13,  20,  65,  64,  30, 100,  23,  10,  10, 104,  73, 116,  36,\n",
              "        30,  26,  26,  17,  27, 101,  17,  25,  33,  31,   2,  17,  65,\n",
              "        13,  25,   2,  30,  17,  85,  64,  88,  30,  98,  64,  56,  96,\n",
              "        98,  55,  26,  93,  34,  31,  17,  37,  64,  85,  66,  64,  13,\n",
              "        42,  27,  37,  13,  30,  64,   2, 116,  52,  13,  57,   3,  31,\n",
              "        65,  65,  40,  17,  31,  42,  40, 108,  85,  13,  93,  31,  64,\n",
              "        31,  26,  17,  64,  40,  31,  64,  26,  31,  25,  67,  40,  22,\n",
              "        40,  30,  85,  25, 107,  65,  15,  64,  66,  27,  26,  31,  17,\n",
              "        26,  65,  64,  69,  65,  26,  17,  63,  17,  38,  85,  32,  65,\n",
              "        30,  65,  25,  85,  26,  17,  25,   3,  17,  31,   4,  17,  19,\n",
              "        91,  31, 100,  10,  91,  26,  94,  13,  86,  13,  55,  13,  44,\n",
              "        26,  26,  69,  17, 101,  42,  40,  42,  64, 100,  60, 101,  16,\n",
              "        65,   5,  82,  17,  65,  75,  66,  40,  76,  26,   3,  64,  76,\n",
              "        93,  65,  31,  76,  37,  17,  25,  85,  18,   5,  65,  37,  56,\n",
              "        17,  56,  31,  30,  55,  64, 118,  56,  17,  65,  40,  42,  40,\n",
              "        15,  54,  89,  27,  31,  61,  17,  56,  31,  31,  38,  47,  42,\n",
              "        65,   7,  13,  76,  31,  30,  17, 108,  31,  17,  13,  64,  30,\n",
              "         1, 112,  65,   2,  30,  40,  13,  65,  26,  31,  17,  31,  43,\n",
              "        51,  31,  32,  15,  26,   6,  85,  13,  64,  54,  19, 102,  65,\n",
              "        26,  26,  17,  95,  64,  78,  27,  85,  94,  30,  93,  49, 109,\n",
              "        27,  14,  30,  31,  30,  43, 108,  13,  69,  17,  65,  25,  57,\n",
              "        17,  85,  25,  65,  26,  17,  21,  82,   8,  66,  13,  94,  89,\n",
              "         2,  17,  85,  17,  13,  62,  31,  91,  25,  66, 102,  66,  85,\n",
              "        13,  30,  31,  85,  26,  13,  26,  31,  31, 113,  65,  15,  24,\n",
              "        85,  17,  38,  30,  25,  63,  85,  51,  30,  30,  25,  37,  87,\n",
              "        17,  42,  17,  65,  31,  37,   2,  26,  32,   5,  42,  40,  17,\n",
              "        65,  36,  30,  64,  31,  66,  66,  31, 101,  30,  49,  55,  13,\n",
              "        42,  64,  57,  76,  17,  26,  81,  87,  31,  42,  31,  87,  10,\n",
              "        65,  93,  17, 116, 119,  65,  56,  31,   9,  25, 100,  93,  17,\n",
              "        74,  17, 113,  25,  91,  35,  25,  85,  40, 100,  37, 100,  61,\n",
              "        13,  84,  10, 101,  26,  17,  65,  17,  43,  17,  17,  40,  21,\n",
              "        85,  31, 100,  50,  65,  31,  53,  13,  31,  26, 101,  26,  22,\n",
              "        40,  85,  26,  85,  42,  17, 115,  15,  17,  26,  13,  13,  37,\n",
              "         3,  15,  37,  31,  93,  42,  64,  25,  65,  93,  85,  21,  65,\n",
              "        76,  13,  17,  40, 113,  25,  40,  64,  30,  64,  64,  65,  40,\n",
              "        13,  25,   4, 100,  13,  13,  17,  17,  25,  13,  31,  93,  65,\n",
              "        17,  13,  27,  11,   8,  27,  13,  18,  26,  25,  15,  85, 116,\n",
              "         8,   7,  13,  40,  55,  17,  91,  51,  42,  17,  85,  30,  25,\n",
              "        13,  31,  13,  85,  54,   2,  30,  10, 118,  17, 119,  99,  30,\n",
              "        31,   2,  21,   2,  31,  24,  76,  25,  17,  58, 111,  13,  17,\n",
              "        91,  30,  73,  10,  93,  66,  64,  65, 100,  86,  40,  42,  90,\n",
              "        37,  89, 101,  95,  55,  93,  21,   2,  93,  59,  85,   1,  30,\n",
              "        13,  17,  73,  50,  21,  65,  66,  30,  10,  92,  42,  85,  37,\n",
              "        31,  31,  38,  71,  25,  64,  65,  73, 114,  40,  17,  37,  13,\n",
              "        30,  25,  21,  91,   3,   5,  35,  66,  64,  85,  26,  31,  85,\n",
              "        31,  77,  85,  85,  38,  51,  31,  48,  85,  27,  31,  65,  21,\n",
              "        13,  26,  25,  56,  17, 110,  26,  17,  31,  19,  25,  85,  69,\n",
              "        30,  90,  64,  48,  40,   2,  31,   3,  13,  30,  21,  12,  17,\n",
              "        80,  39,  27,  17,  26,  54,  96,  17,  94, 100,  17,  37,  73,\n",
              "        64,  26,  31, 120,  42,  17,  54,  81,  85, 116,  30,  73,   1,\n",
              "        97,  25,  40,  65,  20,  17,  17,  16,  45,  26,  57,  64,  65,\n",
              "        13,  66,  30,  30,  42,  40,  79,  86, 106,  17,  26,  20,  25,\n",
              "        64, 102,  25,  22,  17,  31,  31,  13,  30,  18,  17,  85,  17,\n",
              "        25,  31,  26, 101,  13,  50,  93,  64,  25,  85,  20,  85,  85,\n",
              "        25,  29,  42,  42,  31,  42,  31, 101,  25,  31,   2,  17,  85,\n",
              "        25,  69,  26,  31,  94,  40,  17,  65,  67,  26,  65,   0])"
            ]
          },
          "metadata": {
            "tags": []
          },
          "execution_count": 55
        }
      ]
    },
    {
      "cell_type": "code",
      "metadata": {
        "id": "oicidAKeLkBw"
      },
      "source": [
        "data['IUCR'] = locDiscEncoded"
      ],
      "execution_count": 56,
      "outputs": []
    },
    {
      "cell_type": "code",
      "metadata": {
        "id": "cxCMpJCFLmdI"
      },
      "source": [
        "# create an instance of label encoder for categorical variables\n",
        "labelEncoder3 = LabelEncoder()"
      ],
      "execution_count": 18,
      "outputs": []
    },
    {
      "cell_type": "code",
      "metadata": {
        "colab": {
          "base_uri": "https://localhost:8080/"
        },
        "id": "FgKhgw4KLofN",
        "outputId": "1c4e8e73-a957-4ebc-e2ba-ec6c53fdbc99"
      },
      "source": [
        "communityEncoded = labelEncoder3.fit_transform(data['Community Area'])\n",
        "communityEncoded"
      ],
      "execution_count": 19,
      "outputs": [
        {
          "output_type": "execute_result",
          "data": {
            "text/plain": [
              "array([ 0, 67, 38, 16, 32, 21,  1, 57, 20, 23, 25, 40, 42, 58, 40, 30, 35,\n",
              "       23, 39, 45, 14, 65, 41, 24, 23, 41, 42, 38, 42, 41, 22,  7, 23, 13,\n",
              "       28, 13, 44, 47, 65, 27, 52,  3, 59, 61, 26, 54, 40, 64, 35,  7, 42,\n",
              "       51, 40, 40,  1, 62, 22, 28, 40, 57, 14,  5, 25, 68,  1, 22, 64, 41,\n",
              "        5, 64, 65, 41, 13,  7, 19, 16, 26, 12, 72, 39, 23, 65, 16, 20, 64,\n",
              "        2, 34, 22, 22, 14, 73, 25, 26, 32, 22, 67, 29, 42, 22, 45, 29, 36,\n",
              "       65, 65, 18, 42, 29, 42, 73, 62,  7, 67, 24, 65, 20, 11, 41,  3, 19,\n",
              "       15, 65, 16, 42, 37, 59, 22, 12, 25, 21, 65, 22, 24, 20, 62, 62, 18,\n",
              "       27, 59, 25, 40, 57, 64,  2, 29, 22, 21, 12, 45, 25, 52, 32, 64, 21,\n",
              "       18, 67, 64, 22,  2, 67, 12,  8, 47,  1, 13, 42, 67, 25, 41, 63, 24,\n",
              "       29, 49, 57, 24,  7,  7,  7, 41, 22, 52, 28, 35, 22, 42, 49, 67, 40,\n",
              "       40, 65, 31, 35, 17,  5,  4, 40,  7, 19, 64,  5, 49, 22, 69, 27, 25,\n",
              "       19,  7, 67,  0, 21, 64, 63, 26, 67,  1,  0, 66, 18, 27, 24, 49, 35,\n",
              "       63, 22, 20, 25,  2, 22, 49, 23, 20, 27, 57, 22, 28, 22, 24, 40, 16,\n",
              "       49, 25, 41, 69, 16, 41, 67,  7, 25, 40, 63, 19, 16, 39,  2, 57, 49,\n",
              "       23, 23, 57, 35, 45, 68, 63, 31, 28, 72, 41, 65, 39,  5, 22, 63, 56,\n",
              "       27,  2,  7,  9, 41, 25, 20, 64, 62, 64, 67, 19, 32, 21,  9, 65, 19,\n",
              "       42, 22, 19, 24, 56, 14, 21, 44, 25, 66, 57, 14, 65, 29, 23, 27, 45,\n",
              "       40, 19, 27,  9, 25, 32, 49,  3, 57, 64, 12, 22, 50, 34, 14, 49, 41,\n",
              "        1, 59, 33, 56, 29, 57, 29,  5, 40, 25, 61,  0, 23, 37, 26, 22, 63,\n",
              "       30, 26, 24, 62, 41, 67, 63, 57, 65, 64,  1, 22, 52, 25, 16, 22, 22,\n",
              "       40, 63, 30, 45, 69,  5, 18,  0, 40, 26, 23, 22, 73, 59, 63, 39, 71,\n",
              "       60, 18, 39, 44, 59, 47, 35, 34, 19, 54,  0, 22,  6, 26, 19, 22, 25,\n",
              "       47, 39, 42,  0, 57, 63, 64, 62, 71, 35, 22, 49, 22, 37, 25, 22, 35,\n",
              "       66, 20,  0, 45, 22,  2, 52, 11, 42, 13, 29, 40, 13, 15, 21, 17, 44,\n",
              "       63, 19, 43, 53, 35, 42, 19, 13, 65, 26,  6,  1, 35, 37, 41, 19,  7,\n",
              "       24,  0,  0, 21,  9, 40, 21, 21, 65, 67, 45, 29,  2, 40, 29, 49, 21,\n",
              "        0, 33, 37, 49, 65, 57,  7, 65, 72, 22, 65, 63, 57, 22,  7, 63, 12,\n",
              "       40, 41,  7, 25, 59, 59, 42, 25, 62, 16,  6,  5, 22, 57, 31,  7, 46,\n",
              "       27, 73, 29, 16, 40, 73, 64, 23, 36, 23, 64, 64, 40, 45, 73, 42, 65,\n",
              "       20, 63, 66, 22, 35, 63,  3, 26, 25, 52, 47, 42, 45, 46, 67, 64, 21,\n",
              "       65, 22, 21, 64, 47, 23, 21, 72,  3, 19, 41, 16, 22, 22, 30, 57, 40,\n",
              "       69, 67, 14, 30, 45,  4, 64, 41, 67, 22, 64,  9,  7, 20, 23, 67, 63,\n",
              "       64, 52, 26, 58,  7, 16, 71, 65, 42,  4, 63, 22, 22,  8, 61,  9, 20,\n",
              "       40, 57, 62, 22, 26, 64, 24,  5, 17, 29,  7, 57, 11, 40, 57, 21, 42,\n",
              "       69, 61, 65, 65,  1, 22, 63, 27,  3,  5, 48, 12, 20, 22, 25, 10, 38,\n",
              "       27, 20, 12, 38, 57, 73,  3, 38,  7,  5,  7,  7, 19, 37,  8,  7, 32,\n",
              "        0, 49, 45, 22, 42,  7, 63, 45, 72, 62, 64, 52,  4,  6, 67, 27, 47,\n",
              "       67, 21,  7, 20,  7, 26, 67, 18, 20, 71, 16, 63, 25, 37, 29, 66, 65,\n",
              "       26, 70, 28, 27, 15, 42, 54, 45, 55, 20, 65,  6,  7, 40, 38, 40, 63,\n",
              "        3, 19, 13, 23, 42, 21, 15, 22, 64, 41, 20, 19, 23, 62, 26, 40, 65,\n",
              "       25, 15, 21,  5, 57, 64,  2,  7, 22, 20, 40, 40, 25, 19, 22, 11, 69,\n",
              "       40, 20, 25, 64, 19, 66, 65, 40, 40, 14, 20,  1, 44, 66, 32, 50, 39,\n",
              "       40, 20, 39, 23, 22, 18,  5, 45, 20, 63, 23, 27, 45, 65, 12, 66, 22,\n",
              "       39, 63, 69, 20, 12, 54, 41, 27, 62, 21, 33, 64, 24, 55, 56,  0, 69,\n",
              "        2, 47, 26, 54,  8, 22,  2, 16, 24, 32, 23, 19, 29, 26, 49, 19, 45,\n",
              "       49,  7, 62, 20, 20, 47, 40, 67, 24,  4, 71, 20, 19, 41, 49, 24, 20,\n",
              "        0, 54, 41, 63, 40, 13, 64, 20, 26, 67, 67,  7, 24, 49, 39, 26, 13,\n",
              "       22, 24, 21, 29, 62, 50, 58, 22, 46, 16, 66, 42, 29, 20, 22, 19, 22,\n",
              "        3,  6, 63, 59, 42, 26, 22,  0, 48, 69, 29, 28, 21, 12, 31, 23, 25,\n",
              "       39, 50, 45, 64, 26, 12,  3, 20, 13, 21, 67, 63,  1, 16,  6, 57, 57,\n",
              "       62,  5, 16, 42, 47, 57, 25, 39, 64, 22, 40, 63, 59, 41, 67, 63,  8,\n",
              "       52, 20, 31, 52, 20, 62, 25, 32, 26, 68, 40,  6, 40, 17, 63, 57, 22,\n",
              "       68, 29, 23, 19, 39, 40,  7,  9, 63, 18,  6, 27, 22, 21, 37, 62, 69,\n",
              "       42, 65, 69, 42, 58,  1, 22,  6, 19, 22, 57,  0, 45,  5, 47, 58, 25,\n",
              "       16, 72,  7, 59,  6, 26, 48, 24, 26, 27, 31, 60, 22,  2, 13, 17, 15,\n",
              "       65, 49, 50, 58, 55,  7, 63,  7, 16, 15, 22, 37,  2, 68, 19,  1, 26,\n",
              "       62, 64, 38, 30, 64, 44, 35, 20, 11, 41, 52, 42, 25, 69, 64, 72, 13,\n",
              "       25, 17, 27, 72, 64, 36,  7, 29, 67, 58, 69, 23, 49, 65])"
            ]
          },
          "metadata": {
            "tags": []
          },
          "execution_count": 19
        }
      ]
    },
    {
      "cell_type": "code",
      "metadata": {
        "id": "xhwAfGx4LqRB"
      },
      "source": [
        "data['Community Area'] = locDiscEncoded"
      ],
      "execution_count": 20,
      "outputs": []
    },
    {
      "cell_type": "code",
      "metadata": {
        "id": "3UGwfx7QLswu"
      },
      "source": [
        "# create an instance of label encoder for categorical variables\n",
        "labelEncoder4 = LabelEncoder()"
      ],
      "execution_count": 21,
      "outputs": []
    },
    {
      "cell_type": "code",
      "metadata": {
        "colab": {
          "base_uri": "https://localhost:8080/"
        },
        "id": "pBTXkmoNLu3f",
        "outputId": "a4ada78b-98b3-47cb-a193-55e185d0e98c"
      },
      "source": [
        "latitudeEncoded = labelEncoder4.fit_transform(data['Latitude'])\n",
        "latitudeEncoded"
      ],
      "execution_count": 22,
      "outputs": [
        {
          "output_type": "execute_result",
          "data": {
            "text/plain": [
              "array([987, 177, 393, 802, 451, 675, 970, 419, 681, 617, 578, 202, 117,\n",
              "       384, 233, 495, 450, 576, 324,  27, 891, 162, 137, 568, 571, 135,\n",
              "       163, 407, 114, 136, 589, 750, 580, 872, 507, 884,  86,  66, 190,\n",
              "       489, 391, 923, 359, 254, 541, 420, 243, 266, 436, 663, 169,   3,\n",
              "       225, 236, 979, 301, 684, 504, 217, 418, 874, 844, 540,  90, 968,\n",
              "       643, 256, 158, 856, 271, 298, 113, 883, 752, 779, 795, 517, 908,\n",
              "       935, 282, 645, 251, 847, 661, 265, 903, 427, 650, 595, 868, 950,\n",
              "       633, 506, 449, 711, 161, 610, 120, 715,  40, 535, 435, 287, 263,\n",
              "       845,  99, 574,  92, 965, 218, 704, 129, 621, 220, 708, 964, 106,\n",
              "       901, 828, 890, 269, 834,  97, 400, 365, 768, 916, 508, 724, 239,\n",
              "       622, 624, 670, 313, 230, 850, 480, 371, 598, 184, 430, 203, 929,\n",
              "       642, 719, 672, 920,  48, 582, 361, 467, 366, 706, 849, 119, 314,\n",
              "       596, 914,  98, 911, 943,  47, 960, 871, 131, 100, 509, 107, 336,\n",
              "       623, 542,  15, 388, 553, 722, 733, 699, 130, 586, 392, 502, 443,\n",
              "       644, 103,  20, 142, 264, 250, 224, 466, 448, 819, 864, 875, 175,\n",
              "       693, 788, 274, 859,  24, 659,  54, 478, 515, 786, 689, 157, 977,\n",
              "       665, 318, 345, 528, 104, 969, 978, 149, 836, 485, 605,  12, 437,\n",
              "       367, 721, 710, 565, 898, 707,  14, 569, 673, 472, 372, 575, 497,\n",
              "       761, 630, 204, 843,   7, 620, 139,  91, 821, 108, 150, 687, 619,\n",
              "       209, 305, 835, 808, 291, 921, 386,  23, 570, 640, 422, 416,  30,\n",
              "        71, 211, 493, 483, 904, 101, 194, 317, 857, 686, 295, 460, 484,\n",
              "       893, 745, 939,  94, 548, 738, 266, 333, 193, 182, 829, 459, 749,\n",
              "       918, 244, 803, 124, 751, 787, 590, 473, 873, 766,  76, 634, 172,\n",
              "       423, 886, 247, 577, 563, 486,  28, 206, 783, 488, 958, 593, 457,\n",
              "        17, 946, 412, 319, 902, 744,   1, 374, 897,  18, 108, 961, 342,\n",
              "       462, 455, 629, 441, 545, 889, 183, 551, 181, 971, 635, 357, 500,\n",
              "       647, 321, 531, 533, 613, 332, 144, 189, 281, 398, 226, 362, 983,\n",
              "       807, 385, 532, 792, 652, 717, 223, 296, 516,  43,  52, 841, 846,\n",
              "       989, 219, 513, 614, 584, 955, 364, 335, 326,  21, 303, 855, 278,\n",
              "        87, 405,  73, 446, 442, 824, 434, 991, 537, 797, 505, 806, 753,\n",
              "       543,  50, 322, 134, 984, 413, 341, 351, 294,  29, 426, 685,  11,\n",
              "       702, 368, 609, 607, 439, 121, 674, 982,  81, 778, 907, 369, 932,\n",
              "        96, 866, 562, 270, 876, 858, 776, 782,  85, 255, 815,  82, 410,\n",
              "       429,  84, 830, 885, 186, 510, 826, 976, 409, 358, 115, 809, 730,\n",
              "       631, 975, 985, 726, 940, 238, 660, 739, 191, 148,  33, 629, 909,\n",
              "       237, 641,   6, 731, 974, 445, 325,   8, 214, 424, 732, 201, 934,\n",
              "       646, 200, 260, 414, 683, 677, 356, 922, 261,  95, 671, 523, 370,\n",
              "       397, 118, 544, 310, 798, 822, 879, 608, 440, 458, 700,  64, 482,\n",
              "       954, 585, 810, 221, 959, 302, 601, 417, 546, 354, 329, 188,  56,\n",
              "       952, 145, 205, 764, 363, 152, 727, 444, 299, 928, 514, 566, 376,\n",
              "        67, 146,  45,  49, 166, 337, 703, 198, 653, 773, 257,  60, 559,\n",
              "       654, 942, 906, 820, 138, 811, 550, 714, 492, 377, 241,  79, 151,\n",
              "       888, 490,  74, 894, 283, 156, 160, 805, 235, 925, 698, 769, 628,\n",
              "       154, 276, 222, 394, 524, 340, 695, 817,  32, 309, 110, 839, 267,\n",
              "       606, 740, 945, 311, 949, 762, 249, 415, 240, 757, 534, 350, 558,\n",
              "       877, 818, 583, 651, 379, 938, 199, 433, 765, 102,  53, 181, 179,\n",
              "       195, 962, 626, 327, 476, 937, 865,  55, 919, 691, 678, 521, 930,\n",
              "       383, 491, 668, 899, 404, 387, 953, 933, 390, 655, 881, 694, 712,\n",
              "       791, 330, 956, 663, 479, 981,  10,  35, 579, 133, 760, 355,  62,\n",
              "       980, 304, 289, 378, 848, 777, 141, 470,  58, 174, 705, 729, 718,\n",
              "       746, 501, 126, 863, 709,  38, 831, 346, 632, 401, 618, 170, 262,\n",
              "       536,  26, 503, 475, 880, 112, 428,  42, 464, 669, 187, 800, 701,\n",
              "       246, 373, 167, 207, 941, 804, 870, 636,  89, 696, 878, 679, 349,\n",
              "       140, 743, 812, 602, 215, 527, 273, 245, 526, 854, 725, 882, 431,\n",
              "       343, 900, 666, 649, 682, 232, 213, 525, 813, 758, 957,  65, 208,\n",
              "       756, 612, 328, 796, 127, 180, 228, 176, 887, 748, 963,  83, 173,\n",
              "       461,   2, 280, 171, 697, 312, 581, 588, 840, 860,  34, 688, 353,\n",
              "       600, 477,  39, 308, 924, 178, 557, 286, 315,  88, 737, 917, 421,\n",
              "       109, 481, 229, 690, 454, 323, 555, 471, 453, 988,  69, 926,  75,\n",
              "       518, 447, 948, 637, 895, 837, 556, 463, 604, 785, 567, 530,  13,\n",
              "       833,  41,  25, 734, 272, 767, 723,  72, 231, 128, 554, 892,  37,\n",
              "       692, 825, 159,  22, 572, 676, 972, 438, 122, 259, 197, 853, 284,\n",
              "       759, 529, 147, 165, 648, 616,   9, 316, 520, 913, 735, 547, 657,\n",
              "       538, 275,   4, 347, 754,  36, 789, 143, 153, 549, 771, 597, 827,\n",
              "       747, 944, 775, 252, 396, 132, 498, 564, 990,  70,  77, 611, 496,\n",
              "       741, 905, 494, 599, 573, 300,   0,  44, 344, 519, 927, 910, 720,\n",
              "       912, 763, 155, 290, 967, 832, 784, 395, 406, 268, 842, 814, 105,\n",
              "        57, 408, 627, 279, 297, 656, 248, 253, 411, 123, 168, 292, 947,\n",
              "       402, 662, 474, 380, 772, 234, 592, 465, 512,  68, 192, 793, 196,\n",
              "       781, 338, 381, 587,  46, 560, 561, 794, 285, 216, 742, 940, 339,\n",
              "       851, 774, 487, 680, 755, 320, 288,  61, 164, 210,  93, 111, 375,\n",
              "       973, 716, 780, 799, 552, 389, 986,  31, 861,  63, 360, 615, 816,\n",
              "       931, 667, 399, 838, 499,  78, 603, 539, 469, 452, 293, 664, 915,\n",
              "       867, 770, 852, 307,  16,   5, 334, 456, 728, 242, 658, 801, 869,\n",
              "       638, 382, 896,  59, 790, 951, 511, 258, 227, 403, 522, 277,  80,\n",
              "       425, 713, 966, 125, 352, 116, 625,  51, 306, 934, 862, 594, 823,\n",
              "       468, 936, 331, 432, 736, 591, 185, 348,  52, 639,  19, 212])"
            ]
          },
          "metadata": {
            "tags": []
          },
          "execution_count": 22
        }
      ]
    },
    {
      "cell_type": "code",
      "metadata": {
        "id": "CyScjJQdLwfT"
      },
      "source": [
        "data['Latitude'] = locDiscEncoded"
      ],
      "execution_count": 23,
      "outputs": []
    },
    {
      "cell_type": "code",
      "metadata": {
        "id": "gOHy71RNLy22"
      },
      "source": [
        "# create an instance of label encoder for categorical variables\n",
        "labelEncoder5 = LabelEncoder()"
      ],
      "execution_count": 24,
      "outputs": []
    },
    {
      "cell_type": "code",
      "metadata": {
        "colab": {
          "base_uri": "https://localhost:8080/"
        },
        "id": "m82uPQabL041",
        "outputId": "b1eac751-765f-4a92-ee88-90f491b4db01"
      },
      "source": [
        "longitudeEncoded = labelEncoder5.fit_transform(data['Longitude'])\n",
        "longitudeEncoded"
      ],
      "execution_count": 25,
      "outputs": [
        {
          "output_type": "execute_result",
          "data": {
            "text/plain": [
              "array([416, 531, 901,  33, 838, 377, 395, 485, 289, 215, 583, 905, 935,\n",
              "       202, 956, 776, 828, 170, 890, 686, 227, 859, 850, 330, 147, 819,\n",
              "       965, 902, 977, 723, 120, 666, 151,  52, 550,  55, 906, 937, 740,\n",
              "       221, 110, 426, 366, 239, 304, 392, 931, 680, 796, 704, 986, 988,\n",
              "       914, 920, 302, 311,  61, 510, 927, 526, 312, 513, 618, 430, 338,\n",
              "       130, 619, 871, 487, 679, 827, 873,  99, 700, 251,  62, 269, 316,\n",
              "         3, 865, 184, 813, 119, 249, 636, 552, 707,  39,  97, 162, 549,\n",
              "       594, 263, 800, 105, 497, 722, 928,  41, 754, 756, 895, 789, 706,\n",
              "       308, 966, 759, 978, 520, 415, 809, 650, 264, 835, 205, 243, 772,\n",
              "       391, 288,  23, 832,  69, 987, 802, 321, 123, 206, 534, 452, 833,\n",
              "        51, 346, 254, 319, 372, 291, 341, 329, 663, 955, 433, 600, 529,\n",
              "       757,  98, 553, 230, 779, 672, 132, 780, 629, 374, 322, 451, 703,\n",
              "       107, 597, 605, 140,  14, 963, 427,  68, 934, 644, 525, 874, 489,\n",
              "       333, 760, 807, 576, 279, 748, 725, 733, 866,  79,  44, 383, 837,\n",
              "       122, 970, 698, 640, 926, 942, 836, 695, 785, 156, 579, 406, 948,\n",
              "       734, 336, 617, 463, 797,  80, 609, 237, 528, 280, 767, 607, 484,\n",
              "       623, 658, 440, 183, 538, 357, 506, 401, 298, 307, 266, 778, 810,\n",
              "       493,  34, 201, 614, 563, 117, 711, 138, 271, 203, 481, 125, 652,\n",
              "       104, 267, 950,  54, 657, 458, 882, 548,  28, 728, 498, 736, 474,\n",
              "       943, 514, 277,  29, 896, 560, 507, 655, 146, 186, 501, 788, 753,\n",
              "       413, 519, 715, 479,   6, 875, 869, 891, 596,  95, 442, 669, 303,\n",
              "       565, 673,  47, 841, 397, 164, 680, 356, 656, 546, 335, 834, 496,\n",
              "        37, 783, 223, 946,  36, 276, 265, 601, 174, 517, 969, 402, 409,\n",
              "       627, 182, 735, 701, 163, 296, 822, 897, 461, 354,  31, 545, 849,\n",
              "       786, 359, 464, 572, 242,  58, 821, 717, 139, 801, 728, 339, 345,\n",
              "       853, 621, 742, 591, 729, 478, 944, 388, 133, 472, 141, 775, 285,\n",
              "        46, 559, 761, 232, 293, 332, 872, 637, 422, 527, 852, 577, 317,\n",
              "        15,  25, 509, 121,  60,  43, 918, 425, 749, 784, 569, 634, 238,\n",
              "       444, 922, 199, 143,  75, 475, 355, 512, 884, 417,  17, 315, 864,\n",
              "       958, 349, 930, 730, 697, 299, 318, 436,  38, 683, 245, 331,  59,\n",
              "       547, 962, 899, 954, 447, 628, 557, 705, 350, 582, 818,  35, 587,\n",
              "       108, 762, 502,  76, 817, 400, 253, 408, 755,  19, 574,  48, 158,\n",
              "       976,  65, 689, 910,  93,   9, 362, 185, 904, 503, 429, 892, 209,\n",
              "       847, 983, 234, 103, 829, 173, 418, 360, 811, 791, 860, 213, 684,\n",
              "       281, 453, 465, 500,  86, 911, 616, 358, 682, 480, 804, 742, 535,\n",
              "       924, 741, 630, 370, 516, 879, 798, 716, 889, 598, 708, 854,   2,\n",
              "        91, 840, 499, 438, 124, 687, 511, 274, 915, 844, 769, 379, 275,\n",
              "       320, 974, 405, 403,  84, 694, 615,  90, 642, 713, 660, 880, 314,\n",
              "       539, 758,  32, 919, 457, 696, 172, 894, 142, 588, 571, 940, 799,\n",
              "       536, 967, 699, 171, 543, 393,  78, 846, 541, 344, 210, 671,  18,\n",
              "       952, 981, 781, 878, 486, 580, 504, 718, 106, 385, 625, 960, 194,\n",
              "       378,   0, 439, 257, 839, 113, 127, 101, 750, 456, 908, 646, 602,\n",
              "       165, 751, 830, 407, 710, 857, 568,  16, 674,  72, 692, 301, 177,\n",
              "       423, 482, 662, 131, 247, 144, 681,  64, 491, 823, 957, 411, 521,\n",
              "        81,  67,   7, 196,  50, 188, 916, 394, 384,  77, 190, 585, 256,\n",
              "       649, 160, 724, 752, 470, 262, 961, 459, 368, 985, 624, 133, 888,\n",
              "       856, 352,  73, 490, 168, 353, 454, 991, 135, 225,  71, 668, 112,\n",
              "       907, 287, 272, 326, 903, 567, 524, 437, 887, 693, 443, 768, 675,\n",
              "       300, 793,  13, 704, 732, 473, 790, 848,  40, 959, 670, 530, 731,\n",
              "         1, 389, 643,  20, 441, 645, 471, 169, 947, 608, 468, 638, 178,\n",
              "       612, 248, 641, 179, 218, 589,  85, 518, 590, 795, 743, 137, 763,\n",
              "       327, 305, 540, 191,   8, 971, 286, 831, 435, 255, 766, 570, 773,\n",
              "       923, 909, 941, 494, 342, 325, 115, 150, 979, 424,  11,  63, 653,\n",
              "       678, 155, 404, 189, 340, 167, 913, 719, 522,  21, 469, 555, 432,\n",
              "       631, 562, 737,  94, 241, 939, 912, 533, 260,  42, 240, 648, 921,\n",
              "       195, 661, 593, 364, 198, 870, 949, 964, 273, 181, 375, 975, 309,\n",
              "       803, 851, 868, 945, 246, 867, 153, 116, 252, 556, 812, 258, 431,\n",
              "       161, 343, 664, 825, 226, 259,  96, 855, 554, 492, 187, 290, 367,\n",
              "       744, 219, 373, 466, 861, 685, 295, 483, 586, 449, 599, 551, 933,\n",
              "       282, 351,  10,  88, 620, 111, 348, 814, 207, 310, 712, 214, 777,\n",
              "       229, 816, 794, 727, 399, 166, 284, 929, 917, 584, 292, 410, 573,\n",
              "       220, 244, 885, 774, 334, 224, 505, 381, 845, 445, 898,  53, 635,\n",
              "       157, 211, 508, 639, 721, 323, 792, 843, 231,  70,  92, 347, 632,\n",
              "       747, 376, 858, 204, 128, 876, 100, 324, 982, 771, 228, 114, 396,\n",
              "        74, 313, 702, 446, 328, 951, 200, 126, 450, 989, 690, 745, 561,\n",
              "       412, 159, 688, 145, 390, 826, 842, 782, 604, 294, 208, 386, 217,\n",
              "        56, 455, 476, 515, 380,  87, 691, 428, 566, 387, 626,  27, 972,\n",
              "       953, 460, 578, 863, 659,  89, 938, 477, 365, 886, 651, 467,  22,\n",
              "       136, 278, 709,  49, 283, 398, 414, 815, 270, 420, 968, 610, 900,\n",
              "       175, 448, 558,  82, 488, 726, 154, 382, 862, 932, 613,  86, 495,\n",
              "       233, 665, 235, 109, 434, 808, 297, 667, 973, 739, 595, 984, 216,\n",
              "       306, 102, 581, 236,  66, 622, 421, 677, 575, 980, 152, 611,  57,\n",
              "         5, 770, 369, 592, 212, 990, 337, 268, 193, 714,  24,  45, 532,\n",
              "        83, 176,  30, 824, 764, 893, 180, 462, 765, 523, 720,  26,  12,\n",
              "       129, 820, 564, 537, 419, 363, 261, 361, 676, 881, 805, 603, 925,\n",
              "       787, 149, 250, 883, 134, 936, 542, 606, 633,   2, 118, 371, 148,\n",
              "       192,   4, 654, 877, 647, 746, 544, 222, 569, 197, 806, 738])"
            ]
          },
          "metadata": {
            "tags": []
          },
          "execution_count": 25
        }
      ]
    },
    {
      "cell_type": "code",
      "metadata": {
        "id": "gtBjChJ0L2q5"
      },
      "source": [
        "data['Longitude'] = locDiscEncoded"
      ],
      "execution_count": 26,
      "outputs": []
    },
    {
      "cell_type": "code",
      "metadata": {
        "id": "ZDPGusCOL6IJ"
      },
      "source": [
        "# create an instance of label encoder for categorical variables\n",
        "labelEncoder6 = LabelEncoder()"
      ],
      "execution_count": 27,
      "outputs": []
    },
    {
      "cell_type": "code",
      "metadata": {
        "colab": {
          "base_uri": "https://localhost:8080/"
        },
        "id": "TtS4STj-L8Kb",
        "outputId": "ef1a7238-a657-424f-c6ac-31ae67fe09c1"
      },
      "source": [
        "monthEncoded = labelEncoder6.fit_transform(data['Month'])\n",
        "monthEncoded"
      ],
      "execution_count": 28,
      "outputs": [
        {
          "output_type": "execute_result",
          "data": {
            "text/plain": [
              "array([ 6, 11,  1,  8,  9,  1,  6,  7,  9,  6, 10,  6,  2,  0,  1,  9,  7,\n",
              "       10, 11,  4, 10,  5,  6,  3,  3,  8,  8,  1,  4,  4,  1, 11, 10,  0,\n",
              "        5,  2,  8,  0, 11,  1,  2, 10, 11,  3,  4,  6,  6, 10,  6, 11,  8,\n",
              "        3,  1,  3,  9,  5,  3,  4,  5,  7,  1,  4,  6, 10,  4,  9,  6,  5,\n",
              "        6,  8,  9,  5,  7,  7,  0,  6,  2,  9,  2,  7,  8,  0,  8,  1, 10,\n",
              "        0, 10,  6, 10, 11,  6, 11,  9,  9,  2,  8,  3,  9,  8,  2, 11,  2,\n",
              "        4,  3,  3,  8,  4,  9,  3,  5,  1,  9,  8,  9,  2,  7,  9,  5,  3,\n",
              "        3,  3,  4,  2,  7,  1,  6,  2,  5, 11,  3,  4,  8, 11, 10,  3,  6,\n",
              "        6,  7,  0,  3,  9,  9,  5,  0,  0,  6,  6,  7,  7,  4,  1,  0,  9,\n",
              "        6,  0,  1,  5,  9,  9,  1,  7, 11,  0,  7,  7,  6,  4,  8,  7,  9,\n",
              "        9, 11,  1,  1,  7,  8,  8,  7, 10,  5,  6,  6,  7,  3, 10,  4,  0,\n",
              "        7,  1, 10,  5,  9,  6, 11,  8, 11,  8,  4,  4,  4, 11, 10, 11,  0,\n",
              "        9,  1,  8,  8, 10,  5,  2,  5,  5,  7,  1, 11,  6, 10,  4,  8,  5,\n",
              "        8,  5,  4,  6,  6,  3, 10,  7,  7,  6,  7,  9, 10,  3, 10,  2,  7,\n",
              "       10,  3,  9,  8,  6,  1,  2, 10,  7,  2,  8,  7,  6, 11,  5,  3, 11,\n",
              "       10,  4,  3,  5,  0, 11,  7,  6, 11,  4,  1,  8,  3,  8,  6,  2, 11,\n",
              "        1,  0, 11,  4,  2, 11,  6,  4,  7,  5,  5,  7,  2,  2,  6,  2, 10,\n",
              "        4,  4, 11,  5, 10,  1, 11,  7,  1, 10,  2,  6,  3,  4,  2,  7,  6,\n",
              "        3,  9,  6,  2,  0, 11,  2,  5,  7, 10, 10,  1,  1,  7,  1,  0,  8,\n",
              "        9,  4,  4,  5,  4,  2,  1,  7, 11, 11, 11,  3, 11,  1,  7,  8,  6,\n",
              "       10,  2,  3,  2,  5,  8, 11,  4, 11,  7,  7,  8,  6,  1,  9,  4, 10,\n",
              "        3,  0,  1,  4, 10,  9,  5,  9,  8,  3,  6,  6,  4,  4,  1, 10,  5,\n",
              "        3,  0,  2, 11,  6,  0, 11,  6, 10, 11, 10,  8,  6,  1, 10,  1,  3,\n",
              "       11, 11,  2,  0,  7,  9,  4,  9,  6,  0,  3,  9, 11,  4,  3,  9, 11,\n",
              "       11,  3,  6,  9,  4,  1, 10, 11,  9, 11,  2,  1, 10, 11,  3,  0,  6,\n",
              "        5,  3,  3,  2,  7,  5, 11,  2,  4,  5,  5,  8,  6,  4,  6,  3,  5,\n",
              "        4, 11,  1, 11,  8,  7,  8,  4,  5, 11,  9,  4, 11,  6,  4,  6,  3,\n",
              "        4,  3,  8, 11,  9,  1,  9,  1,  8,  9,  5,  7,  2,  6, 11,  6,  6,\n",
              "       10,  1,  6,  9,  2,  9,  9,  9,  2,  1,  2,  6,  4,  1, 10,  6,  4,\n",
              "       11,  7,  8,  0, 11,  5,  3,  1,  0,  8,  7,  5,  3,  3,  1,  5, 11,\n",
              "        6, 10,  0, 10,  5,  5,  7,  2,  4,  5,  6,  2,  2,  0,  1,  3, 11,\n",
              "       11,  6,  6,  8,  7,  6,  2,  4,  8,  7,  6,  2,  0,  7,  7,  8,  5,\n",
              "        5,  3,  8,  1,  2,  6,  4, 10,  2,  9,  5,  0, 10,  9,  3,  0,  7,\n",
              "        3,  7,  3, 10,  6,  1,  8,  3,  5,  6,  0,  4,  2,  1,  5,  0,  4,\n",
              "        7,  6,  6,  9, 10,  6,  9,  5,  7,  0,  2,  6,  1,  9,  9,  8,  8,\n",
              "       11,  4,  8,  8,  8,  6,  5,  4,  4,  9,  9,  5,  3,  7,  2,  7,  9,\n",
              "        5,  7,  2,  4,  7,  3, 10,  7,  5,  7,  9,  6, 10,  6,  0, 10,  4,\n",
              "        0,  1, 11,  9,  6,  9,  8,  1,  5,  4,  5,  8,  1,  4, 10,  5,  7,\n",
              "        6,  8,  5,  6, 11,  3,  6,  1,  7,  4,  7,  3,  6, 10,  9,  8,  2,\n",
              "        7,  4, 11,  9,  1, 11,  4,  0,  3,  8,  8,  6,  2,  9,  0,  6,  6,\n",
              "        2, 10,  0,  4,  8,  8,  8, 11,  9,  7,  6,  1,  1,  7,  3,  7,  7,\n",
              "       11, 11,  5,  6,  5,  4,  7,  7,  7, 11,  2,  2,  1, 10, 10,  0,  9,\n",
              "        2,  2,  3,  0, 11,  3,  2,  8,  8,  7,  9,  4,  8,  7,  9,  5, 11,\n",
              "       11,  7,  7,  5,  9,  9,  4,  6,  7,  8, 10,  4,  6,  4, 11, 11, 11,\n",
              "        9,  6,  4,  4,  7,  9, 10,  8,  5,  1,  8,  6,  0,  9,  7, 10,  2,\n",
              "        0,  6,  6,  6,  0,  3,  9,  6,  8,  7, 11, 10,  9,  8,  8,  3, 10,\n",
              "        9, 10,  8,  8,  5,  6,  7, 11,  0,  3,  4,  4,  1,  4,  7,  6,  2,\n",
              "        9,  3, 11,  8, 10,  0,  2,  3,  5,  9,  5,  6,  8, 11,  6,  3, 10,\n",
              "        8,  3,  3,  7,  8,  6, 11, 10, 11,  9,  9,  4,  3,  7,  1,  5,  0,\n",
              "        4,  5,  9, 10,  4,  9,  7,  5, 10,  2,  7,  5, 11, 10,  6,  1,  9,\n",
              "        4, 10,  4,  9,  7, 10,  9,  0,  6,  4,  9,  9,  3,  8,  5,  3,  8,\n",
              "       11, 10,  2,  6,  6,  7,  1,  1,  9, 11,  5,  4,  3,  8,  8,  9,  2,\n",
              "        3,  4,  0,  8,  9,  2, 11,  5,  2,  4,  9,  4,  5,  7, 11,  9,  6,\n",
              "        4, 11,  7,  7,  8,  6,  6,  6,  4,  5,  0,  2,  8,  1,  4,  9, 11,\n",
              "        0, 11,  9,  7,  5,  9,  3,  7,  8,  5,  8, 11,  8,  1,  6,  3,  3,\n",
              "        3,  9,  8,  8, 11,  3,  1,  5,  9,  6,  9,  0,  4,  6,  1,  9,  3,\n",
              "        2, 10,  4,  3,  6,  6,  5,  3,  9,  9,  4,  6, 10,  0,  0,  8,  3,\n",
              "        2, 10,  2,  5, 10,  0,  3, 10,  6,  9,  0,  5,  3,  8, 10,  2, 10,\n",
              "        6, 10,  6,  2, 10,  6, 10,  6,  6,  7,  1,  0,  2,  5])"
            ]
          },
          "metadata": {
            "tags": []
          },
          "execution_count": 28
        }
      ]
    },
    {
      "cell_type": "code",
      "metadata": {
        "id": "m-Psn3UsL-Jq"
      },
      "source": [
        "data['Month'] = locDiscEncoded"
      ],
      "execution_count": 29,
      "outputs": []
    },
    {
      "cell_type": "code",
      "metadata": {
        "id": "w73mQhuRMAeC"
      },
      "source": [
        "# create an instance of label encoder for categorical variables\n",
        "labelEncoder7 = LabelEncoder()"
      ],
      "execution_count": 30,
      "outputs": []
    },
    {
      "cell_type": "code",
      "metadata": {
        "colab": {
          "base_uri": "https://localhost:8080/"
        },
        "id": "SMpUuvZAMCxL",
        "outputId": "8118984e-943e-4106-b47c-f3e17931b340"
      },
      "source": [
        "yearEncoded = labelEncoder7.fit_transform(data['Year'])\n",
        "yearEncoded"
      ],
      "execution_count": 31,
      "outputs": [
        {
          "output_type": "execute_result",
          "data": {
            "text/plain": [
              "array([11,  7, 16,  7,  2,  5,  6,  2,  3,  3,  7,  8, 15,  3,  6,  8, 10,\n",
              "       12,  4, 17,  1,  1, 15, 17,  8,  2, 17,  4, 13,  6,  5,  3,  9,  3,\n",
              "       18, 10, 13, 17,  7,  6, 17,  8,  8,  1, 13,  6,  2,  4,  1,  1,  4,\n",
              "       17,  9, 10,  3, 15, 17,  8, 11,  3, 18, 10, 12, 18,  3, 12,  8,  4,\n",
              "       15,  5, 13,  4,  2, 17, 15, 17, 18, 15, 14, 18, 11,  3,  1,  9,  6,\n",
              "       14, 11,  6, 12,  9, 17,  5, 15, 11,  5,  2, 13,  1,  2,  3, 10,  8,\n",
              "       11,  5,  3,  3,  9,  2,  9, 10,  5, 19,  8, 12, 14,  2, 10, 17,  3,\n",
              "        5,  1,  2, 13,  5,  9,  2, 17,  5,  2, 15,  6,  3, 13,  9, 12,  9,\n",
              "       16, 11, 16,  8,  3,  3,  6,  8, 16,  5,  9, 11,  8,  8, 19, 10,  2,\n",
              "        1,  6, 10, 15, 18,  6,  6, 18, 18, 15,  5, 15,  4,  4,  9,  6, 19,\n",
              "       19, 18,  3,  2, 18, 15, 16,  2,  2, 18, 14, 19,  8,  6,  2,  5, 20,\n",
              "       19, 19,  6, 13, 18, 16,  1,  1, 10,  7, 12,  7, 12, 18,  4, 17,  6,\n",
              "       12, 11,  2,  6,  7, 13, 14, 11,  9, 11,  5,  1, 17,  1, 17,  3, 19,\n",
              "        9,  1,  7,  7, 15,  5, 17,  8,  6,  7, 11,  8,  2, 18, 15,  2, 14,\n",
              "        7,  5, 15,  1, 13,  2,  9, 15, 18,  5, 11,  3, 10,  3, 18, 15,  1,\n",
              "       17, 18,  7, 10,  2,  5,  7,  6,  3,  4,  6, 12,  2,  5, 17,  9,  8,\n",
              "        2,  3,  9,  7, 17,  1, 12, 13,  3,  1, 17,  8,  7, 12,  5, 11,  2,\n",
              "        8,  9, 11,  1, 16, 11, 17,  8,  8,  1,  7,  2, 12, 16, 15, 12, 17,\n",
              "        2, 15,  1,  5,  7,  6, 12,  2, 10,  3,  0, 11, 11, 11,  3, 17,  4,\n",
              "        2, 11,  5, 16,  2,  7, 13, 14,  7,  7,  9, 18, 13,  6, 11, 13,  1,\n",
              "        4, 11,  8,  3,  9, 17,  1, 17,  3, 16,  1,  5,  3,  8,  1, 18, 10,\n",
              "        1,  5, 10,  1, 11,  9,  8, 10, 15,  6,  8, 11,  8,  8,  7,  3,  8,\n",
              "       16,  3,  6, 10,  1,  2,  4,  6,  2,  6,  7,  8,  1, 14,  1,  8,  9,\n",
              "        1,  6, 18, 16,  1,  4,  3,  6,  3,  2, 10,  2,  4,  5, 18,  6,  7,\n",
              "        3,  8, 19, 11, 12,  8,  4,  6, 11,  6,  4,  7,  2,  4,  7,  2,  7,\n",
              "        6, 18,  8,  5, 17,  2,  0,  9, 15, 18,  4,  8,  3,  8,  2,  6,  6,\n",
              "        1,  8, 13,  5, 12,  2, 18,  5, 10,  5, 10,  4, 14, 18, 10,  8,  3,\n",
              "        4,  3, 12,  9, 17, 11,  7,  3,  8, 11, 13, 13,  8, 15, 10,  5,  4,\n",
              "       16, 13,  7,  7,  9,  6, 12,  5,  7, 13, 15,  3,  5,  3,  8,  4, 18,\n",
              "        1, 14,  6,  5,  7, 14, 14,  3, 11,  8, 13, 10,  2,  6,  7,  7, 12,\n",
              "        7,  6,  3,  5,  1,  5, 18,  5, 11,  8,  4, 11,  4, 10, 18,  5, 16,\n",
              "       10,  8,  8, 19,  6, 12,  4, 14,  4,  6, 15,  4,  3, 18,  6,  3,  6,\n",
              "        8, 16,  7,  3, 13,  4,  4, 10, 12, 15,  2, 12,  4,  6,  4, 19,  2,\n",
              "        4, 16,  3,  8, 17, 20,  6,  3, 12,  2,  8,  8,  7, 13,  3, 17, 11,\n",
              "        4, 17,  1, 18, 11, 15,  9,  8,  5,  8, 13,  3,  6, 15,  1, 17,  4,\n",
              "       17,  3,  3,  3,  7,  9,  4,  1, 10,  3,  8,  3,  6,  6,  3, 18,  8,\n",
              "       18,  7,  7, 16,  6,  4,  4,  2, 18, 11,  6,  6,  5,  1, 16,  2,  4,\n",
              "       16, 19, 17,  1, 14, 12,  3,  4,  4,  5,  7,  1, 16, 11,  5, 10,  6,\n",
              "       11,  8,  1,  1, 11,  5,  3,  5,  2,  7, 13,  7, 10, 13,  1, 10, 12,\n",
              "       13, 13, 15,  7,  8, 14,  1,  3,  9,  3, 12,  6,  2, 13,  7,  9,  1,\n",
              "       10,  4, 15, 14, 10, 11,  5,  3, 13,  5,  3,  7, 15,  7, 14,  7,  6,\n",
              "        9,  1, 15, 18,  5,  2, 12, 10,  3,  4,  7, 20,  2,  5,  2,  8, 16,\n",
              "       19,  5,  3,  8, 19,  8, 16, 10, 15,  1, 15,  4,  3, 12, 13, 19,  1,\n",
              "       19,  8,  3,  3,  3, 10,  7, 15, 14,  5,  5, 13, 16, 19, 15,  5,  6,\n",
              "       11, 19,  3,  1,  8,  1, 19, 12,  9,  3,  1, 18, 17,  5, 14, 19,  5,\n",
              "        2, 19, 14,  5,  5,  8, 16,  2, 18, 16, 13, 13,  2,  5,  6, 19,  7,\n",
              "        3,  5,  2,  7,  2,  2,  2, 19, 10,  2, 11, 12, 19, 14,  4,  2, 19,\n",
              "        7,  1,  7, 18,  1, 14,  7,  4,  4,  6,  5,  9,  2,  4,  4, 18, 15,\n",
              "        7, 12, 16,  6, 14, 19, 12,  2,  2,  6, 19,  8, 12,  9, 11, 11,  7,\n",
              "        2,  3,  5,  4, 19,  6, 18,  9, 17, 12,  1, 10, 11,  3, 16,  4,  3,\n",
              "       19, 11,  9,  8,  5, 15,  1, 10,  3,  9,  7, 12,  2, 16, 17, 16, 12,\n",
              "        7,  5,  6,  2,  2, 10, 20, 18,  8, 10, 10, 10, 17,  9,  6,  9, 10,\n",
              "        1,  5, 15, 19, 12,  2,  3,  6,  2,  7, 12,  4,  3,  4,  8,  8, 12,\n",
              "        8, 16,  1,  4,  5,  1, 16, 12,  6,  6, 14, 14,  2, 20, 13, 12,  2,\n",
              "        4,  2,  9,  3, 11,  8, 11,  9,  8, 17,  5,  3,  3, 11,  2, 11, 19,\n",
              "        2,  1,  6, 11,  3, 17,  9,  2, 15,  1, 10,  9,  3, 16, 15, 11,  3,\n",
              "       11,  2,  1, 10,  2,  4, 10,  6, 13,  7,  6, 12,  5,  2, 18,  0,  4,\n",
              "       17, 14,  8, 18,  3, 15,  6,  4,  5,  2, 12,  2, 17, 14, 14,  7, 18,\n",
              "        1,  6, 18, 10,  5,  8,  4, 16,  5,  8,  5,  4,  8, 18])"
            ]
          },
          "metadata": {
            "tags": []
          },
          "execution_count": 31
        }
      ]
    },
    {
      "cell_type": "code",
      "metadata": {
        "id": "vkdZRDR4MEmq"
      },
      "source": [
        "data['Year'] = locDiscEncoded"
      ],
      "execution_count": 32,
      "outputs": []
    },
    {
      "cell_type": "code",
      "metadata": {
        "id": "zekebBfGMG2Y"
      },
      "source": [
        "# create an instance of label encoder for categorical variables\n",
        "labelEncoder8 = LabelEncoder()"
      ],
      "execution_count": 33,
      "outputs": []
    },
    {
      "cell_type": "code",
      "metadata": {
        "colab": {
          "base_uri": "https://localhost:8080/"
        },
        "id": "SvKz9c2tMImF",
        "outputId": "1e97737d-fbcb-47d3-e851-640688cf8838"
      },
      "source": [
        "timeEncoded = labelEncoder8.fit_transform(data['Time'])\n",
        "timeEncoded"
      ],
      "execution_count": 34,
      "outputs": [
        {
          "output_type": "execute_result",
          "data": {
            "text/plain": [
              "array([12, 23, 12, 12, 16, 17, 14, 16, 22,  1, 14, 22, 21, 18, 20, 21,  2,\n",
              "       16, 15, 18,  6, 21,  9, 11,  2,  1, 13,  9, 20, 18, 11, 17,  1,  0,\n",
              "       15, 14,  4, 15,  0, 13, 12, 14, 14,  0, 16,  1, 13, 15,  3, 12,  7,\n",
              "        8, 18, 18, 19, 15, 17, 14, 18, 11, 21, 12, 11, 19, 11, 11,  1, 22,\n",
              "       17,  9, 12, 22, 23, 13,  3, 17, 17,  6,  7, 20, 18, 15,  1, 22, 15,\n",
              "       22,  1, 20, 23, 12, 14,  6, 20, 12, 15, 23,  6, 18, 19, 22, 11,  0,\n",
              "       20, 19, 10,  1,  8, 12,  0, 11,  8, 23,  9, 18, 20, 23, 10,  0, 19,\n",
              "       23, 13, 11, 18,  3, 23, 11, 20, 14, 19, 12, 18, 19,  7,  9, 11, 10,\n",
              "       19, 15, 14, 14, 14,  8, 16, 19, 20,  1, 11, 20, 12, 15, 16, 14, 18,\n",
              "       20,  9, 16, 18, 19, 17, 17,  7, 19, 11, 19, 21,  0, 20, 14,  0, 22,\n",
              "        0, 14, 15,  1,  1,  3, 10,  3, 17,  8, 14, 13, 21, 12, 14, 21,  1,\n",
              "       14, 15, 15, 16, 20,  2,  0,  8, 10, 13, 17, 15, 18, 15, 15, 10, 22,\n",
              "       19, 17,  8, 23, 19, 20,  3, 18,  1, 18, 14, 12, 18, 18,  2, 21, 15,\n",
              "       11, 16, 22, 15, 16, 11, 11, 18, 17, 23,  6, 11, 18,  7, 20, 17, 11,\n",
              "        1, 21, 22, 11, 23, 16,  9, 20, 17, 17,  8,  3, 11, 20, 17,  0, 16,\n",
              "       13, 16, 20,  4, 13, 13, 21,  3, 15,  4,  0, 23,  3,  1,  6,  1,  0,\n",
              "        8, 16, 18, 21, 22,  0, 20, 10, 18, 22, 20,  0,  9,  2, 16, 16, 15,\n",
              "       20,  0,  8, 22, 14, 17, 23, 17, 21,  9, 19, 23, 11,  6,  3, 21, 19,\n",
              "       19, 13, 23, 17,  0, 13, 20,  9, 23, 13,  0, 14, 23, 12, 19, 21,  6,\n",
              "        9, 10, 18, 23, 17,  1, 12,  5, 17, 18, 16, 15,  9, 21, 13, 16,  9,\n",
              "        9, 20,  2, 11, 10,  0, 22, 12, 10, 12, 18,  1,  9, 18, 16, 16,  7,\n",
              "       14, 12, 19, 11, 11,  2,  1, 17, 14, 21, 23, 18, 15, 13, 13, 13, 12,\n",
              "        1, 22, 20, 12,  4, 18,  9,  1, 17, 14, 12, 16,  2,  0, 10,  0, 15,\n",
              "       23,  9, 18,  7, 11,  0,  4, 12, 16,  9, 21, 18, 15, 23, 12,  0, 19,\n",
              "        3, 18, 16, 11, 13,  9, 13,  2, 14, 13,  6,  3, 12,  6,  0, 10,  2,\n",
              "       19,  8,  7, 12, 18, 11,  9, 16, 20, 22,  1, 17,  7, 17, 12, 22, 22,\n",
              "       11,  8, 21,  0, 17,  1, 13, 16, 21,  0, 10, 11, 15, 22,  7, 22,  6,\n",
              "        8, 22, 16, 14, 17, 19, 18, 21,  7, 16,  9, 18, 21, 15,  0, 13, 10,\n",
              "       13, 22, 20, 21,  5, 20,  7,  0, 21, 14, 13, 13,  1, 16, 11, 22, 14,\n",
              "       12, 23, 23, 20, 15, 18, 12, 10, 14, 20,  2, 21, 18, 21, 15,  5, 12,\n",
              "        0, 13, 16, 18, 12, 22,  9,  4, 20, 10,  0,  8, 15, 18, 18, 21,  9,\n",
              "       20, 12, 23, 12,  3, 14, 14, 13,  0, 15, 21, 22, 18, 15, 12, 11, 13,\n",
              "       19, 15,  2, 21, 17,  6, 10, 13,  1,  0, 17, 15,  2, 15, 17, 10, 17,\n",
              "        1, 11, 18,  4, 20, 19,  0, 11, 12,  1, 21, 17,  3,  4, 21,  2, 15,\n",
              "       18,  8, 18, 21, 17, 11,  0,  0, 18,  3,  7, 20, 16, 22,  8, 23,  0,\n",
              "       14, 17, 11,  3,  5,  5, 15, 19, 15,  1, 15,  8,  6, 15, 12, 18, 21,\n",
              "       16, 10, 15, 14, 12,  3, 16, 12, 11,  5, 17,  0,  7,  0,  1, 18,  2,\n",
              "        2, 15, 14,  3,  9, 15, 16,  1,  8, 22,  3, 23, 19,  6, 13,  1, 18,\n",
              "       19, 11,  0,  7, 11,  2, 22, 11, 13,  0, 17, 13,  0, 10, 13, 11, 18,\n",
              "       12,  7,  2, 23,  7,  0,  0,  2, 17, 13,  4, 20,  9, 23, 17, 11, 10,\n",
              "       19, 18, 17, 15,  8, 18, 17, 19,  9, 10, 19, 21, 12, 22, 20, 13, 16,\n",
              "       15, 17,  9, 12, 15,  9, 15, 21, 21, 12, 12, 15, 19, 22, 19, 12, 14,\n",
              "        3,  7,  9,  7, 19, 20, 11, 19,  7, 10,  0,  7, 10, 11, 15, 19,  1,\n",
              "        8, 16, 19, 19,  3, 19, 15, 11, 22, 18, 21,  9,  3,  1, 13, 13, 17,\n",
              "       11, 15,  2,  0, 19, 21, 23,  3, 14,  9, 15, 23, 19,  0, 10,  2, 22,\n",
              "        9, 11, 21, 20, 23, 13, 12, 23,  1, 22, 13,  2,  1,  0,  5, 15, 19,\n",
              "       19,  2, 19,  3, 19,  2,  2, 12, 13, 15, 18, 18,  0, 20, 21, 17, 13,\n",
              "       12, 11, 15, 23, 10,  8, 19, 14, 18, 11, 16, 10, 19, 19, 16, 13, 12,\n",
              "       14,  2, 19, 13,  1, 21,  9,  9, 16, 17, 13,  1, 14, 12, 11, 16, 12,\n",
              "        1,  2,  6,  6,  1, 19, 19, 10, 16, 18, 16,  9, 18, 13, 19, 11, 17,\n",
              "       10, 11, 20, 23, 11,  9,  1, 14, 15,  5, 18, 20, 16, 12, 12,  0, 18,\n",
              "       10,  3,  4,  9,  1,  1, 21,  9,  2,  0,  5, 15, 14,  6, 11, 10, 13,\n",
              "       23, 15, 14,  1,  0, 23,  0, 13, 12,  1, 14, 14, 21, 19, 20, 19, 13,\n",
              "       12, 10, 17, 21, 12, 10, 11, 13, 17,  6, 15, 13, 10, 21,  0, 15,  0,\n",
              "       12, 11,  9,  3, 17,  0,  2, 21, 11, 10,  2,  8, 10, 22, 16,  0, 21,\n",
              "       23, 22,  0, 15, 10, 20, 10, 15,  6, 13,  4, 18,  2, 15, 17, 15, 10,\n",
              "       20, 20, 23, 18, 20, 15, 10,  0, 22, 22, 20,  9, 15, 18, 13, 10, 17,\n",
              "       20, 18, 14, 16, 20, 16, 12, 10, 16,  4, 16, 19, 19,  1, 11,  5, 12,\n",
              "        1,  8, 20, 12, 23, 18, 12, 13, 22, 19, 15,  2, 16, 23])"
            ]
          },
          "metadata": {
            "tags": []
          },
          "execution_count": 34
        }
      ]
    },
    {
      "cell_type": "code",
      "metadata": {
        "id": "QbtRzFv3MKZx"
      },
      "source": [
        "data['Time'] = locDiscEncoded"
      ],
      "execution_count": 35,
      "outputs": []
    },
    {
      "cell_type": "code",
      "metadata": {
        "id": "fH9a30H0MNJp"
      },
      "source": [
        "# create an instance of label encoder for categorical variables\n",
        "labelEncoder9 = LabelEncoder()"
      ],
      "execution_count": 36,
      "outputs": []
    },
    {
      "cell_type": "code",
      "metadata": {
        "colab": {
          "base_uri": "https://localhost:8080/"
        },
        "id": "3s-44mPqMPFm",
        "outputId": "046b9c1e-9861-437d-a5b3-be3e64448a4f"
      },
      "source": [
        "zoneEncoded = labelEncoder9.fit_transform(data['zone'])\n",
        "zoneEncoded"
      ],
      "execution_count": 37,
      "outputs": [
        {
          "output_type": "execute_result",
          "data": {
            "text/plain": [
              "array([1, 3, 0, 1, 0, 1, 3, 2, 1, 1, 2, 2, 2, 2, 2, 2, 0, 3, 2, 2, 1, 0,\n",
              "       2, 2, 3, 2, 2, 0, 2, 2, 3, 1, 3, 3, 2, 3, 2, 2, 2, 2, 2, 1, 2, 3,\n",
              "       2, 2, 0, 2, 0, 1, 0, 2, 0, 2, 3, 2, 3, 3, 2, 2, 1, 3, 2, 3, 1, 3,\n",
              "       2, 2, 3, 2, 2, 2, 3, 1, 1, 3, 2, 1, 3, 0, 3, 0, 1, 1, 2, 1, 3, 3,\n",
              "       3, 3, 1, 1, 3, 0, 3, 2, 2, 2, 1, 3, 0, 2, 2, 3, 1, 0, 2, 2, 1, 2,\n",
              "       1, 3, 3, 2, 1, 1, 2, 1, 3, 3, 2, 1, 2, 2, 3, 1, 3, 2, 3, 0, 1, 3,\n",
              "       1, 2, 2, 1, 2, 2, 3, 2, 2, 2, 1, 1, 3, 1, 1, 2, 2, 2, 2, 2, 3, 1,\n",
              "       2, 2, 3, 1, 2, 1, 1, 2, 3, 1, 2, 2, 3, 2, 2, 3, 2, 0, 2, 3, 0, 3,\n",
              "       1, 2, 3, 2, 2, 0, 3, 2, 2, 2, 0, 2, 2, 2, 2, 1, 1, 1, 0, 1, 3, 2,\n",
              "       1, 2, 1, 2, 2, 3, 1, 1, 3, 3, 3, 3, 2, 3, 2, 1, 3, 2, 3, 3, 3, 2,\n",
              "       2, 3, 1, 1, 2, 1, 3, 3, 3, 1, 2, 2, 2, 2, 1, 3, 0, 1, 2, 1, 2, 2,\n",
              "       1, 3, 2, 1, 3, 2, 2, 3, 1, 0, 1, 2, 2, 3, 3, 3, 2, 3, 3, 2, 3, 2,\n",
              "       1, 2, 2, 2, 3, 3, 2, 2, 3, 1, 1, 1, 0, 3, 1, 2, 2, 2, 2, 1, 2, 3,\n",
              "       3, 2, 1, 2, 1, 3, 3, 3, 3, 1, 0, 1, 2, 2, 3, 2, 3, 3, 3, 2, 2, 3,\n",
              "       3, 1, 2, 0, 3, 1, 2, 2, 3, 3, 2, 2, 3, 0, 3, 1, 2, 2, 3, 1, 2, 2,\n",
              "       3, 2, 2, 2, 1, 3, 2, 2, 3, 3, 2, 2, 3, 2, 2, 2, 2, 2, 2, 2, 3, 3,\n",
              "       2, 3, 1, 3, 1, 2, 2, 2, 2, 2, 1, 1, 1, 0, 3, 3, 2, 1, 2, 2, 0, 2,\n",
              "       2, 3, 2, 2, 2, 0, 2, 2, 3, 3, 1, 2, 1, 3, 1, 1, 3, 2, 0, 0, 1, 2,\n",
              "       3, 3, 2, 2, 2, 1, 2, 1, 2, 3, 1, 2, 3, 1, 1, 2, 1, 3, 2, 1, 2, 3,\n",
              "       2, 2, 3, 1, 1, 1, 2, 2, 1, 2, 2, 0, 0, 1, 3, 2, 2, 1, 1, 2, 2, 0,\n",
              "       3, 3, 3, 3, 1, 3, 1, 2, 1, 3, 2, 2, 0, 1, 1, 2, 1, 2, 1, 3, 0, 0,\n",
              "       2, 2, 3, 3, 0, 3, 3, 0, 3, 2, 1, 1, 2, 1, 2, 0, 1, 3, 2, 3, 2, 2,\n",
              "       3, 1, 1, 3, 1, 3, 2, 1, 2, 2, 1, 2, 1, 2, 1, 3, 3, 2, 2, 2, 2, 2,\n",
              "       2, 3, 2, 2, 1, 2, 3, 1, 2, 3, 3, 3, 3, 2, 2, 0, 2, 2, 2, 2, 1, 3,\n",
              "       3, 3, 2, 2, 2, 1, 3, 1, 1, 2, 1, 2, 1, 2, 2, 0, 2, 2, 1, 2, 0, 1,\n",
              "       2, 2, 2, 1, 2, 1, 3, 3, 3, 3, 3, 2, 2, 2, 2, 1, 3, 2, 2, 2, 1, 2,\n",
              "       1, 3, 1, 2, 1, 1, 2, 2, 2, 3, 3, 3, 2, 1, 3, 2, 1, 2, 1, 2, 2, 1,\n",
              "       2, 2, 2, 2, 2, 3, 1, 2, 2, 1, 1, 2, 1, 1, 1, 2, 1, 2, 3, 1, 1, 2,\n",
              "       2, 1, 3, 0, 3, 1, 1, 3, 1, 2, 3, 1, 2, 3, 2, 0, 2, 2, 1, 2, 2, 3,\n",
              "       2, 2, 2, 3, 1, 2, 2, 2, 2, 1, 3, 1, 1, 2, 2, 1, 1, 3, 3, 2, 1, 2,\n",
              "       1, 2, 3, 2, 2, 2, 2, 1, 2, 2, 2, 2, 1, 2, 1, 1, 2, 2, 0, 2, 3, 3,\n",
              "       3, 3, 2, 1, 1, 1, 2, 3, 1, 1, 3, 2, 3, 0, 2, 3, 1, 3, 1, 2, 2, 1,\n",
              "       1, 1, 1, 2, 2, 2, 1, 1, 1, 2, 2, 1, 3, 2, 1, 3, 2, 2, 0, 3, 3, 3,\n",
              "       2, 2, 2, 2, 2, 2, 3, 2, 3, 3, 1, 1, 0, 3, 2, 3, 2, 2, 2, 3, 3, 2,\n",
              "       2, 2, 2, 1, 3, 3, 3, 3, 2, 3, 0, 3, 3, 2, 3, 1, 2, 1, 0, 2, 3, 3,\n",
              "       1, 1, 3, 3, 0, 3, 1, 3, 3, 2, 3, 2, 0, 3, 2, 3, 1, 0, 2, 3, 3, 1,\n",
              "       3, 1, 3, 2, 2, 3, 3, 3, 2, 2, 3, 2, 3, 2, 3, 3, 2, 2, 1, 3, 2, 2,\n",
              "       3, 1, 1, 3, 3, 2, 3, 2, 2, 1, 0, 1, 2, 0, 2, 1, 3, 1, 1, 1, 1, 2,\n",
              "       2, 2, 3, 2, 1, 2, 2, 2, 2, 3, 1, 3, 3, 3, 2, 0, 2, 2, 2, 1, 3, 3,\n",
              "       3, 3, 3, 2, 3, 3, 1, 3, 2, 3, 1, 3, 2, 2, 2, 3, 2, 2, 3, 0, 2, 2,\n",
              "       2, 2, 2, 3, 2, 1, 2, 2, 1, 3, 3, 2, 2, 2, 0, 3, 2, 1, 3, 2, 3, 2,\n",
              "       2, 3, 3, 2, 2, 3, 1, 3, 1, 1, 2, 1, 1, 2, 3, 2, 2, 2, 2, 2, 2, 3,\n",
              "       1, 1, 3, 2, 2, 1, 2, 1, 2, 2, 1, 3, 3, 1, 3, 3, 3, 2, 2, 3, 2, 2,\n",
              "       3, 3, 1, 3, 1, 3, 2, 2, 2, 3, 2, 1, 2, 1, 1, 3, 3, 2, 1, 2, 3, 1,\n",
              "       2, 3, 3, 2, 2, 3, 2, 2, 3, 1, 2, 2, 2, 3, 3, 2, 3, 1, 3, 3, 2, 3,\n",
              "       2, 2, 1, 2, 3, 2, 2, 3, 0, 2])"
            ]
          },
          "metadata": {
            "tags": []
          },
          "execution_count": 37
        }
      ]
    },
    {
      "cell_type": "code",
      "metadata": {
        "id": "BgLu3UQFMQzD"
      },
      "source": [
        "data['zone'] = locDiscEncoded"
      ],
      "execution_count": 38,
      "outputs": []
    },
    {
      "cell_type": "code",
      "metadata": {
        "id": "HOpSEgh6MSzS"
      },
      "source": [
        "# create an instance of label encoder for categorical variables\n",
        "labelEncoder10 = LabelEncoder()"
      ],
      "execution_count": 39,
      "outputs": []
    },
    {
      "cell_type": "code",
      "metadata": {
        "colab": {
          "base_uri": "https://localhost:8080/"
        },
        "id": "rREu25lWMUtB",
        "outputId": "9a3fb924-9145-49bc-cc47-7603a7f0e68b"
      },
      "source": [
        "locationDescriptionEncoded = labelEncoder10.fit_transform(data['Location Description'])\n",
        "locationDescriptionEncoded"
      ],
      "execution_count": 40,
      "outputs": [
        {
          "output_type": "execute_result",
          "data": {
            "text/plain": [
              "array([45, 56, 45,  7, 14, 39, 54, 55,  7, 42, 56, 11, 45, 42, 56, 39, 39,\n",
              "       45,  7, 59,  7, 56,  7,  7, 56, 56, 42, 32, 54, 45, 54, 14, 56, 60,\n",
              "       45, 17, 56, 45, 39,  7, 49, 56, 52, 56, 54, 54, 55, 52,  7, 56,  7,\n",
              "       45, 45,  6, 45,  7, 55, 55, 56, 56, 45,  7, 42, 56, 45, 54,  7, 54,\n",
              "       56,  7,  7, 27, 45, 56,  7, 35, 56, 40,  3,  5, 54,  7, 56, 45,  7,\n",
              "       27, 56, 56, 54, 45,  7, 56, 56, 52, 54, 50, 39, 61, 45, 45, 23, 28,\n",
              "        7, 42, 45, 52, 56, 52, 18, 56, 42, 45,  7, 45, 56, 39, 17, 36, 56,\n",
              "       60, 45, 56, 45,  7, 45, 42, 32, 19, 39, 39, 54, 56, 39, 56, 56, 42,\n",
              "       56,  5, 56, 45, 55, 52,  7, 11, 27,  7, 56, 45, 56,  4, 56, 30,  7,\n",
              "       45, 56, 56, 54, 29, 45,  8, 50, 56, 56, 28, 48, 49, 12, 54, 56,  7,\n",
              "       45, 45, 56, 49, 56, 56, 50,  7, 58, 39,  7,  7, 24, 56, 52, 56,  7,\n",
              "       41, 60, 56, 34, 56, 54,  7, 47, 23,  7, 54, 18, 56, 47, 52, 17, 56,\n",
              "        7, 27, 42, 56, 50, 45, 54, 55,  7, 56, 56, 30, 56, 42,  7, 56, 46,\n",
              "       30,  5,  7, 54, 27, 54, 56, 45, 28, 45,  7, 60, 56,  7,  7, 57, 45,\n",
              "       11, 42, 56,  7, 45, 61, 56, 56, 19, 17, 45, 55, 58, 56, 56,  7, 56,\n",
              "        7, 24, 50,  5, 45, 56, 56, 24, 12, 50, 39, 39, 56, 56, 30, 56, 60,\n",
              "       45, 17, 47, 56, 49, 56,  7, 52,  5, 54, 45, 60, 56,  5, 60,  7, 48,\n",
              "       56,  7, 45, 45, 20, 45, 56, 39, 14, 56, 27, 30, 39, 54,  7, 54, 45,\n",
              "       45, 60, 54, 18,  9, 16, 54, 45, 45,  5,  7, 56,  7, 29, 21,  5, 27,\n",
              "       48, 45, 56, 48, 27, 42,  7, 45, 47, 56, 50, 49, 39,  7,  7, 56, 56,\n",
              "       39, 54, 56, 56, 31, 56,  5, 56, 45, 45, 48, 60, 48, 54, 39, 36,  7,\n",
              "       45, 45, 56, 54, 52, 50,  7, 39, 56, 56, 56, 54, 60, 56, 45, 47, 45,\n",
              "       39, 54,  7, 45,  5, 45, 16, 56, 48,  7, 25,  7, 56, 56, 39, 60, 56,\n",
              "       42, 52, 56,  7, 45, 54,  5, 45, 56, 56, 56, 45, 54, 56, 43,  5, 56,\n",
              "       48, 54, 54, 56, 52,  7, 42, 48,  7, 45, 12,  7, 45, 56, 19, 56, 45,\n",
              "       45, 42, 45, 52, 48, 56, 45, 45, 60,  5, 54, 50, 56,  7, 56, 51, 56,\n",
              "       54,  5, 60, 56, 32,  7, 54, 60, 45, 45, 56, 27, 45, 54,  9, 49, 49,\n",
              "        7, 45, 20, 10, 45, 56, 29, 56,  4, 54, 55, 54, 17, 26, 11, 56, 10,\n",
              "       54, 56, 54, 56, 56, 56, 56, 47, 56,  7, 56,  7, 54, 32, 56, 56, 45,\n",
              "       42, 45, 54, 60, 47, 13, 33, 54, 56, 48,  7, 54, 56, 39, 45, 56,  7,\n",
              "       49, 45, 18, 54, 56, 47, 45, 54, 10, 56, 48, 45, 45, 49,  7, 56, 45,\n",
              "       54, 56, 60,  0, 47, 42, 45,  3, 56, 49, 56, 56, 56, 45, 15,  7, 56,\n",
              "       54,  7,  7, 15, 55, 42, 45,  7, 54, 45, 56, 50,  7, 54, 56, 54,  7,\n",
              "       56,  7,  7, 45, 56, 56, 30, 39, 14, 16, 56, 47, 56, 34,  5, 39, 54,\n",
              "        7, 42, 45, 56, 42, 54, 54, 40, 56, 25, 45, 56, 48, 54, 45, 56, 56,\n",
              "       47, 27, 56,  7, 56, 56, 56, 56, 32, 56, 52, 39, 56, 56, 32, 56, 56,\n",
              "       50,  5, 48, 42, 47, 30, 30,  7,  8, 47, 21, 16, 56,  7, 33, 56, 16,\n",
              "        7, 53, 54, 56, 56,  7, 56, 47,  4, 56,  7, 45, 56, 56, 45, 56, 56,\n",
              "        7, 52, 15, 45, 45,  7,  7,  7, 54, 45, 54, 56, 39, 39, 27, 45, 23,\n",
              "       58, 54, 56, 45, 48, 45, 56, 60, 39, 56, 56, 45, 55, 54, 56, 55, 26,\n",
              "       56, 60,  7,  5, 54,  7, 45,  7, 54, 17, 56,  7, 22, 56, 56,  7, 56,\n",
              "       54, 48, 21, 49, 27, 56, 54, 32, 16, 54, 56,  7, 14, 56, 54, 60, 30,\n",
              "        7, 56, 56, 56,  7, 45, 31,  7,  7, 39, 39, 45, 56, 30, 52, 45, 30,\n",
              "       45, 54, 40, 54,  7, 47, 45, 44, 54, 56, 45, 31, 45,  7,  5, 48, 54,\n",
              "       45, 45, 56, 54, 54, 56, 41, 56, 56, 31, 56, 56,  7, 10, 56,  7, 56,\n",
              "       45, 37, 54, 56, 56, 58, 45, 54, 56, 54, 20, 54, 56, 54, 56, 41, 54,\n",
              "        5, 56, 42,  5, 56, 45,  7,  7, 31, 51, 45, 45, 48, 54, 53, 56, 38,\n",
              "       47, 56, 45, 56, 45, 42, 20, 55, 54, 18, 39, 39, 54, 54, 54, 54, 45,\n",
              "       56,  7, 56, 24,  7, 56, 39, 45, 42, 39, 45, 56, 40, 56, 54, 27, 56,\n",
              "       56, 25, 45,  7, 45, 56, 56,  7, 47, 45, 27, 45, 48, 45, 29, 54, 56,\n",
              "       55, 45, 20, 45, 54, 48, 56, 56, 56, 56, 39, 49, 55, 26, 56, 60, 54,\n",
              "        7, 56, 48, 56, 45,  7, 50, 45, 45, 56,  7, 45, 45, 45,  7, 20, 52,\n",
              "       56, 60, 45, 46, 45, 56, 42, 54, 52, 56, 45, 56,  7, 54, 56, 58,  7,\n",
              "       45, 50, 56, 54, 54, 45, 45, 32, 54, 56, 45,  7, 56, 56,  7,  7, 45,\n",
              "       54, 56, 49, 56, 45, 56, 56, 48, 28, 56, 45,  7, 52, 56,  7, 45, 20,\n",
              "       56, 45, 34,  5, 56, 56, 45, 47, 43, 47,  7, 48,  5, 54, 47,  7, 18,\n",
              "       49, 45, 16, 56, 56, 48, 45, 50,  5, 56, 45,  7, 45, 45, 39, 39, 16,\n",
              "        7,  7, 56, 56, 56, 56, 42, 45, 42, 56,  1, 56, 56, 45, 52,  4, 56,\n",
              "       14, 52, 56,  2, 17, 45, 56, 29,  7, 56, 53, 55, 56, 45])"
            ]
          },
          "metadata": {
            "tags": []
          },
          "execution_count": 40
        }
      ]
    },
    {
      "cell_type": "code",
      "metadata": {
        "id": "9Q3mp6XzMWhp"
      },
      "source": [
        "data['Location Description'] = locDiscEncoded"
      ],
      "execution_count": 41,
      "outputs": []
    },
    {
      "cell_type": "code",
      "metadata": {
        "id": "FNfPtb_yMY9Z"
      },
      "source": [
        "# create an instance of label encoder for categorical variables\n",
        "labelEncoder11 = LabelEncoder()"
      ],
      "execution_count": 42,
      "outputs": []
    },
    {
      "cell_type": "code",
      "metadata": {
        "colab": {
          "base_uri": "https://localhost:8080/"
        },
        "id": "HbV4Gem9MbN3",
        "outputId": "2587af5c-c318-46cc-87ed-4d9968ab7d97"
      },
      "source": [
        "fbiEncoded = labelEncoder11.fit_transform(data['FBI Code'])\n",
        "fbiEncoded"
      ],
      "execution_count": 57,
      "outputs": [
        {
          "output_type": "execute_result",
          "data": {
            "text/plain": [
              "array([ 5, 12, 12,  4,  8,  1, 12,  5,  8,  1, 12, 11,  4,  6,  6,  8,  6,\n",
              "       21,  4,  8, 21, 21,  8,  8,  8,  6,  5,  5, 16, 12, 16, 21, 12, 12,\n",
              "        5,  5,  1,  8,  5,  8, 21,  6,  8,  5,  7,  8,  5,  7, 12,  5,  4,\n",
              "        4,  5,  8, 12,  5,  4, 12,  1, 16, 11,  5,  5,  5,  5,  1, 15, 16,\n",
              "        5,  8,  4,  5, 12,  5, 12, 12,  8,  5, 21,  3, 16, 12, 12, 16,  4,\n",
              "        5,  5,  6,  8,  3, 21,  6, 20,  5, 21,  5,  5,  4, 21,  8,  8,  5,\n",
              "       12,  6,  4,  4,  5,  8, 12,  1, 12,  8,  4, 21, 12,  5,  5, 21,  6,\n",
              "        5, 15,  5,  4,  8,  8,  6, 12,  4,  5, 12,  8, 12, 16,  6,  6,  5,\n",
              "        5,  6, 11, 12,  5,  8, 12, 11, 12,  8,  5, 21, 21,  5,  5,  1,  8,\n",
              "       21,  6,  6,  3,  5,  8,  5,  6, 18, 12,  7,  4,  6,  8,  8,  5,  7,\n",
              "       11,  5,  8, 12,  1, 11,  5,  4, 21,  5,  4,  5,  5, 13,  3,  6,  8,\n",
              "       21,  5, 12, 21,  8,  8,  4, 12, 11,  8, 16, 21, 14,  5,  8,  3, 16,\n",
              "       11,  5,  6, 13, 11,  8, 13,  1,  8,  5, 16,  6,  5, 21,  8,  6,  4,\n",
              "        8,  7,  8,  7,  5, 16, 21,  4, 12,  8,  4, 16,  5, 21,  8, 21,  4,\n",
              "       11,  5,  5,  5, 12,  5,  7, 20,  5, 12,  8,  4, 12,  6,  1, 18,  8,\n",
              "        8, 20,  8,  8,  4,  1,  7, 20, 12,  4,  4,  5,  5, 14,  5,  5, 16,\n",
              "        8,  8,  2, 12, 12,  5, 21,  7,  3,  3, 21, 13, 21,  5,  5,  4,  4,\n",
              "        8,  4, 21,  8,  7,  5,  5,  1,  8, 12,  8,  7,  1,  5,  8, 16, 12,\n",
              "       16,  5, 19, 12, 11, 16, 19, 11,  4, 16,  5,  5,  8,  5, 12, 16, 21,\n",
              "       12,  8,  6,  4,  5,  8,  5, 12,  1, 21, 10,  8, 11,  1,  5, 12, 12,\n",
              "        5,  8,  5,  6,  5, 20, 16,  8, 16,  5, 12,  5,  4,  8, 12,  5,  5,\n",
              "       12,  4,  5,  7, 12,  5,  2,  5,  5, 16,  7, 20, 12, 20, 12, 21,  4,\n",
              "        4,  5,  8,  4, 12, 12, 21, 12,  4,  8, 12,  8,  5, 16,  5, 12,  5,\n",
              "       12,  7, 16,  4,  8,  7,  1,  8,  5,  1,  8,  3, 16,  5,  7,  3, 16,\n",
              "        4, 21,  8, 16,  8, 11,  8,  6,  4,  4, 21,  8, 21,  6,  5,  6, 12,\n",
              "       21, 11, 21,  8, 12,  1, 18,  8, 12, 13, 21,  5, 14,  4,  1, 12, 14,\n",
              "       16, 12,  5, 14,  5,  8,  7, 16,  3,  1, 12,  5, 11,  8, 11,  5,  5,\n",
              "       11, 12, 21, 11,  8, 12,  5,  6,  5, 20, 11, 16,  4,  5, 11,  8, 11,\n",
              "        5,  5,  5,  6,  6, 12,  1,  8, 14,  5,  5,  8, 20,  5,  8,  8, 12,\n",
              "        5,  0, 21, 12,  1,  5,  5,  8, 12,  4,  5,  8,  5,  6, 10,  5,  5,\n",
              "       20,  4,  1, 16,  8, 12, 11,  3, 21, 12,  4,  4,  8, 21, 12, 14,  4,\n",
              "       16, 21,  5, 16,  9, 20,  4,  3,  5,  5,  5,  6, 20,  8, 21,  8, 12,\n",
              "        7, 11,  8, 16,  7, 12,  4,  8,  2, 18,  3, 21,  8, 21, 16,  1,  8,\n",
              "       16,  8,  8, 11,  5, 16,  7, 21, 21, 21, 16,  8,  5,  5, 16,  4,  8,\n",
              "        4,  5,  5, 21, 12, 20,  7, 16,  8,  5,  5,  7, 12, 16, 10,  5,  5,\n",
              "        7,  5, 16,  8,  6,  8, 12,  5,  5,  1,  4,  5,  1,  6,  5,  8, 12,\n",
              "        5,  5, 12,  5, 21, 21,  5, 21,  5,  9, 11,  8,  6, 12, 11, 14,  8,\n",
              "        4, 18, 16,  5,  6,  5, 16,  3, 12, 16,  8, 21, 21, 12, 11,  5,  3,\n",
              "        7, 21, 16,  8, 13,  8, 21,  7, 16,  5,  7, 16,  5, 21,  5, 21, 11,\n",
              "        8, 21,  3, 21,  4,  8, 12,  8,  6,  8,  8,  5,  2, 16,  5, 21, 11,\n",
              "       12,  5, 10,  8,  5,  4, 21,  4,  2,  5, 16,  4, 16,  6,  8, 21, 20,\n",
              "        8,  4,  8,  8,  5,  1, 20,  5,  5, 16,  6, 12,  7, 12, 16, 16,  2,\n",
              "       12, 14,  8,  8,  5, 21,  7,  5, 12,  5, 12, 12, 12,  5,  8,  7,  1,\n",
              "        7,  8,  8,  8,  8,  7,  8,  5, 16, 12,  8,  8,  4,  8,  3,  4,  8,\n",
              "        3,  4,  7, 20, 16, 21,  3,  1,  8,  5, 11,  8, 16, 10,  6,  8, 16,\n",
              "        5,  7,  8,  5,  8, 16, 11,  1,  5,  3, 21,  8, 21, 19,  5,  5,  1,\n",
              "        2,  1,  5,  7, 14,  7,  8, 11, 21,  8,  8, 16,  5, 13,  3, 16, 21,\n",
              "       12, 12, 21, 16,  5,  6, 16,  5, 16, 21, 21, 11, 16,  2,  1, 16, 11,\n",
              "       16,  0,  5,  8,  8, 13, 11,  2, 12, 21,  5,  3, 16,  6, 16,  5,  5,\n",
              "        5,  5, 21,  7, 12, 12, 13, 21,  5,  8,  5,  8,  5,  7,  2, 16,  1,\n",
              "        1,  5, 21, 12, 16,  4,  5, 16,  5, 14, 16, 16,  5, 10,  5,  9, 16,\n",
              "        4,  5, 12,  2,  8,  4,  7, 11,  8, 20,  4,  8,  5,  3,  7, 16, 21,\n",
              "        5, 16, 12,  9,  5,  1,  5,  1,  8,  5,  2,  8,  8, 17,  5,  4,  8,\n",
              "        4, 11, 16,  8, 21, 21,  8,  5, 13, 12,  4,  5, 21,  6,  8, 11, 21,\n",
              "       16, 21,  5, 13,  0, 16,  7,  5, 12,  2,  8,  8,  8,  6,  4, 11, 12,\n",
              "       12,  8, 21,  5,  5,  6,  5, 15, 16, 13,  8,  4,  2,  7, 12, 21,  7,\n",
              "        2,  8,  5,  5,  8,  5,  3,  8, 16,  8,  7,  5,  4, 21,  8, 11, 16,\n",
              "       12,  7, 16,  2, 16, 16,  7,  4,  6,  6,  5,  6,  5, 21,  7,  5,  1,\n",
              "        8, 16,  7, 21,  4,  5, 21,  5,  8, 12, 12,  4, 12,  0])"
            ]
          },
          "metadata": {
            "tags": []
          },
          "execution_count": 57
        }
      ]
    },
    {
      "cell_type": "code",
      "metadata": {
        "id": "hJZLiYC1Mc28"
      },
      "source": [
        "data['FBI Code'] = locDiscEncoded"
      ],
      "execution_count": 58,
      "outputs": []
    },
    {
      "cell_type": "code",
      "metadata": {
        "id": "NMSFKrypMgJ4"
      },
      "source": [
        "from sklearn.decomposition import PCA #use PCA to combine features"
      ],
      "execution_count": 59,
      "outputs": []
    },
    {
      "cell_type": "code",
      "metadata": {
        "id": "-bF-7e3XMif0"
      },
      "source": [
        "location = data[['Latitude','Longitude']]\n",
        "pca = PCA(n_components=1,random_state=123)"
      ],
      "execution_count": 60,
      "outputs": []
    },
    {
      "cell_type": "code",
      "metadata": {
        "id": "bhFINpVJMknV"
      },
      "source": [
        "loc = pca.fit_transform(location)"
      ],
      "execution_count": 61,
      "outputs": []
    },
    {
      "cell_type": "code",
      "metadata": {
        "id": "rgAehQtiMmiL"
      },
      "source": [
        "data['Location'] = loc"
      ],
      "execution_count": 62,
      "outputs": []
    },
    {
      "cell_type": "code",
      "metadata": {
        "colab": {
          "base_uri": "https://localhost:8080/",
          "height": 326
        },
        "id": "WUGl0-daMouy",
        "outputId": "f8e65827-a1c2-4d9d-c3c4-950638bca1a6"
      },
      "source": [
        "data.head(5)"
      ],
      "execution_count": 63,
      "outputs": [
        {
          "output_type": "execute_result",
          "data": {
            "text/html": [
              "<div>\n",
              "<style scoped>\n",
              "    .dataframe tbody tr th:only-of-type {\n",
              "        vertical-align: middle;\n",
              "    }\n",
              "\n",
              "    .dataframe tbody tr th {\n",
              "        vertical-align: top;\n",
              "    }\n",
              "\n",
              "    .dataframe thead th {\n",
              "        text-align: right;\n",
              "    }\n",
              "</style>\n",
              "<table border=\"1\" class=\"dataframe\">\n",
              "  <thead>\n",
              "    <tr style=\"text-align: right;\">\n",
              "      <th></th>\n",
              "      <th>IUCR</th>\n",
              "      <th>Description</th>\n",
              "      <th>Location Description</th>\n",
              "      <th>Arrest</th>\n",
              "      <th>Domestic</th>\n",
              "      <th>Beat</th>\n",
              "      <th>District</th>\n",
              "      <th>Ward</th>\n",
              "      <th>Community Area</th>\n",
              "      <th>FBI Code</th>\n",
              "      <th>Year</th>\n",
              "      <th>Latitude</th>\n",
              "      <th>Longitude</th>\n",
              "      <th>Month</th>\n",
              "      <th>Day_num</th>\n",
              "      <th>Time</th>\n",
              "      <th>day_of_week</th>\n",
              "      <th>primary_type_grouped</th>\n",
              "      <th>zone</th>\n",
              "      <th>Count_CrimeType_Column</th>\n",
              "      <th>Location</th>\n",
              "    </tr>\n",
              "  </thead>\n",
              "  <tbody>\n",
              "    <tr>\n",
              "      <th>5404128</th>\n",
              "      <td>40</td>\n",
              "      <td>FROM BUILDING</td>\n",
              "      <td>48</td>\n",
              "      <td>False</td>\n",
              "      <td>False</td>\n",
              "      <td>48</td>\n",
              "      <td>20</td>\n",
              "      <td>48</td>\n",
              "      <td>48</td>\n",
              "      <td>40</td>\n",
              "      <td>48</td>\n",
              "      <td>48</td>\n",
              "      <td>48</td>\n",
              "      <td>48</td>\n",
              "      <td>3</td>\n",
              "      <td>48</td>\n",
              "      <td>Tuesday</td>\n",
              "      <td>THEFT</td>\n",
              "      <td>48</td>\n",
              "      <td>2327482.0</td>\n",
              "      <td>37.864154</td>\n",
              "    </tr>\n",
              "    <tr>\n",
              "      <th>4166807</th>\n",
              "      <td>65</td>\n",
              "      <td>TO VEHICLE</td>\n",
              "      <td>16</td>\n",
              "      <td>False</td>\n",
              "      <td>False</td>\n",
              "      <td>16</td>\n",
              "      <td>5</td>\n",
              "      <td>16</td>\n",
              "      <td>16</td>\n",
              "      <td>65</td>\n",
              "      <td>16</td>\n",
              "      <td>16</td>\n",
              "      <td>16</td>\n",
              "      <td>16</td>\n",
              "      <td>31</td>\n",
              "      <td>16</td>\n",
              "      <td>Wednesday</td>\n",
              "      <td>CRIMINAL_OFFENSE</td>\n",
              "      <td>16</td>\n",
              "      <td>1230761.0</td>\n",
              "      <td>-7.390680</td>\n",
              "    </tr>\n",
              "    <tr>\n",
              "      <th>443362</th>\n",
              "      <td>64</td>\n",
              "      <td>TO PROPERTY</td>\n",
              "      <td>3</td>\n",
              "      <td>False</td>\n",
              "      <td>False</td>\n",
              "      <td>3</td>\n",
              "      <td>1</td>\n",
              "      <td>3</td>\n",
              "      <td>3</td>\n",
              "      <td>64</td>\n",
              "      <td>3</td>\n",
              "      <td>3</td>\n",
              "      <td>3</td>\n",
              "      <td>3</td>\n",
              "      <td>20</td>\n",
              "      <td>3</td>\n",
              "      <td>Monday</td>\n",
              "      <td>CRIMINAL_OFFENSE</td>\n",
              "      <td>3</td>\n",
              "      <td>1230761.0</td>\n",
              "      <td>-25.775456</td>\n",
              "    </tr>\n",
              "    <tr>\n",
              "      <th>3983378</th>\n",
              "      <td>28</td>\n",
              "      <td>ATTEMPT FORCIBLE ENTRY</td>\n",
              "      <td>36</td>\n",
              "      <td>False</td>\n",
              "      <td>False</td>\n",
              "      <td>36</td>\n",
              "      <td>21</td>\n",
              "      <td>36</td>\n",
              "      <td>36</td>\n",
              "      <td>28</td>\n",
              "      <td>36</td>\n",
              "      <td>36</td>\n",
              "      <td>36</td>\n",
              "      <td>36</td>\n",
              "      <td>23</td>\n",
              "      <td>36</td>\n",
              "      <td>Tuesday</td>\n",
              "      <td>THEFT</td>\n",
              "      <td>36</td>\n",
              "      <td>2327482.0</td>\n",
              "      <td>20.893591</td>\n",
              "    </tr>\n",
              "    <tr>\n",
              "      <th>2065057</th>\n",
              "      <td>13</td>\n",
              "      <td>SIMPLE</td>\n",
              "      <td>3</td>\n",
              "      <td>False</td>\n",
              "      <td>False</td>\n",
              "      <td>3</td>\n",
              "      <td>1</td>\n",
              "      <td>3</td>\n",
              "      <td>3</td>\n",
              "      <td>13</td>\n",
              "      <td>3</td>\n",
              "      <td>3</td>\n",
              "      <td>3</td>\n",
              "      <td>3</td>\n",
              "      <td>14</td>\n",
              "      <td>3</td>\n",
              "      <td>Tuesday</td>\n",
              "      <td>NON-CRIMINAL_ASSAULT</td>\n",
              "      <td>3</td>\n",
              "      <td>1640154.0</td>\n",
              "      <td>-25.775456</td>\n",
              "    </tr>\n",
              "  </tbody>\n",
              "</table>\n",
              "</div>"
            ],
            "text/plain": [
              "         IUCR             Description  ...  Count_CrimeType_Column   Location\n",
              "5404128    40           FROM BUILDING  ...               2327482.0  37.864154\n",
              "4166807    65              TO VEHICLE  ...               1230761.0  -7.390680\n",
              "443362     64             TO PROPERTY  ...               1230761.0 -25.775456\n",
              "3983378    28  ATTEMPT FORCIBLE ENTRY  ...               2327482.0  20.893591\n",
              "2065057    13                  SIMPLE  ...               1640154.0 -25.775456\n",
              "\n",
              "[5 rows x 21 columns]"
            ]
          },
          "metadata": {
            "tags": []
          },
          "execution_count": 63
        }
      ]
    },
    {
      "cell_type": "code",
      "metadata": {
        "id": "qyGkv0QKMrUl"
      },
      "source": [
        "#taking a fraction of data\n",
        "data_sample = data.sample(frac=0.1, random_state=123)"
      ],
      "execution_count": 64,
      "outputs": []
    },
    {
      "cell_type": "code",
      "metadata": {
        "id": "4vqSgDFoMt6x"
      },
      "source": [
        "from sklearn.ensemble import ExtraTreesClassifier\n",
        "import matplotlib.pyplot as plt\n",
        "model = ExtraTreesClassifier()"
      ],
      "execution_count": 65,
      "outputs": []
    },
    {
      "cell_type": "code",
      "metadata": {
        "colab": {
          "base_uri": "https://localhost:8080/",
          "height": 644
        },
        "id": "YxEuoLIqMv9n",
        "outputId": "b2268071-435a-4d5d-e731-6c054369b8e2"
      },
      "source": [
        "corelation = data.corr()\n",
        "corelation"
      ],
      "execution_count": 66,
      "outputs": [
        {
          "output_type": "execute_result",
          "data": {
            "text/html": [
              "<div>\n",
              "<style scoped>\n",
              "    .dataframe tbody tr th:only-of-type {\n",
              "        vertical-align: middle;\n",
              "    }\n",
              "\n",
              "    .dataframe tbody tr th {\n",
              "        vertical-align: top;\n",
              "    }\n",
              "\n",
              "    .dataframe thead th {\n",
              "        text-align: right;\n",
              "    }\n",
              "</style>\n",
              "<table border=\"1\" class=\"dataframe\">\n",
              "  <thead>\n",
              "    <tr style=\"text-align: right;\">\n",
              "      <th></th>\n",
              "      <th>IUCR</th>\n",
              "      <th>Location Description</th>\n",
              "      <th>Arrest</th>\n",
              "      <th>Domestic</th>\n",
              "      <th>Beat</th>\n",
              "      <th>District</th>\n",
              "      <th>Ward</th>\n",
              "      <th>Community Area</th>\n",
              "      <th>FBI Code</th>\n",
              "      <th>Year</th>\n",
              "      <th>Latitude</th>\n",
              "      <th>Longitude</th>\n",
              "      <th>Month</th>\n",
              "      <th>Day_num</th>\n",
              "      <th>Time</th>\n",
              "      <th>zone</th>\n",
              "      <th>Count_CrimeType_Column</th>\n",
              "      <th>Location</th>\n",
              "    </tr>\n",
              "  </thead>\n",
              "  <tbody>\n",
              "    <tr>\n",
              "      <th>IUCR</th>\n",
              "      <td>1.000000</td>\n",
              "      <td>0.026799</td>\n",
              "      <td>0.369728</td>\n",
              "      <td>-0.169920</td>\n",
              "      <td>0.026799</td>\n",
              "      <td>0.019146</td>\n",
              "      <td>0.026799</td>\n",
              "      <td>0.026799</td>\n",
              "      <td>1.000000</td>\n",
              "      <td>0.026799</td>\n",
              "      <td>0.026799</td>\n",
              "      <td>0.026799</td>\n",
              "      <td>0.026799</td>\n",
              "      <td>-0.049275</td>\n",
              "      <td>0.026799</td>\n",
              "      <td>0.026799</td>\n",
              "      <td>-0.732864</td>\n",
              "      <td>0.026799</td>\n",
              "    </tr>\n",
              "    <tr>\n",
              "      <th>Location Description</th>\n",
              "      <td>0.026799</td>\n",
              "      <td>1.000000</td>\n",
              "      <td>0.008798</td>\n",
              "      <td>-0.087474</td>\n",
              "      <td>1.000000</td>\n",
              "      <td>0.718790</td>\n",
              "      <td>1.000000</td>\n",
              "      <td>1.000000</td>\n",
              "      <td>0.026799</td>\n",
              "      <td>1.000000</td>\n",
              "      <td>1.000000</td>\n",
              "      <td>1.000000</td>\n",
              "      <td>1.000000</td>\n",
              "      <td>0.038614</td>\n",
              "      <td>1.000000</td>\n",
              "      <td>1.000000</td>\n",
              "      <td>0.022619</td>\n",
              "      <td>1.000000</td>\n",
              "    </tr>\n",
              "    <tr>\n",
              "      <th>Arrest</th>\n",
              "      <td>0.369728</td>\n",
              "      <td>0.008798</td>\n",
              "      <td>1.000000</td>\n",
              "      <td>-0.073106</td>\n",
              "      <td>0.008798</td>\n",
              "      <td>0.017776</td>\n",
              "      <td>0.008798</td>\n",
              "      <td>0.008798</td>\n",
              "      <td>0.369728</td>\n",
              "      <td>0.008798</td>\n",
              "      <td>0.008798</td>\n",
              "      <td>0.008798</td>\n",
              "      <td>0.008798</td>\n",
              "      <td>-0.046584</td>\n",
              "      <td>0.008798</td>\n",
              "      <td>0.008798</td>\n",
              "      <td>-0.431669</td>\n",
              "      <td>0.008798</td>\n",
              "    </tr>\n",
              "    <tr>\n",
              "      <th>Domestic</th>\n",
              "      <td>-0.169920</td>\n",
              "      <td>-0.087474</td>\n",
              "      <td>-0.073106</td>\n",
              "      <td>1.000000</td>\n",
              "      <td>-0.087474</td>\n",
              "      <td>-0.061201</td>\n",
              "      <td>-0.087474</td>\n",
              "      <td>-0.087474</td>\n",
              "      <td>-0.169920</td>\n",
              "      <td>-0.087474</td>\n",
              "      <td>-0.087474</td>\n",
              "      <td>-0.087474</td>\n",
              "      <td>-0.087474</td>\n",
              "      <td>-0.024921</td>\n",
              "      <td>-0.087474</td>\n",
              "      <td>-0.087474</td>\n",
              "      <td>-0.074358</td>\n",
              "      <td>-0.087474</td>\n",
              "    </tr>\n",
              "    <tr>\n",
              "      <th>Beat</th>\n",
              "      <td>0.026799</td>\n",
              "      <td>1.000000</td>\n",
              "      <td>0.008798</td>\n",
              "      <td>-0.087474</td>\n",
              "      <td>1.000000</td>\n",
              "      <td>0.718790</td>\n",
              "      <td>1.000000</td>\n",
              "      <td>1.000000</td>\n",
              "      <td>0.026799</td>\n",
              "      <td>1.000000</td>\n",
              "      <td>1.000000</td>\n",
              "      <td>1.000000</td>\n",
              "      <td>1.000000</td>\n",
              "      <td>0.038614</td>\n",
              "      <td>1.000000</td>\n",
              "      <td>1.000000</td>\n",
              "      <td>0.022619</td>\n",
              "      <td>1.000000</td>\n",
              "    </tr>\n",
              "    <tr>\n",
              "      <th>District</th>\n",
              "      <td>0.019146</td>\n",
              "      <td>0.718790</td>\n",
              "      <td>0.017776</td>\n",
              "      <td>-0.061201</td>\n",
              "      <td>0.718790</td>\n",
              "      <td>1.000000</td>\n",
              "      <td>0.718790</td>\n",
              "      <td>0.718790</td>\n",
              "      <td>0.019146</td>\n",
              "      <td>0.718790</td>\n",
              "      <td>0.718790</td>\n",
              "      <td>0.718790</td>\n",
              "      <td>0.718790</td>\n",
              "      <td>0.065295</td>\n",
              "      <td>0.718790</td>\n",
              "      <td>0.718790</td>\n",
              "      <td>-0.007345</td>\n",
              "      <td>0.718790</td>\n",
              "    </tr>\n",
              "    <tr>\n",
              "      <th>Ward</th>\n",
              "      <td>0.026799</td>\n",
              "      <td>1.000000</td>\n",
              "      <td>0.008798</td>\n",
              "      <td>-0.087474</td>\n",
              "      <td>1.000000</td>\n",
              "      <td>0.718790</td>\n",
              "      <td>1.000000</td>\n",
              "      <td>1.000000</td>\n",
              "      <td>0.026799</td>\n",
              "      <td>1.000000</td>\n",
              "      <td>1.000000</td>\n",
              "      <td>1.000000</td>\n",
              "      <td>1.000000</td>\n",
              "      <td>0.038614</td>\n",
              "      <td>1.000000</td>\n",
              "      <td>1.000000</td>\n",
              "      <td>0.022619</td>\n",
              "      <td>1.000000</td>\n",
              "    </tr>\n",
              "    <tr>\n",
              "      <th>Community Area</th>\n",
              "      <td>0.026799</td>\n",
              "      <td>1.000000</td>\n",
              "      <td>0.008798</td>\n",
              "      <td>-0.087474</td>\n",
              "      <td>1.000000</td>\n",
              "      <td>0.718790</td>\n",
              "      <td>1.000000</td>\n",
              "      <td>1.000000</td>\n",
              "      <td>0.026799</td>\n",
              "      <td>1.000000</td>\n",
              "      <td>1.000000</td>\n",
              "      <td>1.000000</td>\n",
              "      <td>1.000000</td>\n",
              "      <td>0.038614</td>\n",
              "      <td>1.000000</td>\n",
              "      <td>1.000000</td>\n",
              "      <td>0.022619</td>\n",
              "      <td>1.000000</td>\n",
              "    </tr>\n",
              "    <tr>\n",
              "      <th>FBI Code</th>\n",
              "      <td>1.000000</td>\n",
              "      <td>0.026799</td>\n",
              "      <td>0.369728</td>\n",
              "      <td>-0.169920</td>\n",
              "      <td>0.026799</td>\n",
              "      <td>0.019146</td>\n",
              "      <td>0.026799</td>\n",
              "      <td>0.026799</td>\n",
              "      <td>1.000000</td>\n",
              "      <td>0.026799</td>\n",
              "      <td>0.026799</td>\n",
              "      <td>0.026799</td>\n",
              "      <td>0.026799</td>\n",
              "      <td>-0.049275</td>\n",
              "      <td>0.026799</td>\n",
              "      <td>0.026799</td>\n",
              "      <td>-0.732864</td>\n",
              "      <td>0.026799</td>\n",
              "    </tr>\n",
              "    <tr>\n",
              "      <th>Year</th>\n",
              "      <td>0.026799</td>\n",
              "      <td>1.000000</td>\n",
              "      <td>0.008798</td>\n",
              "      <td>-0.087474</td>\n",
              "      <td>1.000000</td>\n",
              "      <td>0.718790</td>\n",
              "      <td>1.000000</td>\n",
              "      <td>1.000000</td>\n",
              "      <td>0.026799</td>\n",
              "      <td>1.000000</td>\n",
              "      <td>1.000000</td>\n",
              "      <td>1.000000</td>\n",
              "      <td>1.000000</td>\n",
              "      <td>0.038614</td>\n",
              "      <td>1.000000</td>\n",
              "      <td>1.000000</td>\n",
              "      <td>0.022619</td>\n",
              "      <td>1.000000</td>\n",
              "    </tr>\n",
              "    <tr>\n",
              "      <th>Latitude</th>\n",
              "      <td>0.026799</td>\n",
              "      <td>1.000000</td>\n",
              "      <td>0.008798</td>\n",
              "      <td>-0.087474</td>\n",
              "      <td>1.000000</td>\n",
              "      <td>0.718790</td>\n",
              "      <td>1.000000</td>\n",
              "      <td>1.000000</td>\n",
              "      <td>0.026799</td>\n",
              "      <td>1.000000</td>\n",
              "      <td>1.000000</td>\n",
              "      <td>1.000000</td>\n",
              "      <td>1.000000</td>\n",
              "      <td>0.038614</td>\n",
              "      <td>1.000000</td>\n",
              "      <td>1.000000</td>\n",
              "      <td>0.022619</td>\n",
              "      <td>1.000000</td>\n",
              "    </tr>\n",
              "    <tr>\n",
              "      <th>Longitude</th>\n",
              "      <td>0.026799</td>\n",
              "      <td>1.000000</td>\n",
              "      <td>0.008798</td>\n",
              "      <td>-0.087474</td>\n",
              "      <td>1.000000</td>\n",
              "      <td>0.718790</td>\n",
              "      <td>1.000000</td>\n",
              "      <td>1.000000</td>\n",
              "      <td>0.026799</td>\n",
              "      <td>1.000000</td>\n",
              "      <td>1.000000</td>\n",
              "      <td>1.000000</td>\n",
              "      <td>1.000000</td>\n",
              "      <td>0.038614</td>\n",
              "      <td>1.000000</td>\n",
              "      <td>1.000000</td>\n",
              "      <td>0.022619</td>\n",
              "      <td>1.000000</td>\n",
              "    </tr>\n",
              "    <tr>\n",
              "      <th>Month</th>\n",
              "      <td>0.026799</td>\n",
              "      <td>1.000000</td>\n",
              "      <td>0.008798</td>\n",
              "      <td>-0.087474</td>\n",
              "      <td>1.000000</td>\n",
              "      <td>0.718790</td>\n",
              "      <td>1.000000</td>\n",
              "      <td>1.000000</td>\n",
              "      <td>0.026799</td>\n",
              "      <td>1.000000</td>\n",
              "      <td>1.000000</td>\n",
              "      <td>1.000000</td>\n",
              "      <td>1.000000</td>\n",
              "      <td>0.038614</td>\n",
              "      <td>1.000000</td>\n",
              "      <td>1.000000</td>\n",
              "      <td>0.022619</td>\n",
              "      <td>1.000000</td>\n",
              "    </tr>\n",
              "    <tr>\n",
              "      <th>Day_num</th>\n",
              "      <td>-0.049275</td>\n",
              "      <td>0.038614</td>\n",
              "      <td>-0.046584</td>\n",
              "      <td>-0.024921</td>\n",
              "      <td>0.038614</td>\n",
              "      <td>0.065295</td>\n",
              "      <td>0.038614</td>\n",
              "      <td>0.038614</td>\n",
              "      <td>-0.049275</td>\n",
              "      <td>0.038614</td>\n",
              "      <td>0.038614</td>\n",
              "      <td>0.038614</td>\n",
              "      <td>0.038614</td>\n",
              "      <td>1.000000</td>\n",
              "      <td>0.038614</td>\n",
              "      <td>0.038614</td>\n",
              "      <td>0.048943</td>\n",
              "      <td>0.038614</td>\n",
              "    </tr>\n",
              "    <tr>\n",
              "      <th>Time</th>\n",
              "      <td>0.026799</td>\n",
              "      <td>1.000000</td>\n",
              "      <td>0.008798</td>\n",
              "      <td>-0.087474</td>\n",
              "      <td>1.000000</td>\n",
              "      <td>0.718790</td>\n",
              "      <td>1.000000</td>\n",
              "      <td>1.000000</td>\n",
              "      <td>0.026799</td>\n",
              "      <td>1.000000</td>\n",
              "      <td>1.000000</td>\n",
              "      <td>1.000000</td>\n",
              "      <td>1.000000</td>\n",
              "      <td>0.038614</td>\n",
              "      <td>1.000000</td>\n",
              "      <td>1.000000</td>\n",
              "      <td>0.022619</td>\n",
              "      <td>1.000000</td>\n",
              "    </tr>\n",
              "    <tr>\n",
              "      <th>zone</th>\n",
              "      <td>0.026799</td>\n",
              "      <td>1.000000</td>\n",
              "      <td>0.008798</td>\n",
              "      <td>-0.087474</td>\n",
              "      <td>1.000000</td>\n",
              "      <td>0.718790</td>\n",
              "      <td>1.000000</td>\n",
              "      <td>1.000000</td>\n",
              "      <td>0.026799</td>\n",
              "      <td>1.000000</td>\n",
              "      <td>1.000000</td>\n",
              "      <td>1.000000</td>\n",
              "      <td>1.000000</td>\n",
              "      <td>0.038614</td>\n",
              "      <td>1.000000</td>\n",
              "      <td>1.000000</td>\n",
              "      <td>0.022619</td>\n",
              "      <td>1.000000</td>\n",
              "    </tr>\n",
              "    <tr>\n",
              "      <th>Count_CrimeType_Column</th>\n",
              "      <td>-0.732864</td>\n",
              "      <td>0.022619</td>\n",
              "      <td>-0.431669</td>\n",
              "      <td>-0.074358</td>\n",
              "      <td>0.022619</td>\n",
              "      <td>-0.007345</td>\n",
              "      <td>0.022619</td>\n",
              "      <td>0.022619</td>\n",
              "      <td>-0.732864</td>\n",
              "      <td>0.022619</td>\n",
              "      <td>0.022619</td>\n",
              "      <td>0.022619</td>\n",
              "      <td>0.022619</td>\n",
              "      <td>0.048943</td>\n",
              "      <td>0.022619</td>\n",
              "      <td>0.022619</td>\n",
              "      <td>1.000000</td>\n",
              "      <td>0.022619</td>\n",
              "    </tr>\n",
              "    <tr>\n",
              "      <th>Location</th>\n",
              "      <td>0.026799</td>\n",
              "      <td>1.000000</td>\n",
              "      <td>0.008798</td>\n",
              "      <td>-0.087474</td>\n",
              "      <td>1.000000</td>\n",
              "      <td>0.718790</td>\n",
              "      <td>1.000000</td>\n",
              "      <td>1.000000</td>\n",
              "      <td>0.026799</td>\n",
              "      <td>1.000000</td>\n",
              "      <td>1.000000</td>\n",
              "      <td>1.000000</td>\n",
              "      <td>1.000000</td>\n",
              "      <td>0.038614</td>\n",
              "      <td>1.000000</td>\n",
              "      <td>1.000000</td>\n",
              "      <td>0.022619</td>\n",
              "      <td>1.000000</td>\n",
              "    </tr>\n",
              "  </tbody>\n",
              "</table>\n",
              "</div>"
            ],
            "text/plain": [
              "                            IUCR  ...  Location\n",
              "IUCR                    1.000000  ...  0.026799\n",
              "Location Description    0.026799  ...  1.000000\n",
              "Arrest                  0.369728  ...  0.008798\n",
              "Domestic               -0.169920  ... -0.087474\n",
              "Beat                    0.026799  ...  1.000000\n",
              "District                0.019146  ...  0.718790\n",
              "Ward                    0.026799  ...  1.000000\n",
              "Community Area          0.026799  ...  1.000000\n",
              "FBI Code                1.000000  ...  0.026799\n",
              "Year                    0.026799  ...  1.000000\n",
              "Latitude                0.026799  ...  1.000000\n",
              "Longitude               0.026799  ...  1.000000\n",
              "Month                   0.026799  ...  1.000000\n",
              "Day_num                -0.049275  ...  0.038614\n",
              "Time                    0.026799  ...  1.000000\n",
              "zone                    0.026799  ...  1.000000\n",
              "Count_CrimeType_Column -0.732864  ...  0.022619\n",
              "Location                0.026799  ...  1.000000\n",
              "\n",
              "[18 rows x 18 columns]"
            ]
          },
          "metadata": {
            "tags": []
          },
          "execution_count": 66
        }
      ]
    },
    {
      "cell_type": "code",
      "metadata": {
        "colab": {
          "base_uri": "https://localhost:8080/",
          "height": 406
        },
        "id": "LowfTlr3Mxua",
        "outputId": "3868799b-7398-4e59-d02c-240cef8729c7"
      },
      "source": [
        "sns.heatmap(corelation)"
      ],
      "execution_count": 67,
      "outputs": [
        {
          "output_type": "execute_result",
          "data": {
            "text/plain": [
              "<matplotlib.axes._subplots.AxesSubplot at 0x7f35a2357ed0>"
            ]
          },
          "metadata": {
            "tags": []
          },
          "execution_count": 67
        },
        {
          "output_type": "display_data",
          "data": {
            "image/png": "[encoded data removed]",
            "text/plain": [
              "<Figure size 432x288 with 2 Axes>"
            ]
          },
          "metadata": {
            "tags": [],
            "needs_background": "light"
          }
        }
      ]
    },
    {
      "cell_type": "code",
      "metadata": {
        "id": "QEKf1ldmM04k"
      },
      "source": [
        "selected_columns = ['District','IUCR','Community Area','Latitude','Longitude','Month','Year','Time','zone','Location Description','FBI Code']"
      ],
      "execution_count": 68,
      "outputs": []
    },
    {
      "cell_type": "code",
      "metadata": {
        "id": "bKeiHXiFM3zR"
      },
      "source": [
        "from sklearn.model_selection import train_test_split\n",
        "X_train_gs, X_test, y_train_gs, y_test = train_test_split(data[selected_columns], data['primary_type_grouped'], test_size=0.2) # 80% training and 20% test"
      ],
      "execution_count": 69,
      "outputs": []
    },
    {
      "cell_type": "code",
      "metadata": {
        "colab": {
          "base_uri": "https://localhost:8080/"
        },
        "id": "xSLKzWcIPoZ_",
        "outputId": "9ecd3a37-1924-46c2-85b0-80d47c1cdaa6"
      },
      "source": [
        "knn_5 = KNeighborsClassifier(n_neighbors=5) \n",
        "knn_5.fit(X_train_gs,y_train_gs)\n",
        "pred_train = knn_5.predict(X_train_gs)\n",
        "pred_i = knn_5.predict(X_test)\n",
        "print('Test accuracy ', metrics.accuracy_score(y_train_gs, pred_train))\n",
        "print('Accuracy ', metrics.accuracy_score(y_test, pred_i))\n",
        "print('F1 score ', metrics.f1_score(y_test, pred_i, average = 'weighted'))"
      ],
      "execution_count": 70,
      "outputs": [
        {
          "output_type": "stream",
          "text": [
            "Test accuracy  0.92375\n",
            "Accuracy  0.87\n",
            "F1 score  0.8598031625041952\n"
          ],
          "name": "stdout"
        }
      ]
    },
    {
      "cell_type": "code",
      "metadata": {
        "colab": {
          "base_uri": "https://localhost:8080/"
        },
        "id": "kYfVn5eSPqmh",
        "outputId": "b61e5024-ea1e-41ed-80a4-435030dd783d"
      },
      "source": [
        "error_rate = []\n",
        "\n",
        "krange = range(10,50,5)\n",
        "for i in krange:\n",
        " \n",
        " knn = KNeighborsClassifier(n_neighbors=i, metric='manhattan', weights = 'uniform',n_jobs= -1) # haversine - if only lat long\n",
        " knn.fit(X_train_gs,y_train_gs)\n",
        " pred_train = knn.predict(X_train_gs)\n",
        " pred_i = knn.predict(X_test)\n",
        " error_rate.append(np.mean(pred_i != y_test))\n",
        " print('Neighbours ',i)\n",
        " print('Test accuracy ', metrics.accuracy_score(y_train_gs, pred_train))\n",
        " print('Accuracy ', metrics.accuracy_score(y_test, pred_i))\n",
        " print('F1 score ', metrics.f1_score(y_test, pred_i, average = 'weighted'))"
      ],
      "execution_count": 71,
      "outputs": [
        {
          "output_type": "stream",
          "text": [
            "Neighbours  10\n",
            "Test accuracy  0.8925\n",
            "Accuracy  0.84\n",
            "F1 score  0.8207633190996887\n",
            "Neighbours  15\n",
            "Test accuracy  0.885\n",
            "Accuracy  0.815\n",
            "F1 score  0.7975028703256613\n",
            "Neighbours  20\n",
            "Test accuracy  0.87\n",
            "Accuracy  0.81\n",
            "F1 score  0.7930223483925047\n",
            "Neighbours  25\n",
            "Test accuracy  0.84625\n",
            "Accuracy  0.8\n",
            "F1 score  0.782908957529019\n",
            "Neighbours  30\n",
            "Test accuracy  0.8375\n",
            "Accuracy  0.785\n",
            "F1 score  0.7664325390872421\n",
            "Neighbours  35\n",
            "Test accuracy  0.81875\n",
            "Accuracy  0.78\n",
            "F1 score  0.7602191642395213\n",
            "Neighbours  40\n",
            "Test accuracy  0.8025\n",
            "Accuracy  0.75\n",
            "F1 score  0.7281866519985332\n",
            "Neighbours  45\n",
            "Test accuracy  0.79375\n",
            "Accuracy  0.745\n",
            "F1 score  0.7190156695156695\n"
          ],
          "name": "stdout"
        }
      ]
    },
    {
      "cell_type": "code",
      "metadata": {
        "colab": {
          "base_uri": "https://localhost:8080/",
          "height": 421
        },
        "id": "KcndYVyfPurx",
        "outputId": "8b6948ab-1462-4972-de17-119b2b928ee1"
      },
      "source": [
        "plt.figure(figsize=(10,6))\n",
        "\n",
        "plt.plot(krange,error_rate, color= 'blue', linestyle= 'dashed', marker= 'o', markerfacecolor='red', markersize=1)\n",
        "plt.title('Error Rate vs. K Value')\n",
        "plt.xlabel('K')\n",
        "plt.ylabel('Error Rate')"
      ],
      "execution_count": 72,
      "outputs": [
        {
          "output_type": "execute_result",
          "data": {
            "text/plain": [
              "Text(0, 0.5, 'Error Rate')"
            ]
          },
          "metadata": {
            "tags": []
          },
          "execution_count": 72
        },
        {
          "output_type": "display_data",
          "data": {
            "image/png": "[encoded data removed]",
            "text/plain": [
              "<Figure size 720x432 with 1 Axes>"
            ]
          },
          "metadata": {
            "tags": [],
            "needs_background": "light"
          }
        }
      ]
    },
    {
      "cell_type": "code",
      "metadata": {
        "id": "iq_BDRUZPzQ3"
      },
      "source": [
        "from sklearn.model_selection import GridSearchCV, RandomizedSearchCV"
      ],
      "execution_count": 73,
      "outputs": []
    },
    {
      "cell_type": "code",
      "metadata": {
        "colab": {
          "base_uri": "https://localhost:8080/"
        },
        "id": "3wHthe_yP2A1",
        "outputId": "1dfc4466-3866-48eb-d9dd-61496d8ba7e7"
      },
      "source": [
        "KNeighborsClassifier().get_params().keys()"
      ],
      "execution_count": 74,
      "outputs": [
        {
          "output_type": "execute_result",
          "data": {
            "text/plain": [
              "dict_keys(['algorithm', 'leaf_size', 'metric', 'metric_params', 'n_jobs', 'n_neighbors', 'p', 'weights'])"
            ]
          },
          "metadata": {
            "tags": []
          },
          "execution_count": 74
        }
      ]
    },
    {
      "cell_type": "code",
      "metadata": {
        "id": "1yXdlC9sP4Qd"
      },
      "source": [
        "grid_params = {\n",
        "    'weights' : ['uniform', 'distance'],\n",
        "    'metric' : ['manhattan','jaccard'] #haversine - if only lat long\n",
        "}"
      ],
      "execution_count": 75,
      "outputs": []
    },
    {
      "cell_type": "code",
      "metadata": {
        "id": "XtGLmK4EP6Si"
      },
      "source": [
        "randomSearch = RandomizedSearchCV(\n",
        "    KNeighborsClassifier(25),\n",
        "    grid_params,\n",
        "    verbose = 1,\n",
        "    cv =3,\n",
        "    random_state = 123\n",
        "    )"
      ],
      "execution_count": 76,
      "outputs": []
    },
    {
      "cell_type": "code",
      "metadata": {
        "colab": {
          "base_uri": "https://localhost:8080/"
        },
        "id": "e2rzWRq2P8Nq",
        "outputId": "83a5316a-f3e9-4fcf-e82b-03ef135e2e2f"
      },
      "source": [
        "rs_results = randomSearch.fit(X_train_gs, y_train_gs)"
      ],
      "execution_count": 77,
      "outputs": [
        {
          "output_type": "stream",
          "text": [
            "Fitting 3 folds for each of 4 candidates, totalling 12 fits\n"
          ],
          "name": "stdout"
        },
        {
          "output_type": "stream",
          "text": [
            "/usr/local/lib/python3.7/dist-packages/sklearn/model_selection/_search.py:281: UserWarning: The total space of parameters 4 is smaller than n_iter=10. Running 4 iterations. For exhaustive searches, use GridSearchCV.\n",
            "  % (grid_size, self.n_iter, grid_size), UserWarning)\n",
            "[Parallel(n_jobs=1)]: Using backend SequentialBackend with 1 concurrent workers.\n",
            "[Parallel(n_jobs=1)]: Done  12 out of  12 | elapsed:    0.1s finished\n"
          ],
          "name": "stderr"
        }
      ]
    },
    {
      "cell_type": "code",
      "metadata": {
        "colab": {
          "base_uri": "https://localhost:8080/"
        },
        "id": "n14d3zlXP-Rc",
        "outputId": "fd9615b5-c07f-43fa-a386-330da4f3bc8f"
      },
      "source": [
        "rs_results.best_score_"
      ],
      "execution_count": 78,
      "outputs": [
        {
          "output_type": "execute_result",
          "data": {
            "text/plain": [
              "0.8637699116705622"
            ]
          },
          "metadata": {
            "tags": []
          },
          "execution_count": 78
        }
      ]
    },
    {
      "cell_type": "code",
      "metadata": {
        "colab": {
          "base_uri": "https://localhost:8080/"
        },
        "id": "1V6HPrXDQA_u",
        "outputId": "ae3f25a6-0db4-4c8d-c779-5dda4bb91a65"
      },
      "source": [
        "rs_results.best_params_"
      ],
      "execution_count": 79,
      "outputs": [
        {
          "output_type": "execute_result",
          "data": {
            "text/plain": [
              "{'metric': 'manhattan', 'weights': 'distance'}"
            ]
          },
          "metadata": {
            "tags": []
          },
          "execution_count": 79
        }
      ]
    },
    {
      "cell_type": "code",
      "metadata": {
        "colab": {
          "base_uri": "https://localhost:8080/"
        },
        "id": "ZY9RDjHGQCtD",
        "outputId": "a2eeca61-038f-4f67-a67a-7c1a09063b3a"
      },
      "source": [
        "from imblearn.over_sampling import SMOTE"
      ],
      "execution_count": 80,
      "outputs": [
        {
          "output_type": "stream",
          "text": [
            "/usr/local/lib/python3.7/dist-packages/sklearn/externals/six.py:31: FutureWarning: The module is deprecated in version 0.21 and will be removed in version 0.23 since we've dropped support for Python 2.7. Please rely on the official version of six (https://pypi.org/project/six/).\n",
            "  \"(https://pypi.org/project/six/).\", FutureWarning)\n",
            "/usr/local/lib/python3.7/dist-packages/sklearn/utils/deprecation.py:144: FutureWarning: The sklearn.neighbors.base module is  deprecated in version 0.22 and will be removed in version 0.24. The corresponding classes / functions should instead be imported from sklearn.neighbors. Anything that cannot be imported from sklearn.neighbors is now part of the private API.\n",
            "  warnings.warn(message, FutureWarning)\n"
          ],
          "name": "stderr"
        }
      ]
    },
    {
      "cell_type": "code",
      "metadata": {
        "id": "LFl_o-w1QEXu"
      },
      "source": [
        "# Oversample 'Majority'\n",
        "sm = SMOTE('minority', random_state=123)"
      ],
      "execution_count": 81,
      "outputs": []
    },
    {
      "cell_type": "code",
      "metadata": {
        "colab": {
          "base_uri": "https://localhost:8080/"
        },
        "id": "UAMDbkcvQGk8",
        "outputId": "2c553916-59ff-446b-80bf-7b473b255ec5"
      },
      "source": [
        "X_train_res, y_train_res = sm.fit_sample(X_train_gs, y_train_gs)"
      ],
      "execution_count": 82,
      "outputs": [
        {
          "output_type": "stream",
          "text": [
            "/usr/local/lib/python3.7/dist-packages/sklearn/utils/deprecation.py:87: FutureWarning: Function safe_indexing is deprecated; safe_indexing is deprecated in version 0.22 and will be removed in version 0.24.\n",
            "  warnings.warn(msg, category=FutureWarning)\n"
          ],
          "name": "stderr"
        }
      ]
    },
    {
      "cell_type": "code",
      "metadata": {
        "id": "RgwMGemvQIdw"
      },
      "source": [
        "#convert back to Dataframe\n",
        "X_train_updated = pd.DataFrame(X_train_res, columns= selected_columns)\n",
        "y_train_updated = pd.Series(y_train_res)"
      ],
      "execution_count": 83,
      "outputs": []
    },
    {
      "cell_type": "code",
      "metadata": {
        "colab": {
          "base_uri": "https://localhost:8080/"
        },
        "id": "GyR2woD2QLij",
        "outputId": "1a801a54-34fb-4588-e151-fcaea9039f16"
      },
      "source": [
        "target_counts = y_train_updated.value_counts()\n",
        "target_counts"
      ],
      "execution_count": 84,
      "outputs": [
        {
          "output_type": "execute_result",
          "data": {
            "text/plain": [
              "THEFT                        305\n",
              "HUMAN_TRAFFICKING_OFFENSE    305\n",
              "NON-CRIMINAL_ASSAULT         190\n",
              "CRIMINAL_OFFENSE             126\n",
              "NARCOTIC_OFFENSE              80\n",
              "OTHER_OFFENSE                 70\n",
              "SEXUAL_OFFENSE                13\n",
              "WEAPONS_OFFENSE                9\n",
              "dtype: int64"
            ]
          },
          "metadata": {
            "tags": []
          },
          "execution_count": 84
        }
      ]
    },
    {
      "cell_type": "code",
      "metadata": {
        "id": "i5aoOdqSQNST"
      },
      "source": [
        "knn = KNeighborsClassifier(n_neighbors=25, metric='manhattan', weights = 'uniform')"
      ],
      "execution_count": 85,
      "outputs": []
    },
    {
      "cell_type": "code",
      "metadata": {
        "colab": {
          "base_uri": "https://localhost:8080/"
        },
        "id": "nm4Fm8oNQP2t",
        "outputId": "0ba5ae50-f94f-4d7a-aeb1-47f84af5250a"
      },
      "source": [
        "knn.fit(X_train_updated,y_train_updated)"
      ],
      "execution_count": 86,
      "outputs": [
        {
          "output_type": "execute_result",
          "data": {
            "text/plain": [
              "KNeighborsClassifier(algorithm='auto', leaf_size=30, metric='manhattan',\n",
              "                     metric_params=None, n_jobs=None, n_neighbors=25, p=2,\n",
              "                     weights='uniform')"
            ]
          },
          "metadata": {
            "tags": []
          },
          "execution_count": 86
        }
      ]
    },
    {
      "cell_type": "code",
      "metadata": {
        "id": "m5fkvNlPQR1z"
      },
      "source": [
        "pred_i = knn.predict(X_test)"
      ],
      "execution_count": 87,
      "outputs": []
    },
    {
      "cell_type": "code",
      "metadata": {
        "colab": {
          "base_uri": "https://localhost:8080/"
        },
        "id": "gkoBCbx0QTxY",
        "outputId": "bc26c534-5973-439a-c440-4deb252191e7"
      },
      "source": [
        "print('Accuracy ', metrics.accuracy_score(y_test, pred_i))\n",
        "print('F1 score ', metrics.f1_score(y_test, pred_i, average = 'weighted'))"
      ],
      "execution_count": 88,
      "outputs": [
        {
          "output_type": "stream",
          "text": [
            "Accuracy  0.76\n",
            "F1 score  0.7684423320937981\n"
          ],
          "name": "stdout"
        }
      ]
    },
    {
      "cell_type": "code",
      "metadata": {
        "id": "gwBn-48FQVdL"
      },
      "source": [
        "from imblearn.under_sampling import ClusterCentroids"
      ],
      "execution_count": 89,
      "outputs": []
    },
    {
      "cell_type": "code",
      "metadata": {
        "id": "YP--nIeWQaK_"
      },
      "source": [
        "# Undersample 'Majority'\n",
        "cc = ClusterCentroids(sampling_strategy = 'majority')"
      ],
      "execution_count": 90,
      "outputs": []
    },
    {
      "cell_type": "code",
      "metadata": {
        "colab": {
          "base_uri": "https://localhost:8080/"
        },
        "id": "ecffJuipQb7b",
        "outputId": "1799ed16-9737-486a-eda3-76a3d3c6eb72"
      },
      "source": [
        "X_cc, y_cc = cc.fit_sample(X_train_gs, y_train_gs)"
      ],
      "execution_count": 91,
      "outputs": [
        {
          "output_type": "stream",
          "text": [
            "/usr/local/lib/python3.7/dist-packages/sklearn/utils/deprecation.py:87: FutureWarning: Function safe_indexing is deprecated; safe_indexing is deprecated in version 0.22 and will be removed in version 0.24.\n",
            "  warnings.warn(msg, category=FutureWarning)\n",
            "/usr/local/lib/python3.7/dist-packages/sklearn/utils/deprecation.py:87: FutureWarning: Function safe_indexing is deprecated; safe_indexing is deprecated in version 0.22 and will be removed in version 0.24.\n",
            "  warnings.warn(msg, category=FutureWarning)\n"
          ],
          "name": "stderr"
        }
      ]
    },
    {
      "cell_type": "code",
      "metadata": {
        "id": "ZBBSTQJBQd5f"
      },
      "source": [
        "#convert back to Dataframe\n",
        "X_train_updated = pd.DataFrame(X_cc, columns= selected_columns)\n",
        "y_train_updated = pd.Series(y_cc)"
      ],
      "execution_count": 92,
      "outputs": []
    },
    {
      "cell_type": "code",
      "metadata": {
        "colab": {
          "base_uri": "https://localhost:8080/"
        },
        "id": "2LWTeycrQgTF",
        "outputId": "fdaa9614-4ec8-4b46-b7b8-07df8af5da92"
      },
      "source": [
        "target_counts = y_train_updated.value_counts()\n",
        "target_counts"
      ],
      "execution_count": 93,
      "outputs": [
        {
          "output_type": "execute_result",
          "data": {
            "text/plain": [
              "NON-CRIMINAL_ASSAULT         190\n",
              "CRIMINAL_OFFENSE             126\n",
              "NARCOTIC_OFFENSE              80\n",
              "OTHER_OFFENSE                 70\n",
              "SEXUAL_OFFENSE                13\n",
              "WEAPONS_OFFENSE                9\n",
              "THEFT                          7\n",
              "HUMAN_TRAFFICKING_OFFENSE      7\n",
              "dtype: int64"
            ]
          },
          "metadata": {
            "tags": []
          },
          "execution_count": 93
        }
      ]
    },
    {
      "cell_type": "code",
      "metadata": {
        "id": "MQuKKUhuQh5Q"
      },
      "source": [
        "knn = KNeighborsClassifier(n_neighbors=25, metric='manhattan', weights = 'uniform')"
      ],
      "execution_count": 94,
      "outputs": []
    },
    {
      "cell_type": "code",
      "metadata": {
        "colab": {
          "base_uri": "https://localhost:8080/"
        },
        "id": "UqtjHrkhQj-Y",
        "outputId": "a039a620-384a-4e83-d0bc-604bc3002a1f"
      },
      "source": [
        "knn.fit(X_train_updated,y_train_updated)"
      ],
      "execution_count": 95,
      "outputs": [
        {
          "output_type": "execute_result",
          "data": {
            "text/plain": [
              "KNeighborsClassifier(algorithm='auto', leaf_size=30, metric='manhattan',\n",
              "                     metric_params=None, n_jobs=None, n_neighbors=25, p=2,\n",
              "                     weights='uniform')"
            ]
          },
          "metadata": {
            "tags": []
          },
          "execution_count": 95
        }
      ]
    },
    {
      "cell_type": "code",
      "metadata": {
        "id": "6dvnSYZ9Ql1j"
      },
      "source": [
        "pred_i = knn.predict(X_test)"
      ],
      "execution_count": 96,
      "outputs": []
    },
    {
      "cell_type": "code",
      "metadata": {
        "colab": {
          "base_uri": "https://localhost:8080/"
        },
        "id": "cuf3v-EbQoth",
        "outputId": "21c20083-839b-445f-9846-9663fd692a72"
      },
      "source": [
        "print('Accuracy ', metrics.accuracy_score(y_test, pred_i))\n",
        "print('F1 score ', metrics.f1_score(y_test, pred_i, average = 'weighted'))"
      ],
      "execution_count": 97,
      "outputs": [
        {
          "output_type": "stream",
          "text": [
            "Accuracy  0.625\n",
            "F1 score  0.5024442096867258\n"
          ],
          "name": "stdout"
        }
      ]
    },
    {
      "cell_type": "code",
      "metadata": {
        "id": "7Vd93uZeQrqh"
      },
      "source": [
        "from imblearn.over_sampling import RandomOverSampler\n",
        "from imblearn.under_sampling import RandomUnderSampler"
      ],
      "execution_count": 98,
      "outputs": []
    },
    {
      "cell_type": "code",
      "metadata": {
        "id": "Y7GsIEgGQt9L"
      },
      "source": [
        "# define oversampling strategy\n",
        "over = RandomOverSampler(sampling_strategy= 'minority')"
      ],
      "execution_count": 99,
      "outputs": []
    },
    {
      "cell_type": "code",
      "metadata": {
        "colab": {
          "base_uri": "https://localhost:8080/"
        },
        "id": "XVKUy_RZQvti",
        "outputId": "e1d6a56c-b32e-4c3c-fe23-b869beebe04b"
      },
      "source": [
        "# fit and apply the transform\n",
        "X_random, y_random = over.fit_resample(X_train_gs, y_train_gs)"
      ],
      "execution_count": 100,
      "outputs": [
        {
          "output_type": "stream",
          "text": [
            "/usr/local/lib/python3.7/dist-packages/sklearn/utils/deprecation.py:87: FutureWarning: Function safe_indexing is deprecated; safe_indexing is deprecated in version 0.22 and will be removed in version 0.24.\n",
            "  warnings.warn(msg, category=FutureWarning)\n"
          ],
          "name": "stderr"
        }
      ]
    },
    {
      "cell_type": "code",
      "metadata": {
        "id": "TmCJNKWlQxkv"
      },
      "source": [
        "#convert back to Dataframe\n",
        "X_train_updated = pd.DataFrame(X_random, columns= selected_columns)\n",
        "y_train_updated = pd.Series(y_random)"
      ],
      "execution_count": 101,
      "outputs": []
    },
    {
      "cell_type": "code",
      "metadata": {
        "colab": {
          "base_uri": "https://localhost:8080/"
        },
        "id": "DoPFmp-jQzPy",
        "outputId": "e80a5ae1-e49e-429d-cce9-3cc39b6b0c4a"
      },
      "source": [
        "target_counts_random = y_train_updated.value_counts()\n",
        "target_counts_random"
      ],
      "execution_count": 102,
      "outputs": [
        {
          "output_type": "execute_result",
          "data": {
            "text/plain": [
              "THEFT                        305\n",
              "HUMAN_TRAFFICKING_OFFENSE    305\n",
              "NON-CRIMINAL_ASSAULT         190\n",
              "CRIMINAL_OFFENSE             126\n",
              "NARCOTIC_OFFENSE              80\n",
              "OTHER_OFFENSE                 70\n",
              "SEXUAL_OFFENSE                13\n",
              "WEAPONS_OFFENSE                9\n",
              "dtype: int64"
            ]
          },
          "metadata": {
            "tags": []
          },
          "execution_count": 102
        }
      ]
    },
    {
      "cell_type": "code",
      "metadata": {
        "id": "gXW-NhztQ1JV"
      },
      "source": [
        "knn = KNeighborsClassifier(n_neighbors=25, metric='manhattan', weights = 'uniform')"
      ],
      "execution_count": 103,
      "outputs": []
    },
    {
      "cell_type": "code",
      "metadata": {
        "colab": {
          "base_uri": "https://localhost:8080/"
        },
        "id": "GRxQ61xUQ3WR",
        "outputId": "d9ff4035-f585-45a7-a649-f3c9bbce200c"
      },
      "source": [
        "knn.fit(X_train_updated,y_train_updated)"
      ],
      "execution_count": 104,
      "outputs": [
        {
          "output_type": "execute_result",
          "data": {
            "text/plain": [
              "KNeighborsClassifier(algorithm='auto', leaf_size=30, metric='manhattan',\n",
              "                     metric_params=None, n_jobs=None, n_neighbors=25, p=2,\n",
              "                     weights='uniform')"
            ]
          },
          "metadata": {
            "tags": []
          },
          "execution_count": 104
        }
      ]
    },
    {
      "cell_type": "code",
      "metadata": {
        "id": "ie8Trr7RQ427"
      },
      "source": [
        "pred_i = knn.predict(X_test)"
      ],
      "execution_count": 105,
      "outputs": []
    },
    {
      "cell_type": "code",
      "metadata": {
        "colab": {
          "base_uri": "https://localhost:8080/"
        },
        "id": "urSo9QmQQ6rK",
        "outputId": "15dfa328-88ff-4507-f685-fbf4fbada19f"
      },
      "source": [
        "print('Accuracy ', metrics.accuracy_score(y_test, pred_i))\n",
        "print('F1 score ', metrics.f1_score(y_test, pred_i, average = 'weighted'))"
      ],
      "execution_count": 106,
      "outputs": [
        {
          "output_type": "stream",
          "text": [
            "Accuracy  0.76\n",
            "F1 score  0.7669423320937981\n"
          ],
          "name": "stdout"
        }
      ]
    },
    {
      "cell_type": "code",
      "metadata": {
        "id": "FGXbg-7hQ8yE"
      },
      "source": [
        "# define undersampling strategy\n",
        "under = RandomUnderSampler(sampling_strategy= 'majority')"
      ],
      "execution_count": 107,
      "outputs": []
    },
    {
      "cell_type": "code",
      "metadata": {
        "colab": {
          "base_uri": "https://localhost:8080/"
        },
        "id": "lXofjVwWQ_-c",
        "outputId": "7f1b3060-5fa2-4500-9e64-0c74939f5114"
      },
      "source": [
        "# fit and apply the transform\n",
        "X_train_updated, y_train_updated = under.fit_resample(X_train_gs, y_train_gs)"
      ],
      "execution_count": 108,
      "outputs": [
        {
          "output_type": "stream",
          "text": [
            "/usr/local/lib/python3.7/dist-packages/sklearn/utils/deprecation.py:87: FutureWarning: Function safe_indexing is deprecated; safe_indexing is deprecated in version 0.22 and will be removed in version 0.24.\n",
            "  warnings.warn(msg, category=FutureWarning)\n"
          ],
          "name": "stderr"
        }
      ]
    },
    {
      "cell_type": "code",
      "metadata": {
        "colab": {
          "base_uri": "https://localhost:8080/"
        },
        "id": "IfT1tPtkRBvf",
        "outputId": "2086bdeb-d399-4f1a-eac9-1c778d1a9dd0"
      },
      "source": [
        "y_train_updated = pd.Series(y_train_updated)\n",
        "target_counts_random = y_train_gs.value_counts()\n",
        "target_counts_random"
      ],
      "execution_count": 109,
      "outputs": [
        {
          "output_type": "execute_result",
          "data": {
            "text/plain": [
              "THEFT                        305\n",
              "NON-CRIMINAL_ASSAULT         190\n",
              "CRIMINAL_OFFENSE             126\n",
              "NARCOTIC_OFFENSE              80\n",
              "OTHER_OFFENSE                 70\n",
              "SEXUAL_OFFENSE                13\n",
              "WEAPONS_OFFENSE                9\n",
              "HUMAN_TRAFFICKING_OFFENSE      7\n",
              "Name: primary_type_grouped, dtype: int64"
            ]
          },
          "metadata": {
            "tags": []
          },
          "execution_count": 109
        }
      ]
    },
    {
      "cell_type": "code",
      "metadata": {
        "id": "VFH-sl8gREBx"
      },
      "source": [
        "knn = KNeighborsClassifier(n_neighbors=25, metric='manhattan', weights = 'uniform')"
      ],
      "execution_count": 110,
      "outputs": []
    },
    {
      "cell_type": "code",
      "metadata": {
        "colab": {
          "base_uri": "https://localhost:8080/"
        },
        "id": "118cLjxHRGpn",
        "outputId": "1c84ec15-0a01-4d87-fe97-5d736be24055"
      },
      "source": [
        "knn.fit(X_train_updated,y_train_updated)"
      ],
      "execution_count": 111,
      "outputs": [
        {
          "output_type": "execute_result",
          "data": {
            "text/plain": [
              "KNeighborsClassifier(algorithm='auto', leaf_size=30, metric='manhattan',\n",
              "                     metric_params=None, n_jobs=None, n_neighbors=25, p=2,\n",
              "                     weights='uniform')"
            ]
          },
          "metadata": {
            "tags": []
          },
          "execution_count": 111
        }
      ]
    },
    {
      "cell_type": "code",
      "metadata": {
        "id": "Oa189sQfRIQ4"
      },
      "source": [
        "pred_i = knn.predict(X_test)"
      ],
      "execution_count": 112,
      "outputs": []
    },
    {
      "cell_type": "code",
      "metadata": {
        "colab": {
          "base_uri": "https://localhost:8080/"
        },
        "id": "HTPHN-EdRKZp",
        "outputId": "27a45f31-27e8-41e7-9ace-7aac7549dfeb"
      },
      "source": [
        "print('Accuracy ', metrics.accuracy_score(y_test, pred_i))\n",
        "print('F1 score ', metrics.f1_score(y_test, pred_i, average = 'weighted'))"
      ],
      "execution_count": 113,
      "outputs": [
        {
          "output_type": "stream",
          "text": [
            "Accuracy  0.625\n",
            "F1 score  0.5024442096867258\n"
          ],
          "name": "stdout"
        }
      ]
    },
    {
      "cell_type": "code",
      "metadata": {
        "id": "Xxq0_-0URMTV"
      },
      "source": [
        "from sklearn.ensemble import VotingClassifier\n",
        "from sklearn.ensemble import RandomForestClassifier\n",
        "from sklearn.svm import SVC\n",
        "from sklearn.linear_model import LogisticRegression"
      ],
      "execution_count": 114,
      "outputs": []
    },
    {
      "cell_type": "code",
      "metadata": {
        "id": "fPxMjS7GROS0"
      },
      "source": [
        "#KNN with - 25 neighbours\n",
        "knn = KNeighborsClassifier(25, metric='manhattan', weights = 'uniform',n_jobs= -1)\n",
        "\n",
        "#random forest with 75 Decision Trees\n",
        "rf = RandomForestClassifier(10, max_depth = 10, n_jobs= -1)\n",
        "\n",
        "#Support Vector Classifier\n",
        "svm = SVC(kernel = 'linear', random_state = 123, probability=True)"
      ],
      "execution_count": 115,
      "outputs": []
    },
    {
      "cell_type": "code",
      "metadata": {
        "colab": {
          "base_uri": "https://localhost:8080/"
        },
        "id": "L34LufeJRQqK",
        "outputId": "5556235e-18ce-4980-e704-cdb574cb40d2"
      },
      "source": [
        "# can using previopusly trained KNN as well\n",
        "knn.fit(X_train_gs,y_train_gs)"
      ],
      "execution_count": 116,
      "outputs": [
        {
          "output_type": "execute_result",
          "data": {
            "text/plain": [
              "KNeighborsClassifier(algorithm='auto', leaf_size=30, metric='manhattan',\n",
              "                     metric_params=None, n_jobs=-1, n_neighbors=25, p=2,\n",
              "                     weights='uniform')"
            ]
          },
          "metadata": {
            "tags": []
          },
          "execution_count": 116
        }
      ]
    },
    {
      "cell_type": "code",
      "metadata": {
        "colab": {
          "base_uri": "https://localhost:8080/"
        },
        "id": "agEucEARRUvx",
        "outputId": "a0f79171-4b69-4d4a-fe25-adcafbf1040f"
      },
      "source": [
        "rf.fit(X_train_gs,y_train_gs)"
      ],
      "execution_count": 117,
      "outputs": [
        {
          "output_type": "execute_result",
          "data": {
            "text/plain": [
              "RandomForestClassifier(bootstrap=True, ccp_alpha=0.0, class_weight=None,\n",
              "                       criterion='gini', max_depth=10, max_features='auto',\n",
              "                       max_leaf_nodes=None, max_samples=None,\n",
              "                       min_impurity_decrease=0.0, min_impurity_split=None,\n",
              "                       min_samples_leaf=1, min_samples_split=2,\n",
              "                       min_weight_fraction_leaf=0.0, n_estimators=10, n_jobs=-1,\n",
              "                       oob_score=False, random_state=None, verbose=0,\n",
              "                       warm_start=False)"
            ]
          },
          "metadata": {
            "tags": []
          },
          "execution_count": 117
        }
      ]
    },
    {
      "cell_type": "code",
      "metadata": {
        "colab": {
          "base_uri": "https://localhost:8080/"
        },
        "id": "vlG_9IhkRW0I",
        "outputId": "0c5c8e6f-7979-4ce0-9f64-d4994caac88e"
      },
      "source": [
        "rf.score(X_test, y_test)"
      ],
      "execution_count": 118,
      "outputs": [
        {
          "output_type": "execute_result",
          "data": {
            "text/plain": [
              "0.945"
            ]
          },
          "metadata": {
            "tags": []
          },
          "execution_count": 118
        }
      ]
    },
    {
      "cell_type": "code",
      "metadata": {
        "colab": {
          "base_uri": "https://localhost:8080/"
        },
        "id": "hup-Y3imRZE8",
        "outputId": "6e51f39f-9896-4caf-daba-5b7c22d9ab6f"
      },
      "source": [
        "#create a dictionary of our models\n",
        "estimators=[('knn', knn), ('rf', rf), ('svm', svm)]\n",
        "#create our voting classifier, inputting our models\n",
        "ensemble = VotingClassifier(estimators, voting='hard')\n",
        "ensemble"
      ],
      "execution_count": 120,
      "outputs": [
        {
          "output_type": "execute_result",
          "data": {
            "text/plain": [
              "VotingClassifier(estimators=[('knn',\n",
              "                              KNeighborsClassifier(algorithm='auto',\n",
              "                                                   leaf_size=30,\n",
              "                                                   metric='manhattan',\n",
              "                                                   metric_params=None,\n",
              "                                                   n_jobs=-1, n_neighbors=25,\n",
              "                                                   p=2, weights='uniform')),\n",
              "                             ('rf',\n",
              "                              RandomForestClassifier(bootstrap=True,\n",
              "                                                     ccp_alpha=0.0,\n",
              "                                                     class_weight=None,\n",
              "                                                     criterion='gini',\n",
              "                                                     max_depth=10,\n",
              "                                                     max_features='auto',\n",
              "                                                     max_leaf_nodes=None,\n",
              "                                                     max_samples=None,\n",
              "                                                     min_impurity_...\n",
              "                                                     oob_score=False,\n",
              "                                                     random_state=None,\n",
              "                                                     verbose=0,\n",
              "                                                     warm_start=False)),\n",
              "                             ('svm',\n",
              "                              SVC(C=1.0, break_ties=False, cache_size=200,\n",
              "                                  class_weight=None, coef0=0.0,\n",
              "                                  decision_function_shape='ovr', degree=3,\n",
              "                                  gamma='scale', kernel='linear', max_iter=-1,\n",
              "                                  probability=True, random_state=123,\n",
              "                                  shrinking=True, tol=0.001, verbose=False))],\n",
              "                 flatten_transform=True, n_jobs=None, voting='hard',\n",
              "                 weights=None)"
            ]
          },
          "metadata": {
            "tags": []
          },
          "execution_count": 120
        }
      ]
    },
    {
      "cell_type": "code",
      "metadata": {
        "id": "37QjFNz9RbrD"
      },
      "source": [
        ""
      ],
      "execution_count": null,
      "outputs": []
    }
  ]
}