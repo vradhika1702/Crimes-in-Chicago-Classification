{
  "nbformat": 4,
  "nbformat_minor": 0,
  "metadata": {
    "colab": {
      "name": "Knn-model-classification.ipynb",
      "provenance": []
    },
    "kernelspec": {
      "name": "python3",
      "display_name": "Python 3"
    },
    "language_info": {
      "name": "python"
    }
  },
  "cells": [
    {
      "cell_type": "code",
      "metadata": {
        "id": "BTbvyTKe4zFH"
      },
      "source": [
        "import os"
      ],
      "execution_count": 9,
      "outputs": []
    },
    {
      "cell_type": "code",
      "metadata": {
        "colab": {
          "base_uri": "https://localhost:8080/"
        },
        "id": "TyFneOY444jP",
        "outputId": "9b16bdec-688a-4284-b106-9cc9b63abd31"
      },
      "source": [
        "!pip install findspark\n",
        "!pip install pyspark\n",
        "import findspark\n",
        "from pyspark.sql import SparkSession"
      ],
      "execution_count": 10,
      "outputs": [
        {
          "output_type": "stream",
          "text": [
            "Requirement already satisfied: findspark in /usr/local/lib/python3.7/dist-packages (1.4.2)\n",
            "Requirement already satisfied: pyspark in /usr/local/lib/python3.7/dist-packages (3.1.1)\n",
            "Requirement already satisfied: py4j==0.10.9 in /usr/local/lib/python3.7/dist-packages (from pyspark) (0.10.9)\n"
          ],
          "name": "stdout"
        }
      ]
    },
    {
      "cell_type": "code",
      "metadata": {
        "colab": {
          "base_uri": "https://localhost:8080/"
        },
        "id": "HQd7giz849zR",
        "outputId": "7b05ef1b-fe4b-459d-8341-4a0ea519065d"
      },
      "source": [
        "!pip install pyspark\n",
        "from pyspark import SparkContext\n",
        "from pyspark.sql import SparkSession\n",
        "from pyspark.sql import DataFrame\n",
        "import csv\n",
        "from pyspark.sql.types import *\n",
        "from pyspark.sql.functions import format_number, when\n",
        "import pyspark.sql.functions as F"
      ],
      "execution_count": 11,
      "outputs": [
        {
          "output_type": "stream",
          "text": [
            "Requirement already satisfied: pyspark in /usr/local/lib/python3.7/dist-packages (3.1.1)\n",
            "Requirement already satisfied: py4j==0.10.9 in /usr/local/lib/python3.7/dist-packages (from pyspark) (0.10.9)\n"
          ],
          "name": "stdout"
        }
      ]
    },
    {
      "cell_type": "code",
      "metadata": {
        "id": "Xom9KXGV5yMw"
      },
      "source": [
        "import pandas as pd\n",
        "import matplotlib.pyplot as plt\n",
        "import seaborn as sns\n",
        "import numpy as np\n",
        "\n",
        "from sklearn.model_selection import train_test_split, cross_val_score\n",
        "from sklearn.neighbors import KNeighborsClassifier\n",
        "from sklearn import metrics\n",
        "from sklearn.preprocessing import StandardScaler\n",
        "from sklearn.preprocessing import LabelEncoder"
      ],
      "execution_count": 12,
      "outputs": []
    },
    {
      "cell_type": "code",
      "metadata": {
        "colab": {
          "base_uri": "https://localhost:8080/",
          "height": 37
        },
        "id": "6qFmimCP53X9",
        "outputId": "42997da4-a2cf-4492-ef75-9df3111412f9"
      },
      "source": [
        "import tensorflow as tf\n",
        "tf.test.gpu_device_name()"
      ],
      "execution_count": 13,
      "outputs": [
        {
          "output_type": "execute_result",
          "data": {
            "application/vnd.google.colaboratory.intrinsic+json": {
              "type": "string"
            },
            "text/plain": [
              "''"
            ]
          },
          "metadata": {
            "tags": []
          },
          "execution_count": 13
        }
      ]
    },
    {
      "cell_type": "code",
      "metadata": {
        "id": "7yuBmItv56Bc"
      },
      "source": [
        "crime_data = pd.read_csv('/content/Chicago_Crime_Processed_Data.csv')"
      ],
      "execution_count": 15,
      "outputs": []
    },
    {
      "cell_type": "code",
      "metadata": {
        "colab": {
          "base_uri": "https://localhost:8080/",
          "height": 292
        },
        "id": "QeYmcwG-6lDq",
        "outputId": "47a2d73c-9240-4d0e-ec00-7e141335ddeb"
      },
      "source": [
        "crime_data.head()"
      ],
      "execution_count": 16,
      "outputs": [
        {
          "output_type": "execute_result",
          "data": {
            "text/html": [
              "<div>\n",
              "<style scoped>\n",
              "    .dataframe tbody tr th:only-of-type {\n",
              "        vertical-align: middle;\n",
              "    }\n",
              "\n",
              "    .dataframe tbody tr th {\n",
              "        vertical-align: top;\n",
              "    }\n",
              "\n",
              "    .dataframe thead th {\n",
              "        text-align: right;\n",
              "    }\n",
              "</style>\n",
              "<table border=\"1\" class=\"dataframe\">\n",
              "  <thead>\n",
              "    <tr style=\"text-align: right;\">\n",
              "      <th></th>\n",
              "      <th>IUCR</th>\n",
              "      <th>Description</th>\n",
              "      <th>Location Description</th>\n",
              "      <th>Arrest</th>\n",
              "      <th>Domestic</th>\n",
              "      <th>Beat</th>\n",
              "      <th>District</th>\n",
              "      <th>Ward</th>\n",
              "      <th>Community Area</th>\n",
              "      <th>FBI Code</th>\n",
              "      <th>Year</th>\n",
              "      <th>Latitude</th>\n",
              "      <th>Longitude</th>\n",
              "      <th>Month</th>\n",
              "      <th>Day_num</th>\n",
              "      <th>Time</th>\n",
              "      <th>day_of_week</th>\n",
              "      <th>primary_type_grouped</th>\n",
              "      <th>zone</th>\n",
              "      <th>Count_CrimeType_Column</th>\n",
              "    </tr>\n",
              "  </thead>\n",
              "  <tbody>\n",
              "    <tr>\n",
              "      <th>0</th>\n",
              "      <td>0486</td>\n",
              "      <td>DOMESTIC BATTERY SIMPLE</td>\n",
              "      <td>RESIDENCE</td>\n",
              "      <td>False</td>\n",
              "      <td>True</td>\n",
              "      <td>924</td>\n",
              "      <td>9.0</td>\n",
              "      <td>12.0</td>\n",
              "      <td>61.0</td>\n",
              "      <td>08B</td>\n",
              "      <td>2015</td>\n",
              "      <td>41.815117</td>\n",
              "      <td>-87.670000</td>\n",
              "      <td>9</td>\n",
              "      <td>5</td>\n",
              "      <td>13</td>\n",
              "      <td>Saturday</td>\n",
              "      <td>NON-CRIMINAL_ASSAULT</td>\n",
              "      <td>South</td>\n",
              "      <td>1640154.0</td>\n",
              "    </tr>\n",
              "    <tr>\n",
              "      <th>1</th>\n",
              "      <td>0870</td>\n",
              "      <td>POCKET-PICKING</td>\n",
              "      <td>CTA BUS</td>\n",
              "      <td>False</td>\n",
              "      <td>False</td>\n",
              "      <td>1511</td>\n",
              "      <td>15.0</td>\n",
              "      <td>29.0</td>\n",
              "      <td>25.0</td>\n",
              "      <td>06</td>\n",
              "      <td>2015</td>\n",
              "      <td>41.895080</td>\n",
              "      <td>-87.765400</td>\n",
              "      <td>9</td>\n",
              "      <td>4</td>\n",
              "      <td>11</td>\n",
              "      <td>Friday</td>\n",
              "      <td>THEFT</td>\n",
              "      <td>North</td>\n",
              "      <td>2327482.0</td>\n",
              "    </tr>\n",
              "    <tr>\n",
              "      <th>2</th>\n",
              "      <td>2023</td>\n",
              "      <td>POSS: HEROIN(BRN/TAN)</td>\n",
              "      <td>SIDEWALK</td>\n",
              "      <td>True</td>\n",
              "      <td>False</td>\n",
              "      <td>1412</td>\n",
              "      <td>14.0</td>\n",
              "      <td>35.0</td>\n",
              "      <td>21.0</td>\n",
              "      <td>18</td>\n",
              "      <td>2015</td>\n",
              "      <td>41.937406</td>\n",
              "      <td>-87.716650</td>\n",
              "      <td>9</td>\n",
              "      <td>5</td>\n",
              "      <td>12</td>\n",
              "      <td>Saturday</td>\n",
              "      <td>NARCOTIC_OFFENSE</td>\n",
              "      <td>West</td>\n",
              "      <td>661033.0</td>\n",
              "    </tr>\n",
              "    <tr>\n",
              "      <th>3</th>\n",
              "      <td>0560</td>\n",
              "      <td>SIMPLE</td>\n",
              "      <td>APARTMENT</td>\n",
              "      <td>False</td>\n",
              "      <td>True</td>\n",
              "      <td>1522</td>\n",
              "      <td>15.0</td>\n",
              "      <td>28.0</td>\n",
              "      <td>25.0</td>\n",
              "      <td>08A</td>\n",
              "      <td>2015</td>\n",
              "      <td>41.881903</td>\n",
              "      <td>-87.755121</td>\n",
              "      <td>9</td>\n",
              "      <td>5</td>\n",
              "      <td>13</td>\n",
              "      <td>Saturday</td>\n",
              "      <td>NON-CRIMINAL_ASSAULT</td>\n",
              "      <td>North</td>\n",
              "      <td>1640154.0</td>\n",
              "    </tr>\n",
              "    <tr>\n",
              "      <th>4</th>\n",
              "      <td>0610</td>\n",
              "      <td>FORCIBLE ENTRY</td>\n",
              "      <td>RESIDENCE</td>\n",
              "      <td>False</td>\n",
              "      <td>False</td>\n",
              "      <td>614</td>\n",
              "      <td>6.0</td>\n",
              "      <td>21.0</td>\n",
              "      <td>71.0</td>\n",
              "      <td>05</td>\n",
              "      <td>2015</td>\n",
              "      <td>41.744379</td>\n",
              "      <td>-87.658431</td>\n",
              "      <td>9</td>\n",
              "      <td>5</td>\n",
              "      <td>10</td>\n",
              "      <td>Saturday</td>\n",
              "      <td>THEFT</td>\n",
              "      <td>South</td>\n",
              "      <td>2327482.0</td>\n",
              "    </tr>\n",
              "  </tbody>\n",
              "</table>\n",
              "</div>"
            ],
            "text/plain": [
              "   IUCR              Description  ...   zone  Count_CrimeType_Column\n",
              "0  0486  DOMESTIC BATTERY SIMPLE  ...  South               1640154.0\n",
              "1  0870           POCKET-PICKING  ...  North               2327482.0\n",
              "2  2023    POSS: HEROIN(BRN/TAN)  ...   West                661033.0\n",
              "3  0560                   SIMPLE  ...  North               1640154.0\n",
              "4  0610           FORCIBLE ENTRY  ...  South               2327482.0\n",
              "\n",
              "[5 rows x 20 columns]"
            ]
          },
          "metadata": {
            "tags": []
          },
          "execution_count": 16
        }
      ]
    },
    {
      "cell_type": "code",
      "metadata": {
        "colab": {
          "base_uri": "https://localhost:8080/"
        },
        "id": "roskNfK36sOC",
        "outputId": "4c725288-b289-497f-bb7e-f77bf51eb9f7"
      },
      "source": [
        "crime_data.columns"
      ],
      "execution_count": 17,
      "outputs": [
        {
          "output_type": "execute_result",
          "data": {
            "text/plain": [
              "Index(['IUCR', 'Description', 'Location Description', 'Arrest', 'Domestic',\n",
              "       'Beat', 'District', 'Ward', 'Community Area', 'FBI Code', 'Year',\n",
              "       'Latitude', 'Longitude', 'Month', 'Day_num', 'Time', 'day_of_week',\n",
              "       'primary_type_grouped', 'zone', 'Count_CrimeType_Column'],\n",
              "      dtype='object')"
            ]
          },
          "metadata": {
            "tags": []
          },
          "execution_count": 17
        }
      ]
    },
    {
      "cell_type": "code",
      "metadata": {
        "id": "2VaJfeuh66U6"
      },
      "source": [
        "primaryVisualizeDF = crime_data.groupby('primary_type_grouped').size()"
      ],
      "execution_count": 18,
      "outputs": []
    },
    {
      "cell_type": "code",
      "metadata": {
        "colab": {
          "base_uri": "https://localhost:8080/",
          "height": 705
        },
        "id": "mxagdCqF7zec",
        "outputId": "1af3a57f-129e-4034-e6d9-d1bc268be12b"
      },
      "source": [
        "primaryVisualizeDF.plot.pie(figsize = (15,15))\n",
        "plt.xlabel('primary_type_grouped', fontsize=10, color = 'red')\n",
        "plt.legend()"
      ],
      "execution_count": 19,
      "outputs": [
        {
          "output_type": "execute_result",
          "data": {
            "text/plain": [
              "<matplotlib.legend.Legend at 0x7fe79f8fec10>"
            ]
          },
          "metadata": {
            "tags": []
          },
          "execution_count": 19
        },
        {
          "output_type": "display_data",
          "data": {
            "image/png": "[encoded data removed]",
            "text/plain": [
              "<Figure size 1080x1080 with 1 Axes>"
            ]
          },
          "metadata": {
            "tags": []
          }
        }
      ]
    },
    {
      "cell_type": "code",
      "metadata": {
        "id": "9-nBYOCK73Pg"
      },
      "source": [
        "data = crime_data.replace(to_replace='None', value=np.nan).dropna()"
      ],
      "execution_count": 20,
      "outputs": []
    },
    {
      "cell_type": "code",
      "metadata": {
        "id": "ot_yeQTw7-GW"
      },
      "source": [
        "# create an instance of label encoder for categorical variables\n",
        "labelEncoder = LabelEncoder()"
      ],
      "execution_count": 21,
      "outputs": []
    },
    {
      "cell_type": "code",
      "metadata": {
        "colab": {
          "base_uri": "https://localhost:8080/"
        },
        "id": "jRn1H6eT8B2S",
        "outputId": "b1fc8451-f9ca-4e4e-e8b7-08f756ef6ca0"
      },
      "source": [
        "primaryEncoded = labelEncoder.fit_transform(data['District'])\n",
        "primaryEncoded"
      ],
      "execution_count": 22,
      "outputs": [
        {
          "output_type": "execute_result",
          "data": {
            "text/plain": [
              "array([ 8, 13, 12, ..., 19, 14, 10])"
            ]
          },
          "metadata": {
            "tags": []
          },
          "execution_count": 22
        }
      ]
    },
    {
      "cell_type": "code",
      "metadata": {
        "id": "Rf3KemfH8Dx_"
      },
      "source": [
        "data['District'] = primaryEncoded"
      ],
      "execution_count": 23,
      "outputs": []
    },
    {
      "cell_type": "code",
      "metadata": {
        "id": "x3dvxGlg8Gde"
      },
      "source": [
        "# create an instance of label encoder for categorical variables\n",
        "labelEncoder2 = LabelEncoder()"
      ],
      "execution_count": 24,
      "outputs": []
    },
    {
      "cell_type": "code",
      "metadata": {
        "colab": {
          "base_uri": "https://localhost:8080/"
        },
        "id": "CIK-D5ZD8Icw",
        "outputId": "44c5785b-982c-426d-9c47-81a3d394769b"
      },
      "source": [
        "locDiscEncoded = labelEncoder2.fit_transform(data['Ward'])\n",
        "locDiscEncoded"
      ],
      "execution_count": 25,
      "outputs": [
        {
          "output_type": "execute_result",
          "data": {
            "text/plain": [
              "array([11, 28, 34, ..., 20, 44, 23])"
            ]
          },
          "metadata": {
            "tags": []
          },
          "execution_count": 25
        }
      ]
    },
    {
      "cell_type": "code",
      "metadata": {
        "id": "Lad51Auk8LpI"
      },
      "source": [
        "data['Ward'] = locDiscEncoded"
      ],
      "execution_count": 26,
      "outputs": []
    },
    {
      "cell_type": "code",
      "metadata": {
        "id": "Rsnqh6wa8Nps"
      },
      "source": [
        "# create an instance of label encoder for categorical variables\n",
        "labelEncoder3 = LabelEncoder()"
      ],
      "execution_count": 27,
      "outputs": []
    },
    {
      "cell_type": "code",
      "metadata": {
        "colab": {
          "base_uri": "https://localhost:8080/"
        },
        "id": "NL7Kg1cR8Pks",
        "outputId": "9f9cd574-87aa-4222-bd00-41747ae076c2"
      },
      "source": [
        "communityEncoded = labelEncoder3.fit_transform(data['Community Area'])\n",
        "communityEncoded"
      ],
      "execution_count": 28,
      "outputs": [
        {
          "output_type": "execute_result",
          "data": {
            "text/plain": [
              "array([60, 24, 20, ..., 72, 10, 25])"
            ]
          },
          "metadata": {
            "tags": []
          },
          "execution_count": 28
        }
      ]
    },
    {
      "cell_type": "code",
      "metadata": {
        "id": "DFEo4CLI8Rto"
      },
      "source": [
        "data['Community Area'] = locDiscEncoded"
      ],
      "execution_count": 29,
      "outputs": []
    },
    {
      "cell_type": "code",
      "metadata": {
        "id": "t_O8flK4zwCE"
      },
      "source": [
        "# create an instance of label encoder for categorical variables\n",
        "labelEncoder4 = LabelEncoder()"
      ],
      "execution_count": 30,
      "outputs": []
    },
    {
      "cell_type": "code",
      "metadata": {
        "colab": {
          "base_uri": "https://localhost:8080/"
        },
        "id": "f_E_AvX7z1db",
        "outputId": "b2cebdab-fee8-476f-8dea-c60208d9a489"
      },
      "source": [
        "latitudeEncoded = labelEncoder4.fit_transform(data['Latitude'])\n",
        "latitudeEncoded"
      ],
      "execution_count": 31,
      "outputs": [
        {
          "output_type": "execute_result",
          "data": {
            "text/plain": [
              "array([31212, 48612, 60668, ...,  6143, 68843, 40861])"
            ]
          },
          "metadata": {
            "tags": []
          },
          "execution_count": 31
        }
      ]
    },
    {
      "cell_type": "code",
      "metadata": {
        "id": "DuZPMoRVz2C8"
      },
      "source": [
        "data['Latitude'] = locDiscEncoded"
      ],
      "execution_count": 32,
      "outputs": []
    },
    {
      "cell_type": "code",
      "metadata": {
        "id": "iMM2uZ_F0cYM"
      },
      "source": [
        "# create an instance of label encoder for categorical variables\n",
        "labelEncoder5 = LabelEncoder()"
      ],
      "execution_count": 33,
      "outputs": []
    },
    {
      "cell_type": "code",
      "metadata": {
        "colab": {
          "base_uri": "https://localhost:8080/"
        },
        "id": "O98-7p8U0czF",
        "outputId": "83bbe46d-a721-4006-9cd1-837ab2f508d8"
      },
      "source": [
        "longitudeEncoded = labelEncoder5.fit_transform(data['Longitude'])\n",
        "longitudeEncoded"
      ],
      "execution_count": 34,
      "outputs": [
        {
          "output_type": "execute_result",
          "data": {
            "text/plain": [
              "array([36706,  4626, 18403, ..., 51955,  3954, 11340])"
            ]
          },
          "metadata": {
            "tags": []
          },
          "execution_count": 34
        }
      ]
    },
    {
      "cell_type": "code",
      "metadata": {
        "id": "8ilAVlrq0dGk"
      },
      "source": [
        "data['Longitude'] = locDiscEncoded"
      ],
      "execution_count": 35,
      "outputs": []
    },
    {
      "cell_type": "code",
      "metadata": {
        "id": "AYb8nSnt0qro"
      },
      "source": [
        "# create an instance of label encoder for categorical variables\n",
        "labelEncoder6 = LabelEncoder()"
      ],
      "execution_count": 36,
      "outputs": []
    },
    {
      "cell_type": "code",
      "metadata": {
        "colab": {
          "base_uri": "https://localhost:8080/"
        },
        "id": "BL8OqA-n0rEz",
        "outputId": "569cbebb-f046-48a6-bc59-7db04792aada"
      },
      "source": [
        "monthEncoded = labelEncoder6.fit_transform(data['Month'])\n",
        "monthEncoded"
      ],
      "execution_count": 37,
      "outputs": [
        {
          "output_type": "execute_result",
          "data": {
            "text/plain": [
              "array([ 8,  8,  8, ..., 11, 11, 11])"
            ]
          },
          "metadata": {
            "tags": []
          },
          "execution_count": 37
        }
      ]
    },
    {
      "cell_type": "code",
      "metadata": {
        "id": "TZHe-kYX0rgJ"
      },
      "source": [
        "data['Month'] = locDiscEncoded"
      ],
      "execution_count": 38,
      "outputs": []
    },
    {
      "cell_type": "code",
      "metadata": {
        "id": "GKZRAgg207ph"
      },
      "source": [
        "# create an instance of label encoder for categorical variables\n",
        "labelEncoder7 = LabelEncoder()"
      ],
      "execution_count": 39,
      "outputs": []
    },
    {
      "cell_type": "code",
      "metadata": {
        "colab": {
          "base_uri": "https://localhost:8080/"
        },
        "id": "0P1QnCnB08Dj",
        "outputId": "62c89953-eeaf-4f8d-8b0c-904eb3680a9a"
      },
      "source": [
        "yearEncoded = labelEncoder7.fit_transform(data['Year'])\n",
        "yearEncoded"
      ],
      "execution_count": 40,
      "outputs": [
        {
          "output_type": "execute_result",
          "data": {
            "text/plain": [
              "array([8, 8, 8, ..., 8, 8, 8])"
            ]
          },
          "metadata": {
            "tags": []
          },
          "execution_count": 40
        }
      ]
    },
    {
      "cell_type": "code",
      "metadata": {
        "id": "xZnKBO3E08dD"
      },
      "source": [
        "data['Year'] = locDiscEncoded"
      ],
      "execution_count": 41,
      "outputs": []
    },
    {
      "cell_type": "code",
      "metadata": {
        "id": "-dlSDh_Q1Jeh"
      },
      "source": [
        "# create an instance of label encoder for categorical variables\n",
        "labelEncoder8 = LabelEncoder()"
      ],
      "execution_count": 42,
      "outputs": []
    },
    {
      "cell_type": "code",
      "metadata": {
        "colab": {
          "base_uri": "https://localhost:8080/"
        },
        "id": "wECnDNM41J9p",
        "outputId": "99006581-17ab-429f-fbe7-91944cc8b3b2"
      },
      "source": [
        "timeEncoded = labelEncoder8.fit_transform(data['Time'])\n",
        "timeEncoded"
      ],
      "execution_count": 43,
      "outputs": [
        {
          "output_type": "execute_result",
          "data": {
            "text/plain": [
              "array([13, 11, 12, ...,  0, 23,  0])"
            ]
          },
          "metadata": {
            "tags": []
          },
          "execution_count": 43
        }
      ]
    },
    {
      "cell_type": "code",
      "metadata": {
        "id": "ZRIaby-D1KW5"
      },
      "source": [
        "data['Time'] = locDiscEncoded"
      ],
      "execution_count": 44,
      "outputs": []
    },
    {
      "cell_type": "code",
      "metadata": {
        "id": "LAA6gjOG1bW8"
      },
      "source": [
        "# create an instance of label encoder for categorical variables\n",
        "labelEncoder9 = LabelEncoder()"
      ],
      "execution_count": 45,
      "outputs": []
    },
    {
      "cell_type": "code",
      "metadata": {
        "colab": {
          "base_uri": "https://localhost:8080/"
        },
        "id": "WEcOcSZ-1bvc",
        "outputId": "a346dde5-f1e0-4b72-9f34-4f85785b3304"
      },
      "source": [
        "zoneEncoded = labelEncoder9.fit_transform(data['zone'])\n",
        "zoneEncoded"
      ],
      "execution_count": 46,
      "outputs": [
        {
          "output_type": "execute_result",
          "data": {
            "text/plain": [
              "array([2, 1, 3, ..., 3, 1, 2])"
            ]
          },
          "metadata": {
            "tags": []
          },
          "execution_count": 46
        }
      ]
    },
    {
      "cell_type": "code",
      "metadata": {
        "id": "cQ7hakcr1cOL"
      },
      "source": [
        "data['zone'] = locDiscEncoded"
      ],
      "execution_count": 47,
      "outputs": []
    },
    {
      "cell_type": "code",
      "metadata": {
        "id": "Z6ExDTpN1oor"
      },
      "source": [
        "# create an instance of label encoder for categorical variables\n",
        "labelEncoder10 = LabelEncoder()"
      ],
      "execution_count": 48,
      "outputs": []
    },
    {
      "cell_type": "code",
      "metadata": {
        "colab": {
          "base_uri": "https://localhost:8080/"
        },
        "id": "jI925rKw1pDy",
        "outputId": "1151352f-a46d-4f7a-af4d-5f125c66a811"
      },
      "source": [
        "locationDescriptionEncoded = labelEncoder10.fit_transform(data['Location Description'])\n",
        "locationDescriptionEncoded"
      ],
      "execution_count": 49,
      "outputs": [
        {
          "output_type": "execute_result",
          "data": {
            "text/plain": [
              "array([ 89,  44, 103, ...,  89,  93,  61])"
            ]
          },
          "metadata": {
            "tags": []
          },
          "execution_count": 49
        }
      ]
    },
    {
      "cell_type": "code",
      "metadata": {
        "id": "fGoD3ZTR1pkR"
      },
      "source": [
        "data['Location Description'] = locDiscEncoded"
      ],
      "execution_count": 50,
      "outputs": []
    },
    {
      "cell_type": "code",
      "metadata": {
        "id": "FyO8uAOb161W"
      },
      "source": [
        "# create an instance of label encoder for categorical variables\n",
        "labelEncoder11 = LabelEncoder()"
      ],
      "execution_count": 51,
      "outputs": []
    },
    {
      "cell_type": "code",
      "metadata": {
        "colab": {
          "base_uri": "https://localhost:8080/"
        },
        "id": "b160LrZp17R5",
        "outputId": "c64b2422-8a39-40e9-de31-a06121bbf782"
      },
      "source": [
        "beatEncoded = labelEncoder11.fit_transform(data['Beat'])\n",
        "beatEncoded"
      ],
      "execution_count": 52,
      "outputs": [
        {
          "output_type": "execute_result",
          "data": {
            "text/plain": [
              "array([109, 170, 159, ..., 247, 185, 138])"
            ]
          },
          "metadata": {
            "tags": []
          },
          "execution_count": 52
        }
      ]
    },
    {
      "cell_type": "code",
      "metadata": {
        "id": "3aIEtArg17o4"
      },
      "source": [
        "data['Beat'] = locDiscEncoded"
      ],
      "execution_count": 53,
      "outputs": []
    },
    {
      "cell_type": "code",
      "metadata": {
        "id": "2Iq9YxCj8ToB"
      },
      "source": [
        "from sklearn.decomposition import PCA #use PCA to combine features"
      ],
      "execution_count": 54,
      "outputs": []
    },
    {
      "cell_type": "code",
      "metadata": {
        "id": "TDlxKT_C8bM2"
      },
      "source": [
        "location = data[['Latitude','Longitude']]\n",
        "pca = PCA(n_components=1,random_state=123)"
      ],
      "execution_count": 55,
      "outputs": []
    },
    {
      "cell_type": "code",
      "metadata": {
        "id": "0lpM3h8n8daa"
      },
      "source": [
        "loc = pca.fit_transform(location)"
      ],
      "execution_count": 56,
      "outputs": []
    },
    {
      "cell_type": "code",
      "metadata": {
        "id": "yo8Jeqg08fGn"
      },
      "source": [
        "data['Location'] = loc"
      ],
      "execution_count": 57,
      "outputs": []
    },
    {
      "cell_type": "code",
      "metadata": {
        "colab": {
          "base_uri": "https://localhost:8080/",
          "height": 292
        },
        "id": "AAr_9mEs8g5I",
        "outputId": "0b1ba35b-965e-4dbe-8eb0-eb12e3a7871e"
      },
      "source": [
        "data.head(5)\n"
      ],
      "execution_count": 58,
      "outputs": [
        {
          "output_type": "execute_result",
          "data": {
            "text/html": [
              "<div>\n",
              "<style scoped>\n",
              "    .dataframe tbody tr th:only-of-type {\n",
              "        vertical-align: middle;\n",
              "    }\n",
              "\n",
              "    .dataframe tbody tr th {\n",
              "        vertical-align: top;\n",
              "    }\n",
              "\n",
              "    .dataframe thead th {\n",
              "        text-align: right;\n",
              "    }\n",
              "</style>\n",
              "<table border=\"1\" class=\"dataframe\">\n",
              "  <thead>\n",
              "    <tr style=\"text-align: right;\">\n",
              "      <th></th>\n",
              "      <th>IUCR</th>\n",
              "      <th>Description</th>\n",
              "      <th>Location Description</th>\n",
              "      <th>Arrest</th>\n",
              "      <th>Domestic</th>\n",
              "      <th>Beat</th>\n",
              "      <th>District</th>\n",
              "      <th>Ward</th>\n",
              "      <th>Community Area</th>\n",
              "      <th>FBI Code</th>\n",
              "      <th>Year</th>\n",
              "      <th>Latitude</th>\n",
              "      <th>Longitude</th>\n",
              "      <th>Month</th>\n",
              "      <th>Day_num</th>\n",
              "      <th>Time</th>\n",
              "      <th>day_of_week</th>\n",
              "      <th>primary_type_grouped</th>\n",
              "      <th>zone</th>\n",
              "      <th>Count_CrimeType_Column</th>\n",
              "      <th>Location</th>\n",
              "    </tr>\n",
              "  </thead>\n",
              "  <tbody>\n",
              "    <tr>\n",
              "      <th>0</th>\n",
              "      <td>0486</td>\n",
              "      <td>DOMESTIC BATTERY SIMPLE</td>\n",
              "      <td>11</td>\n",
              "      <td>False</td>\n",
              "      <td>True</td>\n",
              "      <td>11</td>\n",
              "      <td>8</td>\n",
              "      <td>11</td>\n",
              "      <td>11</td>\n",
              "      <td>08B</td>\n",
              "      <td>11</td>\n",
              "      <td>11</td>\n",
              "      <td>11</td>\n",
              "      <td>11</td>\n",
              "      <td>5</td>\n",
              "      <td>11</td>\n",
              "      <td>Saturday</td>\n",
              "      <td>NON-CRIMINAL_ASSAULT</td>\n",
              "      <td>11</td>\n",
              "      <td>1640154.0</td>\n",
              "      <td>-15.396419</td>\n",
              "    </tr>\n",
              "    <tr>\n",
              "      <th>1</th>\n",
              "      <td>0870</td>\n",
              "      <td>POCKET-PICKING</td>\n",
              "      <td>28</td>\n",
              "      <td>False</td>\n",
              "      <td>False</td>\n",
              "      <td>28</td>\n",
              "      <td>13</td>\n",
              "      <td>28</td>\n",
              "      <td>28</td>\n",
              "      <td>06</td>\n",
              "      <td>28</td>\n",
              "      <td>28</td>\n",
              "      <td>28</td>\n",
              "      <td>28</td>\n",
              "      <td>4</td>\n",
              "      <td>28</td>\n",
              "      <td>Friday</td>\n",
              "      <td>THEFT</td>\n",
              "      <td>28</td>\n",
              "      <td>2327482.0</td>\n",
              "      <td>8.645212</td>\n",
              "    </tr>\n",
              "    <tr>\n",
              "      <th>2</th>\n",
              "      <td>2023</td>\n",
              "      <td>POSS: HEROIN(BRN/TAN)</td>\n",
              "      <td>34</td>\n",
              "      <td>True</td>\n",
              "      <td>False</td>\n",
              "      <td>34</td>\n",
              "      <td>12</td>\n",
              "      <td>34</td>\n",
              "      <td>34</td>\n",
              "      <td>18</td>\n",
              "      <td>34</td>\n",
              "      <td>34</td>\n",
              "      <td>34</td>\n",
              "      <td>34</td>\n",
              "      <td>5</td>\n",
              "      <td>34</td>\n",
              "      <td>Saturday</td>\n",
              "      <td>NARCOTIC_OFFENSE</td>\n",
              "      <td>34</td>\n",
              "      <td>661033.0</td>\n",
              "      <td>17.130493</td>\n",
              "    </tr>\n",
              "    <tr>\n",
              "      <th>3</th>\n",
              "      <td>0560</td>\n",
              "      <td>SIMPLE</td>\n",
              "      <td>27</td>\n",
              "      <td>False</td>\n",
              "      <td>True</td>\n",
              "      <td>27</td>\n",
              "      <td>13</td>\n",
              "      <td>27</td>\n",
              "      <td>27</td>\n",
              "      <td>08A</td>\n",
              "      <td>27</td>\n",
              "      <td>27</td>\n",
              "      <td>27</td>\n",
              "      <td>27</td>\n",
              "      <td>5</td>\n",
              "      <td>27</td>\n",
              "      <td>Saturday</td>\n",
              "      <td>NON-CRIMINAL_ASSAULT</td>\n",
              "      <td>27</td>\n",
              "      <td>1640154.0</td>\n",
              "      <td>7.230998</td>\n",
              "    </tr>\n",
              "    <tr>\n",
              "      <th>4</th>\n",
              "      <td>0610</td>\n",
              "      <td>FORCIBLE ENTRY</td>\n",
              "      <td>20</td>\n",
              "      <td>False</td>\n",
              "      <td>False</td>\n",
              "      <td>20</td>\n",
              "      <td>5</td>\n",
              "      <td>20</td>\n",
              "      <td>20</td>\n",
              "      <td>05</td>\n",
              "      <td>20</td>\n",
              "      <td>20</td>\n",
              "      <td>20</td>\n",
              "      <td>20</td>\n",
              "      <td>5</td>\n",
              "      <td>20</td>\n",
              "      <td>Saturday</td>\n",
              "      <td>THEFT</td>\n",
              "      <td>20</td>\n",
              "      <td>2327482.0</td>\n",
              "      <td>-2.668496</td>\n",
              "    </tr>\n",
              "  </tbody>\n",
              "</table>\n",
              "</div>"
            ],
            "text/plain": [
              "   IUCR              Description  ...  Count_CrimeType_Column   Location\n",
              "0  0486  DOMESTIC BATTERY SIMPLE  ...               1640154.0 -15.396419\n",
              "1  0870           POCKET-PICKING  ...               2327482.0   8.645212\n",
              "2  2023    POSS: HEROIN(BRN/TAN)  ...                661033.0  17.130493\n",
              "3  0560                   SIMPLE  ...               1640154.0   7.230998\n",
              "4  0610           FORCIBLE ENTRY  ...               2327482.0  -2.668496\n",
              "\n",
              "[5 rows x 21 columns]"
            ]
          },
          "metadata": {
            "tags": []
          },
          "execution_count": 58
        }
      ]
    },
    {
      "cell_type": "code",
      "metadata": {
        "id": "PQULxNkw8jPy"
      },
      "source": [
        "#taking a fraction of data\n",
        "data_sample = data.sample(frac=0.1, random_state=123)"
      ],
      "execution_count": 59,
      "outputs": []
    },
    {
      "cell_type": "code",
      "metadata": {
        "id": "szRSJNpx8neS"
      },
      "source": [
        "from sklearn.ensemble import ExtraTreesClassifier\n",
        "import matplotlib.pyplot as plt\n",
        "model = ExtraTreesClassifier()"
      ],
      "execution_count": 60,
      "outputs": []
    },
    {
      "cell_type": "code",
      "metadata": {
        "colab": {
          "base_uri": "https://localhost:8080/",
          "height": 582
        },
        "id": "2kGdCe9X8wpw",
        "outputId": "a6a759ab-e65b-4fb2-831d-139006b42ce5"
      },
      "source": [
        "corelation = data.corr()\n",
        "corelation"
      ],
      "execution_count": 61,
      "outputs": [
        {
          "output_type": "execute_result",
          "data": {
            "text/html": [
              "<div>\n",
              "<style scoped>\n",
              "    .dataframe tbody tr th:only-of-type {\n",
              "        vertical-align: middle;\n",
              "    }\n",
              "\n",
              "    .dataframe tbody tr th {\n",
              "        vertical-align: top;\n",
              "    }\n",
              "\n",
              "    .dataframe thead th {\n",
              "        text-align: right;\n",
              "    }\n",
              "</style>\n",
              "<table border=\"1\" class=\"dataframe\">\n",
              "  <thead>\n",
              "    <tr style=\"text-align: right;\">\n",
              "      <th></th>\n",
              "      <th>Location Description</th>\n",
              "      <th>Arrest</th>\n",
              "      <th>Domestic</th>\n",
              "      <th>Beat</th>\n",
              "      <th>District</th>\n",
              "      <th>Ward</th>\n",
              "      <th>Community Area</th>\n",
              "      <th>Year</th>\n",
              "      <th>Latitude</th>\n",
              "      <th>Longitude</th>\n",
              "      <th>Month</th>\n",
              "      <th>Day_num</th>\n",
              "      <th>Time</th>\n",
              "      <th>zone</th>\n",
              "      <th>Count_CrimeType_Column</th>\n",
              "      <th>Location</th>\n",
              "    </tr>\n",
              "  </thead>\n",
              "  <tbody>\n",
              "    <tr>\n",
              "      <th>Location Description</th>\n",
              "      <td>1.000000</td>\n",
              "      <td>-0.013191</td>\n",
              "      <td>-0.067747</td>\n",
              "      <td>1.000000</td>\n",
              "      <td>0.680539</td>\n",
              "      <td>1.000000</td>\n",
              "      <td>1.000000</td>\n",
              "      <td>1.000000</td>\n",
              "      <td>1.000000</td>\n",
              "      <td>1.000000</td>\n",
              "      <td>1.000000</td>\n",
              "      <td>-0.007841</td>\n",
              "      <td>1.000000</td>\n",
              "      <td>1.000000</td>\n",
              "      <td>0.043893</td>\n",
              "      <td>1.000000</td>\n",
              "    </tr>\n",
              "    <tr>\n",
              "      <th>Arrest</th>\n",
              "      <td>-0.013191</td>\n",
              "      <td>1.000000</td>\n",
              "      <td>-0.045976</td>\n",
              "      <td>-0.013191</td>\n",
              "      <td>-0.013272</td>\n",
              "      <td>-0.013191</td>\n",
              "      <td>-0.013191</td>\n",
              "      <td>-0.013191</td>\n",
              "      <td>-0.013191</td>\n",
              "      <td>-0.013191</td>\n",
              "      <td>-0.013191</td>\n",
              "      <td>0.003287</td>\n",
              "      <td>-0.013191</td>\n",
              "      <td>-0.013191</td>\n",
              "      <td>-0.372638</td>\n",
              "      <td>-0.013191</td>\n",
              "    </tr>\n",
              "    <tr>\n",
              "      <th>Domestic</th>\n",
              "      <td>-0.067747</td>\n",
              "      <td>-0.045976</td>\n",
              "      <td>1.000000</td>\n",
              "      <td>-0.067747</td>\n",
              "      <td>-0.049795</td>\n",
              "      <td>-0.067747</td>\n",
              "      <td>-0.067747</td>\n",
              "      <td>-0.067747</td>\n",
              "      <td>-0.067747</td>\n",
              "      <td>-0.067747</td>\n",
              "      <td>-0.067747</td>\n",
              "      <td>0.000963</td>\n",
              "      <td>-0.067747</td>\n",
              "      <td>-0.067747</td>\n",
              "      <td>-0.092770</td>\n",
              "      <td>-0.067747</td>\n",
              "    </tr>\n",
              "    <tr>\n",
              "      <th>Beat</th>\n",
              "      <td>1.000000</td>\n",
              "      <td>-0.013191</td>\n",
              "      <td>-0.067747</td>\n",
              "      <td>1.000000</td>\n",
              "      <td>0.680539</td>\n",
              "      <td>1.000000</td>\n",
              "      <td>1.000000</td>\n",
              "      <td>1.000000</td>\n",
              "      <td>1.000000</td>\n",
              "      <td>1.000000</td>\n",
              "      <td>1.000000</td>\n",
              "      <td>-0.007841</td>\n",
              "      <td>1.000000</td>\n",
              "      <td>1.000000</td>\n",
              "      <td>0.043893</td>\n",
              "      <td>1.000000</td>\n",
              "    </tr>\n",
              "    <tr>\n",
              "      <th>District</th>\n",
              "      <td>0.680539</td>\n",
              "      <td>-0.013272</td>\n",
              "      <td>-0.049795</td>\n",
              "      <td>0.680539</td>\n",
              "      <td>1.000000</td>\n",
              "      <td>0.680539</td>\n",
              "      <td>0.680539</td>\n",
              "      <td>0.680539</td>\n",
              "      <td>0.680539</td>\n",
              "      <td>0.680539</td>\n",
              "      <td>0.680539</td>\n",
              "      <td>-0.005732</td>\n",
              "      <td>0.680539</td>\n",
              "      <td>0.680539</td>\n",
              "      <td>0.014248</td>\n",
              "      <td>0.680539</td>\n",
              "    </tr>\n",
              "    <tr>\n",
              "      <th>Ward</th>\n",
              "      <td>1.000000</td>\n",
              "      <td>-0.013191</td>\n",
              "      <td>-0.067747</td>\n",
              "      <td>1.000000</td>\n",
              "      <td>0.680539</td>\n",
              "      <td>1.000000</td>\n",
              "      <td>1.000000</td>\n",
              "      <td>1.000000</td>\n",
              "      <td>1.000000</td>\n",
              "      <td>1.000000</td>\n",
              "      <td>1.000000</td>\n",
              "      <td>-0.007841</td>\n",
              "      <td>1.000000</td>\n",
              "      <td>1.000000</td>\n",
              "      <td>0.043893</td>\n",
              "      <td>1.000000</td>\n",
              "    </tr>\n",
              "    <tr>\n",
              "      <th>Community Area</th>\n",
              "      <td>1.000000</td>\n",
              "      <td>-0.013191</td>\n",
              "      <td>-0.067747</td>\n",
              "      <td>1.000000</td>\n",
              "      <td>0.680539</td>\n",
              "      <td>1.000000</td>\n",
              "      <td>1.000000</td>\n",
              "      <td>1.000000</td>\n",
              "      <td>1.000000</td>\n",
              "      <td>1.000000</td>\n",
              "      <td>1.000000</td>\n",
              "      <td>-0.007841</td>\n",
              "      <td>1.000000</td>\n",
              "      <td>1.000000</td>\n",
              "      <td>0.043893</td>\n",
              "      <td>1.000000</td>\n",
              "    </tr>\n",
              "    <tr>\n",
              "      <th>Year</th>\n",
              "      <td>1.000000</td>\n",
              "      <td>-0.013191</td>\n",
              "      <td>-0.067747</td>\n",
              "      <td>1.000000</td>\n",
              "      <td>0.680539</td>\n",
              "      <td>1.000000</td>\n",
              "      <td>1.000000</td>\n",
              "      <td>1.000000</td>\n",
              "      <td>1.000000</td>\n",
              "      <td>1.000000</td>\n",
              "      <td>1.000000</td>\n",
              "      <td>-0.007841</td>\n",
              "      <td>1.000000</td>\n",
              "      <td>1.000000</td>\n",
              "      <td>0.043893</td>\n",
              "      <td>1.000000</td>\n",
              "    </tr>\n",
              "    <tr>\n",
              "      <th>Latitude</th>\n",
              "      <td>1.000000</td>\n",
              "      <td>-0.013191</td>\n",
              "      <td>-0.067747</td>\n",
              "      <td>1.000000</td>\n",
              "      <td>0.680539</td>\n",
              "      <td>1.000000</td>\n",
              "      <td>1.000000</td>\n",
              "      <td>1.000000</td>\n",
              "      <td>1.000000</td>\n",
              "      <td>1.000000</td>\n",
              "      <td>1.000000</td>\n",
              "      <td>-0.007841</td>\n",
              "      <td>1.000000</td>\n",
              "      <td>1.000000</td>\n",
              "      <td>0.043893</td>\n",
              "      <td>1.000000</td>\n",
              "    </tr>\n",
              "    <tr>\n",
              "      <th>Longitude</th>\n",
              "      <td>1.000000</td>\n",
              "      <td>-0.013191</td>\n",
              "      <td>-0.067747</td>\n",
              "      <td>1.000000</td>\n",
              "      <td>0.680539</td>\n",
              "      <td>1.000000</td>\n",
              "      <td>1.000000</td>\n",
              "      <td>1.000000</td>\n",
              "      <td>1.000000</td>\n",
              "      <td>1.000000</td>\n",
              "      <td>1.000000</td>\n",
              "      <td>-0.007841</td>\n",
              "      <td>1.000000</td>\n",
              "      <td>1.000000</td>\n",
              "      <td>0.043893</td>\n",
              "      <td>1.000000</td>\n",
              "    </tr>\n",
              "    <tr>\n",
              "      <th>Month</th>\n",
              "      <td>1.000000</td>\n",
              "      <td>-0.013191</td>\n",
              "      <td>-0.067747</td>\n",
              "      <td>1.000000</td>\n",
              "      <td>0.680539</td>\n",
              "      <td>1.000000</td>\n",
              "      <td>1.000000</td>\n",
              "      <td>1.000000</td>\n",
              "      <td>1.000000</td>\n",
              "      <td>1.000000</td>\n",
              "      <td>1.000000</td>\n",
              "      <td>-0.007841</td>\n",
              "      <td>1.000000</td>\n",
              "      <td>1.000000</td>\n",
              "      <td>0.043893</td>\n",
              "      <td>1.000000</td>\n",
              "    </tr>\n",
              "    <tr>\n",
              "      <th>Day_num</th>\n",
              "      <td>-0.007841</td>\n",
              "      <td>0.003287</td>\n",
              "      <td>0.000963</td>\n",
              "      <td>-0.007841</td>\n",
              "      <td>-0.005732</td>\n",
              "      <td>-0.007841</td>\n",
              "      <td>-0.007841</td>\n",
              "      <td>-0.007841</td>\n",
              "      <td>-0.007841</td>\n",
              "      <td>-0.007841</td>\n",
              "      <td>-0.007841</td>\n",
              "      <td>1.000000</td>\n",
              "      <td>-0.007841</td>\n",
              "      <td>-0.007841</td>\n",
              "      <td>0.008640</td>\n",
              "      <td>-0.007841</td>\n",
              "    </tr>\n",
              "    <tr>\n",
              "      <th>Time</th>\n",
              "      <td>1.000000</td>\n",
              "      <td>-0.013191</td>\n",
              "      <td>-0.067747</td>\n",
              "      <td>1.000000</td>\n",
              "      <td>0.680539</td>\n",
              "      <td>1.000000</td>\n",
              "      <td>1.000000</td>\n",
              "      <td>1.000000</td>\n",
              "      <td>1.000000</td>\n",
              "      <td>1.000000</td>\n",
              "      <td>1.000000</td>\n",
              "      <td>-0.007841</td>\n",
              "      <td>1.000000</td>\n",
              "      <td>1.000000</td>\n",
              "      <td>0.043893</td>\n",
              "      <td>1.000000</td>\n",
              "    </tr>\n",
              "    <tr>\n",
              "      <th>zone</th>\n",
              "      <td>1.000000</td>\n",
              "      <td>-0.013191</td>\n",
              "      <td>-0.067747</td>\n",
              "      <td>1.000000</td>\n",
              "      <td>0.680539</td>\n",
              "      <td>1.000000</td>\n",
              "      <td>1.000000</td>\n",
              "      <td>1.000000</td>\n",
              "      <td>1.000000</td>\n",
              "      <td>1.000000</td>\n",
              "      <td>1.000000</td>\n",
              "      <td>-0.007841</td>\n",
              "      <td>1.000000</td>\n",
              "      <td>1.000000</td>\n",
              "      <td>0.043893</td>\n",
              "      <td>1.000000</td>\n",
              "    </tr>\n",
              "    <tr>\n",
              "      <th>Count_CrimeType_Column</th>\n",
              "      <td>0.043893</td>\n",
              "      <td>-0.372638</td>\n",
              "      <td>-0.092770</td>\n",
              "      <td>0.043893</td>\n",
              "      <td>0.014248</td>\n",
              "      <td>0.043893</td>\n",
              "      <td>0.043893</td>\n",
              "      <td>0.043893</td>\n",
              "      <td>0.043893</td>\n",
              "      <td>0.043893</td>\n",
              "      <td>0.043893</td>\n",
              "      <td>0.008640</td>\n",
              "      <td>0.043893</td>\n",
              "      <td>0.043893</td>\n",
              "      <td>1.000000</td>\n",
              "      <td>0.043893</td>\n",
              "    </tr>\n",
              "    <tr>\n",
              "      <th>Location</th>\n",
              "      <td>1.000000</td>\n",
              "      <td>-0.013191</td>\n",
              "      <td>-0.067747</td>\n",
              "      <td>1.000000</td>\n",
              "      <td>0.680539</td>\n",
              "      <td>1.000000</td>\n",
              "      <td>1.000000</td>\n",
              "      <td>1.000000</td>\n",
              "      <td>1.000000</td>\n",
              "      <td>1.000000</td>\n",
              "      <td>1.000000</td>\n",
              "      <td>-0.007841</td>\n",
              "      <td>1.000000</td>\n",
              "      <td>1.000000</td>\n",
              "      <td>0.043893</td>\n",
              "      <td>1.000000</td>\n",
              "    </tr>\n",
              "  </tbody>\n",
              "</table>\n",
              "</div>"
            ],
            "text/plain": [
              "                        Location Description  ...  Location\n",
              "Location Description                1.000000  ...  1.000000\n",
              "Arrest                             -0.013191  ... -0.013191\n",
              "Domestic                           -0.067747  ... -0.067747\n",
              "Beat                                1.000000  ...  1.000000\n",
              "District                            0.680539  ...  0.680539\n",
              "Ward                                1.000000  ...  1.000000\n",
              "Community Area                      1.000000  ...  1.000000\n",
              "Year                                1.000000  ...  1.000000\n",
              "Latitude                            1.000000  ...  1.000000\n",
              "Longitude                           1.000000  ...  1.000000\n",
              "Month                               1.000000  ...  1.000000\n",
              "Day_num                            -0.007841  ... -0.007841\n",
              "Time                                1.000000  ...  1.000000\n",
              "zone                                1.000000  ...  1.000000\n",
              "Count_CrimeType_Column              0.043893  ...  0.043893\n",
              "Location                            1.000000  ...  1.000000\n",
              "\n",
              "[16 rows x 16 columns]"
            ]
          },
          "metadata": {
            "tags": []
          },
          "execution_count": 61
        }
      ]
    },
    {
      "cell_type": "code",
      "metadata": {
        "colab": {
          "base_uri": "https://localhost:8080/",
          "height": 406
        },
        "id": "6U6HVkAP8yjT",
        "outputId": "e829c47b-d5a0-481a-98e3-44cf0712cac7"
      },
      "source": [
        "sns.heatmap(corelation)"
      ],
      "execution_count": 62,
      "outputs": [
        {
          "output_type": "execute_result",
          "data": {
            "text/plain": [
              "<matplotlib.axes._subplots.AxesSubplot at 0x7fe79aaea710>"
            ]
          },
          "metadata": {
            "tags": []
          },
          "execution_count": 62
        },
        {
          "output_type": "display_data",
          "data": {
            "image/png": "[encoded data removed]",
            "text/plain": [
              "<Figure size 432x288 with 2 Axes>"
            ]
          },
          "metadata": {
            "tags": [],
            "needs_background": "light"
          }
        }
      ]
    },
    {
      "cell_type": "code",
      "metadata": {
        "id": "qWLOC9fa-VKz"
      },
      "source": [
        "selected_columns = ['District','Ward','Community Area','Latitude','Longitude','Month','Year','Time','zone','Location Description','Beat']"
      ],
      "execution_count": 63,
      "outputs": []
    },
    {
      "cell_type": "code",
      "metadata": {
        "id": "NIvJr1OU-5on"
      },
      "source": [
        "from sklearn.model_selection import train_test_split\n",
        "X_train_gs, X_test, y_train_gs, y_test = train_test_split(data[selected_columns], data['primary_type_grouped'], test_size=0.2) # 80% training and 20% test"
      ],
      "execution_count": 64,
      "outputs": []
    },
    {
      "cell_type": "code",
      "metadata": {
        "id": "X3Y3GWN1-8wp",
        "colab": {
          "base_uri": "https://localhost:8080/"
        },
        "outputId": "2737b48f-402b-4716-c9b6-a9a2782c15aa"
      },
      "source": [
        "knn_5 = KNeighborsClassifier(n_neighbors=5) \n",
        "knn_5.fit(X_train_gs,y_train_gs)\n",
        "pred_train = knn_5.predict(X_train_gs)\n",
        "pred_i = knn_5.predict(X_test)\n",
        "print('Test accuracy ', metrics.accuracy_score(y_train_gs, pred_train))\n",
        "print('Accuracy ', metrics.accuracy_score(y_test, pred_i))\n",
        "print('F1 score ', metrics.f1_score(y_test, pred_i, average = 'weighted'))"
      ],
      "execution_count": 65,
      "outputs": [
        {
          "output_type": "stream",
          "text": [
            "Test accuracy  0.30854559488366967\n",
            "Accuracy  0.311736426586689\n",
            "F1 score  0.2884678781668847\n"
          ],
          "name": "stdout"
        }
      ]
    },
    {
      "cell_type": "code",
      "metadata": {
        "colab": {
          "base_uri": "https://localhost:8080/"
        },
        "id": "K8svrGHx_Kqq",
        "outputId": "d8d2fa99-14b1-434e-9a90-bf21de84460d"
      },
      "source": [
        "error_rate = []\n",
        "\n",
        "krange = range(10,50,5)\n",
        "for i in krange:\n",
        " \n",
        " knn = KNeighborsClassifier(n_neighbors=i, metric='manhattan', weights = 'uniform',n_jobs= -1) # haversine - if only lat long\n",
        " knn.fit(X_train_gs,y_train_gs)\n",
        " pred_train = knn.predict(X_train_gs)\n",
        " pred_i = knn.predict(X_test)\n",
        " error_rate.append(np.mean(pred_i != y_test))\n",
        " print('Neighbours ',i)\n",
        " print('Test accuracy ', metrics.accuracy_score(y_train_gs, pred_train))\n",
        " print('Accuracy ', metrics.accuracy_score(y_test, pred_i))\n",
        " print('F1 score ', metrics.f1_score(y_test, pred_i, average = 'weighted'))"
      ],
      "execution_count": 66,
      "outputs": [
        {
          "output_type": "stream",
          "text": [
            "Neighbours  10\n",
            "Test accuracy  0.3340500606461572\n",
            "Accuracy  0.3352004586953645\n",
            "F1 score  0.3044715862857333\n",
            "Neighbours  15\n",
            "Test accuracy  0.34305877163965154\n",
            "Accuracy  0.3441097340448992\n",
            "F1 score  0.29632940340114866\n",
            "Neighbours  20\n",
            "Test accuracy  0.3511743301356269\n",
            "Accuracy  0.3532836413355092\n",
            "F1 score  0.2968131587240939\n",
            "Neighbours  25\n",
            "Test accuracy  0.3513617818943654\n",
            "Accuracy  0.3536364839236096\n",
            "F1 score  0.29596165724580664\n",
            "Neighbours  30\n",
            "Test accuracy  0.3516043665233212\n",
            "Accuracy  0.3514312177479822\n",
            "F1 score  0.29114263394411405\n",
            "Neighbours  35\n",
            "Test accuracy  0.3534788841107068\n",
            "Accuracy  0.35491553830547345\n",
            "F1 score  0.2981270254137934\n",
            "Neighbours  40\n",
            "Test accuracy  0.3626309405667659\n",
            "Accuracy  0.3637807083314956\n",
            "F1 score  0.29309324026940287\n",
            "Neighbours  45\n",
            "Test accuracy  0.3615503363105083\n",
            "Accuracy  0.36373660300798305\n",
            "F1 score  0.29181760056378575\n"
          ],
          "name": "stdout"
        }
      ]
    },
    {
      "cell_type": "code",
      "metadata": {
        "colab": {
          "base_uri": "https://localhost:8080/",
          "height": 421
        },
        "id": "iVhgLtig_XD3",
        "outputId": "9e99f4bb-7572-411d-fe69-f2be42c978a3"
      },
      "source": [
        "plt.figure(figsize=(10,6))\n",
        "\n",
        "plt.plot(krange,error_rate, color= 'blue', linestyle= 'dashed', marker= 'o', markerfacecolor='red', markersize=1)\n",
        "plt.title('Error Rate vs. K Value')\n",
        "plt.xlabel('K')\n",
        "plt.ylabel('Error Rate')"
      ],
      "execution_count": 67,
      "outputs": [
        {
          "output_type": "execute_result",
          "data": {
            "text/plain": [
              "Text(0, 0.5, 'Error Rate')"
            ]
          },
          "metadata": {
            "tags": []
          },
          "execution_count": 67
        },
        {
          "output_type": "display_data",
          "data": {
            "image/png": "[encoded data removed]",
            "text/plain": [
              "<Figure size 720x432 with 1 Axes>"
            ]
          },
          "metadata": {
            "tags": [],
            "needs_background": "light"
          }
        }
      ]
    },
    {
      "cell_type": "code",
      "metadata": {
        "id": "izuqPb1x_vOB"
      },
      "source": [
        "from sklearn.model_selection import GridSearchCV, RandomizedSearchCV"
      ],
      "execution_count": 68,
      "outputs": []
    },
    {
      "cell_type": "code",
      "metadata": {
        "colab": {
          "base_uri": "https://localhost:8080/"
        },
        "id": "mFh2GHGvAaUN",
        "outputId": "69b98161-2348-4129-df28-3931c3753eb2"
      },
      "source": [
        "KNeighborsClassifier().get_params().keys()"
      ],
      "execution_count": 69,
      "outputs": [
        {
          "output_type": "execute_result",
          "data": {
            "text/plain": [
              "dict_keys(['algorithm', 'leaf_size', 'metric', 'metric_params', 'n_jobs', 'n_neighbors', 'p', 'weights'])"
            ]
          },
          "metadata": {
            "tags": []
          },
          "execution_count": 69
        }
      ]
    },
    {
      "cell_type": "code",
      "metadata": {
        "id": "F4qkNjetAcui"
      },
      "source": [
        "grid_params = {\n",
        "    'weights' : ['uniform', 'distance'],\n",
        "    'metric' : ['manhattan','jaccard'] #haversine - if only lat long\n",
        "}"
      ],
      "execution_count": 70,
      "outputs": []
    },
    {
      "cell_type": "code",
      "metadata": {
        "id": "hiImOk9AAe9U"
      },
      "source": [
        "randomSearch = RandomizedSearchCV(\n",
        "    KNeighborsClassifier(25),\n",
        "    grid_params,\n",
        "    verbose = 1,\n",
        "    cv =3,\n",
        "    random_state = 123\n",
        "    )"
      ],
      "execution_count": 71,
      "outputs": []
    },
    {
      "cell_type": "code",
      "metadata": {
        "colab": {
          "base_uri": "https://localhost:8080/"
        },
        "id": "gP2gaELXNSQu",
        "outputId": "2350c749-fd5a-4127-dd37-8e4be92cc1a6"
      },
      "source": [
        "rs_results = randomSearch.fit(X_train_gs, y_train_gs)"
      ],
      "execution_count": 72,
      "outputs": [
        {
          "output_type": "stream",
          "text": [
            "/usr/local/lib/python3.7/dist-packages/sklearn/model_selection/_search.py:281: UserWarning: The total space of parameters 4 is smaller than n_iter=10. Running 4 iterations. For exhaustive searches, use GridSearchCV.\n",
            "  % (grid_size, self.n_iter, grid_size), UserWarning)\n",
            "[Parallel(n_jobs=1)]: Using backend SequentialBackend with 1 concurrent workers.\n"
          ],
          "name": "stderr"
        },
        {
          "output_type": "stream",
          "text": [
            "Fitting 3 folds for each of 4 candidates, totalling 12 fits\n"
          ],
          "name": "stdout"
        },
        {
          "output_type": "stream",
          "text": [
            "[Parallel(n_jobs=1)]: Done  12 out of  12 | elapsed: 10.5min finished\n"
          ],
          "name": "stderr"
        }
      ]
    },
    {
      "cell_type": "code",
      "metadata": {
        "colab": {
          "base_uri": "https://localhost:8080/"
        },
        "id": "GCExdemmAhlR",
        "outputId": "e3295138-a9b2-4912-c35c-02fea7b2a6bb"
      },
      "source": [
        "rs_results.best_score_"
      ],
      "execution_count": 73,
      "outputs": [
        {
          "output_type": "execute_result",
          "data": {
            "text/plain": [
              "0.34345572830521554"
            ]
          },
          "metadata": {
            "tags": []
          },
          "execution_count": 73
        }
      ]
    },
    {
      "cell_type": "code",
      "metadata": {
        "id": "_2HQxUoCAlpn",
        "colab": {
          "base_uri": "https://localhost:8080/"
        },
        "outputId": "d14d21db-d241-4d81-c2c6-2b9369294f51"
      },
      "source": [
        "rs_results.best_params_"
      ],
      "execution_count": 74,
      "outputs": [
        {
          "output_type": "execute_result",
          "data": {
            "text/plain": [
              "{'metric': 'manhattan', 'weights': 'distance'}"
            ]
          },
          "metadata": {
            "tags": []
          },
          "execution_count": 74
        }
      ]
    },
    {
      "cell_type": "code",
      "metadata": {
        "colab": {
          "base_uri": "https://localhost:8080/"
        },
        "id": "gM3AAZsVQo0Q",
        "outputId": "ddc537aa-b3a5-493a-ab25-cd0401e9a4cc"
      },
      "source": [
        "from imblearn.over_sampling import SMOTE"
      ],
      "execution_count": 75,
      "outputs": [
        {
          "output_type": "stream",
          "text": [
            "/usr/local/lib/python3.7/dist-packages/sklearn/externals/six.py:31: FutureWarning: The module is deprecated in version 0.21 and will be removed in version 0.23 since we've dropped support for Python 2.7. Please rely on the official version of six (https://pypi.org/project/six/).\n",
            "  \"(https://pypi.org/project/six/).\", FutureWarning)\n",
            "/usr/local/lib/python3.7/dist-packages/sklearn/utils/deprecation.py:144: FutureWarning: The sklearn.neighbors.base module is  deprecated in version 0.22 and will be removed in version 0.24. The corresponding classes / functions should instead be imported from sklearn.neighbors. Anything that cannot be imported from sklearn.neighbors is now part of the private API.\n",
            "  warnings.warn(message, FutureWarning)\n"
          ],
          "name": "stderr"
        }
      ]
    },
    {
      "cell_type": "code",
      "metadata": {
        "id": "o9FcQloTQwMT"
      },
      "source": [
        "# Oversample 'Majority'\n",
        "sm = SMOTE('minority', random_state=123)"
      ],
      "execution_count": 76,
      "outputs": []
    },
    {
      "cell_type": "code",
      "metadata": {
        "colab": {
          "base_uri": "https://localhost:8080/"
        },
        "id": "KqNx_m8-QyZQ",
        "outputId": "6f895aae-07f1-4b92-cd81-7fdf5e997873"
      },
      "source": [
        "X_train_res, y_train_res = sm.fit_sample(X_train_gs, y_train_gs)"
      ],
      "execution_count": 77,
      "outputs": [
        {
          "output_type": "stream",
          "text": [
            "/usr/local/lib/python3.7/dist-packages/sklearn/utils/deprecation.py:87: FutureWarning: Function safe_indexing is deprecated; safe_indexing is deprecated in version 0.22 and will be removed in version 0.24.\n",
            "  warnings.warn(msg, category=FutureWarning)\n"
          ],
          "name": "stderr"
        }
      ]
    },
    {
      "cell_type": "code",
      "metadata": {
        "id": "bUxUummvQ1ec"
      },
      "source": [
        "#convert back to Dataframe\n",
        "X_train_updated = pd.DataFrame(X_train_res, columns= selected_columns)\n",
        "y_train_updated = pd.Series(y_train_res)"
      ],
      "execution_count": 78,
      "outputs": []
    },
    {
      "cell_type": "code",
      "metadata": {
        "colab": {
          "base_uri": "https://localhost:8080/"
        },
        "id": "RkAb-AeBgYAd",
        "outputId": "ee7cf841-7225-4ade-f5d2-70c27d7a4861"
      },
      "source": [
        "target_counts = y_train_updated.value_counts()\n",
        "target_counts"
      ],
      "execution_count": 79,
      "outputs": [
        {
          "output_type": "execute_result",
          "data": {
            "text/plain": [
              "HUMAN_TRAFFICKING_OFFENSE    32754\n",
              "THEFT                        32754\n",
              "NON-CRIMINAL_ASSAULT         22315\n",
              "CRIMINAL_OFFENSE             17855\n",
              "OTHER_OFFENSE                 7645\n",
              "NARCOTIC_OFFENSE              6888\n",
              "SEXUAL_OFFENSE                1242\n",
              "WEAPONS_OFFENSE               1192\n",
              "dtype: int64"
            ]
          },
          "metadata": {
            "tags": []
          },
          "execution_count": 79
        }
      ]
    },
    {
      "cell_type": "code",
      "metadata": {
        "id": "F2PW6mZjgaLn"
      },
      "source": [
        "knn = KNeighborsClassifier(n_neighbors=25, metric='manhattan', weights = 'uniform')"
      ],
      "execution_count": 80,
      "outputs": []
    },
    {
      "cell_type": "code",
      "metadata": {
        "colab": {
          "base_uri": "https://localhost:8080/"
        },
        "id": "wrC10GhWgd1o",
        "outputId": "b453c9a9-62d6-49e0-91df-238ca103b0ad"
      },
      "source": [
        "knn.fit(X_train_updated,y_train_updated)"
      ],
      "execution_count": 81,
      "outputs": [
        {
          "output_type": "execute_result",
          "data": {
            "text/plain": [
              "KNeighborsClassifier(algorithm='auto', leaf_size=30, metric='manhattan',\n",
              "                     metric_params=None, n_jobs=None, n_neighbors=25, p=2,\n",
              "                     weights='uniform')"
            ]
          },
          "metadata": {
            "tags": []
          },
          "execution_count": 81
        }
      ]
    },
    {
      "cell_type": "code",
      "metadata": {
        "id": "ouN7mJhmggHj"
      },
      "source": [
        "pred_i = knn.predict(X_test)"
      ],
      "execution_count": 82,
      "outputs": []
    },
    {
      "cell_type": "code",
      "metadata": {
        "colab": {
          "base_uri": "https://localhost:8080/"
        },
        "id": "S_AZZEfeg1xj",
        "outputId": "7feead9e-4c88-4cb9-d0ef-7621b552566a"
      },
      "source": [
        "print('Accuracy ', metrics.accuracy_score(y_test, pred_i))\n",
        "print('F1 score ', metrics.f1_score(y_test, pred_i, average = 'weighted'))"
      ],
      "execution_count": 83,
      "outputs": [
        {
          "output_type": "stream",
          "text": [
            "Accuracy  0.23102368455872624\n",
            "F1 score  0.23947552172036798\n"
          ],
          "name": "stdout"
        }
      ]
    },
    {
      "cell_type": "code",
      "metadata": {
        "id": "FD7Fw0h3g4-f"
      },
      "source": [
        "from imblearn.under_sampling import ClusterCentroids"
      ],
      "execution_count": 84,
      "outputs": []
    },
    {
      "cell_type": "code",
      "metadata": {
        "id": "jruNO8F_hFwr"
      },
      "source": [
        "# Undersample 'Majority'\n",
        "cc = ClusterCentroids(sampling_strategy = 'majority')"
      ],
      "execution_count": 85,
      "outputs": []
    },
    {
      "cell_type": "code",
      "metadata": {
        "colab": {
          "base_uri": "https://localhost:8080/"
        },
        "id": "r0703EA-hPra",
        "outputId": "3d76f22c-9397-49ed-c907-0a984b958945"
      },
      "source": [
        "X_cc, y_cc = cc.fit_sample(X_train_gs, y_train_gs)"
      ],
      "execution_count": 86,
      "outputs": [
        {
          "output_type": "stream",
          "text": [
            "/usr/local/lib/python3.7/dist-packages/sklearn/utils/deprecation.py:87: FutureWarning: Function safe_indexing is deprecated; safe_indexing is deprecated in version 0.22 and will be removed in version 0.24.\n",
            "  warnings.warn(msg, category=FutureWarning)\n",
            "/usr/local/lib/python3.7/dist-packages/imblearn/under_sampling/_prototype_generation/_cluster_centroids.py:156: ConvergenceWarning: Number of distinct clusters (140) found smaller than n_clusters (799). Possibly due to duplicate points in X.\n",
            "  self.estimator_.fit(X[y == target_class])\n",
            "/usr/local/lib/python3.7/dist-packages/sklearn/utils/deprecation.py:87: FutureWarning: Function safe_indexing is deprecated; safe_indexing is deprecated in version 0.22 and will be removed in version 0.24.\n",
            "  warnings.warn(msg, category=FutureWarning)\n"
          ],
          "name": "stderr"
        }
      ]
    },
    {
      "cell_type": "code",
      "metadata": {
        "id": "QE2zw914hRoN"
      },
      "source": [
        "#convert back to Dataframe\n",
        "X_train_updated = pd.DataFrame(X_cc, columns= selected_columns)\n",
        "y_train_updated = pd.Series(y_cc)"
      ],
      "execution_count": 87,
      "outputs": []
    },
    {
      "cell_type": "code",
      "metadata": {
        "colab": {
          "base_uri": "https://localhost:8080/"
        },
        "id": "6FAKLnG3hUi9",
        "outputId": "d332ce28-1a63-4c38-a1a7-ec538a119a7e"
      },
      "source": [
        "target_counts = y_train_updated.value_counts()\n",
        "target_counts"
      ],
      "execution_count": 88,
      "outputs": [
        {
          "output_type": "execute_result",
          "data": {
            "text/plain": [
              "NON-CRIMINAL_ASSAULT         22315\n",
              "CRIMINAL_OFFENSE             17855\n",
              "OTHER_OFFENSE                 7645\n",
              "NARCOTIC_OFFENSE              6888\n",
              "SEXUAL_OFFENSE                1242\n",
              "WEAPONS_OFFENSE               1192\n",
              "THEFT                          799\n",
              "HUMAN_TRAFFICKING_OFFENSE      799\n",
              "dtype: int64"
            ]
          },
          "metadata": {
            "tags": []
          },
          "execution_count": 88
        }
      ]
    },
    {
      "cell_type": "code",
      "metadata": {
        "id": "hN-Gk_vOhWtv"
      },
      "source": [
        "knn = KNeighborsClassifier(n_neighbors=25, metric='manhattan', weights = 'uniform')"
      ],
      "execution_count": 89,
      "outputs": []
    },
    {
      "cell_type": "code",
      "metadata": {
        "colab": {
          "base_uri": "https://localhost:8080/"
        },
        "id": "Uo0eU_3UhZy2",
        "outputId": "cdc1f0e4-24e8-4a4d-c2cd-01215e71acb5"
      },
      "source": [
        "knn.fit(X_train_updated,y_train_updated)"
      ],
      "execution_count": 90,
      "outputs": [
        {
          "output_type": "execute_result",
          "data": {
            "text/plain": [
              "KNeighborsClassifier(algorithm='auto', leaf_size=30, metric='manhattan',\n",
              "                     metric_params=None, n_jobs=None, n_neighbors=25, p=2,\n",
              "                     weights='uniform')"
            ]
          },
          "metadata": {
            "tags": []
          },
          "execution_count": 90
        }
      ]
    },
    {
      "cell_type": "code",
      "metadata": {
        "id": "3nYzaTD-hfg_"
      },
      "source": [
        "pred_i = knn.predict(X_test)"
      ],
      "execution_count": 91,
      "outputs": []
    },
    {
      "cell_type": "code",
      "metadata": {
        "colab": {
          "base_uri": "https://localhost:8080/"
        },
        "id": "3_59mhcUhhz_",
        "outputId": "ac4cf6ab-f792-4f34-b9a2-c4e8993a9abd"
      },
      "source": [
        "print('Accuracy ', metrics.accuracy_score(y_test, pred_i))\n",
        "print('F1 score ', metrics.f1_score(y_test, pred_i, average = 'weighted'))"
      ],
      "execution_count": 92,
      "outputs": [
        {
          "output_type": "stream",
          "text": [
            "Accuracy  0.23441979446919242\n",
            "F1 score  0.1662222137852824\n"
          ],
          "name": "stdout"
        }
      ]
    },
    {
      "cell_type": "code",
      "metadata": {
        "id": "P4IXL567hkjz"
      },
      "source": [
        "from imblearn.over_sampling import RandomOverSampler\n",
        "from imblearn.under_sampling import RandomUnderSampler"
      ],
      "execution_count": 93,
      "outputs": []
    },
    {
      "cell_type": "code",
      "metadata": {
        "id": "fAaR5bXFhuoP"
      },
      "source": [
        "# define oversampling strategy\n",
        "over = RandomOverSampler(sampling_strategy= 'minority')"
      ],
      "execution_count": 94,
      "outputs": []
    },
    {
      "cell_type": "code",
      "metadata": {
        "colab": {
          "base_uri": "https://localhost:8080/"
        },
        "id": "zLI8xgp3hwtw",
        "outputId": "8d508135-a11c-4089-d6ca-a7c4f4e00e1c"
      },
      "source": [
        "# fit and apply the transform\n",
        "X_random, y_random = over.fit_resample(X_train_gs, y_train_gs)"
      ],
      "execution_count": 95,
      "outputs": [
        {
          "output_type": "stream",
          "text": [
            "/usr/local/lib/python3.7/dist-packages/sklearn/utils/deprecation.py:87: FutureWarning: Function safe_indexing is deprecated; safe_indexing is deprecated in version 0.22 and will be removed in version 0.24.\n",
            "  warnings.warn(msg, category=FutureWarning)\n"
          ],
          "name": "stderr"
        }
      ]
    },
    {
      "cell_type": "code",
      "metadata": {
        "id": "F_SM7rCohy-Z"
      },
      "source": [
        "#convert back to Dataframe\n",
        "X_train_updated = pd.DataFrame(X_random, columns= selected_columns)\n",
        "y_train_updated = pd.Series(y_random)"
      ],
      "execution_count": 96,
      "outputs": []
    },
    {
      "cell_type": "code",
      "metadata": {
        "colab": {
          "base_uri": "https://localhost:8080/"
        },
        "id": "7k0Ng_FDh1o2",
        "outputId": "719e944a-2fad-4bea-feb2-cb01f16b797f"
      },
      "source": [
        "target_counts_random = y_train_updated.value_counts()\n",
        "target_counts_random"
      ],
      "execution_count": 97,
      "outputs": [
        {
          "output_type": "execute_result",
          "data": {
            "text/plain": [
              "HUMAN_TRAFFICKING_OFFENSE    32754\n",
              "THEFT                        32754\n",
              "NON-CRIMINAL_ASSAULT         22315\n",
              "CRIMINAL_OFFENSE             17855\n",
              "OTHER_OFFENSE                 7645\n",
              "NARCOTIC_OFFENSE              6888\n",
              "SEXUAL_OFFENSE                1242\n",
              "WEAPONS_OFFENSE               1192\n",
              "dtype: int64"
            ]
          },
          "metadata": {
            "tags": []
          },
          "execution_count": 97
        }
      ]
    },
    {
      "cell_type": "code",
      "metadata": {
        "id": "ZwAEliQzh3cK"
      },
      "source": [
        "knn = KNeighborsClassifier(n_neighbors=25, metric='manhattan', weights = 'uniform')"
      ],
      "execution_count": 98,
      "outputs": []
    },
    {
      "cell_type": "code",
      "metadata": {
        "colab": {
          "base_uri": "https://localhost:8080/"
        },
        "id": "Ps41QYVCh68l",
        "outputId": "73e7007f-ae49-444b-c75a-d978de253e82"
      },
      "source": [
        "knn.fit(X_train_updated,y_train_updated)"
      ],
      "execution_count": 99,
      "outputs": [
        {
          "output_type": "execute_result",
          "data": {
            "text/plain": [
              "KNeighborsClassifier(algorithm='auto', leaf_size=30, metric='manhattan',\n",
              "                     metric_params=None, n_jobs=None, n_neighbors=25, p=2,\n",
              "                     weights='uniform')"
            ]
          },
          "metadata": {
            "tags": []
          },
          "execution_count": 99
        }
      ]
    },
    {
      "cell_type": "code",
      "metadata": {
        "id": "7kxEYbmEh9Ti"
      },
      "source": [
        "pred_i = knn.predict(X_test)"
      ],
      "execution_count": 100,
      "outputs": []
    },
    {
      "cell_type": "code",
      "metadata": {
        "colab": {
          "base_uri": "https://localhost:8080/"
        },
        "id": "yBqPsAGyiAaO",
        "outputId": "6d22c439-510c-4ff6-a99d-07da0afb739a"
      },
      "source": [
        "print('Accuracy ', metrics.accuracy_score(y_test, pred_i))\n",
        "print('F1 score ', metrics.f1_score(y_test, pred_i, average = 'weighted'))"
      ],
      "execution_count": 101,
      "outputs": [
        {
          "output_type": "stream",
          "text": [
            "Accuracy  0.25982446081242005\n",
            "F1 score  0.24723923202493578\n"
          ],
          "name": "stdout"
        }
      ]
    },
    {
      "cell_type": "code",
      "metadata": {
        "id": "StDEin4iiDLJ"
      },
      "source": [
        "# define undersampling strategy\n",
        "under = RandomUnderSampler(sampling_strategy= 'majority')"
      ],
      "execution_count": 102,
      "outputs": []
    },
    {
      "cell_type": "code",
      "metadata": {
        "colab": {
          "base_uri": "https://localhost:8080/"
        },
        "id": "DFXVFZKBiG0P",
        "outputId": "58c81b89-32b3-4f18-db47-745aa16f93cb"
      },
      "source": [
        "# fit and apply the transform\n",
        "X_train_updated, y_train_updated = under.fit_resample(X_train_gs, y_train_gs)"
      ],
      "execution_count": 103,
      "outputs": [
        {
          "output_type": "stream",
          "text": [
            "/usr/local/lib/python3.7/dist-packages/sklearn/utils/deprecation.py:87: FutureWarning: Function safe_indexing is deprecated; safe_indexing is deprecated in version 0.22 and will be removed in version 0.24.\n",
            "  warnings.warn(msg, category=FutureWarning)\n"
          ],
          "name": "stderr"
        }
      ]
    },
    {
      "cell_type": "code",
      "metadata": {
        "colab": {
          "base_uri": "https://localhost:8080/"
        },
        "id": "O9WSrnRYiM_4",
        "outputId": "847486a0-3a43-4ccb-b705-c9b15fb85a32"
      },
      "source": [
        "y_train_updated = pd.Series(y_train_updated)\n",
        "target_counts_random = y_train_gs.value_counts()\n",
        "target_counts_random"
      ],
      "execution_count": 104,
      "outputs": [
        {
          "output_type": "execute_result",
          "data": {
            "text/plain": [
              "THEFT                        32754\n",
              "NON-CRIMINAL_ASSAULT         22315\n",
              "CRIMINAL_OFFENSE             17855\n",
              "OTHER_OFFENSE                 7645\n",
              "NARCOTIC_OFFENSE              6888\n",
              "SEXUAL_OFFENSE                1242\n",
              "WEAPONS_OFFENSE               1192\n",
              "HUMAN_TRAFFICKING_OFFENSE      799\n",
              "Name: primary_type_grouped, dtype: int64"
            ]
          },
          "metadata": {
            "tags": []
          },
          "execution_count": 104
        }
      ]
    },
    {
      "cell_type": "code",
      "metadata": {
        "id": "rlZNdccQiPVz"
      },
      "source": [
        "knn = KNeighborsClassifier(n_neighbors=25, metric='manhattan', weights = 'uniform')"
      ],
      "execution_count": 105,
      "outputs": []
    },
    {
      "cell_type": "code",
      "metadata": {
        "colab": {
          "base_uri": "https://localhost:8080/"
        },
        "id": "RPfaGrmbiSy7",
        "outputId": "c1213ab1-8ebc-4b97-e019-c11a9de0495e"
      },
      "source": [
        "knn.fit(X_train_updated,y_train_updated)"
      ],
      "execution_count": 106,
      "outputs": [
        {
          "output_type": "execute_result",
          "data": {
            "text/plain": [
              "KNeighborsClassifier(algorithm='auto', leaf_size=30, metric='manhattan',\n",
              "                     metric_params=None, n_jobs=None, n_neighbors=25, p=2,\n",
              "                     weights='uniform')"
            ]
          },
          "metadata": {
            "tags": []
          },
          "execution_count": 106
        }
      ]
    },
    {
      "cell_type": "code",
      "metadata": {
        "id": "EWiTLvetiVYP"
      },
      "source": [
        "pred_i = knn.predict(X_test)"
      ],
      "execution_count": 107,
      "outputs": []
    },
    {
      "cell_type": "code",
      "metadata": {
        "colab": {
          "base_uri": "https://localhost:8080/"
        },
        "id": "M1-ygUseiXeX",
        "outputId": "86c8f648-cc86-436a-b6fd-b2383315bb09"
      },
      "source": [
        "print('Accuracy ', metrics.accuracy_score(y_test, pred_i))\n",
        "print('F1 score ', metrics.f1_score(y_test, pred_i, average = 'weighted'))"
      ],
      "execution_count": 108,
      "outputs": [
        {
          "output_type": "stream",
          "text": [
            "Accuracy  0.253296872932563\n",
            "F1 score  0.1740108568586419\n"
          ],
          "name": "stdout"
        }
      ]
    },
    {
      "cell_type": "code",
      "metadata": {
        "id": "5Wb__zJdiapT"
      },
      "source": [
        "from sklearn.ensemble import VotingClassifier\n",
        "from sklearn.ensemble import RandomForestClassifier\n",
        "from sklearn.svm import SVC\n",
        "from sklearn.linear_model import LogisticRegression"
      ],
      "execution_count": 109,
      "outputs": []
    },
    {
      "cell_type": "code",
      "metadata": {
        "id": "xytpwkg9imRQ"
      },
      "source": [
        "#KNN with - 25 neighbours\n",
        "knn = KNeighborsClassifier(25, metric='manhattan', weights = 'uniform',n_jobs= -1)\n",
        "\n",
        "#random forest with 75 Decision Trees\n",
        "rf = RandomForestClassifier(10, max_depth = 10, n_jobs= -1)\n",
        "\n",
        "#Support Vector Classifier\n",
        "svm = SVC(kernel = 'linear', random_state = 123, probability=True)"
      ],
      "execution_count": 110,
      "outputs": []
    },
    {
      "cell_type": "code",
      "metadata": {
        "colab": {
          "base_uri": "https://localhost:8080/"
        },
        "id": "vELO6ORkioTG",
        "outputId": "1c822417-3b67-475a-846d-e566706f60a0"
      },
      "source": [
        "# can using previopusly trained KNN as well\n",
        "knn.fit(X_train_gs,y_train_gs)"
      ],
      "execution_count": 111,
      "outputs": [
        {
          "output_type": "execute_result",
          "data": {
            "text/plain": [
              "KNeighborsClassifier(algorithm='auto', leaf_size=30, metric='manhattan',\n",
              "                     metric_params=None, n_jobs=-1, n_neighbors=25, p=2,\n",
              "                     weights='uniform')"
            ]
          },
          "metadata": {
            "tags": []
          },
          "execution_count": 111
        }
      ]
    },
    {
      "cell_type": "code",
      "metadata": {
        "colab": {
          "base_uri": "https://localhost:8080/"
        },
        "id": "MCWB7mNciqfa",
        "outputId": "984d8ac4-2e89-48fa-eaf8-717d82f2839b"
      },
      "source": [
        "rf.fit(X_train_gs,y_train_gs)"
      ],
      "execution_count": 112,
      "outputs": [
        {
          "output_type": "execute_result",
          "data": {
            "text/plain": [
              "RandomForestClassifier(bootstrap=True, ccp_alpha=0.0, class_weight=None,\n",
              "                       criterion='gini', max_depth=10, max_features='auto',\n",
              "                       max_leaf_nodes=None, max_samples=None,\n",
              "                       min_impurity_decrease=0.0, min_impurity_split=None,\n",
              "                       min_samples_leaf=1, min_samples_split=2,\n",
              "                       min_weight_fraction_leaf=0.0, n_estimators=10, n_jobs=-1,\n",
              "                       oob_score=False, random_state=None, verbose=0,\n",
              "                       warm_start=False)"
            ]
          },
          "metadata": {
            "tags": []
          },
          "execution_count": 112
        }
      ]
    },
    {
      "cell_type": "code",
      "metadata": {
        "colab": {
          "base_uri": "https://localhost:8080/"
        },
        "id": "QkV1amqCix0I",
        "outputId": "24911cf2-bd12-488f-adde-6ab0931c1233"
      },
      "source": [
        "rf.score(X_test, y_test)"
      ],
      "execution_count": 113,
      "outputs": [
        {
          "output_type": "execute_result",
          "data": {
            "text/plain": [
              "0.37815904379658627"
            ]
          },
          "metadata": {
            "tags": []
          },
          "execution_count": 113
        }
      ]
    },
    {
      "cell_type": "code",
      "metadata": {
        "id": "aYdadhgFmhOV"
      },
      "source": [
        "#create a dictionary of our models\n",
        "estimators=[('knn', knn), ('rf', rf), ('svm', svm)]\n",
        "#create our voting classifier, inputting our models\n",
        "ensemble = VotingClassifier(estimators, voting='hard')"
      ],
      "execution_count": 114,
      "outputs": []
    }
  ]
}