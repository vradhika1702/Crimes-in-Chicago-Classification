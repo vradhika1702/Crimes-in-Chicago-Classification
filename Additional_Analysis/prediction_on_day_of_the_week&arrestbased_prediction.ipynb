{
 "cells": [
  {
   "cell_type": "code",
   "execution_count": 2,
   "metadata": {
    "id": "3AhAn61jCT9D"
   },
   "outputs": [],
   "source": [
    "import numpy as np\n",
    "import pandas as pd\n",
    "import matplotlib.pyplot as plt\n",
    "import seaborn as sns\n",
    "import missingno as msno \n",
    "from sklearn.model_selection import train_test_split\n",
    "from sklearn.preprocessing import StandardScaler\n",
    "\n",
    "from sklearn.linear_model import LogisticRegression\n",
    "from sklearn import metrics\n",
    "from sklearn.metrics import classification_report\n",
    "from sklearn import preprocessing\n",
    "\n",
    "%matplotlib inline\n",
    "sns.set_style(\"darkgrid\")"
   ]
  },
  {
   "cell_type": "code",
   "execution_count": 3,
   "metadata": {
    "id": "vhrRE7dBCm7W"
   },
   "outputs": [],
   "source": [
    "crimes=pd.read_csv('data/Crimes_-_2001_to_Present.csv')"
   ]
  },
  {
   "cell_type": "code",
   "execution_count": 4,
   "metadata": {
    "colab": {
     "base_uri": "https://localhost:8080/",
     "height": 411
    },
    "id": "oQjser2xDU2M",
    "outputId": "d62380b7-33b8-4e03-b606-bccd5f0cd4be"
   },
   "outputs": [
    {
     "data": {
      "text/html": [
       "<div>\n",
       "<style scoped>\n",
       "    .dataframe tbody tr th:only-of-type {\n",
       "        vertical-align: middle;\n",
       "    }\n",
       "\n",
       "    .dataframe tbody tr th {\n",
       "        vertical-align: top;\n",
       "    }\n",
       "\n",
       "    .dataframe thead th {\n",
       "        text-align: right;\n",
       "    }\n",
       "</style>\n",
       "<table border=\"1\" class=\"dataframe\">\n",
       "  <thead>\n",
       "    <tr style=\"text-align: right;\">\n",
       "      <th></th>\n",
       "      <th>ID</th>\n",
       "      <th>Case Number</th>\n",
       "      <th>Date</th>\n",
       "      <th>Block</th>\n",
       "      <th>IUCR</th>\n",
       "      <th>Primary Type</th>\n",
       "      <th>Description</th>\n",
       "      <th>Location Description</th>\n",
       "      <th>Arrest</th>\n",
       "      <th>Domestic</th>\n",
       "      <th>...</th>\n",
       "      <th>Ward</th>\n",
       "      <th>Community Area</th>\n",
       "      <th>FBI Code</th>\n",
       "      <th>X Coordinate</th>\n",
       "      <th>Y Coordinate</th>\n",
       "      <th>Year</th>\n",
       "      <th>Updated On</th>\n",
       "      <th>Latitude</th>\n",
       "      <th>Longitude</th>\n",
       "      <th>Location</th>\n",
       "    </tr>\n",
       "  </thead>\n",
       "  <tbody>\n",
       "    <tr>\n",
       "      <th>0</th>\n",
       "      <td>10224738</td>\n",
       "      <td>HY411648</td>\n",
       "      <td>09/05/2015 01:30:00 PM</td>\n",
       "      <td>043XX S WOOD ST</td>\n",
       "      <td>0486</td>\n",
       "      <td>BATTERY</td>\n",
       "      <td>DOMESTIC BATTERY SIMPLE</td>\n",
       "      <td>RESIDENCE</td>\n",
       "      <td>False</td>\n",
       "      <td>True</td>\n",
       "      <td>...</td>\n",
       "      <td>12.0</td>\n",
       "      <td>61.0</td>\n",
       "      <td>08B</td>\n",
       "      <td>1165074.0</td>\n",
       "      <td>1875917.0</td>\n",
       "      <td>2015</td>\n",
       "      <td>02/10/2018 03:50:01 PM</td>\n",
       "      <td>41.815117</td>\n",
       "      <td>-87.670000</td>\n",
       "      <td>(41.815117282, -87.669999562)</td>\n",
       "    </tr>\n",
       "    <tr>\n",
       "      <th>1</th>\n",
       "      <td>10224739</td>\n",
       "      <td>HY411615</td>\n",
       "      <td>09/04/2015 11:30:00 AM</td>\n",
       "      <td>008XX N CENTRAL AVE</td>\n",
       "      <td>0870</td>\n",
       "      <td>THEFT</td>\n",
       "      <td>POCKET-PICKING</td>\n",
       "      <td>CTA BUS</td>\n",
       "      <td>False</td>\n",
       "      <td>False</td>\n",
       "      <td>...</td>\n",
       "      <td>29.0</td>\n",
       "      <td>25.0</td>\n",
       "      <td>06</td>\n",
       "      <td>1138875.0</td>\n",
       "      <td>1904869.0</td>\n",
       "      <td>2015</td>\n",
       "      <td>02/10/2018 03:50:01 PM</td>\n",
       "      <td>41.895080</td>\n",
       "      <td>-87.765400</td>\n",
       "      <td>(41.895080471, -87.765400451)</td>\n",
       "    </tr>\n",
       "    <tr>\n",
       "      <th>2</th>\n",
       "      <td>11646166</td>\n",
       "      <td>JC213529</td>\n",
       "      <td>09/01/2018 12:01:00 AM</td>\n",
       "      <td>082XX S INGLESIDE AVE</td>\n",
       "      <td>0810</td>\n",
       "      <td>THEFT</td>\n",
       "      <td>OVER $500</td>\n",
       "      <td>RESIDENCE</td>\n",
       "      <td>False</td>\n",
       "      <td>True</td>\n",
       "      <td>...</td>\n",
       "      <td>8.0</td>\n",
       "      <td>44.0</td>\n",
       "      <td>06</td>\n",
       "      <td>NaN</td>\n",
       "      <td>NaN</td>\n",
       "      <td>2018</td>\n",
       "      <td>04/06/2019 04:04:43 PM</td>\n",
       "      <td>NaN</td>\n",
       "      <td>NaN</td>\n",
       "      <td>NaN</td>\n",
       "    </tr>\n",
       "    <tr>\n",
       "      <th>3</th>\n",
       "      <td>10224740</td>\n",
       "      <td>HY411595</td>\n",
       "      <td>09/05/2015 12:45:00 PM</td>\n",
       "      <td>035XX W BARRY AVE</td>\n",
       "      <td>2023</td>\n",
       "      <td>NARCOTICS</td>\n",
       "      <td>POSS: HEROIN(BRN/TAN)</td>\n",
       "      <td>SIDEWALK</td>\n",
       "      <td>True</td>\n",
       "      <td>False</td>\n",
       "      <td>...</td>\n",
       "      <td>35.0</td>\n",
       "      <td>21.0</td>\n",
       "      <td>18</td>\n",
       "      <td>1152037.0</td>\n",
       "      <td>1920384.0</td>\n",
       "      <td>2015</td>\n",
       "      <td>02/10/2018 03:50:01 PM</td>\n",
       "      <td>41.937406</td>\n",
       "      <td>-87.716650</td>\n",
       "      <td>(41.937405765, -87.716649687)</td>\n",
       "    </tr>\n",
       "    <tr>\n",
       "      <th>4</th>\n",
       "      <td>10224741</td>\n",
       "      <td>HY411610</td>\n",
       "      <td>09/05/2015 01:00:00 PM</td>\n",
       "      <td>0000X N LARAMIE AVE</td>\n",
       "      <td>0560</td>\n",
       "      <td>ASSAULT</td>\n",
       "      <td>SIMPLE</td>\n",
       "      <td>APARTMENT</td>\n",
       "      <td>False</td>\n",
       "      <td>True</td>\n",
       "      <td>...</td>\n",
       "      <td>28.0</td>\n",
       "      <td>25.0</td>\n",
       "      <td>08A</td>\n",
       "      <td>1141706.0</td>\n",
       "      <td>1900086.0</td>\n",
       "      <td>2015</td>\n",
       "      <td>02/10/2018 03:50:01 PM</td>\n",
       "      <td>41.881903</td>\n",
       "      <td>-87.755121</td>\n",
       "      <td>(41.881903443, -87.755121152)</td>\n",
       "    </tr>\n",
       "  </tbody>\n",
       "</table>\n",
       "<p>5 rows × 22 columns</p>\n",
       "</div>"
      ],
      "text/plain": [
       "         ID Case Number                    Date                  Block  IUCR  \\\n",
       "0  10224738    HY411648  09/05/2015 01:30:00 PM        043XX S WOOD ST  0486   \n",
       "1  10224739    HY411615  09/04/2015 11:30:00 AM    008XX N CENTRAL AVE  0870   \n",
       "2  11646166    JC213529  09/01/2018 12:01:00 AM  082XX S INGLESIDE AVE  0810   \n",
       "3  10224740    HY411595  09/05/2015 12:45:00 PM      035XX W BARRY AVE  2023   \n",
       "4  10224741    HY411610  09/05/2015 01:00:00 PM    0000X N LARAMIE AVE  0560   \n",
       "\n",
       "  Primary Type              Description Location Description  Arrest  \\\n",
       "0      BATTERY  DOMESTIC BATTERY SIMPLE            RESIDENCE   False   \n",
       "1        THEFT           POCKET-PICKING              CTA BUS   False   \n",
       "2        THEFT                OVER $500            RESIDENCE   False   \n",
       "3    NARCOTICS    POSS: HEROIN(BRN/TAN)             SIDEWALK    True   \n",
       "4      ASSAULT                   SIMPLE            APARTMENT   False   \n",
       "\n",
       "   Domestic  ...  Ward  Community Area  FBI Code  X Coordinate Y Coordinate  \\\n",
       "0      True  ...  12.0            61.0       08B     1165074.0    1875917.0   \n",
       "1     False  ...  29.0            25.0        06     1138875.0    1904869.0   \n",
       "2      True  ...   8.0            44.0        06           NaN          NaN   \n",
       "3     False  ...  35.0            21.0        18     1152037.0    1920384.0   \n",
       "4      True  ...  28.0            25.0       08A     1141706.0    1900086.0   \n",
       "\n",
       "   Year              Updated On   Latitude  Longitude  \\\n",
       "0  2015  02/10/2018 03:50:01 PM  41.815117 -87.670000   \n",
       "1  2015  02/10/2018 03:50:01 PM  41.895080 -87.765400   \n",
       "2  2018  04/06/2019 04:04:43 PM        NaN        NaN   \n",
       "3  2015  02/10/2018 03:50:01 PM  41.937406 -87.716650   \n",
       "4  2015  02/10/2018 03:50:01 PM  41.881903 -87.755121   \n",
       "\n",
       "                        Location  \n",
       "0  (41.815117282, -87.669999562)  \n",
       "1  (41.895080471, -87.765400451)  \n",
       "2                            NaN  \n",
       "3  (41.937405765, -87.716649687)  \n",
       "4  (41.881903443, -87.755121152)  \n",
       "\n",
       "[5 rows x 22 columns]"
      ]
     },
     "execution_count": 4,
     "metadata": {},
     "output_type": "execute_result"
    }
   ],
   "source": [
    "crimes.head()"
   ]
  },
  {
   "cell_type": "code",
   "execution_count": 5,
   "metadata": {
    "id": "cDRhl7H1DcZP"
   },
   "outputs": [],
   "source": [
    "crimes.columns = crimes.columns.str.strip()\n",
    "crimes.columns = crimes.columns.str.replace(',', '')\n",
    "crimes.columns = crimes.columns.str.replace(' ', '_')\n",
    "crimes.columns = crimes.columns.str.lower()"
   ]
  },
  {
   "cell_type": "code",
   "execution_count": 6,
   "metadata": {
    "colab": {
     "base_uri": "https://localhost:8080/"
    },
    "id": "hjSKtM5dDjNK",
    "outputId": "68ee24c1-98e5-4fa6-eee0-c4f40cdca9c0"
   },
   "outputs": [
    {
     "name": "stdout",
     "output_type": "stream",
     "text": [
      "<class 'pandas.core.frame.DataFrame'>\n",
      "RangeIndex: 7311030 entries, 0 to 7311029\n",
      "Data columns (total 22 columns):\n",
      "id                      int64\n",
      "case_number             object\n",
      "date                    object\n",
      "block                   object\n",
      "iucr                    object\n",
      "primary_type            object\n",
      "description             object\n",
      "location_description    object\n",
      "arrest                  bool\n",
      "domestic                bool\n",
      "beat                    int64\n",
      "district                float64\n",
      "ward                    float64\n",
      "community_area          float64\n",
      "fbi_code                object\n",
      "x_coordinate            float64\n",
      "y_coordinate            float64\n",
      "year                    int64\n",
      "updated_on              object\n",
      "latitude                float64\n",
      "longitude               float64\n",
      "location                object\n",
      "dtypes: bool(2), float64(7), int64(3), object(10)\n",
      "memory usage: 1.1+ GB\n"
     ]
    }
   ],
   "source": [
    "crimes.info()"
   ]
  },
  {
   "cell_type": "code",
   "execution_count": 7,
   "metadata": {
    "colab": {
     "base_uri": "https://localhost:8080/",
     "height": 69
    },
    "id": "slKiagugDtVT",
    "outputId": "728d821b-bba3-4bbd-b59a-9cbc0abc703f"
   },
   "outputs": [
    {
     "data": {
      "text/html": [
       "<div>\n",
       "<style scoped>\n",
       "    .dataframe tbody tr th:only-of-type {\n",
       "        vertical-align: middle;\n",
       "    }\n",
       "\n",
       "    .dataframe tbody tr th {\n",
       "        vertical-align: top;\n",
       "    }\n",
       "\n",
       "    .dataframe thead th {\n",
       "        text-align: right;\n",
       "    }\n",
       "</style>\n",
       "<table border=\"1\" class=\"dataframe\">\n",
       "  <thead>\n",
       "    <tr style=\"text-align: right;\">\n",
       "      <th></th>\n",
       "      <th>id</th>\n",
       "      <th>case_number</th>\n",
       "      <th>date</th>\n",
       "      <th>block</th>\n",
       "      <th>iucr</th>\n",
       "      <th>primary_type</th>\n",
       "      <th>description</th>\n",
       "      <th>location_description</th>\n",
       "      <th>arrest</th>\n",
       "      <th>domestic</th>\n",
       "      <th>...</th>\n",
       "      <th>ward</th>\n",
       "      <th>community_area</th>\n",
       "      <th>fbi_code</th>\n",
       "      <th>x_coordinate</th>\n",
       "      <th>y_coordinate</th>\n",
       "      <th>year</th>\n",
       "      <th>updated_on</th>\n",
       "      <th>latitude</th>\n",
       "      <th>longitude</th>\n",
       "      <th>location</th>\n",
       "    </tr>\n",
       "  </thead>\n",
       "  <tbody>\n",
       "  </tbody>\n",
       "</table>\n",
       "<p>0 rows × 22 columns</p>\n",
       "</div>"
      ],
      "text/plain": [
       "Empty DataFrame\n",
       "Columns: [id, case_number, date, block, iucr, primary_type, description, location_description, arrest, domestic, beat, district, ward, community_area, fbi_code, x_coordinate, y_coordinate, year, updated_on, latitude, longitude, location]\n",
       "Index: []\n",
       "\n",
       "[0 rows x 22 columns]"
      ]
     },
     "execution_count": 7,
     "metadata": {},
     "output_type": "execute_result"
    }
   ],
   "source": [
    "crimes[crimes.duplicated(keep=False)]"
   ]
  },
  {
   "cell_type": "code",
   "execution_count": 8,
   "metadata": {
    "id": "EyPxGbTgDxnw"
   },
   "outputs": [],
   "source": [
    "crimes.drop(['id','case_number','location'],axis=1,inplace=True)"
   ]
  },
  {
   "cell_type": "code",
   "execution_count": 9,
   "metadata": {
    "colab": {
     "base_uri": "https://localhost:8080/",
     "height": 456
    },
    "id": "4j2g9zGVD6Xz",
    "outputId": "7c63d954-19c6-459f-da26-bc2d887dc136"
   },
   "outputs": [
    {
     "data": {
      "text/plain": [
       "<matplotlib.axes._subplots.AxesSubplot at 0x7f9b9ff690d0>"
      ]
     },
     "execution_count": 9,
     "metadata": {},
     "output_type": "execute_result"
    },
    {
     "data": {
      "image/png": "[encoded data removed]",
      "text/plain": [
       "<Figure size 1080x360 with 2 Axes>"
      ]
     },
     "metadata": {
      "needs_background": "light"
     },
     "output_type": "display_data"
    }
   ],
   "source": [
    "msno.heatmap(crimes,figsize=(15, 5))"
   ]
  },
  {
   "cell_type": "code",
   "execution_count": 10,
   "metadata": {
    "colab": {
     "base_uri": "https://localhost:8080/"
    },
    "id": "KZHxT4jaD9yO",
    "outputId": "ab8776dd-9e9f-4ef0-a11a-3f5edc6e421a"
   },
   "outputs": [
    {
     "data": {
      "text/plain": [
       "date                         0\n",
       "block                        0\n",
       "iucr                         0\n",
       "primary_type                 0\n",
       "description                  0\n",
       "location_description      8190\n",
       "arrest                       0\n",
       "domestic                     0\n",
       "beat                         0\n",
       "district                    47\n",
       "ward                    614835\n",
       "community_area          613484\n",
       "fbi_code                     0\n",
       "x_coordinate             72136\n",
       "y_coordinate             72136\n",
       "year                         0\n",
       "updated_on                   0\n",
       "latitude                 72136\n",
       "longitude                72136\n",
       "dtype: int64"
      ]
     },
     "execution_count": 10,
     "metadata": {},
     "output_type": "execute_result"
    }
   ],
   "source": [
    "crimes.isnull().sum()"
   ]
  },
  {
   "cell_type": "code",
   "execution_count": 11,
   "metadata": {
    "id": "70KYzGE8EB_U"
   },
   "outputs": [],
   "source": [
    "crimes.dropna(subset=['latitude'],inplace=True)\n",
    "crimes.reset_index(drop=True,inplace=True)"
   ]
  },
  {
   "cell_type": "code",
   "execution_count": 12,
   "metadata": {
    "id": "l0ikkc6wEHQa"
   },
   "outputs": [],
   "source": [
    "crimes.dropna(inplace=True)\n",
    "crimes.reset_index(drop=True,inplace=True)"
   ]
  },
  {
   "cell_type": "code",
   "execution_count": 13,
   "metadata": {
    "colab": {
     "base_uri": "https://localhost:8080/"
    },
    "id": "BP90LWWdEK8S",
    "outputId": "26e37935-5c80-4771-8e6e-2610f9fa2e15"
   },
   "outputs": [
    {
     "name": "stdout",
     "output_type": "stream",
     "text": [
      "<class 'pandas.core.frame.DataFrame'>\n",
      "RangeIndex: 6626786 entries, 0 to 6626785\n",
      "Data columns (total 19 columns):\n",
      "date                    object\n",
      "block                   object\n",
      "iucr                    object\n",
      "primary_type            object\n",
      "description             object\n",
      "location_description    object\n",
      "arrest                  bool\n",
      "domestic                bool\n",
      "beat                    int64\n",
      "district                float64\n",
      "ward                    float64\n",
      "community_area          float64\n",
      "fbi_code                object\n",
      "x_coordinate            float64\n",
      "y_coordinate            float64\n",
      "year                    int64\n",
      "updated_on              object\n",
      "latitude                float64\n",
      "longitude               float64\n",
      "dtypes: bool(2), float64(7), int64(2), object(8)\n",
      "memory usage: 872.1+ MB\n"
     ]
    }
   ],
   "source": [
    "crimes.info()"
   ]
  },
  {
   "cell_type": "code",
   "execution_count": 14,
   "metadata": {
    "id": "we_ELEDwEPHc"
   },
   "outputs": [],
   "source": [
    "crimes.date = pd.to_datetime(crimes.date)\n",
    "crimes['day_of_week'] = crimes.date.dt.day_name()\n",
    "crimes['month'] = crimes.date.dt.month_name()\n",
    "crimes['time'] = crimes.date.dt.hour"
   ]
  },
  {
   "cell_type": "code",
   "execution_count": 15,
   "metadata": {},
   "outputs": [
    {
     "data": {
      "text/html": [
       "<div>\n",
       "<style scoped>\n",
       "    .dataframe tbody tr th:only-of-type {\n",
       "        vertical-align: middle;\n",
       "    }\n",
       "\n",
       "    .dataframe tbody tr th {\n",
       "        vertical-align: top;\n",
       "    }\n",
       "\n",
       "    .dataframe thead th {\n",
       "        text-align: right;\n",
       "    }\n",
       "</style>\n",
       "<table border=\"1\" class=\"dataframe\">\n",
       "  <thead>\n",
       "    <tr style=\"text-align: right;\">\n",
       "      <th></th>\n",
       "      <th>date</th>\n",
       "      <th>block</th>\n",
       "      <th>iucr</th>\n",
       "      <th>primary_type</th>\n",
       "      <th>description</th>\n",
       "      <th>location_description</th>\n",
       "      <th>arrest</th>\n",
       "      <th>domestic</th>\n",
       "      <th>beat</th>\n",
       "      <th>district</th>\n",
       "      <th>...</th>\n",
       "      <th>fbi_code</th>\n",
       "      <th>x_coordinate</th>\n",
       "      <th>y_coordinate</th>\n",
       "      <th>year</th>\n",
       "      <th>updated_on</th>\n",
       "      <th>latitude</th>\n",
       "      <th>longitude</th>\n",
       "      <th>day_of_week</th>\n",
       "      <th>month</th>\n",
       "      <th>time</th>\n",
       "    </tr>\n",
       "  </thead>\n",
       "  <tbody>\n",
       "    <tr>\n",
       "      <th>0</th>\n",
       "      <td>2015-09-05 13:30:00</td>\n",
       "      <td>043XX S WOOD ST</td>\n",
       "      <td>0486</td>\n",
       "      <td>BATTERY</td>\n",
       "      <td>DOMESTIC BATTERY SIMPLE</td>\n",
       "      <td>RESIDENCE</td>\n",
       "      <td>False</td>\n",
       "      <td>True</td>\n",
       "      <td>924</td>\n",
       "      <td>9.0</td>\n",
       "      <td>...</td>\n",
       "      <td>08B</td>\n",
       "      <td>1165074.0</td>\n",
       "      <td>1875917.0</td>\n",
       "      <td>2015</td>\n",
       "      <td>02/10/2018 03:50:01 PM</td>\n",
       "      <td>41.815117</td>\n",
       "      <td>-87.670000</td>\n",
       "      <td>Saturday</td>\n",
       "      <td>September</td>\n",
       "      <td>13</td>\n",
       "    </tr>\n",
       "    <tr>\n",
       "      <th>1</th>\n",
       "      <td>2015-09-04 11:30:00</td>\n",
       "      <td>008XX N CENTRAL AVE</td>\n",
       "      <td>0870</td>\n",
       "      <td>THEFT</td>\n",
       "      <td>POCKET-PICKING</td>\n",
       "      <td>CTA BUS</td>\n",
       "      <td>False</td>\n",
       "      <td>False</td>\n",
       "      <td>1511</td>\n",
       "      <td>15.0</td>\n",
       "      <td>...</td>\n",
       "      <td>06</td>\n",
       "      <td>1138875.0</td>\n",
       "      <td>1904869.0</td>\n",
       "      <td>2015</td>\n",
       "      <td>02/10/2018 03:50:01 PM</td>\n",
       "      <td>41.895080</td>\n",
       "      <td>-87.765400</td>\n",
       "      <td>Friday</td>\n",
       "      <td>September</td>\n",
       "      <td>11</td>\n",
       "    </tr>\n",
       "    <tr>\n",
       "      <th>2</th>\n",
       "      <td>2015-09-05 12:45:00</td>\n",
       "      <td>035XX W BARRY AVE</td>\n",
       "      <td>2023</td>\n",
       "      <td>NARCOTICS</td>\n",
       "      <td>POSS: HEROIN(BRN/TAN)</td>\n",
       "      <td>SIDEWALK</td>\n",
       "      <td>True</td>\n",
       "      <td>False</td>\n",
       "      <td>1412</td>\n",
       "      <td>14.0</td>\n",
       "      <td>...</td>\n",
       "      <td>18</td>\n",
       "      <td>1152037.0</td>\n",
       "      <td>1920384.0</td>\n",
       "      <td>2015</td>\n",
       "      <td>02/10/2018 03:50:01 PM</td>\n",
       "      <td>41.937406</td>\n",
       "      <td>-87.716650</td>\n",
       "      <td>Saturday</td>\n",
       "      <td>September</td>\n",
       "      <td>12</td>\n",
       "    </tr>\n",
       "    <tr>\n",
       "      <th>3</th>\n",
       "      <td>2015-09-05 13:00:00</td>\n",
       "      <td>0000X N LARAMIE AVE</td>\n",
       "      <td>0560</td>\n",
       "      <td>ASSAULT</td>\n",
       "      <td>SIMPLE</td>\n",
       "      <td>APARTMENT</td>\n",
       "      <td>False</td>\n",
       "      <td>True</td>\n",
       "      <td>1522</td>\n",
       "      <td>15.0</td>\n",
       "      <td>...</td>\n",
       "      <td>08A</td>\n",
       "      <td>1141706.0</td>\n",
       "      <td>1900086.0</td>\n",
       "      <td>2015</td>\n",
       "      <td>02/10/2018 03:50:01 PM</td>\n",
       "      <td>41.881903</td>\n",
       "      <td>-87.755121</td>\n",
       "      <td>Saturday</td>\n",
       "      <td>September</td>\n",
       "      <td>13</td>\n",
       "    </tr>\n",
       "    <tr>\n",
       "      <th>4</th>\n",
       "      <td>2015-09-05 10:55:00</td>\n",
       "      <td>082XX S LOOMIS BLVD</td>\n",
       "      <td>0610</td>\n",
       "      <td>BURGLARY</td>\n",
       "      <td>FORCIBLE ENTRY</td>\n",
       "      <td>RESIDENCE</td>\n",
       "      <td>False</td>\n",
       "      <td>False</td>\n",
       "      <td>614</td>\n",
       "      <td>6.0</td>\n",
       "      <td>...</td>\n",
       "      <td>05</td>\n",
       "      <td>1168430.0</td>\n",
       "      <td>1850165.0</td>\n",
       "      <td>2015</td>\n",
       "      <td>02/10/2018 03:50:01 PM</td>\n",
       "      <td>41.744379</td>\n",
       "      <td>-87.658431</td>\n",
       "      <td>Saturday</td>\n",
       "      <td>September</td>\n",
       "      <td>10</td>\n",
       "    </tr>\n",
       "    <tr>\n",
       "      <th>...</th>\n",
       "      <td>...</td>\n",
       "      <td>...</td>\n",
       "      <td>...</td>\n",
       "      <td>...</td>\n",
       "      <td>...</td>\n",
       "      <td>...</td>\n",
       "      <td>...</td>\n",
       "      <td>...</td>\n",
       "      <td>...</td>\n",
       "      <td>...</td>\n",
       "      <td>...</td>\n",
       "      <td>...</td>\n",
       "      <td>...</td>\n",
       "      <td>...</td>\n",
       "      <td>...</td>\n",
       "      <td>...</td>\n",
       "      <td>...</td>\n",
       "      <td>...</td>\n",
       "      <td>...</td>\n",
       "      <td>...</td>\n",
       "      <td>...</td>\n",
       "    </tr>\n",
       "    <tr>\n",
       "      <th>6626781</th>\n",
       "      <td>2021-03-01 00:00:00</td>\n",
       "      <td>101XX S LUELLA AVE</td>\n",
       "      <td>1130</td>\n",
       "      <td>DECEPTIVE PRACTICE</td>\n",
       "      <td>FRAUD OR CONFIDENCE GAME</td>\n",
       "      <td>RESIDENCE</td>\n",
       "      <td>False</td>\n",
       "      <td>False</td>\n",
       "      <td>431</td>\n",
       "      <td>4.0</td>\n",
       "      <td>...</td>\n",
       "      <td>11</td>\n",
       "      <td>1193169.0</td>\n",
       "      <td>1838168.0</td>\n",
       "      <td>2021</td>\n",
       "      <td>04/21/2021 04:49:40 PM</td>\n",
       "      <td>41.710890</td>\n",
       "      <td>-87.568176</td>\n",
       "      <td>Monday</td>\n",
       "      <td>March</td>\n",
       "      <td>0</td>\n",
       "    </tr>\n",
       "    <tr>\n",
       "      <th>6626782</th>\n",
       "      <td>2021-01-02 09:00:00</td>\n",
       "      <td>023XX N COMMONWEALTH AVE</td>\n",
       "      <td>1582</td>\n",
       "      <td>OFFENSE INVOLVING CHILDREN</td>\n",
       "      <td>CHILD PORNOGRAPHY</td>\n",
       "      <td>RESIDENCE</td>\n",
       "      <td>False</td>\n",
       "      <td>False</td>\n",
       "      <td>1814</td>\n",
       "      <td>18.0</td>\n",
       "      <td>...</td>\n",
       "      <td>17</td>\n",
       "      <td>1173456.0</td>\n",
       "      <td>1915754.0</td>\n",
       "      <td>2021</td>\n",
       "      <td>04/21/2021 04:52:37 PM</td>\n",
       "      <td>41.924251</td>\n",
       "      <td>-87.638070</td>\n",
       "      <td>Saturday</td>\n",
       "      <td>January</td>\n",
       "      <td>9</td>\n",
       "    </tr>\n",
       "    <tr>\n",
       "      <th>6626783</th>\n",
       "      <td>2021-04-14 00:00:00</td>\n",
       "      <td>039XX W DIVISION ST</td>\n",
       "      <td>1750</td>\n",
       "      <td>OFFENSE INVOLVING CHILDREN</td>\n",
       "      <td>CHILD ABUSE</td>\n",
       "      <td>APARTMENT</td>\n",
       "      <td>False</td>\n",
       "      <td>True</td>\n",
       "      <td>2535</td>\n",
       "      <td>25.0</td>\n",
       "      <td>...</td>\n",
       "      <td>08B</td>\n",
       "      <td>1149740.0</td>\n",
       "      <td>1907713.0</td>\n",
       "      <td>2021</td>\n",
       "      <td>04/21/2021 04:52:37 PM</td>\n",
       "      <td>41.902680</td>\n",
       "      <td>-87.725422</td>\n",
       "      <td>Wednesday</td>\n",
       "      <td>April</td>\n",
       "      <td>0</td>\n",
       "    </tr>\n",
       "    <tr>\n",
       "      <th>6626784</th>\n",
       "      <td>2021-04-14 19:09:00</td>\n",
       "      <td>011XX N DEARBORN ST</td>\n",
       "      <td>0530</td>\n",
       "      <td>ASSAULT</td>\n",
       "      <td>AGGRAVATED - OTHER DANGEROUS WEAPON</td>\n",
       "      <td>APARTMENT</td>\n",
       "      <td>True</td>\n",
       "      <td>False</td>\n",
       "      <td>1824</td>\n",
       "      <td>18.0</td>\n",
       "      <td>...</td>\n",
       "      <td>04A</td>\n",
       "      <td>1175721.0</td>\n",
       "      <td>1908209.0</td>\n",
       "      <td>2021</td>\n",
       "      <td>04/21/2021 04:52:37 PM</td>\n",
       "      <td>41.903497</td>\n",
       "      <td>-87.629975</td>\n",
       "      <td>Wednesday</td>\n",
       "      <td>April</td>\n",
       "      <td>19</td>\n",
       "    </tr>\n",
       "    <tr>\n",
       "      <th>6626785</th>\n",
       "      <td>2021-04-14 11:45:00</td>\n",
       "      <td>084XX S DR MARTIN LUTHER KING JR DR</td>\n",
       "      <td>0486</td>\n",
       "      <td>BATTERY</td>\n",
       "      <td>DOMESTIC BATTERY SIMPLE</td>\n",
       "      <td>ALLEY</td>\n",
       "      <td>False</td>\n",
       "      <td>True</td>\n",
       "      <td>632</td>\n",
       "      <td>6.0</td>\n",
       "      <td>...</td>\n",
       "      <td>08B</td>\n",
       "      <td>1180385.0</td>\n",
       "      <td>1849175.0</td>\n",
       "      <td>2021</td>\n",
       "      <td>04/21/2021 04:52:37 PM</td>\n",
       "      <td>41.741397</td>\n",
       "      <td>-87.614657</td>\n",
       "      <td>Wednesday</td>\n",
       "      <td>April</td>\n",
       "      <td>11</td>\n",
       "    </tr>\n",
       "  </tbody>\n",
       "</table>\n",
       "<p>6626786 rows × 22 columns</p>\n",
       "</div>"
      ],
      "text/plain": [
       "                       date                                block  iucr  \\\n",
       "0       2015-09-05 13:30:00                      043XX S WOOD ST  0486   \n",
       "1       2015-09-04 11:30:00                  008XX N CENTRAL AVE  0870   \n",
       "2       2015-09-05 12:45:00                    035XX W BARRY AVE  2023   \n",
       "3       2015-09-05 13:00:00                  0000X N LARAMIE AVE  0560   \n",
       "4       2015-09-05 10:55:00                  082XX S LOOMIS BLVD  0610   \n",
       "...                     ...                                  ...   ...   \n",
       "6626781 2021-03-01 00:00:00                   101XX S LUELLA AVE  1130   \n",
       "6626782 2021-01-02 09:00:00             023XX N COMMONWEALTH AVE  1582   \n",
       "6626783 2021-04-14 00:00:00                  039XX W DIVISION ST  1750   \n",
       "6626784 2021-04-14 19:09:00                  011XX N DEARBORN ST  0530   \n",
       "6626785 2021-04-14 11:45:00  084XX S DR MARTIN LUTHER KING JR DR  0486   \n",
       "\n",
       "                       primary_type                          description  \\\n",
       "0                           BATTERY              DOMESTIC BATTERY SIMPLE   \n",
       "1                             THEFT                       POCKET-PICKING   \n",
       "2                         NARCOTICS                POSS: HEROIN(BRN/TAN)   \n",
       "3                           ASSAULT                               SIMPLE   \n",
       "4                          BURGLARY                       FORCIBLE ENTRY   \n",
       "...                             ...                                  ...   \n",
       "6626781          DECEPTIVE PRACTICE             FRAUD OR CONFIDENCE GAME   \n",
       "6626782  OFFENSE INVOLVING CHILDREN                    CHILD PORNOGRAPHY   \n",
       "6626783  OFFENSE INVOLVING CHILDREN                          CHILD ABUSE   \n",
       "6626784                     ASSAULT  AGGRAVATED - OTHER DANGEROUS WEAPON   \n",
       "6626785                     BATTERY              DOMESTIC BATTERY SIMPLE   \n",
       "\n",
       "        location_description  arrest  domestic  beat  district  ...  fbi_code  \\\n",
       "0                  RESIDENCE   False      True   924       9.0  ...       08B   \n",
       "1                    CTA BUS   False     False  1511      15.0  ...        06   \n",
       "2                   SIDEWALK    True     False  1412      14.0  ...        18   \n",
       "3                  APARTMENT   False      True  1522      15.0  ...       08A   \n",
       "4                  RESIDENCE   False     False   614       6.0  ...        05   \n",
       "...                      ...     ...       ...   ...       ...  ...       ...   \n",
       "6626781            RESIDENCE   False     False   431       4.0  ...        11   \n",
       "6626782            RESIDENCE   False     False  1814      18.0  ...        17   \n",
       "6626783            APARTMENT   False      True  2535      25.0  ...       08B   \n",
       "6626784            APARTMENT    True     False  1824      18.0  ...       04A   \n",
       "6626785                ALLEY   False      True   632       6.0  ...       08B   \n",
       "\n",
       "         x_coordinate y_coordinate  year              updated_on   latitude  \\\n",
       "0           1165074.0    1875917.0  2015  02/10/2018 03:50:01 PM  41.815117   \n",
       "1           1138875.0    1904869.0  2015  02/10/2018 03:50:01 PM  41.895080   \n",
       "2           1152037.0    1920384.0  2015  02/10/2018 03:50:01 PM  41.937406   \n",
       "3           1141706.0    1900086.0  2015  02/10/2018 03:50:01 PM  41.881903   \n",
       "4           1168430.0    1850165.0  2015  02/10/2018 03:50:01 PM  41.744379   \n",
       "...               ...          ...   ...                     ...        ...   \n",
       "6626781     1193169.0    1838168.0  2021  04/21/2021 04:49:40 PM  41.710890   \n",
       "6626782     1173456.0    1915754.0  2021  04/21/2021 04:52:37 PM  41.924251   \n",
       "6626783     1149740.0    1907713.0  2021  04/21/2021 04:52:37 PM  41.902680   \n",
       "6626784     1175721.0    1908209.0  2021  04/21/2021 04:52:37 PM  41.903497   \n",
       "6626785     1180385.0    1849175.0  2021  04/21/2021 04:52:37 PM  41.741397   \n",
       "\n",
       "         longitude  day_of_week      month time  \n",
       "0       -87.670000     Saturday  September   13  \n",
       "1       -87.765400       Friday  September   11  \n",
       "2       -87.716650     Saturday  September   12  \n",
       "3       -87.755121     Saturday  September   13  \n",
       "4       -87.658431     Saturday  September   10  \n",
       "...            ...          ...        ...  ...  \n",
       "6626781 -87.568176       Monday      March    0  \n",
       "6626782 -87.638070     Saturday    January    9  \n",
       "6626783 -87.725422    Wednesday      April    0  \n",
       "6626784 -87.629975    Wednesday      April   19  \n",
       "6626785 -87.614657    Wednesday      April   11  \n",
       "\n",
       "[6626786 rows x 22 columns]"
      ]
     },
     "execution_count": 15,
     "metadata": {},
     "output_type": "execute_result"
    }
   ],
   "source": [
    "crimes"
   ]
  },
  {
   "cell_type": "code",
   "execution_count": 21,
   "metadata": {
    "id": "yT8t7mPlGylB"
   },
   "outputs": [],
   "source": [
    "primary_type_map = {\n",
    "    ('BURGLARY','MOTOR VEHICLE THEFT','THEFT','ROBBERY') : 'THEFT',\n",
    "    ('BATTERY','ASSAULT','NON-CRIMINAL','NON-CRIMINAL (SUBJECT SPECIFIED)') : 'NON-CRIMINAL_ASSAULT',\n",
    "    ('CRIM SEXUAL ASSAULT','SEX OFFENSE','STALKING','PROSTITUTION') : 'SEXUAL_OFFENSE',\n",
    "    ('WEAPONS VIOLATION','CONCEALED CARRY LICENSE VIOLATION') :  'WEAPONS_OFFENSE',\n",
    "    ('HOMICIDE','CRIMINAL DAMAGE','DECEPTIVE PRACTICE','CRIMINAL TRESPASS') : 'CRIMINAL_OFFENSE',\n",
    "    ('KIDNAPPING','HUMAN TRAFFICKING','OFFENSE INVOLVING CHILDREN') : 'HUMAN_TRAFFICKING_OFFENSE',\n",
    "    ('NARCOTICS','OTHER NARCOTIC VIOLATION') : 'NARCOTIC_OFFENSE',\n",
    "    ('OTHER OFFENSE','ARSON','GAMBLING','PUBLIC PEACE VIOLATION','INTIMIDATION','INTERFERENCE WITH PUBLIC OFFICER','LIQUOR LAW VIOLATION','OBSCENITY','PUBLIC INDECENCY') : 'OTHER_OFFENSE'\n",
    "}\n",
    "primary_type_mapping = {}\n",
    "for keys, values in primary_type_map.items():\n",
    "    for key in keys:\n",
    "        primary_type_mapping[key] = values\n",
    "crimes['primary_type_grouped'] = crimes.primary_type.map(primary_type_mapping)"
   ]
  },
  {
   "cell_type": "code",
   "execution_count": 22,
   "metadata": {
    "id": "oyUU7wOPGynr"
   },
   "outputs": [],
   "source": [
    "zone_mapping = {\n",
    "    'N' : 'North',\n",
    "    'S' : 'South',\n",
    "    'E' : 'East',\n",
    "    'W' : 'West'\n",
    "}\n",
    "crimes['zone'] = crimes.block.str.split(\" \", n = 2, expand = True)[1].map(zone_mapping)"
   ]
  },
  {
   "cell_type": "code",
   "execution_count": 23,
   "metadata": {
    "id": "ai_HdCYkGyqO"
   },
   "outputs": [],
   "source": [
    "crimes.arrest = crimes.arrest.astype(int)\n",
    "crimes.domestic = crimes.domestic.astype(int)"
   ]
  },
  {
   "cell_type": "code",
   "execution_count": 24,
   "metadata": {
    "id": "WPNj9IU-Gys9"
   },
   "outputs": [],
   "source": [
    "# crimes_data_2017 = crimes[crimes.year == 2017]\n",
    "# crimes_data_2016 = crimes[crimes.year == 2016]"
   ]
  },
  {
   "cell_type": "code",
   "execution_count": 25,
   "metadata": {
    "colab": {
     "base_uri": "https://localhost:8080/",
     "height": 335
    },
    "id": "I0-4S_cxHZ4h",
    "outputId": "51d15aec-e29e-427f-e463-9cfbd42cef6b"
   },
   "outputs": [
    {
     "data": {
      "image/png": "[encoded data removed]",
      "text/plain": [
       "<Figure size 1080x360 with 1 Axes>"
      ]
     },
     "metadata": {
      "needs_background": "light"
     },
     "output_type": "display_data"
    }
   ],
   "source": [
    "plt.figure(figsize=(15,5))\n",
    "zone_plot = sns.countplot(data=crimes,x='day_of_week',hue='year',order=crimes.day_of_week.value_counts().index,palette='Set2')"
   ]
  },
  {
   "cell_type": "code",
   "execution_count": 48,
   "metadata": {},
   "outputs": [],
   "source": [
    "crimes_10_years=crimes[(crimes['year']>=2011) & (crimes['year']<=2021)]"
   ]
  },
  {
   "cell_type": "code",
   "execution_count": 49,
   "metadata": {
    "id": "-fMVAIZJHZ7L"
   },
   "outputs": [
    {
     "name": "stderr",
     "output_type": "stream",
     "text": [
      "/Library/Frameworks/Python.framework/Versions/3.7/lib/python3.7/site-packages/pandas/core/generic.py:5208: SettingWithCopyWarning: \n",
      "A value is trying to be set on a copy of a slice from a DataFrame.\n",
      "Try using .loc[row_indexer,col_indexer] = value instead\n",
      "\n",
      "See the caveats in the documentation: http://pandas.pydata.org/pandas-docs/stable/user_guide/indexing.html#returning-a-view-versus-a-copy\n",
      "  self[name] = value\n"
     ]
    }
   ],
   "source": [
    "crimes_10_years.year = pd.Categorical(crimes_10_years.year)\n",
    "crimes_10_years.time = pd.Categorical(crimes_10_years.time)\n",
    "crimes_10_years.domestic = pd.Categorical(crimes_10_years.domestic)\n",
    "crimes_10_years.arrest = pd.Categorical(crimes_10_years.arrest)\n",
    "crimes_10_years.beat = pd.Categorical(crimes_10_years.beat)\n",
    "crimes_10_years.district = pd.Categorical(crimes_10_years.district)\n",
    "crimes_10_years.ward = pd.Categorical(crimes_10_years.ward)\n",
    "crimes_10_years.community_area = pd.Categorical(crimes_10_years.community_area)"
   ]
  },
  {
   "cell_type": "code",
   "execution_count": 50,
   "metadata": {
    "id": "6MFiWBLgE4fO"
   },
   "outputs": [],
   "source": [
    "crimes_data_prediction = crimes_10_years.drop(['date','block','iucr','primary_type','description','location_description','fbi_code','updated_on','x_coordinate','y_coordinate'],axis=1)"
   ]
  },
  {
   "cell_type": "code",
   "execution_count": 51,
   "metadata": {
    "colab": {
     "base_uri": "https://localhost:8080/",
     "height": 275
    },
    "id": "CTnHEjtZFEQ5",
    "outputId": "d4353593-305e-461c-d60a-8bb9604c0e70"
   },
   "outputs": [
    {
     "data": {
      "text/html": [
       "<div>\n",
       "<style scoped>\n",
       "    .dataframe tbody tr th:only-of-type {\n",
       "        vertical-align: middle;\n",
       "    }\n",
       "\n",
       "    .dataframe tbody tr th {\n",
       "        vertical-align: top;\n",
       "    }\n",
       "\n",
       "    .dataframe thead th {\n",
       "        text-align: right;\n",
       "    }\n",
       "</style>\n",
       "<table border=\"1\" class=\"dataframe\">\n",
       "  <thead>\n",
       "    <tr style=\"text-align: right;\">\n",
       "      <th></th>\n",
       "      <th>arrest</th>\n",
       "      <th>domestic</th>\n",
       "      <th>beat</th>\n",
       "      <th>district</th>\n",
       "      <th>ward</th>\n",
       "      <th>community_area</th>\n",
       "      <th>year</th>\n",
       "      <th>latitude</th>\n",
       "      <th>longitude</th>\n",
       "      <th>day_of_week</th>\n",
       "      <th>month</th>\n",
       "      <th>time</th>\n",
       "      <th>primary_type_grouped</th>\n",
       "      <th>zone</th>\n",
       "    </tr>\n",
       "  </thead>\n",
       "  <tbody>\n",
       "    <tr>\n",
       "      <th>0</th>\n",
       "      <td>0</td>\n",
       "      <td>1</td>\n",
       "      <td>924</td>\n",
       "      <td>9.0</td>\n",
       "      <td>12.0</td>\n",
       "      <td>61.0</td>\n",
       "      <td>2015</td>\n",
       "      <td>41.815117</td>\n",
       "      <td>-87.670000</td>\n",
       "      <td>Saturday</td>\n",
       "      <td>September</td>\n",
       "      <td>13</td>\n",
       "      <td>NON-CRIMINAL_ASSAULT</td>\n",
       "      <td>South</td>\n",
       "    </tr>\n",
       "    <tr>\n",
       "      <th>1</th>\n",
       "      <td>0</td>\n",
       "      <td>0</td>\n",
       "      <td>1511</td>\n",
       "      <td>15.0</td>\n",
       "      <td>29.0</td>\n",
       "      <td>25.0</td>\n",
       "      <td>2015</td>\n",
       "      <td>41.895080</td>\n",
       "      <td>-87.765400</td>\n",
       "      <td>Friday</td>\n",
       "      <td>September</td>\n",
       "      <td>11</td>\n",
       "      <td>THEFT</td>\n",
       "      <td>North</td>\n",
       "    </tr>\n",
       "    <tr>\n",
       "      <th>2</th>\n",
       "      <td>1</td>\n",
       "      <td>0</td>\n",
       "      <td>1412</td>\n",
       "      <td>14.0</td>\n",
       "      <td>35.0</td>\n",
       "      <td>21.0</td>\n",
       "      <td>2015</td>\n",
       "      <td>41.937406</td>\n",
       "      <td>-87.716650</td>\n",
       "      <td>Saturday</td>\n",
       "      <td>September</td>\n",
       "      <td>12</td>\n",
       "      <td>NARCOTIC_OFFENSE</td>\n",
       "      <td>West</td>\n",
       "    </tr>\n",
       "    <tr>\n",
       "      <th>3</th>\n",
       "      <td>0</td>\n",
       "      <td>1</td>\n",
       "      <td>1522</td>\n",
       "      <td>15.0</td>\n",
       "      <td>28.0</td>\n",
       "      <td>25.0</td>\n",
       "      <td>2015</td>\n",
       "      <td>41.881903</td>\n",
       "      <td>-87.755121</td>\n",
       "      <td>Saturday</td>\n",
       "      <td>September</td>\n",
       "      <td>13</td>\n",
       "      <td>NON-CRIMINAL_ASSAULT</td>\n",
       "      <td>North</td>\n",
       "    </tr>\n",
       "    <tr>\n",
       "      <th>4</th>\n",
       "      <td>0</td>\n",
       "      <td>0</td>\n",
       "      <td>614</td>\n",
       "      <td>6.0</td>\n",
       "      <td>21.0</td>\n",
       "      <td>71.0</td>\n",
       "      <td>2015</td>\n",
       "      <td>41.744379</td>\n",
       "      <td>-87.658431</td>\n",
       "      <td>Saturday</td>\n",
       "      <td>September</td>\n",
       "      <td>10</td>\n",
       "      <td>THEFT</td>\n",
       "      <td>South</td>\n",
       "    </tr>\n",
       "  </tbody>\n",
       "</table>\n",
       "</div>"
      ],
      "text/plain": [
       "  arrest domestic  beat district  ward community_area  year   latitude  \\\n",
       "0      0        1   924      9.0  12.0           61.0  2015  41.815117   \n",
       "1      0        0  1511     15.0  29.0           25.0  2015  41.895080   \n",
       "2      1        0  1412     14.0  35.0           21.0  2015  41.937406   \n",
       "3      0        1  1522     15.0  28.0           25.0  2015  41.881903   \n",
       "4      0        0   614      6.0  21.0           71.0  2015  41.744379   \n",
       "\n",
       "   longitude day_of_week      month time  primary_type_grouped   zone  \n",
       "0 -87.670000    Saturday  September   13  NON-CRIMINAL_ASSAULT  South  \n",
       "1 -87.765400      Friday  September   11                 THEFT  North  \n",
       "2 -87.716650    Saturday  September   12      NARCOTIC_OFFENSE   West  \n",
       "3 -87.755121    Saturday  September   13  NON-CRIMINAL_ASSAULT  North  \n",
       "4 -87.658431    Saturday  September   10                 THEFT  South  "
      ]
     },
     "execution_count": 51,
     "metadata": {},
     "output_type": "execute_result"
    }
   ],
   "source": [
    "crimes_data_prediction.head()"
   ]
  },
  {
   "cell_type": "code",
   "execution_count": 52,
   "metadata": {
    "id": "0rvcOV_pFGYP"
   },
   "outputs": [],
   "source": [
    "crimes_data_prediction = pd.get_dummies(crimes_data_prediction,drop_first=True)"
   ]
  },
  {
   "cell_type": "code",
   "execution_count": 53,
   "metadata": {
    "colab": {
     "base_uri": "https://localhost:8080/",
     "height": 270
    },
    "id": "jOHxlgPpIPEo",
    "outputId": "13e0a176-6a86-46ec-c846-ddbb95f22587"
   },
   "outputs": [
    {
     "data": {
      "text/html": [
       "<div>\n",
       "<style scoped>\n",
       "    .dataframe tbody tr th:only-of-type {\n",
       "        vertical-align: middle;\n",
       "    }\n",
       "\n",
       "    .dataframe tbody tr th {\n",
       "        vertical-align: top;\n",
       "    }\n",
       "\n",
       "    .dataframe thead th {\n",
       "        text-align: right;\n",
       "    }\n",
       "</style>\n",
       "<table border=\"1\" class=\"dataframe\">\n",
       "  <thead>\n",
       "    <tr style=\"text-align: right;\">\n",
       "      <th></th>\n",
       "      <th>latitude</th>\n",
       "      <th>longitude</th>\n",
       "      <th>arrest_1</th>\n",
       "      <th>domestic_1</th>\n",
       "      <th>beat_112</th>\n",
       "      <th>beat_113</th>\n",
       "      <th>beat_114</th>\n",
       "      <th>beat_121</th>\n",
       "      <th>beat_122</th>\n",
       "      <th>beat_123</th>\n",
       "      <th>...</th>\n",
       "      <th>primary_type_grouped_HUMAN_TRAFFICKING_OFFENSE</th>\n",
       "      <th>primary_type_grouped_NARCOTIC_OFFENSE</th>\n",
       "      <th>primary_type_grouped_NON-CRIMINAL_ASSAULT</th>\n",
       "      <th>primary_type_grouped_OTHER_OFFENSE</th>\n",
       "      <th>primary_type_grouped_SEXUAL_OFFENSE</th>\n",
       "      <th>primary_type_grouped_THEFT</th>\n",
       "      <th>primary_type_grouped_WEAPONS_OFFENSE</th>\n",
       "      <th>zone_North</th>\n",
       "      <th>zone_South</th>\n",
       "      <th>zone_West</th>\n",
       "    </tr>\n",
       "  </thead>\n",
       "  <tbody>\n",
       "    <tr>\n",
       "      <th>0</th>\n",
       "      <td>41.815117</td>\n",
       "      <td>-87.670000</td>\n",
       "      <td>0</td>\n",
       "      <td>1</td>\n",
       "      <td>0</td>\n",
       "      <td>0</td>\n",
       "      <td>0</td>\n",
       "      <td>0</td>\n",
       "      <td>0</td>\n",
       "      <td>0</td>\n",
       "      <td>...</td>\n",
       "      <td>0</td>\n",
       "      <td>0</td>\n",
       "      <td>1</td>\n",
       "      <td>0</td>\n",
       "      <td>0</td>\n",
       "      <td>0</td>\n",
       "      <td>0</td>\n",
       "      <td>0</td>\n",
       "      <td>1</td>\n",
       "      <td>0</td>\n",
       "    </tr>\n",
       "    <tr>\n",
       "      <th>1</th>\n",
       "      <td>41.895080</td>\n",
       "      <td>-87.765400</td>\n",
       "      <td>0</td>\n",
       "      <td>0</td>\n",
       "      <td>0</td>\n",
       "      <td>0</td>\n",
       "      <td>0</td>\n",
       "      <td>0</td>\n",
       "      <td>0</td>\n",
       "      <td>0</td>\n",
       "      <td>...</td>\n",
       "      <td>0</td>\n",
       "      <td>0</td>\n",
       "      <td>0</td>\n",
       "      <td>0</td>\n",
       "      <td>0</td>\n",
       "      <td>1</td>\n",
       "      <td>0</td>\n",
       "      <td>1</td>\n",
       "      <td>0</td>\n",
       "      <td>0</td>\n",
       "    </tr>\n",
       "    <tr>\n",
       "      <th>2</th>\n",
       "      <td>41.937406</td>\n",
       "      <td>-87.716650</td>\n",
       "      <td>1</td>\n",
       "      <td>0</td>\n",
       "      <td>0</td>\n",
       "      <td>0</td>\n",
       "      <td>0</td>\n",
       "      <td>0</td>\n",
       "      <td>0</td>\n",
       "      <td>0</td>\n",
       "      <td>...</td>\n",
       "      <td>0</td>\n",
       "      <td>1</td>\n",
       "      <td>0</td>\n",
       "      <td>0</td>\n",
       "      <td>0</td>\n",
       "      <td>0</td>\n",
       "      <td>0</td>\n",
       "      <td>0</td>\n",
       "      <td>0</td>\n",
       "      <td>1</td>\n",
       "    </tr>\n",
       "    <tr>\n",
       "      <th>3</th>\n",
       "      <td>41.881903</td>\n",
       "      <td>-87.755121</td>\n",
       "      <td>0</td>\n",
       "      <td>1</td>\n",
       "      <td>0</td>\n",
       "      <td>0</td>\n",
       "      <td>0</td>\n",
       "      <td>0</td>\n",
       "      <td>0</td>\n",
       "      <td>0</td>\n",
       "      <td>...</td>\n",
       "      <td>0</td>\n",
       "      <td>0</td>\n",
       "      <td>1</td>\n",
       "      <td>0</td>\n",
       "      <td>0</td>\n",
       "      <td>0</td>\n",
       "      <td>0</td>\n",
       "      <td>1</td>\n",
       "      <td>0</td>\n",
       "      <td>0</td>\n",
       "    </tr>\n",
       "    <tr>\n",
       "      <th>4</th>\n",
       "      <td>41.744379</td>\n",
       "      <td>-87.658431</td>\n",
       "      <td>0</td>\n",
       "      <td>0</td>\n",
       "      <td>0</td>\n",
       "      <td>0</td>\n",
       "      <td>0</td>\n",
       "      <td>0</td>\n",
       "      <td>0</td>\n",
       "      <td>0</td>\n",
       "      <td>...</td>\n",
       "      <td>0</td>\n",
       "      <td>0</td>\n",
       "      <td>0</td>\n",
       "      <td>0</td>\n",
       "      <td>0</td>\n",
       "      <td>1</td>\n",
       "      <td>0</td>\n",
       "      <td>0</td>\n",
       "      <td>1</td>\n",
       "      <td>0</td>\n",
       "    </tr>\n",
       "  </tbody>\n",
       "</table>\n",
       "<p>5 rows × 514 columns</p>\n",
       "</div>"
      ],
      "text/plain": [
       "    latitude  longitude  arrest_1  domestic_1  beat_112  beat_113  beat_114  \\\n",
       "0  41.815117 -87.670000         0           1         0         0         0   \n",
       "1  41.895080 -87.765400         0           0         0         0         0   \n",
       "2  41.937406 -87.716650         1           0         0         0         0   \n",
       "3  41.881903 -87.755121         0           1         0         0         0   \n",
       "4  41.744379 -87.658431         0           0         0         0         0   \n",
       "\n",
       "   beat_121  beat_122  beat_123  ...  \\\n",
       "0         0         0         0  ...   \n",
       "1         0         0         0  ...   \n",
       "2         0         0         0  ...   \n",
       "3         0         0         0  ...   \n",
       "4         0         0         0  ...   \n",
       "\n",
       "   primary_type_grouped_HUMAN_TRAFFICKING_OFFENSE  \\\n",
       "0                                               0   \n",
       "1                                               0   \n",
       "2                                               0   \n",
       "3                                               0   \n",
       "4                                               0   \n",
       "\n",
       "   primary_type_grouped_NARCOTIC_OFFENSE  \\\n",
       "0                                      0   \n",
       "1                                      0   \n",
       "2                                      1   \n",
       "3                                      0   \n",
       "4                                      0   \n",
       "\n",
       "   primary_type_grouped_NON-CRIMINAL_ASSAULT  \\\n",
       "0                                          1   \n",
       "1                                          0   \n",
       "2                                          0   \n",
       "3                                          1   \n",
       "4                                          0   \n",
       "\n",
       "   primary_type_grouped_OTHER_OFFENSE  primary_type_grouped_SEXUAL_OFFENSE  \\\n",
       "0                                   0                                    0   \n",
       "1                                   0                                    0   \n",
       "2                                   0                                    0   \n",
       "3                                   0                                    0   \n",
       "4                                   0                                    0   \n",
       "\n",
       "   primary_type_grouped_THEFT  primary_type_grouped_WEAPONS_OFFENSE  \\\n",
       "0                           0                                     0   \n",
       "1                           1                                     0   \n",
       "2                           0                                     0   \n",
       "3                           0                                     0   \n",
       "4                           1                                     0   \n",
       "\n",
       "   zone_North  zone_South  zone_West  \n",
       "0           0           1          0  \n",
       "1           1           0          0  \n",
       "2           0           0          1  \n",
       "3           1           0          0  \n",
       "4           0           1          0  \n",
       "\n",
       "[5 rows x 514 columns]"
      ]
     },
     "execution_count": 53,
     "metadata": {},
     "output_type": "execute_result"
    }
   ],
   "source": [
    "crimes_data_prediction.head()"
   ]
  },
  {
   "cell_type": "code",
   "execution_count": 54,
   "metadata": {
    "id": "rVwpGMh7ISxx"
   },
   "outputs": [],
   "source": [
    "X_train, X_test, y_train, y_test = train_test_split(crimes_data_prediction.drop(['arrest_1'],axis=1),crimes_data_prediction['arrest_1'], test_size=0.2, random_state=42)"
   ]
  },
  {
   "cell_type": "code",
   "execution_count": 33,
   "metadata": {
    "id": "rZw2iED_IW9F"
   },
   "outputs": [],
   "source": [
    "scaler = StandardScaler()\n",
    "scaler.fit(X_train)\n",
    "X_train = scaler.transform(X_train) \n",
    "X_test = scaler.transform(X_test)"
   ]
  },
  {
   "cell_type": "code",
   "execution_count": 34,
   "metadata": {
    "id": "YFHFJ5FhIc8U"
   },
   "outputs": [],
   "source": [
    "# from sklearn.preprocessing import OneHotEncoder\n",
    "# enc=OneHotEncoder(handle_unknown='ignore')\n",
    "# enc.fit(X_train)\n",
    "# X_train=enc.transform(X_train)\n",
    "# X_test=enc.transform(X_test)"
   ]
  },
  {
   "cell_type": "code",
   "execution_count": 61,
   "metadata": {
    "id": "s4--_wn6Jnf2"
   },
   "outputs": [
    {
     "data": {
      "text/plain": [
       "GaussianNB()"
      ]
     },
     "execution_count": 61,
     "metadata": {},
     "output_type": "execute_result"
    }
   ],
   "source": [
    "from sklearn.naive_bayes import GaussianNB\n",
    "classifier = GaussianNB()\n",
    "classifier.fit(X_train, y_train)"
   ]
  },
  {
   "cell_type": "code",
   "execution_count": 62,
   "metadata": {},
   "outputs": [],
   "source": [
    "y_pred = classifier.predict(X_test)"
   ]
  },
  {
   "cell_type": "code",
   "execution_count": 63,
   "metadata": {},
   "outputs": [
    {
     "name": "stdout",
     "output_type": "stream",
     "text": [
      "[[196081 235856]\n",
      " [ 29458 105091]]\n"
     ]
    }
   ],
   "source": [
    "conf_matrix = metrics.confusion_matrix(y_test, y_pred)\n",
    "print(conf_matrix)"
   ]
  },
  {
   "cell_type": "code",
   "execution_count": 64,
   "metadata": {},
   "outputs": [
    {
     "data": {
      "image/png": "[encoded data removed]",
      "text/plain": [
       "<Figure size 432x288 with 2 Axes>"
      ]
     },
     "metadata": {
      "needs_background": "light"
     },
     "output_type": "display_data"
    }
   ],
   "source": [
    "sns.heatmap(conf_matrix, annot = True, fmt = \".3f\", square = True, cmap = plt.cm.Blues)\n",
    "plt.ylabel('Actual')\n",
    "plt.xlabel('Predicted')\n",
    "plt.title('Confusion matrix')\n",
    "plt.tight_layout()"
   ]
  },
  {
   "cell_type": "code",
   "execution_count": 65,
   "metadata": {},
   "outputs": [
    {
     "name": "stdout",
     "output_type": "stream",
     "text": [
      "Accuracy =  0.5316495023707558\n",
      "Error =  0.4683504976292442\n",
      "Precision =  0.3082326578617791\n",
      "Recall =  0.7810611747393144\n",
      "F-1 Score =  0.44202685196089975\n",
      "Classification Report\n",
      "               precision    recall  f1-score   support\n",
      "\n",
      "           0       0.87      0.45      0.60    431937\n",
      "           1       0.31      0.78      0.44    134549\n",
      "\n",
      "    accuracy                           0.53    566486\n",
      "   macro avg       0.59      0.62      0.52    566486\n",
      "weighted avg       0.74      0.53      0.56    566486\n",
      "\n"
     ]
    }
   ],
   "source": [
    "print('Accuracy = ',metrics.accuracy_score(y_test, y_pred))\n",
    "print('Error = ',1 - metrics.accuracy_score(y_test, y_pred))\n",
    "print('Precision = ',metrics.precision_score(y_test, y_pred,))\n",
    "print('Recall = ',metrics.recall_score(y_test, y_pred))\n",
    "print('F-1 Score = ',metrics.f1_score(y_test, y_pred))\n",
    "print('Classification Report\\n',metrics.classification_report(y_test, y_pred))"
   ]
  },
  {
   "cell_type": "code",
   "execution_count": 55,
   "metadata": {},
   "outputs": [],
   "source": [
    "classifier_l = LogisticRegression(random_state=42)"
   ]
  },
  {
   "cell_type": "code",
   "execution_count": 56,
   "metadata": {},
   "outputs": [
    {
     "name": "stderr",
     "output_type": "stream",
     "text": [
      "/Library/Frameworks/Python.framework/Versions/3.7/lib/python3.7/site-packages/sklearn/linear_model/_logistic.py:765: ConvergenceWarning: lbfgs failed to converge (status=1):\n",
      "STOP: TOTAL NO. of ITERATIONS REACHED LIMIT.\n",
      "\n",
      "Increase the number of iterations (max_iter) or scale the data as shown in:\n",
      "    https://scikit-learn.org/stable/modules/preprocessing.html\n",
      "Please also refer to the documentation for alternative solver options:\n",
      "    https://scikit-learn.org/stable/modules/linear_model.html#logistic-regression\n",
      "  extra_warning_msg=_LOGISTIC_SOLVER_CONVERGENCE_MSG)\n"
     ]
    },
    {
     "data": {
      "text/plain": [
       "LogisticRegression(random_state=42)"
      ]
     },
     "execution_count": 56,
     "metadata": {},
     "output_type": "execute_result"
    }
   ],
   "source": [
    "classifier_l.fit(X_train,y_train)"
   ]
  },
  {
   "cell_type": "code",
   "execution_count": 57,
   "metadata": {},
   "outputs": [],
   "source": [
    "y_pred_l = classifier_l.predict(X_test)"
   ]
  },
  {
   "cell_type": "code",
   "execution_count": 58,
   "metadata": {},
   "outputs": [
    {
     "name": "stdout",
     "output_type": "stream",
     "text": [
      "[[428840   3097]\n",
      " [ 83030  51519]]\n"
     ]
    }
   ],
   "source": [
    "conf_matrix_l = metrics.confusion_matrix(y_test, y_pred_l)\n",
    "print(conf_matrix_l)"
   ]
  },
  {
   "cell_type": "code",
   "execution_count": 59,
   "metadata": {},
   "outputs": [
    {
     "data": {
      "image/png": "[encoded data removed]",
      "text/plain": [
       "<Figure size 432x288 with 2 Axes>"
      ]
     },
     "metadata": {
      "needs_background": "light"
     },
     "output_type": "display_data"
    }
   ],
   "source": [
    "sns.heatmap(conf_matrix_l, annot = True, fmt = \".3f\", square = True, cmap = plt.cm.Blues)\n",
    "plt.ylabel('Actual')\n",
    "plt.xlabel('Predicted')\n",
    "plt.title('Confusion matrix')\n",
    "plt.tight_layout()"
   ]
  },
  {
   "cell_type": "code",
   "execution_count": 60,
   "metadata": {},
   "outputs": [
    {
     "name": "stdout",
     "output_type": "stream",
     "text": [
      "Accuracy =  0.847962703403085\n",
      "Error =  0.152037296596915\n",
      "Precision =  0.9432950051267028\n",
      "Recall =  0.3829013965172539\n",
      "F-1 Score =  0.544699072238522\n",
      "Classification Report\n",
      "               precision    recall  f1-score   support\n",
      "\n",
      "           0       0.84      0.99      0.91    431937\n",
      "           1       0.94      0.38      0.54    134549\n",
      "\n",
      "    accuracy                           0.85    566486\n",
      "   macro avg       0.89      0.69      0.73    566486\n",
      "weighted avg       0.86      0.85      0.82    566486\n",
      "\n"
     ]
    }
   ],
   "source": [
    "print('Accuracy = ',metrics.accuracy_score(y_test, y_pred_l))\n",
    "print('Error = ',1 - metrics.accuracy_score(y_test, y_pred_l))\n",
    "print('Precision = ',metrics.precision_score(y_test, y_pred_l,))\n",
    "print('Recall = ',metrics.recall_score(y_test, y_pred_l))\n",
    "print('F-1 Score = ',metrics.f1_score(y_test, y_pred_l))\n",
    "print('Classification Report\\n',metrics.classification_report(y_test, y_pred_l))"
   ]
  },
  {
   "cell_type": "code",
   "execution_count": null,
   "metadata": {},
   "outputs": [],
   "source": []
  }
 ],
 "metadata": {
  "colab": {
   "name": "classification_255.ipynb",
   "provenance": []
  },
  "kernelspec": {
   "display_name": "Python 3",
   "language": "python",
   "name": "python3"
  },
  "language_info": {
   "codemirror_mode": {
    "name": "ipython",
    "version": 3
   },
   "file_extension": ".py",
   "mimetype": "text/x-python",
   "name": "python",
   "nbconvert_exporter": "python",
   "pygments_lexer": "ipython3",
   "version": "3.7.4"
  }
 },
 "nbformat": 4,
 "nbformat_minor": 1
}
