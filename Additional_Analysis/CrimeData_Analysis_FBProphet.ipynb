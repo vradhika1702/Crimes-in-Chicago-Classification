{
  "nbformat": 4,
  "nbformat_minor": 0,
  "metadata": {
    "colab": {
      "name": "CrimeData-Analysis-FBProphet.ipynb",
      "provenance": [],
      "collapsed_sections": []
    },
    "kernelspec": {
      "name": "python3",
      "display_name": "Python 3"
    },
    "language_info": {
      "name": "python"
    }
  },
  "cells": [
    {
      "cell_type": "code",
      "metadata": {
        "id": "uutkjVFunUJ1",
        "colab": {
          "base_uri": "https://localhost:8080/"
        },
        "outputId": "bacc4fc3-44cb-4ee0-8f2e-9c21cebf18f1"
      },
      "source": [
        "import pandas as pd\n",
        "import matplotlib.pyplot as plt\n",
        "import seaborn as sns\n",
        "import os\n",
        "from sklearn import preprocessing\n",
        "from fbprophet import Prophet\n",
        "from google.colab import drive\n",
        "!pip install nb_black -q"
      ],
      "execution_count": null,
      "outputs": [
        {
          "output_type": "stream",
          "text": [
            "\u001b[K     |████████████████████████████████| 133kB 5.3MB/s \n",
            "\u001b[K     |████████████████████████████████| 747kB 6.6MB/s \n",
            "\u001b[K     |████████████████████████████████| 727kB 14.4MB/s \n",
            "\u001b[?25h  Building wheel for nb-black (setup.py) ... \u001b[?25l\u001b[?25hdone\n"
          ],
          "name": "stdout"
        }
      ]
    },
    {
      "cell_type": "code",
      "metadata": {
        "id": "44p9lNh5nZiO"
      },
      "source": [
        "crime_data = pd.read_csv('/content/Chicago_Crime_Processed_Data.csv')"
      ],
      "execution_count": null,
      "outputs": []
    },
    {
      "cell_type": "code",
      "metadata": {
        "id": "56GLM8bBnxKW",
        "colab": {
          "base_uri": "https://localhost:8080/"
        },
        "outputId": "deed87b1-de52-4cbb-9880-89f2b5266dd5"
      },
      "source": [
        "crime_data.shape"
      ],
      "execution_count": null,
      "outputs": [
        {
          "output_type": "execute_result",
          "data": {
            "text/plain": [
              "(2082194, 20)"
            ]
          },
          "metadata": {
            "tags": []
          },
          "execution_count": 3
        }
      ]
    },
    {
      "cell_type": "code",
      "metadata": {
        "colab": {
          "base_uri": "https://localhost:8080/",
          "height": 292
        },
        "id": "Z1j-xqnW7em_",
        "outputId": "a3ae522e-dffc-4288-b11c-95d8cd7427df"
      },
      "source": [
        "crime_data.head()"
      ],
      "execution_count": null,
      "outputs": [
        {
          "output_type": "execute_result",
          "data": {
            "text/html": [
              "<div>\n",
              "<style scoped>\n",
              "    .dataframe tbody tr th:only-of-type {\n",
              "        vertical-align: middle;\n",
              "    }\n",
              "\n",
              "    .dataframe tbody tr th {\n",
              "        vertical-align: top;\n",
              "    }\n",
              "\n",
              "    .dataframe thead th {\n",
              "        text-align: right;\n",
              "    }\n",
              "</style>\n",
              "<table border=\"1\" class=\"dataframe\">\n",
              "  <thead>\n",
              "    <tr style=\"text-align: right;\">\n",
              "      <th></th>\n",
              "      <th>IUCR</th>\n",
              "      <th>Description</th>\n",
              "      <th>Location Description</th>\n",
              "      <th>Arrest</th>\n",
              "      <th>Domestic</th>\n",
              "      <th>Beat</th>\n",
              "      <th>District</th>\n",
              "      <th>Ward</th>\n",
              "      <th>Community Area</th>\n",
              "      <th>FBI Code</th>\n",
              "      <th>Year</th>\n",
              "      <th>Latitude</th>\n",
              "      <th>Longitude</th>\n",
              "      <th>Month</th>\n",
              "      <th>Day_num</th>\n",
              "      <th>Time</th>\n",
              "      <th>day_of_week</th>\n",
              "      <th>primary_type_grouped</th>\n",
              "      <th>zone</th>\n",
              "      <th>Count_CrimeType_Column</th>\n",
              "    </tr>\n",
              "  </thead>\n",
              "  <tbody>\n",
              "    <tr>\n",
              "      <th>0</th>\n",
              "      <td>0486</td>\n",
              "      <td>DOMESTIC BATTERY SIMPLE</td>\n",
              "      <td>RESIDENCE</td>\n",
              "      <td>False</td>\n",
              "      <td>True</td>\n",
              "      <td>924</td>\n",
              "      <td>9.0</td>\n",
              "      <td>12.0</td>\n",
              "      <td>61.0</td>\n",
              "      <td>08B</td>\n",
              "      <td>2015</td>\n",
              "      <td>41.815117</td>\n",
              "      <td>-87.670000</td>\n",
              "      <td>9</td>\n",
              "      <td>5</td>\n",
              "      <td>13</td>\n",
              "      <td>Saturday</td>\n",
              "      <td>NON-CRIMINAL_ASSAULT</td>\n",
              "      <td>South</td>\n",
              "      <td>1640154.0</td>\n",
              "    </tr>\n",
              "    <tr>\n",
              "      <th>1</th>\n",
              "      <td>0870</td>\n",
              "      <td>POCKET-PICKING</td>\n",
              "      <td>CTA BUS</td>\n",
              "      <td>False</td>\n",
              "      <td>False</td>\n",
              "      <td>1511</td>\n",
              "      <td>15.0</td>\n",
              "      <td>29.0</td>\n",
              "      <td>25.0</td>\n",
              "      <td>06</td>\n",
              "      <td>2015</td>\n",
              "      <td>41.895080</td>\n",
              "      <td>-87.765400</td>\n",
              "      <td>9</td>\n",
              "      <td>4</td>\n",
              "      <td>11</td>\n",
              "      <td>Friday</td>\n",
              "      <td>THEFT</td>\n",
              "      <td>North</td>\n",
              "      <td>2327482.0</td>\n",
              "    </tr>\n",
              "    <tr>\n",
              "      <th>2</th>\n",
              "      <td>2023</td>\n",
              "      <td>POSS: HEROIN(BRN/TAN)</td>\n",
              "      <td>SIDEWALK</td>\n",
              "      <td>True</td>\n",
              "      <td>False</td>\n",
              "      <td>1412</td>\n",
              "      <td>14.0</td>\n",
              "      <td>35.0</td>\n",
              "      <td>21.0</td>\n",
              "      <td>18</td>\n",
              "      <td>2015</td>\n",
              "      <td>41.937406</td>\n",
              "      <td>-87.716650</td>\n",
              "      <td>9</td>\n",
              "      <td>5</td>\n",
              "      <td>12</td>\n",
              "      <td>Saturday</td>\n",
              "      <td>NARCOTIC_OFFENSE</td>\n",
              "      <td>West</td>\n",
              "      <td>661033.0</td>\n",
              "    </tr>\n",
              "    <tr>\n",
              "      <th>3</th>\n",
              "      <td>0560</td>\n",
              "      <td>SIMPLE</td>\n",
              "      <td>APARTMENT</td>\n",
              "      <td>False</td>\n",
              "      <td>True</td>\n",
              "      <td>1522</td>\n",
              "      <td>15.0</td>\n",
              "      <td>28.0</td>\n",
              "      <td>25.0</td>\n",
              "      <td>08A</td>\n",
              "      <td>2015</td>\n",
              "      <td>41.881903</td>\n",
              "      <td>-87.755121</td>\n",
              "      <td>9</td>\n",
              "      <td>5</td>\n",
              "      <td>13</td>\n",
              "      <td>Saturday</td>\n",
              "      <td>NON-CRIMINAL_ASSAULT</td>\n",
              "      <td>North</td>\n",
              "      <td>1640154.0</td>\n",
              "    </tr>\n",
              "    <tr>\n",
              "      <th>4</th>\n",
              "      <td>0610</td>\n",
              "      <td>FORCIBLE ENTRY</td>\n",
              "      <td>RESIDENCE</td>\n",
              "      <td>False</td>\n",
              "      <td>False</td>\n",
              "      <td>614</td>\n",
              "      <td>6.0</td>\n",
              "      <td>21.0</td>\n",
              "      <td>71.0</td>\n",
              "      <td>05</td>\n",
              "      <td>2015</td>\n",
              "      <td>41.744379</td>\n",
              "      <td>-87.658431</td>\n",
              "      <td>9</td>\n",
              "      <td>5</td>\n",
              "      <td>10</td>\n",
              "      <td>Saturday</td>\n",
              "      <td>THEFT</td>\n",
              "      <td>South</td>\n",
              "      <td>2327482.0</td>\n",
              "    </tr>\n",
              "  </tbody>\n",
              "</table>\n",
              "</div>"
            ],
            "text/plain": [
              "   IUCR              Description  ...   zone  Count_CrimeType_Column\n",
              "0  0486  DOMESTIC BATTERY SIMPLE  ...  South               1640154.0\n",
              "1  0870           POCKET-PICKING  ...  North               2327482.0\n",
              "2  2023    POSS: HEROIN(BRN/TAN)  ...   West                661033.0\n",
              "3  0560                   SIMPLE  ...  North               1640154.0\n",
              "4  0610           FORCIBLE ENTRY  ...  South               2327482.0\n",
              "\n",
              "[5 rows x 20 columns]"
            ]
          },
          "metadata": {
            "tags": []
          },
          "execution_count": 4
        }
      ]
    },
    {
      "cell_type": "code",
      "metadata": {
        "colab": {
          "base_uri": "https://localhost:8080/"
        },
        "id": "OZ-Dg6Qp7jJ0",
        "outputId": "62c99f49-e06c-4398-8db6-c9276211571b"
      },
      "source": [
        "crime_data.apply(lambda x: sum(x.isnull()),axis=0)"
      ],
      "execution_count": null,
      "outputs": [
        {
          "output_type": "execute_result",
          "data": {
            "text/plain": [
              "IUCR                        0\n",
              "Description                 0\n",
              "Location Description        0\n",
              "Arrest                      0\n",
              "Domestic                    0\n",
              "Beat                        0\n",
              "District                    0\n",
              "Ward                        0\n",
              "Community Area              0\n",
              "FBI Code                    0\n",
              "Year                        0\n",
              "Latitude                    0\n",
              "Longitude                   0\n",
              "Month                       0\n",
              "Day_num                     0\n",
              "Time                        0\n",
              "day_of_week                 0\n",
              "primary_type_grouped      248\n",
              "zone                        1\n",
              "Count_CrimeType_Column    249\n",
              "dtype: int64"
            ]
          },
          "metadata": {
            "tags": []
          },
          "execution_count": 5
        }
      ]
    },
    {
      "cell_type": "code",
      "metadata": {
        "id": "46p-TGxN7qzD"
      },
      "source": [
        "crime=crime_data[['District','Ward','Community Area','Latitude','Longitude','Month','Year','Time','zone','Location Description','Beat']]"
      ],
      "execution_count": null,
      "outputs": []
    },
    {
      "cell_type": "code",
      "metadata": {
        "colab": {
          "base_uri": "https://localhost:8080/"
        },
        "id": "-0QFQtq7753F",
        "outputId": "4dd1f5c0-0b6d-49f2-dc2d-a5dd77ee52b6"
      },
      "source": [
        "crime[\"Community Area\"].fillna(0, inplace = True)\n",
        "crime[\"Location Description\"].fillna(0, inplace = True)\n",
        "crime[\"Longitude\"].fillna(0, inplace = True)\n",
        "crime[\"Latitude\"].fillna(0, inplace = True)"
      ],
      "execution_count": null,
      "outputs": [
        {
          "output_type": "stream",
          "text": [
            "/usr/local/lib/python3.7/dist-packages/pandas/core/series.py:4536: SettingWithCopyWarning:\n",
            "\n",
            "\n",
            "A value is trying to be set on a copy of a slice from a DataFrame\n",
            "\n",
            "See the caveats in the documentation: https://pandas.pydata.org/pandas-docs/stable/user_guide/indexing.html#returning-a-view-versus-a-copy\n",
            "\n"
          ],
          "name": "stderr"
        }
      ]
    },
    {
      "cell_type": "code",
      "metadata": {
        "colab": {
          "base_uri": "https://localhost:8080/"
        },
        "id": "DZuTML0j8CMl",
        "outputId": "7ca50a93-2777-449b-9730-e5fa5f57c2fa"
      },
      "source": [
        "crime.apply(lambda x: sum(x.isnull()),axis=0)"
      ],
      "execution_count": null,
      "outputs": [
        {
          "output_type": "execute_result",
          "data": {
            "text/plain": [
              "District                0\n",
              "Ward                    0\n",
              "Community Area          0\n",
              "Latitude                0\n",
              "Longitude               0\n",
              "Month                   0\n",
              "Year                    0\n",
              "Time                    0\n",
              "zone                    1\n",
              "Location Description    0\n",
              "Beat                    0\n",
              "dtype: int64"
            ]
          },
          "metadata": {
            "tags": []
          },
          "execution_count": 10
        }
      ]
    },
    {
      "cell_type": "code",
      "metadata": {
        "colab": {
          "base_uri": "https://localhost:8080/",
          "height": 490
        },
        "id": "tvciaGvJ8c10",
        "outputId": "7955f88f-7f90-4570-ff6f-6d7789df5de4"
      },
      "source": [
        "crime[crime['zone'] != 'null']"
      ],
      "execution_count": null,
      "outputs": [
        {
          "output_type": "execute_result",
          "data": {
            "text/html": [
              "<div>\n",
              "<style scoped>\n",
              "    .dataframe tbody tr th:only-of-type {\n",
              "        vertical-align: middle;\n",
              "    }\n",
              "\n",
              "    .dataframe tbody tr th {\n",
              "        vertical-align: top;\n",
              "    }\n",
              "\n",
              "    .dataframe thead th {\n",
              "        text-align: right;\n",
              "    }\n",
              "</style>\n",
              "<table border=\"1\" class=\"dataframe\">\n",
              "  <thead>\n",
              "    <tr style=\"text-align: right;\">\n",
              "      <th></th>\n",
              "      <th>District</th>\n",
              "      <th>Ward</th>\n",
              "      <th>Community Area</th>\n",
              "      <th>Latitude</th>\n",
              "      <th>Longitude</th>\n",
              "      <th>Month</th>\n",
              "      <th>Year</th>\n",
              "      <th>Time</th>\n",
              "      <th>zone</th>\n",
              "      <th>Location Description</th>\n",
              "      <th>Beat</th>\n",
              "    </tr>\n",
              "  </thead>\n",
              "  <tbody>\n",
              "    <tr>\n",
              "      <th>0</th>\n",
              "      <td>9.0</td>\n",
              "      <td>12.0</td>\n",
              "      <td>61.0</td>\n",
              "      <td>41.815117</td>\n",
              "      <td>-87.670000</td>\n",
              "      <td>9</td>\n",
              "      <td>2015</td>\n",
              "      <td>13</td>\n",
              "      <td>South</td>\n",
              "      <td>RESIDENCE</td>\n",
              "      <td>924</td>\n",
              "    </tr>\n",
              "    <tr>\n",
              "      <th>1</th>\n",
              "      <td>15.0</td>\n",
              "      <td>29.0</td>\n",
              "      <td>25.0</td>\n",
              "      <td>41.895080</td>\n",
              "      <td>-87.765400</td>\n",
              "      <td>9</td>\n",
              "      <td>2015</td>\n",
              "      <td>11</td>\n",
              "      <td>North</td>\n",
              "      <td>CTA BUS</td>\n",
              "      <td>1511</td>\n",
              "    </tr>\n",
              "    <tr>\n",
              "      <th>2</th>\n",
              "      <td>14.0</td>\n",
              "      <td>35.0</td>\n",
              "      <td>21.0</td>\n",
              "      <td>41.937406</td>\n",
              "      <td>-87.716650</td>\n",
              "      <td>9</td>\n",
              "      <td>2015</td>\n",
              "      <td>12</td>\n",
              "      <td>West</td>\n",
              "      <td>SIDEWALK</td>\n",
              "      <td>1412</td>\n",
              "    </tr>\n",
              "    <tr>\n",
              "      <th>3</th>\n",
              "      <td>15.0</td>\n",
              "      <td>28.0</td>\n",
              "      <td>25.0</td>\n",
              "      <td>41.881903</td>\n",
              "      <td>-87.755121</td>\n",
              "      <td>9</td>\n",
              "      <td>2015</td>\n",
              "      <td>13</td>\n",
              "      <td>North</td>\n",
              "      <td>APARTMENT</td>\n",
              "      <td>1522</td>\n",
              "    </tr>\n",
              "    <tr>\n",
              "      <th>4</th>\n",
              "      <td>6.0</td>\n",
              "      <td>21.0</td>\n",
              "      <td>71.0</td>\n",
              "      <td>41.744379</td>\n",
              "      <td>-87.658431</td>\n",
              "      <td>9</td>\n",
              "      <td>2015</td>\n",
              "      <td>10</td>\n",
              "      <td>South</td>\n",
              "      <td>RESIDENCE</td>\n",
              "      <td>614</td>\n",
              "    </tr>\n",
              "    <tr>\n",
              "      <th>...</th>\n",
              "      <td>...</td>\n",
              "      <td>...</td>\n",
              "      <td>...</td>\n",
              "      <td>...</td>\n",
              "      <td>...</td>\n",
              "      <td>...</td>\n",
              "      <td>...</td>\n",
              "      <td>...</td>\n",
              "      <td>...</td>\n",
              "      <td>...</td>\n",
              "      <td>...</td>\n",
              "    </tr>\n",
              "    <tr>\n",
              "      <th>2082189</th>\n",
              "      <td>7.0</td>\n",
              "      <td>15.0</td>\n",
              "      <td>67.0</td>\n",
              "      <td>41.776896</td>\n",
              "      <td>-87.670229</td>\n",
              "      <td>5</td>\n",
              "      <td>2004</td>\n",
              "      <td>20</td>\n",
              "      <td>South</td>\n",
              "      <td>SIDEWALK</td>\n",
              "      <td>726</td>\n",
              "    </tr>\n",
              "    <tr>\n",
              "      <th>2082190</th>\n",
              "      <td>2.0</td>\n",
              "      <td>4.0</td>\n",
              "      <td>35.0</td>\n",
              "      <td>41.828690</td>\n",
              "      <td>-87.613413</td>\n",
              "      <td>5</td>\n",
              "      <td>2004</td>\n",
              "      <td>12</td>\n",
              "      <td>East</td>\n",
              "      <td>CHA HALLWAY/STAIRWELL/ELEVATOR</td>\n",
              "      <td>212</td>\n",
              "    </tr>\n",
              "    <tr>\n",
              "      <th>2082191</th>\n",
              "      <td>10.0</td>\n",
              "      <td>12.0</td>\n",
              "      <td>30.0</td>\n",
              "      <td>41.847871</td>\n",
              "      <td>-87.696403</td>\n",
              "      <td>6</td>\n",
              "      <td>2004</td>\n",
              "      <td>8</td>\n",
              "      <td>West</td>\n",
              "      <td>SCHOOL, PUBLIC, BUILDING</td>\n",
              "      <td>1033</td>\n",
              "    </tr>\n",
              "    <tr>\n",
              "      <th>2082192</th>\n",
              "      <td>2.0</td>\n",
              "      <td>4.0</td>\n",
              "      <td>40.0</td>\n",
              "      <td>41.799979</td>\n",
              "      <td>-87.606345</td>\n",
              "      <td>6</td>\n",
              "      <td>2004</td>\n",
              "      <td>10</td>\n",
              "      <td>South</td>\n",
              "      <td>GOVERNMENT BUILDING/PROPERTY</td>\n",
              "      <td>234</td>\n",
              "    </tr>\n",
              "    <tr>\n",
              "      <th>2082193</th>\n",
              "      <td>5.0</td>\n",
              "      <td>34.0</td>\n",
              "      <td>53.0</td>\n",
              "      <td>41.671313</td>\n",
              "      <td>-87.645348</td>\n",
              "      <td>6</td>\n",
              "      <td>2004</td>\n",
              "      <td>23</td>\n",
              "      <td>NaN</td>\n",
              "      <td>STREET</td>\n",
              "      <td>524</td>\n",
              "    </tr>\n",
              "  </tbody>\n",
              "</table>\n",
              "<p>2082194 rows × 11 columns</p>\n",
              "</div>"
            ],
            "text/plain": [
              "         District  Ward  ...            Location Description  Beat\n",
              "0             9.0  12.0  ...                       RESIDENCE   924\n",
              "1            15.0  29.0  ...                         CTA BUS  1511\n",
              "2            14.0  35.0  ...                        SIDEWALK  1412\n",
              "3            15.0  28.0  ...                       APARTMENT  1522\n",
              "4             6.0  21.0  ...                       RESIDENCE   614\n",
              "...           ...   ...  ...                             ...   ...\n",
              "2082189       7.0  15.0  ...                        SIDEWALK   726\n",
              "2082190       2.0   4.0  ...  CHA HALLWAY/STAIRWELL/ELEVATOR   212\n",
              "2082191      10.0  12.0  ...        SCHOOL, PUBLIC, BUILDING  1033\n",
              "2082192       2.0   4.0  ...    GOVERNMENT BUILDING/PROPERTY   234\n",
              "2082193       5.0  34.0  ...                          STREET   524\n",
              "\n",
              "[2082194 rows x 11 columns]"
            ]
          },
          "metadata": {
            "tags": []
          },
          "execution_count": 12
        }
      ]
    },
    {
      "cell_type": "code",
      "metadata": {
        "id": "MTJLbPaG8hNt"
      },
      "source": [
        "crime_null = crime[crime.isna().any(axis=1)]"
      ],
      "execution_count": null,
      "outputs": []
    },
    {
      "cell_type": "code",
      "metadata": {
        "colab": {
          "base_uri": "https://localhost:8080/",
          "height": 117
        },
        "id": "evDqm2TE8ml7",
        "outputId": "f955828d-cd6a-4bf9-a7b0-13693be58beb"
      },
      "source": [
        "crime_null"
      ],
      "execution_count": null,
      "outputs": [
        {
          "output_type": "execute_result",
          "data": {
            "text/html": [
              "<div>\n",
              "<style scoped>\n",
              "    .dataframe tbody tr th:only-of-type {\n",
              "        vertical-align: middle;\n",
              "    }\n",
              "\n",
              "    .dataframe tbody tr th {\n",
              "        vertical-align: top;\n",
              "    }\n",
              "\n",
              "    .dataframe thead th {\n",
              "        text-align: right;\n",
              "    }\n",
              "</style>\n",
              "<table border=\"1\" class=\"dataframe\">\n",
              "  <thead>\n",
              "    <tr style=\"text-align: right;\">\n",
              "      <th></th>\n",
              "      <th>District</th>\n",
              "      <th>Ward</th>\n",
              "      <th>Community Area</th>\n",
              "      <th>Latitude</th>\n",
              "      <th>Longitude</th>\n",
              "      <th>Month</th>\n",
              "      <th>Year</th>\n",
              "      <th>Time</th>\n",
              "      <th>zone</th>\n",
              "      <th>Location Description</th>\n",
              "      <th>Beat</th>\n",
              "    </tr>\n",
              "  </thead>\n",
              "  <tbody>\n",
              "    <tr>\n",
              "      <th>2082193</th>\n",
              "      <td>5.0</td>\n",
              "      <td>34.0</td>\n",
              "      <td>53.0</td>\n",
              "      <td>41.671313</td>\n",
              "      <td>-87.645348</td>\n",
              "      <td>6</td>\n",
              "      <td>2004</td>\n",
              "      <td>23</td>\n",
              "      <td>NaN</td>\n",
              "      <td>STREET</td>\n",
              "      <td>524</td>\n",
              "    </tr>\n",
              "  </tbody>\n",
              "</table>\n",
              "</div>"
            ],
            "text/plain": [
              "         District  Ward  Community Area  ...  zone  Location Description  Beat\n",
              "2082193       5.0  34.0            53.0  ...   NaN                STREET   524\n",
              "\n",
              "[1 rows x 11 columns]"
            ]
          },
          "metadata": {
            "tags": []
          },
          "execution_count": 14
        }
      ]
    },
    {
      "cell_type": "code",
      "metadata": {
        "id": "2r-FUUt-8rMb"
      },
      "source": [
        "crime=crime[crime['Ward'] != 8475075]"
      ],
      "execution_count": null,
      "outputs": []
    },
    {
      "cell_type": "code",
      "metadata": {
        "colab": {
          "base_uri": "https://localhost:8080/"
        },
        "id": "CLSvCLHd8uoF",
        "outputId": "336c6eaa-3231-46dd-88b4-faf316e2cb35"
      },
      "source": [
        "crime.apply(lambda x: sum(x.isnull()),axis=0)"
      ],
      "execution_count": null,
      "outputs": [
        {
          "output_type": "execute_result",
          "data": {
            "text/plain": [
              "District                0\n",
              "Ward                    0\n",
              "Community Area          0\n",
              "Latitude                0\n",
              "Longitude               0\n",
              "Month                   0\n",
              "Year                    0\n",
              "Time                    0\n",
              "zone                    1\n",
              "Location Description    0\n",
              "Beat                    0\n",
              "dtype: int64"
            ]
          },
          "metadata": {
            "tags": []
          },
          "execution_count": 16
        }
      ]
    },
    {
      "cell_type": "code",
      "metadata": {
        "id": "qBdoxIxo8xzp"
      },
      "source": [
        "minimum_X = crime['Latitude'].min()\n",
        "minimum_Y = crime['Longitude'].min()\n",
        "crime['Latitude'] = (crime['Latitude'] - minimum_X)\n",
        "crime['Longitude'] = (crime['Longitude'] - minimum_Y)"
      ],
      "execution_count": null,
      "outputs": []
    },
    {
      "cell_type": "code",
      "metadata": {
        "colab": {
          "base_uri": "https://localhost:8080/"
        },
        "id": "ZfUYe4b2829z",
        "outputId": "cb8768da-9fc2-4e18-ad78-71f7d63e527a"
      },
      "source": [
        "crime_data.isna().sum()"
      ],
      "execution_count": null,
      "outputs": [
        {
          "output_type": "execute_result",
          "data": {
            "text/plain": [
              "IUCR                        0\n",
              "Description                 0\n",
              "Location Description        0\n",
              "Arrest                      0\n",
              "Domestic                    0\n",
              "Beat                        0\n",
              "District                    0\n",
              "Ward                        0\n",
              "Community Area              0\n",
              "FBI Code                    0\n",
              "Year                        0\n",
              "Latitude                    0\n",
              "Longitude                   0\n",
              "Month                       0\n",
              "Day_num                     0\n",
              "Time                        0\n",
              "day_of_week                 0\n",
              "primary_type_grouped      248\n",
              "zone                        1\n",
              "Count_CrimeType_Column    249\n",
              "dtype: int64"
            ]
          },
          "metadata": {
            "tags": []
          },
          "execution_count": 18
        }
      ]
    },
    {
      "cell_type": "code",
      "metadata": {
        "colab": {
          "base_uri": "https://localhost:8080/",
          "height": 542
        },
        "id": "HD6_wN3CAn8y",
        "outputId": "3b8fd7bc-83ec-4a4f-a1e1-658bb8260aaa"
      },
      "source": [
        "import plotly.express as px\n",
        "\n",
        "\n",
        "def plot_counts(serie, title):\n",
        "    df = pd.DataFrame(serie.value_counts()[:15])\n",
        "    df.columns = [\"Freq\"]\n",
        "    df[\"Type\"] = df.index\n",
        "    figure = px.bar(df, y=\"Freq\", x=\"Type\", text=\"Freq\", color=\"Freq\")\n",
        "    figure.update_traces(texttemplate=\"%{text:.2s}\", textposition=\"outside\")\n",
        "    figure.update_layout(title_text=title)\n",
        "    figure.show()\n",
        "\n",
        "\n",
        "plot_counts(crime_data[\"primary_type_grouped\"], \"Kind of Crimes\")\n"
      ],
      "execution_count": null,
      "outputs": [
        {
          "output_type": "display_data",
          "data": {
            "text/html": [
              "<html>\n",
              "<head><meta charset=\"utf-8\" /></head>\n",
              "<body>\n",
              "    <div>\n",
              "            <script src=\"https://cdnjs.cloudflare.com/ajax/libs/mathjax/2.7.5/MathJax.js?config=TeX-AMS-MML_SVG\"></script><script type=\"text/javascript\">if (window.MathJax) {MathJax.Hub.Config({SVG: {font: \"STIX-Web\"}});}</script>\n",
              "                <script type=\"text/javascript\">window.PlotlyConfig = {MathJaxConfig: 'local'};</script>\n",
              "        <script src=\"https://cdn.plot.ly/plotly-latest.min.js\"></script>    \n",
              "            <div id=\"8ce61dea-e474-4699-9c50-015c82db7ed9\" class=\"plotly-graph-div\" style=\"height:525px; width:100%;\"></div>\n",
              "            <script type=\"text/javascript\">\n",
              "                \n",
              "                    window.PLOTLYENV=window.PLOTLYENV || {};\n",
              "                    \n",
              "                if (document.getElementById(\"8ce61dea-e474-4699-9c50-015c82db7ed9\")) {\n",
              "                    Plotly.newPlot(\n",
              "                        '8ce61dea-e474-4699-9c50-015c82db7ed9',\n",
              "                        [{\"alignmentgroup\": \"True\", \"hoverlabel\": {\"namelength\": 0}, \"hovertemplate\": \"Type=%{x}<br>Freq=%{marker.color}\", \"legendgroup\": \"\", \"marker\": {\"color\": [731716, 532675, 399715, 169453, 167465, 35204, 28552, 17165, 1], \"coloraxis\": \"coloraxis\"}, \"name\": \"\", \"offsetgroup\": \"\", \"orientation\": \"v\", \"showlegend\": false, \"text\": [731716.0, 532675.0, 399715.0, 169453.0, 167465.0, 35204.0, 28552.0, 17165.0, 1.0], \"textposition\": \"outside\", \"texttemplate\": \"%{text:.2s}\", \"type\": \"bar\", \"x\": [\"THEFT\", \"NON-CRIMINAL_ASSAULT\", \"CRIMINAL_OFFENSE\", \"NARCOTIC_OFFENSE\", \"OTHER_OFFENSE\", \"SEXUAL_OFFENSE\", \"WEAPONS_OFFENSE\", \"HUMAN_TRAFFICKING_OFFENSE\", \"CRIMINAL_OFFENS\"], \"xaxis\": \"x\", \"y\": [731716, 532675, 399715, 169453, 167465, 35204, 28552, 17165, 1], \"yaxis\": \"y\"}],\n",
              "                        {\"barmode\": \"relative\", \"coloraxis\": {\"colorbar\": {\"title\": {\"text\": \"Freq\"}}, \"colorscale\": [[0.0, \"#0d0887\"], [0.1111111111111111, \"#46039f\"], [0.2222222222222222, \"#7201a8\"], [0.3333333333333333, \"#9c179e\"], [0.4444444444444444, \"#bd3786\"], [0.5555555555555556, \"#d8576b\"], [0.6666666666666666, \"#ed7953\"], [0.7777777777777778, \"#fb9f3a\"], [0.8888888888888888, \"#fdca26\"], [1.0, \"#f0f921\"]]}, \"legend\": {\"tracegroupgap\": 0}, \"margin\": {\"t\": 60}, \"template\": {\"data\": {\"bar\": [{\"error_x\": {\"color\": \"#2a3f5f\"}, \"error_y\": {\"color\": \"#2a3f5f\"}, \"marker\": {\"line\": {\"color\": \"#E5ECF6\", \"width\": 0.5}}, \"type\": \"bar\"}], \"barpolar\": [{\"marker\": {\"line\": {\"color\": \"#E5ECF6\", \"width\": 0.5}}, \"type\": \"barpolar\"}], \"carpet\": [{\"aaxis\": {\"endlinecolor\": \"#2a3f5f\", \"gridcolor\": \"white\", \"linecolor\": \"white\", \"minorgridcolor\": \"white\", \"startlinecolor\": \"#2a3f5f\"}, \"baxis\": {\"endlinecolor\": \"#2a3f5f\", \"gridcolor\": \"white\", \"linecolor\": \"white\", \"minorgridcolor\": \"white\", \"startlinecolor\": \"#2a3f5f\"}, \"type\": \"carpet\"}], \"choropleth\": [{\"colorbar\": {\"outlinewidth\": 0, \"ticks\": \"\"}, \"type\": \"choropleth\"}], \"contour\": [{\"colorbar\": {\"outlinewidth\": 0, \"ticks\": \"\"}, \"colorscale\": [[0.0, \"#0d0887\"], [0.1111111111111111, \"#46039f\"], [0.2222222222222222, \"#7201a8\"], [0.3333333333333333, \"#9c179e\"], [0.4444444444444444, \"#bd3786\"], [0.5555555555555556, \"#d8576b\"], [0.6666666666666666, \"#ed7953\"], [0.7777777777777778, \"#fb9f3a\"], [0.8888888888888888, \"#fdca26\"], [1.0, \"#f0f921\"]], \"type\": \"contour\"}], \"contourcarpet\": [{\"colorbar\": {\"outlinewidth\": 0, \"ticks\": \"\"}, \"type\": \"contourcarpet\"}], \"heatmap\": [{\"colorbar\": {\"outlinewidth\": 0, \"ticks\": \"\"}, \"colorscale\": [[0.0, \"#0d0887\"], [0.1111111111111111, \"#46039f\"], [0.2222222222222222, \"#7201a8\"], [0.3333333333333333, \"#9c179e\"], [0.4444444444444444, \"#bd3786\"], [0.5555555555555556, \"#d8576b\"], [0.6666666666666666, \"#ed7953\"], [0.7777777777777778, \"#fb9f3a\"], [0.8888888888888888, \"#fdca26\"], [1.0, \"#f0f921\"]], \"type\": \"heatmap\"}], \"heatmapgl\": [{\"colorbar\": {\"outlinewidth\": 0, \"ticks\": \"\"}, \"colorscale\": [[0.0, \"#0d0887\"], [0.1111111111111111, \"#46039f\"], [0.2222222222222222, \"#7201a8\"], [0.3333333333333333, \"#9c179e\"], [0.4444444444444444, \"#bd3786\"], [0.5555555555555556, \"#d8576b\"], [0.6666666666666666, \"#ed7953\"], [0.7777777777777778, \"#fb9f3a\"], [0.8888888888888888, \"#fdca26\"], [1.0, \"#f0f921\"]], \"type\": \"heatmapgl\"}], \"histogram\": [{\"marker\": {\"colorbar\": {\"outlinewidth\": 0, \"ticks\": \"\"}}, \"type\": \"histogram\"}], \"histogram2d\": [{\"colorbar\": {\"outlinewidth\": 0, \"ticks\": \"\"}, \"colorscale\": [[0.0, \"#0d0887\"], [0.1111111111111111, \"#46039f\"], [0.2222222222222222, \"#7201a8\"], [0.3333333333333333, \"#9c179e\"], [0.4444444444444444, \"#bd3786\"], [0.5555555555555556, \"#d8576b\"], [0.6666666666666666, \"#ed7953\"], [0.7777777777777778, \"#fb9f3a\"], [0.8888888888888888, \"#fdca26\"], [1.0, \"#f0f921\"]], \"type\": \"histogram2d\"}], \"histogram2dcontour\": [{\"colorbar\": {\"outlinewidth\": 0, \"ticks\": \"\"}, \"colorscale\": [[0.0, \"#0d0887\"], [0.1111111111111111, \"#46039f\"], [0.2222222222222222, \"#7201a8\"], [0.3333333333333333, \"#9c179e\"], [0.4444444444444444, \"#bd3786\"], [0.5555555555555556, \"#d8576b\"], [0.6666666666666666, \"#ed7953\"], [0.7777777777777778, \"#fb9f3a\"], [0.8888888888888888, \"#fdca26\"], [1.0, \"#f0f921\"]], \"type\": \"histogram2dcontour\"}], \"mesh3d\": [{\"colorbar\": {\"outlinewidth\": 0, \"ticks\": \"\"}, \"type\": \"mesh3d\"}], \"parcoords\": [{\"line\": {\"colorbar\": {\"outlinewidth\": 0, \"ticks\": \"\"}}, \"type\": \"parcoords\"}], \"pie\": [{\"automargin\": true, \"type\": \"pie\"}], \"scatter\": [{\"marker\": {\"colorbar\": {\"outlinewidth\": 0, \"ticks\": \"\"}}, \"type\": \"scatter\"}], \"scatter3d\": [{\"line\": {\"colorbar\": {\"outlinewidth\": 0, \"ticks\": \"\"}}, \"marker\": {\"colorbar\": {\"outlinewidth\": 0, \"ticks\": \"\"}}, \"type\": \"scatter3d\"}], \"scattercarpet\": [{\"marker\": {\"colorbar\": {\"outlinewidth\": 0, \"ticks\": \"\"}}, \"type\": \"scattercarpet\"}], \"scattergeo\": [{\"marker\": {\"colorbar\": {\"outlinewidth\": 0, \"ticks\": \"\"}}, \"type\": \"scattergeo\"}], \"scattergl\": [{\"marker\": {\"colorbar\": {\"outlinewidth\": 0, \"ticks\": \"\"}}, \"type\": \"scattergl\"}], \"scattermapbox\": [{\"marker\": {\"colorbar\": {\"outlinewidth\": 0, \"ticks\": \"\"}}, \"type\": \"scattermapbox\"}], \"scatterpolar\": [{\"marker\": {\"colorbar\": {\"outlinewidth\": 0, \"ticks\": \"\"}}, \"type\": \"scatterpolar\"}], \"scatterpolargl\": [{\"marker\": {\"colorbar\": {\"outlinewidth\": 0, \"ticks\": \"\"}}, \"type\": \"scatterpolargl\"}], \"scatterternary\": [{\"marker\": {\"colorbar\": {\"outlinewidth\": 0, \"ticks\": \"\"}}, \"type\": \"scatterternary\"}], \"surface\": [{\"colorbar\": {\"outlinewidth\": 0, \"ticks\": \"\"}, \"colorscale\": [[0.0, \"#0d0887\"], [0.1111111111111111, \"#46039f\"], [0.2222222222222222, \"#7201a8\"], [0.3333333333333333, \"#9c179e\"], [0.4444444444444444, \"#bd3786\"], [0.5555555555555556, \"#d8576b\"], [0.6666666666666666, \"#ed7953\"], [0.7777777777777778, \"#fb9f3a\"], [0.8888888888888888, \"#fdca26\"], [1.0, \"#f0f921\"]], \"type\": \"surface\"}], \"table\": [{\"cells\": {\"fill\": {\"color\": \"#EBF0F8\"}, \"line\": {\"color\": \"white\"}}, \"header\": {\"fill\": {\"color\": \"#C8D4E3\"}, \"line\": {\"color\": \"white\"}}, \"type\": \"table\"}]}, \"layout\": {\"annotationdefaults\": {\"arrowcolor\": \"#2a3f5f\", \"arrowhead\": 0, \"arrowwidth\": 1}, \"coloraxis\": {\"colorbar\": {\"outlinewidth\": 0, \"ticks\": \"\"}}, \"colorscale\": {\"diverging\": [[0, \"#8e0152\"], [0.1, \"#c51b7d\"], [0.2, \"#de77ae\"], [0.3, \"#f1b6da\"], [0.4, \"#fde0ef\"], [0.5, \"#f7f7f7\"], [0.6, \"#e6f5d0\"], [0.7, \"#b8e186\"], [0.8, \"#7fbc41\"], [0.9, \"#4d9221\"], [1, \"#276419\"]], \"sequential\": [[0.0, \"#0d0887\"], [0.1111111111111111, \"#46039f\"], [0.2222222222222222, \"#7201a8\"], [0.3333333333333333, \"#9c179e\"], [0.4444444444444444, \"#bd3786\"], [0.5555555555555556, \"#d8576b\"], [0.6666666666666666, \"#ed7953\"], [0.7777777777777778, \"#fb9f3a\"], [0.8888888888888888, \"#fdca26\"], [1.0, \"#f0f921\"]], \"sequentialminus\": [[0.0, \"#0d0887\"], [0.1111111111111111, \"#46039f\"], [0.2222222222222222, \"#7201a8\"], [0.3333333333333333, \"#9c179e\"], [0.4444444444444444, \"#bd3786\"], [0.5555555555555556, \"#d8576b\"], [0.6666666666666666, \"#ed7953\"], [0.7777777777777778, \"#fb9f3a\"], [0.8888888888888888, \"#fdca26\"], [1.0, \"#f0f921\"]]}, \"colorway\": [\"#636efa\", \"#EF553B\", \"#00cc96\", \"#ab63fa\", \"#FFA15A\", \"#19d3f3\", \"#FF6692\", \"#B6E880\", \"#FF97FF\", \"#FECB52\"], \"font\": {\"color\": \"#2a3f5f\"}, \"geo\": {\"bgcolor\": \"white\", \"lakecolor\": \"white\", \"landcolor\": \"#E5ECF6\", \"showlakes\": true, \"showland\": true, \"subunitcolor\": \"white\"}, \"hoverlabel\": {\"align\": \"left\"}, \"hovermode\": \"closest\", \"mapbox\": {\"style\": \"light\"}, \"paper_bgcolor\": \"white\", \"plot_bgcolor\": \"#E5ECF6\", \"polar\": {\"angularaxis\": {\"gridcolor\": \"white\", \"linecolor\": \"white\", \"ticks\": \"\"}, \"bgcolor\": \"#E5ECF6\", \"radialaxis\": {\"gridcolor\": \"white\", \"linecolor\": \"white\", \"ticks\": \"\"}}, \"scene\": {\"xaxis\": {\"backgroundcolor\": \"#E5ECF6\", \"gridcolor\": \"white\", \"gridwidth\": 2, \"linecolor\": \"white\", \"showbackground\": true, \"ticks\": \"\", \"zerolinecolor\": \"white\"}, \"yaxis\": {\"backgroundcolor\": \"#E5ECF6\", \"gridcolor\": \"white\", \"gridwidth\": 2, \"linecolor\": \"white\", \"showbackground\": true, \"ticks\": \"\", \"zerolinecolor\": \"white\"}, \"zaxis\": {\"backgroundcolor\": \"#E5ECF6\", \"gridcolor\": \"white\", \"gridwidth\": 2, \"linecolor\": \"white\", \"showbackground\": true, \"ticks\": \"\", \"zerolinecolor\": \"white\"}}, \"shapedefaults\": {\"line\": {\"color\": \"#2a3f5f\"}}, \"ternary\": {\"aaxis\": {\"gridcolor\": \"white\", \"linecolor\": \"white\", \"ticks\": \"\"}, \"baxis\": {\"gridcolor\": \"white\", \"linecolor\": \"white\", \"ticks\": \"\"}, \"bgcolor\": \"#E5ECF6\", \"caxis\": {\"gridcolor\": \"white\", \"linecolor\": \"white\", \"ticks\": \"\"}}, \"title\": {\"x\": 0.05}, \"xaxis\": {\"automargin\": true, \"gridcolor\": \"white\", \"linecolor\": \"white\", \"ticks\": \"\", \"title\": {\"standoff\": 15}, \"zerolinecolor\": \"white\", \"zerolinewidth\": 2}, \"yaxis\": {\"automargin\": true, \"gridcolor\": \"white\", \"linecolor\": \"white\", \"ticks\": \"\", \"title\": {\"standoff\": 15}, \"zerolinecolor\": \"white\", \"zerolinewidth\": 2}}}, \"title\": {\"text\": \"Kind of Crimes\"}, \"xaxis\": {\"anchor\": \"y\", \"domain\": [0.0, 1.0], \"title\": {\"text\": \"Type\"}}, \"yaxis\": {\"anchor\": \"x\", \"domain\": [0.0, 1.0], \"title\": {\"text\": \"Freq\"}}},\n",
              "                        {\"responsive\": true}\n",
              "                    ).then(function(){\n",
              "                            \n",
              "var gd = document.getElementById('8ce61dea-e474-4699-9c50-015c82db7ed9');\n",
              "var x = new MutationObserver(function (mutations, observer) {{\n",
              "        var display = window.getComputedStyle(gd).display;\n",
              "        if (!display || display === 'none') {{\n",
              "            console.log([gd, 'removed!']);\n",
              "            Plotly.purge(gd);\n",
              "            observer.disconnect();\n",
              "        }}\n",
              "}});\n",
              "\n",
              "// Listen for the removal of the full notebook cells\n",
              "var notebookContainer = gd.closest('#notebook-container');\n",
              "if (notebookContainer) {{\n",
              "    x.observe(notebookContainer, {childList: true});\n",
              "}}\n",
              "\n",
              "// Listen for the clearing of the current output cell\n",
              "var outputEl = gd.closest('.output');\n",
              "if (outputEl) {{\n",
              "    x.observe(outputEl, {childList: true});\n",
              "}}\n",
              "\n",
              "                        })\n",
              "                };\n",
              "                \n",
              "            </script>\n",
              "        </div>\n",
              "</body>\n",
              "</html>"
            ]
          },
          "metadata": {
            "tags": []
          }
        }
      ]
    },
    {
      "cell_type": "code",
      "metadata": {
        "colab": {
          "base_uri": "https://localhost:8080/",
          "height": 542
        },
        "id": "oYJdLugVBS7g",
        "outputId": "29c776b2-ccef-487b-9316-fd3f43296378"
      },
      "source": [
        "plot_counts(crime_data[\"Location Description\"], \"Location of Crimes\")"
      ],
      "execution_count": null,
      "outputs": [
        {
          "output_type": "display_data",
          "data": {
            "text/html": [
              "<html>\n",
              "<head><meta charset=\"utf-8\" /></head>\n",
              "<body>\n",
              "    <div>\n",
              "            <script src=\"https://cdnjs.cloudflare.com/ajax/libs/mathjax/2.7.5/MathJax.js?config=TeX-AMS-MML_SVG\"></script><script type=\"text/javascript\">if (window.MathJax) {MathJax.Hub.Config({SVG: {font: \"STIX-Web\"}});}</script>\n",
              "                <script type=\"text/javascript\">window.PlotlyConfig = {MathJaxConfig: 'local'};</script>\n",
              "        <script src=\"https://cdn.plot.ly/plotly-latest.min.js\"></script>    \n",
              "            <div id=\"8d5ddc94-a21a-4bea-9b75-0227ce9862da\" class=\"plotly-graph-div\" style=\"height:525px; width:100%;\"></div>\n",
              "            <script type=\"text/javascript\">\n",
              "                \n",
              "                    window.PLOTLYENV=window.PLOTLYENV || {};\n",
              "                    \n",
              "                if (document.getElementById(\"8d5ddc94-a21a-4bea-9b75-0227ce9862da\")) {\n",
              "                    Plotly.newPlot(\n",
              "                        '8d5ddc94-a21a-4bea-9b75-0227ce9862da',\n",
              "                        [{\"alignmentgroup\": \"True\", \"hoverlabel\": {\"namelength\": 0}, \"hovertemplate\": \"Type=%{x}<br>Freq=%{marker.color}\", \"legendgroup\": \"\", \"marker\": {\"color\": [542537, 357152, 224539, 169178, 80865, 62145, 43763, 43015, 39956, 39668, 38789, 37548, 31209, 29204, 28887], \"coloraxis\": \"coloraxis\"}, \"name\": \"\", \"offsetgroup\": \"\", \"orientation\": \"v\", \"showlegend\": false, \"text\": [542537.0, 357152.0, 224539.0, 169178.0, 80865.0, 62145.0, 43763.0, 43015.0, 39956.0, 39668.0, 38789.0, 37548.0, 31209.0, 29204.0, 28887.0], \"textposition\": \"outside\", \"texttemplate\": \"%{text:.2s}\", \"type\": \"bar\", \"x\": [\"STREET\", \"RESIDENCE\", \"APARTMENT\", \"SIDEWALK\", \"OTHER\", \"PARKING LOT/GARAGE(NON.RESID.)\", \"ALLEY\", \"SMALL RETAIL STORE\", \"RESTAURANT\", \"SCHOOL, PUBLIC, BUILDING\", \"RESIDENCE-GARAGE\", \"RESIDENCE PORCH/HALLWAY\", \"VEHICLE NON-COMMERCIAL\", \"GROCERY FOOD STORE\", \"DEPARTMENT STORE\"], \"xaxis\": \"x\", \"y\": [542537, 357152, 224539, 169178, 80865, 62145, 43763, 43015, 39956, 39668, 38789, 37548, 31209, 29204, 28887], \"yaxis\": \"y\"}],\n",
              "                        {\"barmode\": \"relative\", \"coloraxis\": {\"colorbar\": {\"title\": {\"text\": \"Freq\"}}, \"colorscale\": [[0.0, \"#0d0887\"], [0.1111111111111111, \"#46039f\"], [0.2222222222222222, \"#7201a8\"], [0.3333333333333333, \"#9c179e\"], [0.4444444444444444, \"#bd3786\"], [0.5555555555555556, \"#d8576b\"], [0.6666666666666666, \"#ed7953\"], [0.7777777777777778, \"#fb9f3a\"], [0.8888888888888888, \"#fdca26\"], [1.0, \"#f0f921\"]]}, \"legend\": {\"tracegroupgap\": 0}, \"margin\": {\"t\": 60}, \"template\": {\"data\": {\"bar\": [{\"error_x\": {\"color\": \"#2a3f5f\"}, \"error_y\": {\"color\": \"#2a3f5f\"}, \"marker\": {\"line\": {\"color\": \"#E5ECF6\", \"width\": 0.5}}, \"type\": \"bar\"}], \"barpolar\": [{\"marker\": {\"line\": {\"color\": \"#E5ECF6\", \"width\": 0.5}}, \"type\": \"barpolar\"}], \"carpet\": [{\"aaxis\": {\"endlinecolor\": \"#2a3f5f\", \"gridcolor\": \"white\", \"linecolor\": \"white\", \"minorgridcolor\": \"white\", \"startlinecolor\": \"#2a3f5f\"}, \"baxis\": {\"endlinecolor\": \"#2a3f5f\", \"gridcolor\": \"white\", \"linecolor\": \"white\", \"minorgridcolor\": \"white\", \"startlinecolor\": \"#2a3f5f\"}, \"type\": \"carpet\"}], \"choropleth\": [{\"colorbar\": {\"outlinewidth\": 0, \"ticks\": \"\"}, \"type\": \"choropleth\"}], \"contour\": [{\"colorbar\": {\"outlinewidth\": 0, \"ticks\": \"\"}, \"colorscale\": [[0.0, \"#0d0887\"], [0.1111111111111111, \"#46039f\"], [0.2222222222222222, \"#7201a8\"], [0.3333333333333333, \"#9c179e\"], [0.4444444444444444, \"#bd3786\"], [0.5555555555555556, \"#d8576b\"], [0.6666666666666666, \"#ed7953\"], [0.7777777777777778, \"#fb9f3a\"], [0.8888888888888888, \"#fdca26\"], [1.0, \"#f0f921\"]], \"type\": \"contour\"}], \"contourcarpet\": [{\"colorbar\": {\"outlinewidth\": 0, \"ticks\": \"\"}, \"type\": \"contourcarpet\"}], \"heatmap\": [{\"colorbar\": {\"outlinewidth\": 0, \"ticks\": \"\"}, \"colorscale\": [[0.0, \"#0d0887\"], [0.1111111111111111, \"#46039f\"], [0.2222222222222222, \"#7201a8\"], [0.3333333333333333, \"#9c179e\"], [0.4444444444444444, \"#bd3786\"], [0.5555555555555556, \"#d8576b\"], [0.6666666666666666, \"#ed7953\"], [0.7777777777777778, \"#fb9f3a\"], [0.8888888888888888, \"#fdca26\"], [1.0, \"#f0f921\"]], \"type\": \"heatmap\"}], \"heatmapgl\": [{\"colorbar\": {\"outlinewidth\": 0, \"ticks\": \"\"}, \"colorscale\": [[0.0, \"#0d0887\"], [0.1111111111111111, \"#46039f\"], [0.2222222222222222, \"#7201a8\"], [0.3333333333333333, \"#9c179e\"], [0.4444444444444444, \"#bd3786\"], [0.5555555555555556, \"#d8576b\"], [0.6666666666666666, \"#ed7953\"], [0.7777777777777778, \"#fb9f3a\"], [0.8888888888888888, \"#fdca26\"], [1.0, \"#f0f921\"]], \"type\": \"heatmapgl\"}], \"histogram\": [{\"marker\": {\"colorbar\": {\"outlinewidth\": 0, \"ticks\": \"\"}}, \"type\": \"histogram\"}], \"histogram2d\": [{\"colorbar\": {\"outlinewidth\": 0, \"ticks\": \"\"}, \"colorscale\": [[0.0, \"#0d0887\"], [0.1111111111111111, \"#46039f\"], [0.2222222222222222, \"#7201a8\"], [0.3333333333333333, \"#9c179e\"], [0.4444444444444444, \"#bd3786\"], [0.5555555555555556, \"#d8576b\"], [0.6666666666666666, \"#ed7953\"], [0.7777777777777778, \"#fb9f3a\"], [0.8888888888888888, \"#fdca26\"], [1.0, \"#f0f921\"]], \"type\": \"histogram2d\"}], \"histogram2dcontour\": [{\"colorbar\": {\"outlinewidth\": 0, \"ticks\": \"\"}, \"colorscale\": [[0.0, \"#0d0887\"], [0.1111111111111111, \"#46039f\"], [0.2222222222222222, \"#7201a8\"], [0.3333333333333333, \"#9c179e\"], [0.4444444444444444, \"#bd3786\"], [0.5555555555555556, \"#d8576b\"], [0.6666666666666666, \"#ed7953\"], [0.7777777777777778, \"#fb9f3a\"], [0.8888888888888888, \"#fdca26\"], [1.0, \"#f0f921\"]], \"type\": \"histogram2dcontour\"}], \"mesh3d\": [{\"colorbar\": {\"outlinewidth\": 0, \"ticks\": \"\"}, \"type\": \"mesh3d\"}], \"parcoords\": [{\"line\": {\"colorbar\": {\"outlinewidth\": 0, \"ticks\": \"\"}}, \"type\": \"parcoords\"}], \"pie\": [{\"automargin\": true, \"type\": \"pie\"}], \"scatter\": [{\"marker\": {\"colorbar\": {\"outlinewidth\": 0, \"ticks\": \"\"}}, \"type\": \"scatter\"}], \"scatter3d\": [{\"line\": {\"colorbar\": {\"outlinewidth\": 0, \"ticks\": \"\"}}, \"marker\": {\"colorbar\": {\"outlinewidth\": 0, \"ticks\": \"\"}}, \"type\": \"scatter3d\"}], \"scattercarpet\": [{\"marker\": {\"colorbar\": {\"outlinewidth\": 0, \"ticks\": \"\"}}, \"type\": \"scattercarpet\"}], \"scattergeo\": [{\"marker\": {\"colorbar\": {\"outlinewidth\": 0, \"ticks\": \"\"}}, \"type\": \"scattergeo\"}], \"scattergl\": [{\"marker\": {\"colorbar\": {\"outlinewidth\": 0, \"ticks\": \"\"}}, \"type\": \"scattergl\"}], \"scattermapbox\": [{\"marker\": {\"colorbar\": {\"outlinewidth\": 0, \"ticks\": \"\"}}, \"type\": \"scattermapbox\"}], \"scatterpolar\": [{\"marker\": {\"colorbar\": {\"outlinewidth\": 0, \"ticks\": \"\"}}, \"type\": \"scatterpolar\"}], \"scatterpolargl\": [{\"marker\": {\"colorbar\": {\"outlinewidth\": 0, \"ticks\": \"\"}}, \"type\": \"scatterpolargl\"}], \"scatterternary\": [{\"marker\": {\"colorbar\": {\"outlinewidth\": 0, \"ticks\": \"\"}}, \"type\": \"scatterternary\"}], \"surface\": [{\"colorbar\": {\"outlinewidth\": 0, \"ticks\": \"\"}, \"colorscale\": [[0.0, \"#0d0887\"], [0.1111111111111111, \"#46039f\"], [0.2222222222222222, \"#7201a8\"], [0.3333333333333333, \"#9c179e\"], [0.4444444444444444, \"#bd3786\"], [0.5555555555555556, \"#d8576b\"], [0.6666666666666666, \"#ed7953\"], [0.7777777777777778, \"#fb9f3a\"], [0.8888888888888888, \"#fdca26\"], [1.0, \"#f0f921\"]], \"type\": \"surface\"}], \"table\": [{\"cells\": {\"fill\": {\"color\": \"#EBF0F8\"}, \"line\": {\"color\": \"white\"}}, \"header\": {\"fill\": {\"color\": \"#C8D4E3\"}, \"line\": {\"color\": \"white\"}}, \"type\": \"table\"}]}, \"layout\": {\"annotationdefaults\": {\"arrowcolor\": \"#2a3f5f\", \"arrowhead\": 0, \"arrowwidth\": 1}, \"coloraxis\": {\"colorbar\": {\"outlinewidth\": 0, \"ticks\": \"\"}}, \"colorscale\": {\"diverging\": [[0, \"#8e0152\"], [0.1, \"#c51b7d\"], [0.2, \"#de77ae\"], [0.3, \"#f1b6da\"], [0.4, \"#fde0ef\"], [0.5, \"#f7f7f7\"], [0.6, \"#e6f5d0\"], [0.7, \"#b8e186\"], [0.8, \"#7fbc41\"], [0.9, \"#4d9221\"], [1, \"#276419\"]], \"sequential\": [[0.0, \"#0d0887\"], [0.1111111111111111, \"#46039f\"], [0.2222222222222222, \"#7201a8\"], [0.3333333333333333, \"#9c179e\"], [0.4444444444444444, \"#bd3786\"], [0.5555555555555556, \"#d8576b\"], [0.6666666666666666, \"#ed7953\"], [0.7777777777777778, \"#fb9f3a\"], [0.8888888888888888, \"#fdca26\"], [1.0, \"#f0f921\"]], \"sequentialminus\": [[0.0, \"#0d0887\"], [0.1111111111111111, \"#46039f\"], [0.2222222222222222, \"#7201a8\"], [0.3333333333333333, \"#9c179e\"], [0.4444444444444444, \"#bd3786\"], [0.5555555555555556, \"#d8576b\"], [0.6666666666666666, \"#ed7953\"], [0.7777777777777778, \"#fb9f3a\"], [0.8888888888888888, \"#fdca26\"], [1.0, \"#f0f921\"]]}, \"colorway\": [\"#636efa\", \"#EF553B\", \"#00cc96\", \"#ab63fa\", \"#FFA15A\", \"#19d3f3\", \"#FF6692\", \"#B6E880\", \"#FF97FF\", \"#FECB52\"], \"font\": {\"color\": \"#2a3f5f\"}, \"geo\": {\"bgcolor\": \"white\", \"lakecolor\": \"white\", \"landcolor\": \"#E5ECF6\", \"showlakes\": true, \"showland\": true, \"subunitcolor\": \"white\"}, \"hoverlabel\": {\"align\": \"left\"}, \"hovermode\": \"closest\", \"mapbox\": {\"style\": \"light\"}, \"paper_bgcolor\": \"white\", \"plot_bgcolor\": \"#E5ECF6\", \"polar\": {\"angularaxis\": {\"gridcolor\": \"white\", \"linecolor\": \"white\", \"ticks\": \"\"}, \"bgcolor\": \"#E5ECF6\", \"radialaxis\": {\"gridcolor\": \"white\", \"linecolor\": \"white\", \"ticks\": \"\"}}, \"scene\": {\"xaxis\": {\"backgroundcolor\": \"#E5ECF6\", \"gridcolor\": \"white\", \"gridwidth\": 2, \"linecolor\": \"white\", \"showbackground\": true, \"ticks\": \"\", \"zerolinecolor\": \"white\"}, \"yaxis\": {\"backgroundcolor\": \"#E5ECF6\", \"gridcolor\": \"white\", \"gridwidth\": 2, \"linecolor\": \"white\", \"showbackground\": true, \"ticks\": \"\", \"zerolinecolor\": \"white\"}, \"zaxis\": {\"backgroundcolor\": \"#E5ECF6\", \"gridcolor\": \"white\", \"gridwidth\": 2, \"linecolor\": \"white\", \"showbackground\": true, \"ticks\": \"\", \"zerolinecolor\": \"white\"}}, \"shapedefaults\": {\"line\": {\"color\": \"#2a3f5f\"}}, \"ternary\": {\"aaxis\": {\"gridcolor\": \"white\", \"linecolor\": \"white\", \"ticks\": \"\"}, \"baxis\": {\"gridcolor\": \"white\", \"linecolor\": \"white\", \"ticks\": \"\"}, \"bgcolor\": \"#E5ECF6\", \"caxis\": {\"gridcolor\": \"white\", \"linecolor\": \"white\", \"ticks\": \"\"}}, \"title\": {\"x\": 0.05}, \"xaxis\": {\"automargin\": true, \"gridcolor\": \"white\", \"linecolor\": \"white\", \"ticks\": \"\", \"title\": {\"standoff\": 15}, \"zerolinecolor\": \"white\", \"zerolinewidth\": 2}, \"yaxis\": {\"automargin\": true, \"gridcolor\": \"white\", \"linecolor\": \"white\", \"ticks\": \"\", \"title\": {\"standoff\": 15}, \"zerolinecolor\": \"white\", \"zerolinewidth\": 2}}}, \"title\": {\"text\": \"Location of Crimes\"}, \"xaxis\": {\"anchor\": \"y\", \"domain\": [0.0, 1.0], \"title\": {\"text\": \"Type\"}}, \"yaxis\": {\"anchor\": \"x\", \"domain\": [0.0, 1.0], \"title\": {\"text\": \"Freq\"}}},\n",
              "                        {\"responsive\": true}\n",
              "                    ).then(function(){\n",
              "                            \n",
              "var gd = document.getElementById('8d5ddc94-a21a-4bea-9b75-0227ce9862da');\n",
              "var x = new MutationObserver(function (mutations, observer) {{\n",
              "        var display = window.getComputedStyle(gd).display;\n",
              "        if (!display || display === 'none') {{\n",
              "            console.log([gd, 'removed!']);\n",
              "            Plotly.purge(gd);\n",
              "            observer.disconnect();\n",
              "        }}\n",
              "}});\n",
              "\n",
              "// Listen for the removal of the full notebook cells\n",
              "var notebookContainer = gd.closest('#notebook-container');\n",
              "if (notebookContainer) {{\n",
              "    x.observe(notebookContainer, {childList: true});\n",
              "}}\n",
              "\n",
              "// Listen for the clearing of the current output cell\n",
              "var outputEl = gd.closest('.output');\n",
              "if (outputEl) {{\n",
              "    x.observe(outputEl, {childList: true});\n",
              "}}\n",
              "\n",
              "                        })\n",
              "                };\n",
              "                \n",
              "            </script>\n",
              "        </div>\n",
              "</body>\n",
              "</html>"
            ]
          },
          "metadata": {
            "tags": []
          }
        }
      ]
    },
    {
      "cell_type": "code",
      "metadata": {
        "colab": {
          "base_uri": "https://localhost:8080/",
          "height": 309
        },
        "id": "guG0fLEVFTfj",
        "outputId": "25e11b5f-8f9f-4443-f2ba-793fd6d77f8e"
      },
      "source": [
        "futurePrediction = crime_model.make_future_dataframe(periods=300)\n",
        "futureForecast = crime_model.predict(futurePrediction)\n",
        "futureForecast.head()"
      ],
      "execution_count": null,
      "outputs": [
        {
          "output_type": "execute_result",
          "data": {
            "text/html": [
              "<div>\n",
              "<style scoped>\n",
              "    .dataframe tbody tr th:only-of-type {\n",
              "        vertical-align: middle;\n",
              "    }\n",
              "\n",
              "    .dataframe tbody tr th {\n",
              "        vertical-align: top;\n",
              "    }\n",
              "\n",
              "    .dataframe thead th {\n",
              "        text-align: right;\n",
              "    }\n",
              "</style>\n",
              "<table border=\"1\" class=\"dataframe\">\n",
              "  <thead>\n",
              "    <tr style=\"text-align: right;\">\n",
              "      <th></th>\n",
              "      <th>ds</th>\n",
              "      <th>trend</th>\n",
              "      <th>yhat_lower</th>\n",
              "      <th>yhat_upper</th>\n",
              "      <th>trend_lower</th>\n",
              "      <th>trend_upper</th>\n",
              "      <th>additive_terms</th>\n",
              "      <th>additive_terms_lower</th>\n",
              "      <th>additive_terms_upper</th>\n",
              "      <th>yearly</th>\n",
              "      <th>yearly_lower</th>\n",
              "      <th>yearly_upper</th>\n",
              "      <th>multiplicative_terms</th>\n",
              "      <th>multiplicative_terms_lower</th>\n",
              "      <th>multiplicative_terms_upper</th>\n",
              "      <th>yhat</th>\n",
              "    </tr>\n",
              "  </thead>\n",
              "  <tbody>\n",
              "    <tr>\n",
              "      <th>0</th>\n",
              "      <td>2001-01-31</td>\n",
              "      <td>-1184.711418</td>\n",
              "      <td>-9100.579994</td>\n",
              "      <td>5429.574062</td>\n",
              "      <td>-1184.711418</td>\n",
              "      <td>-1184.711418</td>\n",
              "      <td>-49.765367</td>\n",
              "      <td>-49.765367</td>\n",
              "      <td>-49.765367</td>\n",
              "      <td>-49.765367</td>\n",
              "      <td>-49.765367</td>\n",
              "      <td>-49.765367</td>\n",
              "      <td>0.0</td>\n",
              "      <td>0.0</td>\n",
              "      <td>0.0</td>\n",
              "      <td>-1234.476785</td>\n",
              "    </tr>\n",
              "    <tr>\n",
              "      <th>1</th>\n",
              "      <td>2001-02-28</td>\n",
              "      <td>-1158.028043</td>\n",
              "      <td>-9122.601831</td>\n",
              "      <td>6444.516660</td>\n",
              "      <td>-1158.028043</td>\n",
              "      <td>-1158.028043</td>\n",
              "      <td>-252.551135</td>\n",
              "      <td>-252.551135</td>\n",
              "      <td>-252.551135</td>\n",
              "      <td>-252.551135</td>\n",
              "      <td>-252.551135</td>\n",
              "      <td>-252.551135</td>\n",
              "      <td>0.0</td>\n",
              "      <td>0.0</td>\n",
              "      <td>0.0</td>\n",
              "      <td>-1410.579179</td>\n",
              "    </tr>\n",
              "    <tr>\n",
              "      <th>2</th>\n",
              "      <td>2001-03-31</td>\n",
              "      <td>-1128.485735</td>\n",
              "      <td>-9054.118280</td>\n",
              "      <td>6598.888215</td>\n",
              "      <td>-1128.485735</td>\n",
              "      <td>-1128.485735</td>\n",
              "      <td>53.293916</td>\n",
              "      <td>53.293916</td>\n",
              "      <td>53.293916</td>\n",
              "      <td>53.293916</td>\n",
              "      <td>53.293916</td>\n",
              "      <td>53.293916</td>\n",
              "      <td>0.0</td>\n",
              "      <td>0.0</td>\n",
              "      <td>0.0</td>\n",
              "      <td>-1075.191819</td>\n",
              "    </tr>\n",
              "    <tr>\n",
              "      <th>3</th>\n",
              "      <td>2001-04-30</td>\n",
              "      <td>-1099.896405</td>\n",
              "      <td>-8691.109633</td>\n",
              "      <td>6357.313475</td>\n",
              "      <td>-1099.896405</td>\n",
              "      <td>-1099.896405</td>\n",
              "      <td>-5.682593</td>\n",
              "      <td>-5.682593</td>\n",
              "      <td>-5.682593</td>\n",
              "      <td>-5.682593</td>\n",
              "      <td>-5.682593</td>\n",
              "      <td>-5.682593</td>\n",
              "      <td>0.0</td>\n",
              "      <td>0.0</td>\n",
              "      <td>0.0</td>\n",
              "      <td>-1105.578998</td>\n",
              "    </tr>\n",
              "    <tr>\n",
              "      <th>4</th>\n",
              "      <td>2001-05-31</td>\n",
              "      <td>-1070.354097</td>\n",
              "      <td>-8510.844078</td>\n",
              "      <td>6973.160335</td>\n",
              "      <td>-1070.354097</td>\n",
              "      <td>-1070.354097</td>\n",
              "      <td>161.981996</td>\n",
              "      <td>161.981996</td>\n",
              "      <td>161.981996</td>\n",
              "      <td>161.981996</td>\n",
              "      <td>161.981996</td>\n",
              "      <td>161.981996</td>\n",
              "      <td>0.0</td>\n",
              "      <td>0.0</td>\n",
              "      <td>0.0</td>\n",
              "      <td>-908.372101</td>\n",
              "    </tr>\n",
              "  </tbody>\n",
              "</table>\n",
              "</div>"
            ],
            "text/plain": [
              "          ds        trend  ...  multiplicative_terms_upper         yhat\n",
              "0 2001-01-31 -1184.711418  ...                         0.0 -1234.476785\n",
              "1 2001-02-28 -1158.028043  ...                         0.0 -1410.579179\n",
              "2 2001-03-31 -1128.485735  ...                         0.0 -1075.191819\n",
              "3 2001-04-30 -1099.896405  ...                         0.0 -1105.578998\n",
              "4 2001-05-31 -1070.354097  ...                         0.0  -908.372101\n",
              "\n",
              "[5 rows x 16 columns]"
            ]
          },
          "metadata": {
            "tags": []
          },
          "execution_count": 28
        }
      ]
    },
    {
      "cell_type": "code",
      "metadata": {
        "colab": {
          "base_uri": "https://localhost:8080/",
          "height": 542
        },
        "id": "kvqt_n-jFZOl",
        "outputId": "36181c52-d3ba-4d0d-c2fc-f56c72fb228e"
      },
      "source": [
        "import plotly.graph_objects as go\n",
        "\n",
        "# Create random data with numpy\n",
        "\n",
        "# Create traces\n",
        "figure = go.Figure()\n",
        "figure.add_trace(\n",
        "    go.Scatter(\n",
        "        x=futureForecast[\"ds\"], y=futureForecast[\"yhat\"], mode=\"lines\", name=\"Predict Values\"\n",
        "    )\n",
        ")\n",
        "figure.add_trace(\n",
        "    go.Scatter(x=futureForecast[\"ds\"], y=futureForecast[\"trend\"], mode=\"lines\", name=\"Trend\")\n",
        ")\n",
        "figure.add_trace(\n",
        "    go.Scatter(\n",
        "        x=crimesInChicago_data_model[\"ds\"], y=crimesInChicago_data_model[\"y\"], mode=\"lines+markers\", name=\"Real Values\",\n",
        "    )\n",
        ")\n",
        "figure.update_layout(\n",
        "    title_text=\"Comperating the real x predicted\",\n",
        "    yaxis_title=\"Crime counts\",\n",
        "    xaxis_title=\"Date\",\n",
        ")\n",
        "\n",
        "\n",
        "figure.show()"
      ],
      "execution_count": null,
      "outputs": [
        {
          "output_type": "display_data",
          "data": {
            "text/html": [
              "<html>\n",
              "<head><meta charset=\"utf-8\" /></head>\n",
              "<body>\n",
              "    <div>\n",
              "            <script src=\"https://cdnjs.cloudflare.com/ajax/libs/mathjax/2.7.5/MathJax.js?config=TeX-AMS-MML_SVG\"></script><script type=\"text/javascript\">if (window.MathJax) {MathJax.Hub.Config({SVG: {font: \"STIX-Web\"}});}</script>\n",
              "                <script type=\"text/javascript\">window.PlotlyConfig = {MathJaxConfig: 'local'};</script>\n",
              "        <script src=\"https://cdn.plot.ly/plotly-latest.min.js\"></script>    \n",
              "            <div id=\"42469070-c48d-4dcc-9b8e-d75c9e262cce\" class=\"plotly-graph-div\" style=\"height:525px; width:100%;\"></div>\n",
              "            <script type=\"text/javascript\">\n",
              "                \n",
              "                    window.PLOTLYENV=window.PLOTLYENV || {};\n",
              "                    \n",
              "                if (document.getElementById(\"42469070-c48d-4dcc-9b8e-d75c9e262cce\")) {\n",
              "                    Plotly.newPlot(\n",
              "                        '42469070-c48d-4dcc-9b8e-d75c9e262cce',\n",
              "                        [{\"mode\": \"lines\", \"name\": \"Predict Values\", \"type\": \"scatter\", \"x\": [\"2001-01-31T00:00:00\", \"2001-02-28T00:00:00\", \"2001-03-31T00:00:00\", \"2001-04-30T00:00:00\", \"2001-05-31T00:00:00\", \"2001-06-30T00:00:00\", \"2001-07-31T00:00:00\", \"2001-08-31T00:00:00\", \"2001-09-30T00:00:00\", \"2001-10-31T00:00:00\", \"2001-11-30T00:00:00\", \"2001-12-31T00:00:00\", \"2002-01-31T00:00:00\", \"2002-02-28T00:00:00\", \"2002-03-31T00:00:00\", \"2002-04-30T00:00:00\", \"2002-05-31T00:00:00\", \"2002-06-30T00:00:00\", \"2002-07-31T00:00:00\", \"2002-08-31T00:00:00\", \"2002-09-30T00:00:00\", \"2002-10-31T00:00:00\", \"2002-11-30T00:00:00\", \"2002-12-31T00:00:00\", \"2003-01-31T00:00:00\", \"2003-02-28T00:00:00\", \"2003-03-31T00:00:00\", \"2003-04-30T00:00:00\", \"2003-05-31T00:00:00\", \"2003-06-30T00:00:00\", \"2003-07-31T00:00:00\", \"2003-08-31T00:00:00\", \"2003-09-30T00:00:00\", \"2003-10-31T00:00:00\", \"2003-11-30T00:00:00\", \"2003-12-31T00:00:00\", \"2004-01-31T00:00:00\", \"2004-02-29T00:00:00\", \"2004-03-31T00:00:00\", \"2004-04-30T00:00:00\", \"2004-05-31T00:00:00\", \"2004-06-30T00:00:00\", \"2004-07-31T00:00:00\", \"2004-08-31T00:00:00\", \"2004-09-30T00:00:00\", \"2004-10-31T00:00:00\", \"2004-11-30T00:00:00\", \"2004-12-31T00:00:00\", \"2005-01-31T00:00:00\", \"2005-02-28T00:00:00\", \"2005-03-31T00:00:00\", \"2005-04-30T00:00:00\", \"2005-05-31T00:00:00\", \"2005-06-30T00:00:00\", \"2005-07-31T00:00:00\", \"2005-08-31T00:00:00\", \"2005-09-30T00:00:00\", \"2005-10-31T00:00:00\", \"2005-11-30T00:00:00\", \"2005-12-31T00:00:00\", \"2006-01-31T00:00:00\", \"2006-02-28T00:00:00\", \"2006-03-31T00:00:00\", \"2006-04-30T00:00:00\", \"2006-05-31T00:00:00\", \"2006-06-30T00:00:00\", \"2006-07-31T00:00:00\", \"2006-08-31T00:00:00\", \"2006-09-30T00:00:00\", \"2006-10-31T00:00:00\", \"2006-11-30T00:00:00\", \"2006-12-31T00:00:00\", \"2007-01-31T00:00:00\", \"2007-02-28T00:00:00\", \"2007-03-31T00:00:00\", \"2007-04-30T00:00:00\", \"2007-05-31T00:00:00\", \"2007-06-30T00:00:00\", \"2007-07-31T00:00:00\", \"2007-08-31T00:00:00\", \"2007-09-30T00:00:00\", \"2007-10-31T00:00:00\", \"2007-11-30T00:00:00\", \"2007-12-31T00:00:00\", \"2008-01-31T00:00:00\", \"2008-02-29T00:00:00\", \"2008-03-31T00:00:00\", \"2008-04-30T00:00:00\", \"2008-05-31T00:00:00\", \"2008-06-30T00:00:00\", \"2008-07-31T00:00:00\", \"2008-08-31T00:00:00\", \"2008-09-30T00:00:00\", \"2008-10-31T00:00:00\", \"2008-11-30T00:00:00\", \"2008-12-31T00:00:00\", \"2009-01-31T00:00:00\", \"2009-02-28T00:00:00\", \"2009-03-31T00:00:00\", \"2009-04-30T00:00:00\", \"2009-05-31T00:00:00\", \"2009-06-30T00:00:00\", \"2009-07-31T00:00:00\", \"2009-08-31T00:00:00\", \"2009-09-30T00:00:00\", \"2009-10-31T00:00:00\", \"2009-11-30T00:00:00\", \"2009-12-31T00:00:00\", \"2010-01-31T00:00:00\", \"2010-02-28T00:00:00\", \"2010-03-31T00:00:00\", \"2010-04-30T00:00:00\", \"2010-05-31T00:00:00\", \"2010-06-30T00:00:00\", \"2010-07-31T00:00:00\", \"2010-08-31T00:00:00\", \"2010-09-30T00:00:00\", \"2010-10-31T00:00:00\", \"2010-11-30T00:00:00\", \"2010-12-31T00:00:00\", \"2011-01-31T00:00:00\", \"2011-02-28T00:00:00\", \"2011-03-31T00:00:00\", \"2011-04-30T00:00:00\", \"2011-05-31T00:00:00\", \"2011-06-30T00:00:00\", \"2011-07-31T00:00:00\", \"2011-08-31T00:00:00\", \"2011-09-30T00:00:00\", \"2011-10-31T00:00:00\", \"2011-11-30T00:00:00\", \"2011-12-31T00:00:00\", \"2012-01-31T00:00:00\", \"2012-02-29T00:00:00\", \"2012-03-31T00:00:00\", \"2012-04-30T00:00:00\", \"2012-05-31T00:00:00\", \"2012-06-30T00:00:00\", \"2012-07-31T00:00:00\", \"2012-08-31T00:00:00\", \"2012-09-30T00:00:00\", \"2012-10-31T00:00:00\", \"2012-11-30T00:00:00\", \"2012-12-31T00:00:00\", \"2013-01-31T00:00:00\", \"2013-02-28T00:00:00\", \"2013-03-31T00:00:00\", \"2013-04-30T00:00:00\", \"2013-05-31T00:00:00\", \"2013-06-30T00:00:00\", \"2013-07-31T00:00:00\", \"2013-08-31T00:00:00\", \"2013-09-30T00:00:00\", \"2013-10-31T00:00:00\", \"2013-11-30T00:00:00\", \"2013-12-31T00:00:00\", \"2014-01-31T00:00:00\", \"2014-02-28T00:00:00\", \"2014-03-31T00:00:00\", \"2014-04-30T00:00:00\", \"2014-05-31T00:00:00\", \"2014-06-30T00:00:00\", \"2014-07-31T00:00:00\", \"2014-08-31T00:00:00\", \"2014-09-30T00:00:00\", \"2014-10-31T00:00:00\", \"2014-11-30T00:00:00\", \"2014-12-31T00:00:00\", \"2015-01-31T00:00:00\", \"2015-02-28T00:00:00\", \"2015-03-31T00:00:00\", \"2015-04-30T00:00:00\", \"2015-05-31T00:00:00\", \"2015-06-30T00:00:00\", \"2015-07-31T00:00:00\", \"2015-08-31T00:00:00\", \"2015-09-30T00:00:00\", \"2015-10-31T00:00:00\", \"2015-11-30T00:00:00\", \"2015-12-31T00:00:00\", \"2016-01-31T00:00:00\", \"2016-02-29T00:00:00\", \"2016-03-31T00:00:00\", \"2016-04-30T00:00:00\", \"2016-05-31T00:00:00\", \"2016-06-30T00:00:00\", \"2016-07-31T00:00:00\", \"2016-08-31T00:00:00\", \"2016-09-30T00:00:00\", \"2016-10-31T00:00:00\", \"2016-11-30T00:00:00\", \"2016-12-31T00:00:00\", \"2017-01-31T00:00:00\", \"2017-02-28T00:00:00\", \"2017-03-31T00:00:00\", \"2017-04-30T00:00:00\", \"2017-05-31T00:00:00\", \"2017-06-30T00:00:00\", \"2017-07-31T00:00:00\", \"2017-08-31T00:00:00\", \"2017-09-30T00:00:00\", \"2017-10-31T00:00:00\", \"2017-11-30T00:00:00\", \"2017-12-31T00:00:00\", \"2018-01-31T00:00:00\", \"2018-02-28T00:00:00\", \"2018-03-31T00:00:00\", \"2018-04-30T00:00:00\", \"2018-05-31T00:00:00\", \"2018-06-30T00:00:00\", \"2018-07-31T00:00:00\", \"2018-08-31T00:00:00\", \"2018-09-30T00:00:00\", \"2018-10-31T00:00:00\", \"2018-11-30T00:00:00\", \"2018-12-31T00:00:00\", \"2019-01-31T00:00:00\", \"2019-02-28T00:00:00\", \"2019-03-31T00:00:00\", \"2019-04-30T00:00:00\", \"2019-05-31T00:00:00\", \"2019-06-30T00:00:00\", \"2019-07-31T00:00:00\", \"2019-08-31T00:00:00\", \"2019-09-30T00:00:00\", \"2019-10-31T00:00:00\", \"2019-11-30T00:00:00\", \"2019-12-31T00:00:00\", \"2020-01-31T00:00:00\", \"2020-02-29T00:00:00\", \"2020-03-31T00:00:00\", \"2020-04-30T00:00:00\", \"2020-05-31T00:00:00\", \"2020-06-30T00:00:00\", \"2020-07-31T00:00:00\", \"2020-08-31T00:00:00\", \"2020-09-30T00:00:00\", \"2020-10-31T00:00:00\", \"2020-11-30T00:00:00\", \"2020-12-31T00:00:00\", \"2021-01-01T00:00:00\", \"2021-01-02T00:00:00\", \"2021-01-03T00:00:00\", \"2021-01-04T00:00:00\", \"2021-01-05T00:00:00\", \"2021-01-06T00:00:00\", \"2021-01-07T00:00:00\", \"2021-01-08T00:00:00\", \"2021-01-09T00:00:00\", \"2021-01-10T00:00:00\", \"2021-01-11T00:00:00\", \"2021-01-12T00:00:00\", \"2021-01-13T00:00:00\", \"2021-01-14T00:00:00\", \"2021-01-15T00:00:00\", \"2021-01-16T00:00:00\", \"2021-01-17T00:00:00\", \"2021-01-18T00:00:00\", \"2021-01-19T00:00:00\", \"2021-01-20T00:00:00\", \"2021-01-21T00:00:00\", \"2021-01-22T00:00:00\", \"2021-01-23T00:00:00\", \"2021-01-24T00:00:00\", \"2021-01-25T00:00:00\", \"2021-01-26T00:00:00\", \"2021-01-27T00:00:00\", \"2021-01-28T00:00:00\", \"2021-01-29T00:00:00\", \"2021-01-30T00:00:00\", \"2021-01-31T00:00:00\", \"2021-02-01T00:00:00\", \"2021-02-02T00:00:00\", \"2021-02-03T00:00:00\", \"2021-02-04T00:00:00\", \"2021-02-05T00:00:00\", \"2021-02-06T00:00:00\", \"2021-02-07T00:00:00\", \"2021-02-08T00:00:00\", \"2021-02-09T00:00:00\", \"2021-02-10T00:00:00\", \"2021-02-11T00:00:00\", \"2021-02-12T00:00:00\", \"2021-02-13T00:00:00\", \"2021-02-14T00:00:00\", \"2021-02-15T00:00:00\", \"2021-02-16T00:00:00\", \"2021-02-17T00:00:00\", \"2021-02-18T00:00:00\", \"2021-02-19T00:00:00\", \"2021-02-20T00:00:00\", \"2021-02-21T00:00:00\", \"2021-02-22T00:00:00\", \"2021-02-23T00:00:00\", \"2021-02-24T00:00:00\", \"2021-02-25T00:00:00\", \"2021-02-26T00:00:00\", \"2021-02-27T00:00:00\", \"2021-02-28T00:00:00\", \"2021-03-01T00:00:00\", \"2021-03-02T00:00:00\", \"2021-03-03T00:00:00\", \"2021-03-04T00:00:00\", \"2021-03-05T00:00:00\", \"2021-03-06T00:00:00\", \"2021-03-07T00:00:00\", \"2021-03-08T00:00:00\", \"2021-03-09T00:00:00\", \"2021-03-10T00:00:00\", \"2021-03-11T00:00:00\", \"2021-03-12T00:00:00\", \"2021-03-13T00:00:00\", \"2021-03-14T00:00:00\", \"2021-03-15T00:00:00\", \"2021-03-16T00:00:00\", \"2021-03-17T00:00:00\", \"2021-03-18T00:00:00\", \"2021-03-19T00:00:00\", \"2021-03-20T00:00:00\", \"2021-03-21T00:00:00\", \"2021-03-22T00:00:00\", \"2021-03-23T00:00:00\", \"2021-03-24T00:00:00\", \"2021-03-25T00:00:00\", \"2021-03-26T00:00:00\", \"2021-03-27T00:00:00\", \"2021-03-28T00:00:00\", \"2021-03-29T00:00:00\", \"2021-03-30T00:00:00\", \"2021-03-31T00:00:00\", \"2021-04-01T00:00:00\", \"2021-04-02T00:00:00\", \"2021-04-03T00:00:00\", \"2021-04-04T00:00:00\", \"2021-04-05T00:00:00\", \"2021-04-06T00:00:00\", \"2021-04-07T00:00:00\", \"2021-04-08T00:00:00\", \"2021-04-09T00:00:00\", \"2021-04-10T00:00:00\", \"2021-04-11T00:00:00\", \"2021-04-12T00:00:00\", \"2021-04-13T00:00:00\", \"2021-04-14T00:00:00\", \"2021-04-15T00:00:00\", \"2021-04-16T00:00:00\", \"2021-04-17T00:00:00\", \"2021-04-18T00:00:00\", \"2021-04-19T00:00:00\", \"2021-04-20T00:00:00\", \"2021-04-21T00:00:00\", \"2021-04-22T00:00:00\", \"2021-04-23T00:00:00\", \"2021-04-24T00:00:00\", \"2021-04-25T00:00:00\", \"2021-04-26T00:00:00\", \"2021-04-27T00:00:00\", \"2021-04-28T00:00:00\", \"2021-04-29T00:00:00\", \"2021-04-30T00:00:00\", \"2021-05-01T00:00:00\", \"2021-05-02T00:00:00\", \"2021-05-03T00:00:00\", \"2021-05-04T00:00:00\", \"2021-05-05T00:00:00\", \"2021-05-06T00:00:00\", \"2021-05-07T00:00:00\", \"2021-05-08T00:00:00\", \"2021-05-09T00:00:00\", \"2021-05-10T00:00:00\", \"2021-05-11T00:00:00\", \"2021-05-12T00:00:00\", \"2021-05-13T00:00:00\", \"2021-05-14T00:00:00\", \"2021-05-15T00:00:00\", \"2021-05-16T00:00:00\", \"2021-05-17T00:00:00\", \"2021-05-18T00:00:00\", \"2021-05-19T00:00:00\", \"2021-05-20T00:00:00\", \"2021-05-21T00:00:00\", \"2021-05-22T00:00:00\", \"2021-05-23T00:00:00\", \"2021-05-24T00:00:00\", \"2021-05-25T00:00:00\", \"2021-05-26T00:00:00\", \"2021-05-27T00:00:00\", \"2021-05-28T00:00:00\", \"2021-05-29T00:00:00\", \"2021-05-30T00:00:00\", \"2021-05-31T00:00:00\", \"2021-06-01T00:00:00\", \"2021-06-02T00:00:00\", \"2021-06-03T00:00:00\", \"2021-06-04T00:00:00\", \"2021-06-05T00:00:00\", \"2021-06-06T00:00:00\", \"2021-06-07T00:00:00\", \"2021-06-08T00:00:00\", \"2021-06-09T00:00:00\", \"2021-06-10T00:00:00\", \"2021-06-11T00:00:00\", \"2021-06-12T00:00:00\", \"2021-06-13T00:00:00\", \"2021-06-14T00:00:00\", \"2021-06-15T00:00:00\", \"2021-06-16T00:00:00\", \"2021-06-17T00:00:00\", \"2021-06-18T00:00:00\", \"2021-06-19T00:00:00\", \"2021-06-20T00:00:00\", \"2021-06-21T00:00:00\", \"2021-06-22T00:00:00\", \"2021-06-23T00:00:00\", \"2021-06-24T00:00:00\", \"2021-06-25T00:00:00\", \"2021-06-26T00:00:00\", \"2021-06-27T00:00:00\", \"2021-06-28T00:00:00\", \"2021-06-29T00:00:00\", \"2021-06-30T00:00:00\", \"2021-07-01T00:00:00\", \"2021-07-02T00:00:00\", \"2021-07-03T00:00:00\", \"2021-07-04T00:00:00\", \"2021-07-05T00:00:00\", \"2021-07-06T00:00:00\", \"2021-07-07T00:00:00\", \"2021-07-08T00:00:00\", \"2021-07-09T00:00:00\", \"2021-07-10T00:00:00\", \"2021-07-11T00:00:00\", \"2021-07-12T00:00:00\", \"2021-07-13T00:00:00\", \"2021-07-14T00:00:00\", \"2021-07-15T00:00:00\", \"2021-07-16T00:00:00\", \"2021-07-17T00:00:00\", \"2021-07-18T00:00:00\", \"2021-07-19T00:00:00\", \"2021-07-20T00:00:00\", \"2021-07-21T00:00:00\", \"2021-07-22T00:00:00\", \"2021-07-23T00:00:00\", \"2021-07-24T00:00:00\", \"2021-07-25T00:00:00\", \"2021-07-26T00:00:00\", \"2021-07-27T00:00:00\", \"2021-07-28T00:00:00\", \"2021-07-29T00:00:00\", \"2021-07-30T00:00:00\", \"2021-07-31T00:00:00\", \"2021-08-01T00:00:00\", \"2021-08-02T00:00:00\", \"2021-08-03T00:00:00\", \"2021-08-04T00:00:00\", \"2021-08-05T00:00:00\", \"2021-08-06T00:00:00\", \"2021-08-07T00:00:00\", \"2021-08-08T00:00:00\", \"2021-08-09T00:00:00\", \"2021-08-10T00:00:00\", \"2021-08-11T00:00:00\", \"2021-08-12T00:00:00\", \"2021-08-13T00:00:00\", \"2021-08-14T00:00:00\", \"2021-08-15T00:00:00\", \"2021-08-16T00:00:00\", \"2021-08-17T00:00:00\", \"2021-08-18T00:00:00\", \"2021-08-19T00:00:00\", \"2021-08-20T00:00:00\", \"2021-08-21T00:00:00\", \"2021-08-22T00:00:00\", \"2021-08-23T00:00:00\", \"2021-08-24T00:00:00\", \"2021-08-25T00:00:00\", \"2021-08-26T00:00:00\", \"2021-08-27T00:00:00\", \"2021-08-28T00:00:00\", \"2021-08-29T00:00:00\", \"2021-08-30T00:00:00\", \"2021-08-31T00:00:00\", \"2021-09-01T00:00:00\", \"2021-09-02T00:00:00\", \"2021-09-03T00:00:00\", \"2021-09-04T00:00:00\", \"2021-09-05T00:00:00\", \"2021-09-06T00:00:00\", \"2021-09-07T00:00:00\", \"2021-09-08T00:00:00\", \"2021-09-09T00:00:00\", \"2021-09-10T00:00:00\", \"2021-09-11T00:00:00\", \"2021-09-12T00:00:00\", \"2021-09-13T00:00:00\", \"2021-09-14T00:00:00\", \"2021-09-15T00:00:00\", \"2021-09-16T00:00:00\", \"2021-09-17T00:00:00\", \"2021-09-18T00:00:00\", \"2021-09-19T00:00:00\", \"2021-09-20T00:00:00\", \"2021-09-21T00:00:00\", \"2021-09-22T00:00:00\", \"2021-09-23T00:00:00\", \"2021-09-24T00:00:00\", \"2021-09-25T00:00:00\", \"2021-09-26T00:00:00\", \"2021-09-27T00:00:00\", \"2021-09-28T00:00:00\", \"2021-09-29T00:00:00\", \"2021-09-30T00:00:00\", \"2021-10-01T00:00:00\", \"2021-10-02T00:00:00\", \"2021-10-03T00:00:00\", \"2021-10-04T00:00:00\", \"2021-10-05T00:00:00\", \"2021-10-06T00:00:00\", \"2021-10-07T00:00:00\", \"2021-10-08T00:00:00\", \"2021-10-09T00:00:00\", \"2021-10-10T00:00:00\", \"2021-10-11T00:00:00\", \"2021-10-12T00:00:00\", \"2021-10-13T00:00:00\", \"2021-10-14T00:00:00\", \"2021-10-15T00:00:00\", \"2021-10-16T00:00:00\", \"2021-10-17T00:00:00\", \"2021-10-18T00:00:00\", \"2021-10-19T00:00:00\", \"2021-10-20T00:00:00\", \"2021-10-21T00:00:00\", \"2021-10-22T00:00:00\", \"2021-10-23T00:00:00\", \"2021-10-24T00:00:00\", \"2021-10-25T00:00:00\", \"2021-10-26T00:00:00\", \"2021-10-27T00:00:00\"], \"y\": [191.34110012628412, -573.850443556063, -705.5461566070467, -705.5638514814117, -694.7874542476311, -683.5886078385262, -57.822744899421075, 475.6675117024854, 378.50585490233004, 418.57189187754255, 209.0158170664502, 219.4970793415964, 292.2816320502033, -510.84871796796057, -621.3521304141769, -620.1623764762787, -614.5386995373246, -613.4873677266442, 27.52358065617105, 563.4515373143556, 450.94828109488816, 492.0838876962219, 285.7072177714636, 311.37121863421504, 392.72030625137364, -447.86431607216286, -536.861758989385, -534.7611522223181, -534.4104546803638, -543.1423940973656, 113.02796722586902, 650.8876921050814, 523.1679156076157, 565.6314373286093, 362.8055832549589, 403.5309450096285, 492.63888767423725, -314.0431795457131, -466.595833982415, -468.1106919630033, -452.30899009246, -430.60295048885746, 179.85061347307106, 710.3954974053215, 628.6789433967023, 667.9311024885726, 455.57641430304875, 450.7754836554214, 514.1904012680944, -251.0011399632087, -382.696850299986, -382.7145425478805, -371.9381426001596, -360.7392935646963, 265.02657241402113, 798.5168320554303, 701.3551781964456, 741.4212181406064, 531.8651462026211, 542.3464114467384, 615.1309671242014, -187.99938021266388, -298.5027896663449, -297.3130328326392, -291.689352842042, -290.6380180780767, 350.37293335666357, 886.3008930666135, 773.7976398003005, 814.9332494535399, 608.5565827994125, 634.2205870420989, 715.5696761797045, -125.01494477078006, -214.01238616724288, -211.91177792873276, -211.5610788662841, -220.2930169907312, 435.87734566835803, 973.7370718833201, 846.0172959566836, 888.4808182675697, 685.6549647647953, 726.3803271094811, 815.4882703639659, 8.806203372747802, -143.74645081952758, -145.26130884754514, -129.45960702603503, -107.75356746985409, 502.69999644311713, 1033.2448803263114, 951.5283262702756, 990.780485339308, 778.425797131661, 773.624866656823, 837.0397844421698, 71.84824336684392, -59.84746679723901, -59.86515887797407, -49.088754451590944, -37.889901081946846, 587.8759690499943, 1121.3662328446146, 1024.2045830049892, 1064.2706271023687, 854.714559183618, 865.1958285809646, 937.9803882312805, 134.85004448266744, 24.34663897832104, 25.536399633903898, 31.16008357398482, 32.211422159923245, 673.2223775439345, 1209.1503412032685, 1096.6470917944407, 1137.7827054336697, 931.4060423196472, 957.0700502203678, 1038.4191430162175, 197.83452536972703, 108.83708763132915, 110.93769957434222, 111.28840246455047, 102.55646822344761, 758.7268348951901, 1296.5865651228241, 1168.8667930794593, 1211.3303194028886, 1008.5044697835135, 1049.2298359066867, 1138.337782939717, 331.6557198063948, 179.1030697382273, 177.58821570107727, 193.3899216467845, 215.09596519391494, 825.5495332308637, 1356.094421222023, 1274.3778711412458, 1313.6300342919199, 1101.2753500342883, 1096.4744236411188, 1159.889345508181, 394.697808119551, 263.0021022275912, 262.98441428129183, 273.76081867382493, 284.95967201078804, 910.7255421088931, 1444.215805869841, 1347.0541559973963, 1387.1202000608907, 1177.564131352999, 1188.0453999348783, 1260.8299589501262, 457.69961462796977, 347.19620848856084, 348.38596852965054, 354.0096518346028, 355.0609887997666, 996.0719425090035, 1531.9999044934927, 1419.4966534284815, 1460.6322653561879, 1254.2556005859133, 1279.9196067751657, 1361.268697859572, 520.6621536221921, 431.6404400153797, 433.7175590180349, 434.04398587002083, 425.28855868860126, 1081.4346493221558, 1619.2701035115729, 1491.5268385279296, 1533.7188795232878, 1330.6303021669032, 1371.0841831962146, 1459.9206451351542, 652.984612075229, 500.1604769129742, 498.3828953655227, 513.9124109191937, 535.355044409636, 1145.5364220545598, 1675.8091196698, 1593.8291595479395, 1632.8091323228577, 1420.191038024109, 1415.1179212550583, 1478.2167603971664, 712.7397289343925, 580.7279401271725, 580.404365488441, 590.8646869656783, 601.7576536103811, 1227.20744079311, 1760.3816216385678, 1662.9140850738397, 1702.664046222067, 1492.8020915783063, 1502.9672780264873, 1575.435754908031, 772.0199170457837, 661.2004287727276, 662.0843028779727, 667.3919040492799, 668.1373560848918, 1308.832228700155, 1844.4441095908228, 1731.6349735960835, 1772.4545044298206, 1565.7719547299475, 1591.1198798252312, 1672.1528898158451, 831.2827780224387, 741.9692574785861, 743.7639826714337, 743.7986025865055, 734.7607815950946, 1390.6150652917295, 1928.158712544215, 1800.1330537505453, 1842.2804970988889, 1639.148760729229, 1679.5580441113823, 1768.349908403434, 961.3721549638774, 808.5034221545884, 806.6826815937725, 822.1683047983963, 843.5684618218107, 1453.7059471177713, 1983.9347523839015, 1901.9123157951817, 1940.8483962210648, 1728.1878254554786, 1723.0708163373654, 1682.995078481968, 1649.0497301236796, 1622.0904721391855, 1602.7908485930375, 1591.6222035143273, 1588.8387061685705, 1594.4678704185924, 1608.3068522507208, 1629.9246601798632, 1658.67025997801, 1693.6864020551657, 1733.9288508921445, 1778.1905551257414, 1825.1301679068004, 1873.304213408176, 1921.2020998095975, 1967.2831042398197, 2010.0144029537255, 2047.9091917875708, 2079.563938390336, 2103.693828897546, 2119.1655170034846, 2125.0263515586503, 2120.5293480107616, 2105.1532768700654, 2078.6173660069817, 2040.8902497417553, 1992.1929427705063, 1932.9957671796633, 1864.009312249707, 1786.1696554795078, 1700.6182154848598, 1608.6767394827714, 1511.8180466369597, 1411.63325065202, 1309.7962681413705, 1208.0264814754562, 1108.0504645973133, 1011.5636968628162, 920.193183066314, 835.4618678836298, 758.7556809672236, 691.293976423596, 634.104039485606, 588.0002263590676, 553.5681834311715, 531.1544624681475, 520.8617125547725, 522.5494908965168, 535.8405967917239, 560.1326996067885, 594.6149058084343, 638.2887951159795, 689.9933544249653, 748.4331526885835, 812.2090323700332, 879.8505448030119, 949.8493287570103, 1020.6926240167003, 1090.8961247059722, 1159.035409675114, 1223.7752383208835, 1283.8960680508953, 1338.31723213743, 1386.1163115261847, 1426.544338550834, 1459.036581570285, 1483.218774283751, 1498.9087688332347, 1506.1137048042997, 1505.0228940024197, 1495.9967207701688, 1479.5519472314156, 1456.3438901374568, 1427.1459992828466, 1392.8274154707108, 1354.329117926655, 1312.639286493921, 1268.7685029738257, 1223.7253990999882, 1178.4933267716879, 1134.0085806206291, 1091.14064534918, 1050.6748724783142, 1013.2979152707644, 979.5861689305466, 949.9973780800859, 924.865487327568, 904.3987258203906, 888.6808352093906, 877.6752744992739, 871.2321666335023, 869.0976919306586, 870.9255839040027, 876.2903445019116, 884.7017689848983, 895.6203557676605, 908.4731735024571, 922.6697660446464, 937.6176950070693, 952.7373483877864, 967.4756810049764, 981.3185968157446, 993.8017330398732, 1004.5194597520904, 1013.1319645425003, 1019.3703483191418, 1023.0397137384778, 1024.0202805930348, 1022.2666114164053, 1017.8050744126509, 1010.7297086196041, 1001.1966872393032, 989.4175988274474, 975.651782269895, 960.1979601936996, 943.3854168762912, 925.564961269293, 907.0999040631829, 888.3572605707678, 869.6993694956935, 851.4760923922047, 834.0177308334355, 817.6287690735243, 802.582520339079, 789.1167257891992, 777.4301275661857, 767.6800119493325, 759.9806961160255, 754.4029128555256, 750.9740321260642, 749.6790467385146, 750.4622417045517, 753.2294627371945, 757.850898743553, 764.1642954955123, 771.9785224728354, 781.077421572386, 791.2238743266354, 802.1640328270859, 813.6316680780408, 825.3525974131169, 837.0491593716984, 848.4447096274433, 859.2681148386815, 869.2582224830329, 878.1682837268484, 885.7703032668821, 891.8592850278518, 896.257335925637, 898.8175820479315, 899.4278430533512, 898.0140019504205, 894.5429993062276, 889.0253740032707, 881.5172675400231, 872.1218061549257, 860.9897752663368, 848.3195042915208, 834.355887153215, 819.3884748719823, 803.7485916008607, 787.8054441625587, 771.9612172686424, 756.6451717205348, 742.3067903494072, 729.4080455426622, 718.4148920376952, 709.7881182924986, 703.9737181547405, 701.3929707004229, 702.4324389622437, 707.4341168418953, 716.6859668698354, 730.4130988723401, 748.7698403669636, 771.8329431883924, 799.5961571643418, 831.9663805975182, 868.761569027435, 909.7105486925686, 954.4548399356188, 1002.5525493688151, 1053.4843390391597, 1106.6614273458222, 1161.4355214949533, 1217.1105263264285, 1272.9558209977731, 1328.2208448827184, 1382.1506886720463, 1434.0023475899866, 1483.0612621966568, 1528.6577496605812, 1570.1829156307042, 1607.1036346534815, 1638.9761959372727, 1665.458231309332, 1686.3185732828156, 1701.4447327818662, 1710.8477374490449, 1714.6641314905241, 1713.1550053101573, 1706.7019961225797, 1695.8002774663528, 1681.0486340711946, 1663.136796761976, 1642.830287833507, 1620.9530984875717, 1598.368584379873, 1575.9590211691502, 1554.6043074283764, 1535.1603358753575, 1518.4375744028303, 1505.1804049621423, 1496.0477604823757, 1491.5955775776854, 1492.261546096422, 1498.3525862949514, 1510.0354216551675, 1527.3305415626828, 1550.1097650046343, 1578.097526215544, 1610.875908094892, 1647.8933517553035, 1688.476873312329, 1731.8475246527612, 1777.1387460228852, 1823.4171773491053, 1869.7054245842924, 1915.0062191156235, 1958.327364154869, 1998.7068334627788, 2035.2373757237629, 2067.0899829604878, 2093.535603633157, 2113.964520152653, 2127.902865583509, 2135.0258240528433, 2135.1671420761304, 2128.3246715922655, 2114.6617675408, 2094.504470632152, 2068.334516720798, 2036.7783248673236, 2000.5922238064738, 1960.644278142191, 1917.893168346132, 1873.3646599591618, 1828.126264942585, 1783.260749956782, 1739.8391809167986, 1698.894209380583, 1661.394303621421, 1628.2196055015602, 1600.1400539997612, 1577.7963583841577, 1561.6843300493301, 1552.1429938526167, 1549.346799726804, 1553.3021460739628, 1563.8483109026627, 1580.6627679982018, 1603.2707468440765, 1631.058779818516, 1663.2918715464073, 1699.1338262259437, 1737.6701820549144, 1777.9331299892233, 1818.9277390456828, 1859.6587738064989, 1899.1573727686946, 1936.506859298685, 1970.8669801561425, 2001.4959093178375, 2027.7694160217934, 2049.196673961289, 2065.432281263996, 2076.2841657765284, 2081.717164366406, 2081.852185285768, 2076.960985803689, 2067.456719849581, 2053.880528911386, 2036.8845605657134, 2017.2118996339318, 1995.6739842267107, 1973.1261503410544, 1950.44200216495, 1928.4873392643715, 1908.0943853312392, 1890.0370557376268, 1875.0079728736835, 1863.5978898882518, 1856.278116285555, 1853.3864546692364, 1855.11705909902, 1861.5145147409994, 1872.4723188555583, 1887.7358179908942, 1906.9095290804055]}, {\"mode\": \"lines\", \"name\": \"Trend\", \"type\": \"scatter\", \"x\": [\"2001-01-31T00:00:00\", \"2001-02-28T00:00:00\", \"2001-03-31T00:00:00\", \"2001-04-30T00:00:00\", \"2001-05-31T00:00:00\", \"2001-06-30T00:00:00\", \"2001-07-31T00:00:00\", \"2001-08-31T00:00:00\", \"2001-09-30T00:00:00\", \"2001-10-31T00:00:00\", \"2001-11-30T00:00:00\", \"2001-12-31T00:00:00\", \"2002-01-31T00:00:00\", \"2002-02-28T00:00:00\", \"2002-03-31T00:00:00\", \"2002-04-30T00:00:00\", \"2002-05-31T00:00:00\", \"2002-06-30T00:00:00\", \"2002-07-31T00:00:00\", \"2002-08-31T00:00:00\", \"2002-09-30T00:00:00\", \"2002-10-31T00:00:00\", \"2002-11-30T00:00:00\", \"2002-12-31T00:00:00\", \"2003-01-31T00:00:00\", \"2003-02-28T00:00:00\", \"2003-03-31T00:00:00\", \"2003-04-30T00:00:00\", \"2003-05-31T00:00:00\", \"2003-06-30T00:00:00\", \"2003-07-31T00:00:00\", \"2003-08-31T00:00:00\", \"2003-09-30T00:00:00\", \"2003-10-31T00:00:00\", \"2003-11-30T00:00:00\", \"2003-12-31T00:00:00\", \"2004-01-31T00:00:00\", \"2004-02-29T00:00:00\", \"2004-03-31T00:00:00\", \"2004-04-30T00:00:00\", \"2004-05-31T00:00:00\", \"2004-06-30T00:00:00\", \"2004-07-31T00:00:00\", \"2004-08-31T00:00:00\", \"2004-09-30T00:00:00\", \"2004-10-31T00:00:00\", \"2004-11-30T00:00:00\", \"2004-12-31T00:00:00\", \"2005-01-31T00:00:00\", \"2005-02-28T00:00:00\", \"2005-03-31T00:00:00\", \"2005-04-30T00:00:00\", \"2005-05-31T00:00:00\", \"2005-06-30T00:00:00\", \"2005-07-31T00:00:00\", \"2005-08-31T00:00:00\", \"2005-09-30T00:00:00\", \"2005-10-31T00:00:00\", \"2005-11-30T00:00:00\", \"2005-12-31T00:00:00\", \"2006-01-31T00:00:00\", \"2006-02-28T00:00:00\", \"2006-03-31T00:00:00\", \"2006-04-30T00:00:00\", \"2006-05-31T00:00:00\", \"2006-06-30T00:00:00\", \"2006-07-31T00:00:00\", \"2006-08-31T00:00:00\", \"2006-09-30T00:00:00\", \"2006-10-31T00:00:00\", \"2006-11-30T00:00:00\", \"2006-12-31T00:00:00\", \"2007-01-31T00:00:00\", \"2007-02-28T00:00:00\", \"2007-03-31T00:00:00\", \"2007-04-30T00:00:00\", \"2007-05-31T00:00:00\", \"2007-06-30T00:00:00\", \"2007-07-31T00:00:00\", \"2007-08-31T00:00:00\", \"2007-09-30T00:00:00\", \"2007-10-31T00:00:00\", \"2007-11-30T00:00:00\", \"2007-12-31T00:00:00\", \"2008-01-31T00:00:00\", \"2008-02-29T00:00:00\", \"2008-03-31T00:00:00\", \"2008-04-30T00:00:00\", \"2008-05-31T00:00:00\", \"2008-06-30T00:00:00\", \"2008-07-31T00:00:00\", \"2008-08-31T00:00:00\", \"2008-09-30T00:00:00\", \"2008-10-31T00:00:00\", \"2008-11-30T00:00:00\", \"2008-12-31T00:00:00\", \"2009-01-31T00:00:00\", \"2009-02-28T00:00:00\", \"2009-03-31T00:00:00\", \"2009-04-30T00:00:00\", \"2009-05-31T00:00:00\", \"2009-06-30T00:00:00\", \"2009-07-31T00:00:00\", \"2009-08-31T00:00:00\", \"2009-09-30T00:00:00\", \"2009-10-31T00:00:00\", \"2009-11-30T00:00:00\", \"2009-12-31T00:00:00\", \"2010-01-31T00:00:00\", \"2010-02-28T00:00:00\", \"2010-03-31T00:00:00\", \"2010-04-30T00:00:00\", \"2010-05-31T00:00:00\", \"2010-06-30T00:00:00\", \"2010-07-31T00:00:00\", \"2010-08-31T00:00:00\", \"2010-09-30T00:00:00\", \"2010-10-31T00:00:00\", \"2010-11-30T00:00:00\", \"2010-12-31T00:00:00\", \"2011-01-31T00:00:00\", \"2011-02-28T00:00:00\", \"2011-03-31T00:00:00\", \"2011-04-30T00:00:00\", \"2011-05-31T00:00:00\", \"2011-06-30T00:00:00\", \"2011-07-31T00:00:00\", \"2011-08-31T00:00:00\", \"2011-09-30T00:00:00\", \"2011-10-31T00:00:00\", \"2011-11-30T00:00:00\", \"2011-12-31T00:00:00\", \"2012-01-31T00:00:00\", \"2012-02-29T00:00:00\", \"2012-03-31T00:00:00\", \"2012-04-30T00:00:00\", \"2012-05-31T00:00:00\", \"2012-06-30T00:00:00\", \"2012-07-31T00:00:00\", \"2012-08-31T00:00:00\", \"2012-09-30T00:00:00\", \"2012-10-31T00:00:00\", \"2012-11-30T00:00:00\", \"2012-12-31T00:00:00\", \"2013-01-31T00:00:00\", \"2013-02-28T00:00:00\", \"2013-03-31T00:00:00\", \"2013-04-30T00:00:00\", \"2013-05-31T00:00:00\", \"2013-06-30T00:00:00\", \"2013-07-31T00:00:00\", \"2013-08-31T00:00:00\", \"2013-09-30T00:00:00\", \"2013-10-31T00:00:00\", \"2013-11-30T00:00:00\", \"2013-12-31T00:00:00\", \"2014-01-31T00:00:00\", \"2014-02-28T00:00:00\", \"2014-03-31T00:00:00\", \"2014-04-30T00:00:00\", \"2014-05-31T00:00:00\", \"2014-06-30T00:00:00\", \"2014-07-31T00:00:00\", \"2014-08-31T00:00:00\", \"2014-09-30T00:00:00\", \"2014-10-31T00:00:00\", \"2014-11-30T00:00:00\", \"2014-12-31T00:00:00\", \"2015-01-31T00:00:00\", \"2015-02-28T00:00:00\", \"2015-03-31T00:00:00\", \"2015-04-30T00:00:00\", \"2015-05-31T00:00:00\", \"2015-06-30T00:00:00\", \"2015-07-31T00:00:00\", \"2015-08-31T00:00:00\", \"2015-09-30T00:00:00\", \"2015-10-31T00:00:00\", \"2015-11-30T00:00:00\", \"2015-12-31T00:00:00\", \"2016-01-31T00:00:00\", \"2016-02-29T00:00:00\", \"2016-03-31T00:00:00\", \"2016-04-30T00:00:00\", \"2016-05-31T00:00:00\", \"2016-06-30T00:00:00\", \"2016-07-31T00:00:00\", \"2016-08-31T00:00:00\", \"2016-09-30T00:00:00\", \"2016-10-31T00:00:00\", \"2016-11-30T00:00:00\", \"2016-12-31T00:00:00\", \"2017-01-31T00:00:00\", \"2017-02-28T00:00:00\", \"2017-03-31T00:00:00\", \"2017-04-30T00:00:00\", \"2017-05-31T00:00:00\", \"2017-06-30T00:00:00\", \"2017-07-31T00:00:00\", \"2017-08-31T00:00:00\", \"2017-09-30T00:00:00\", \"2017-10-31T00:00:00\", \"2017-11-30T00:00:00\", \"2017-12-31T00:00:00\", \"2018-01-31T00:00:00\", \"2018-02-28T00:00:00\", \"2018-03-31T00:00:00\", \"2018-04-30T00:00:00\", \"2018-05-31T00:00:00\", \"2018-06-30T00:00:00\", \"2018-07-31T00:00:00\", \"2018-08-31T00:00:00\", \"2018-09-30T00:00:00\", \"2018-10-31T00:00:00\", \"2018-11-30T00:00:00\", \"2018-12-31T00:00:00\", \"2019-01-31T00:00:00\", \"2019-02-28T00:00:00\", \"2019-03-31T00:00:00\", \"2019-04-30T00:00:00\", \"2019-05-31T00:00:00\", \"2019-06-30T00:00:00\", \"2019-07-31T00:00:00\", \"2019-08-31T00:00:00\", \"2019-09-30T00:00:00\", \"2019-10-31T00:00:00\", \"2019-11-30T00:00:00\", \"2019-12-31T00:00:00\", \"2020-01-31T00:00:00\", \"2020-02-29T00:00:00\", \"2020-03-31T00:00:00\", \"2020-04-30T00:00:00\", \"2020-05-31T00:00:00\", \"2020-06-30T00:00:00\", \"2020-07-31T00:00:00\", \"2020-08-31T00:00:00\", \"2020-09-30T00:00:00\", \"2020-10-31T00:00:00\", \"2020-11-30T00:00:00\", \"2020-12-31T00:00:00\", \"2021-01-01T00:00:00\", \"2021-01-02T00:00:00\", \"2021-01-03T00:00:00\", \"2021-01-04T00:00:00\", \"2021-01-05T00:00:00\", \"2021-01-06T00:00:00\", \"2021-01-07T00:00:00\", \"2021-01-08T00:00:00\", \"2021-01-09T00:00:00\", \"2021-01-10T00:00:00\", \"2021-01-11T00:00:00\", \"2021-01-12T00:00:00\", \"2021-01-13T00:00:00\", \"2021-01-14T00:00:00\", \"2021-01-15T00:00:00\", \"2021-01-16T00:00:00\", \"2021-01-17T00:00:00\", \"2021-01-18T00:00:00\", \"2021-01-19T00:00:00\", \"2021-01-20T00:00:00\", \"2021-01-21T00:00:00\", \"2021-01-22T00:00:00\", \"2021-01-23T00:00:00\", \"2021-01-24T00:00:00\", \"2021-01-25T00:00:00\", \"2021-01-26T00:00:00\", \"2021-01-27T00:00:00\", \"2021-01-28T00:00:00\", \"2021-01-29T00:00:00\", \"2021-01-30T00:00:00\", \"2021-01-31T00:00:00\", \"2021-02-01T00:00:00\", \"2021-02-02T00:00:00\", \"2021-02-03T00:00:00\", \"2021-02-04T00:00:00\", \"2021-02-05T00:00:00\", \"2021-02-06T00:00:00\", \"2021-02-07T00:00:00\", \"2021-02-08T00:00:00\", \"2021-02-09T00:00:00\", \"2021-02-10T00:00:00\", \"2021-02-11T00:00:00\", \"2021-02-12T00:00:00\", \"2021-02-13T00:00:00\", \"2021-02-14T00:00:00\", \"2021-02-15T00:00:00\", \"2021-02-16T00:00:00\", \"2021-02-17T00:00:00\", \"2021-02-18T00:00:00\", \"2021-02-19T00:00:00\", \"2021-02-20T00:00:00\", \"2021-02-21T00:00:00\", \"2021-02-22T00:00:00\", \"2021-02-23T00:00:00\", \"2021-02-24T00:00:00\", \"2021-02-25T00:00:00\", \"2021-02-26T00:00:00\", \"2021-02-27T00:00:00\", \"2021-02-28T00:00:00\", \"2021-03-01T00:00:00\", \"2021-03-02T00:00:00\", \"2021-03-03T00:00:00\", \"2021-03-04T00:00:00\", \"2021-03-05T00:00:00\", \"2021-03-06T00:00:00\", \"2021-03-07T00:00:00\", \"2021-03-08T00:00:00\", \"2021-03-09T00:00:00\", \"2021-03-10T00:00:00\", \"2021-03-11T00:00:00\", \"2021-03-12T00:00:00\", \"2021-03-13T00:00:00\", \"2021-03-14T00:00:00\", \"2021-03-15T00:00:00\", \"2021-03-16T00:00:00\", \"2021-03-17T00:00:00\", \"2021-03-18T00:00:00\", \"2021-03-19T00:00:00\", \"2021-03-20T00:00:00\", \"2021-03-21T00:00:00\", \"2021-03-22T00:00:00\", \"2021-03-23T00:00:00\", \"2021-03-24T00:00:00\", \"2021-03-25T00:00:00\", \"2021-03-26T00:00:00\", \"2021-03-27T00:00:00\", \"2021-03-28T00:00:00\", \"2021-03-29T00:00:00\", \"2021-03-30T00:00:00\", \"2021-03-31T00:00:00\", \"2021-04-01T00:00:00\", \"2021-04-02T00:00:00\", \"2021-04-03T00:00:00\", \"2021-04-04T00:00:00\", \"2021-04-05T00:00:00\", \"2021-04-06T00:00:00\", \"2021-04-07T00:00:00\", \"2021-04-08T00:00:00\", \"2021-04-09T00:00:00\", \"2021-04-10T00:00:00\", \"2021-04-11T00:00:00\", \"2021-04-12T00:00:00\", \"2021-04-13T00:00:00\", \"2021-04-14T00:00:00\", \"2021-04-15T00:00:00\", \"2021-04-16T00:00:00\", \"2021-04-17T00:00:00\", \"2021-04-18T00:00:00\", \"2021-04-19T00:00:00\", \"2021-04-20T00:00:00\", \"2021-04-21T00:00:00\", \"2021-04-22T00:00:00\", \"2021-04-23T00:00:00\", \"2021-04-24T00:00:00\", \"2021-04-25T00:00:00\", \"2021-04-26T00:00:00\", \"2021-04-27T00:00:00\", \"2021-04-28T00:00:00\", \"2021-04-29T00:00:00\", \"2021-04-30T00:00:00\", \"2021-05-01T00:00:00\", \"2021-05-02T00:00:00\", \"2021-05-03T00:00:00\", \"2021-05-04T00:00:00\", \"2021-05-05T00:00:00\", \"2021-05-06T00:00:00\", \"2021-05-07T00:00:00\", \"2021-05-08T00:00:00\", \"2021-05-09T00:00:00\", \"2021-05-10T00:00:00\", \"2021-05-11T00:00:00\", \"2021-05-12T00:00:00\", \"2021-05-13T00:00:00\", \"2021-05-14T00:00:00\", \"2021-05-15T00:00:00\", \"2021-05-16T00:00:00\", \"2021-05-17T00:00:00\", \"2021-05-18T00:00:00\", \"2021-05-19T00:00:00\", \"2021-05-20T00:00:00\", \"2021-05-21T00:00:00\", \"2021-05-22T00:00:00\", \"2021-05-23T00:00:00\", \"2021-05-24T00:00:00\", \"2021-05-25T00:00:00\", \"2021-05-26T00:00:00\", \"2021-05-27T00:00:00\", \"2021-05-28T00:00:00\", \"2021-05-29T00:00:00\", \"2021-05-30T00:00:00\", \"2021-05-31T00:00:00\", \"2021-06-01T00:00:00\", \"2021-06-02T00:00:00\", \"2021-06-03T00:00:00\", \"2021-06-04T00:00:00\", \"2021-06-05T00:00:00\", \"2021-06-06T00:00:00\", \"2021-06-07T00:00:00\", \"2021-06-08T00:00:00\", \"2021-06-09T00:00:00\", \"2021-06-10T00:00:00\", \"2021-06-11T00:00:00\", \"2021-06-12T00:00:00\", \"2021-06-13T00:00:00\", \"2021-06-14T00:00:00\", \"2021-06-15T00:00:00\", \"2021-06-16T00:00:00\", \"2021-06-17T00:00:00\", \"2021-06-18T00:00:00\", \"2021-06-19T00:00:00\", \"2021-06-20T00:00:00\", \"2021-06-21T00:00:00\", \"2021-06-22T00:00:00\", \"2021-06-23T00:00:00\", \"2021-06-24T00:00:00\", \"2021-06-25T00:00:00\", \"2021-06-26T00:00:00\", \"2021-06-27T00:00:00\", \"2021-06-28T00:00:00\", \"2021-06-29T00:00:00\", \"2021-06-30T00:00:00\", \"2021-07-01T00:00:00\", \"2021-07-02T00:00:00\", \"2021-07-03T00:00:00\", \"2021-07-04T00:00:00\", \"2021-07-05T00:00:00\", \"2021-07-06T00:00:00\", \"2021-07-07T00:00:00\", \"2021-07-08T00:00:00\", \"2021-07-09T00:00:00\", \"2021-07-10T00:00:00\", \"2021-07-11T00:00:00\", \"2021-07-12T00:00:00\", \"2021-07-13T00:00:00\", \"2021-07-14T00:00:00\", \"2021-07-15T00:00:00\", \"2021-07-16T00:00:00\", \"2021-07-17T00:00:00\", \"2021-07-18T00:00:00\", \"2021-07-19T00:00:00\", \"2021-07-20T00:00:00\", \"2021-07-21T00:00:00\", \"2021-07-22T00:00:00\", \"2021-07-23T00:00:00\", \"2021-07-24T00:00:00\", \"2021-07-25T00:00:00\", \"2021-07-26T00:00:00\", \"2021-07-27T00:00:00\", \"2021-07-28T00:00:00\", \"2021-07-29T00:00:00\", \"2021-07-30T00:00:00\", \"2021-07-31T00:00:00\", \"2021-08-01T00:00:00\", \"2021-08-02T00:00:00\", \"2021-08-03T00:00:00\", \"2021-08-04T00:00:00\", \"2021-08-05T00:00:00\", \"2021-08-06T00:00:00\", \"2021-08-07T00:00:00\", \"2021-08-08T00:00:00\", \"2021-08-09T00:00:00\", \"2021-08-10T00:00:00\", \"2021-08-11T00:00:00\", \"2021-08-12T00:00:00\", \"2021-08-13T00:00:00\", \"2021-08-14T00:00:00\", \"2021-08-15T00:00:00\", \"2021-08-16T00:00:00\", \"2021-08-17T00:00:00\", \"2021-08-18T00:00:00\", \"2021-08-19T00:00:00\", \"2021-08-20T00:00:00\", \"2021-08-21T00:00:00\", \"2021-08-22T00:00:00\", \"2021-08-23T00:00:00\", \"2021-08-24T00:00:00\", \"2021-08-25T00:00:00\", \"2021-08-26T00:00:00\", \"2021-08-27T00:00:00\", \"2021-08-28T00:00:00\", \"2021-08-29T00:00:00\", \"2021-08-30T00:00:00\", \"2021-08-31T00:00:00\", \"2021-09-01T00:00:00\", \"2021-09-02T00:00:00\", \"2021-09-03T00:00:00\", \"2021-09-04T00:00:00\", \"2021-09-05T00:00:00\", \"2021-09-06T00:00:00\", \"2021-09-07T00:00:00\", \"2021-09-08T00:00:00\", \"2021-09-09T00:00:00\", \"2021-09-10T00:00:00\", \"2021-09-11T00:00:00\", \"2021-09-12T00:00:00\", \"2021-09-13T00:00:00\", \"2021-09-14T00:00:00\", \"2021-09-15T00:00:00\", \"2021-09-16T00:00:00\", \"2021-09-17T00:00:00\", \"2021-09-18T00:00:00\", \"2021-09-19T00:00:00\", \"2021-09-20T00:00:00\", \"2021-09-21T00:00:00\", \"2021-09-22T00:00:00\", \"2021-09-23T00:00:00\", \"2021-09-24T00:00:00\", \"2021-09-25T00:00:00\", \"2021-09-26T00:00:00\", \"2021-09-27T00:00:00\", \"2021-09-28T00:00:00\", \"2021-09-29T00:00:00\", \"2021-09-30T00:00:00\", \"2021-10-01T00:00:00\", \"2021-10-02T00:00:00\", \"2021-10-03T00:00:00\", \"2021-10-04T00:00:00\", \"2021-10-05T00:00:00\", \"2021-10-06T00:00:00\", \"2021-10-07T00:00:00\", \"2021-10-08T00:00:00\", \"2021-10-09T00:00:00\", \"2021-10-10T00:00:00\", \"2021-10-11T00:00:00\", \"2021-10-12T00:00:00\", \"2021-10-13T00:00:00\", \"2021-10-14T00:00:00\", \"2021-10-15T00:00:00\", \"2021-10-16T00:00:00\", \"2021-10-17T00:00:00\", \"2021-10-18T00:00:00\", \"2021-10-19T00:00:00\", \"2021-10-20T00:00:00\", \"2021-10-21T00:00:00\", \"2021-10-22T00:00:00\", \"2021-10-23T00:00:00\", \"2021-10-24T00:00:00\", \"2021-10-25T00:00:00\", \"2021-10-26T00:00:00\", \"2021-10-27T00:00:00\"], \"y\": [-146.26684705772158, -140.0794557442546, -133.22912964720192, -126.59978181134444, -119.74945571429174, -113.1201078784343, -106.26978178138158, -99.41945568432888, -92.79010784847142, -85.93978168084466, -79.31043377668975, -72.46010760906299, -65.60978144143623, -59.42239006422498, -52.57206389659822, -45.94271599244329, -39.09238988429257, -32.46304203769509, -25.612715929544343, -18.7623898213936, -12.133041974796118, -5.2827158666453755, 1.3466319799521071, 8.19695808810285, 15.047286055448511, 21.234679058212354, 28.085007025558017, 34.71435667137639, 41.564684638722056, 48.19403428454047, 55.04436225188615, 61.89469021923183, 68.52404058679696, 75.37436929994762, 82.00371966751275, 88.85404838066337, 95.70437709381402, 102.11274911579366, 108.96307782894436, 115.5924284805209, 122.44275748714998, 129.07210813872658, 135.92243714535567, 142.77276615198477, 149.40211680356134, 156.25244581019044, 162.88179646176698, 169.73212527283658, 176.58245408390619, 182.7698478487432, 189.62017665981278, 196.2495271221382, 203.0998559332078, 209.72920639553325, 216.57953553202373, 223.42986466851423, 230.05921544576302, 236.90954458225352, 243.5388953595024, 250.3892244959929, 257.23955363248336, 263.4269476912489, 270.2772768511763, 276.90662765110613, 283.75695681103355, 290.3863076109633, 297.2366367708907, 304.08696593081805, 310.7163167307478, 317.5666458906752, 324.19599700795624, 331.0463264958134, 337.8966559836705, 344.08405035979956, 350.9343798476566, 357.56373096493775, 364.41406045279484, 371.0434113912539, 377.89374069432824, 384.7440699974027, 391.37342093586176, 398.223750238936, 404.8531011773951, 411.70343048046954, 418.55375978354397, 424.96213203422036, 431.8124609918401, 438.44181159598827, 445.292140553608, 451.9214911577562, 458.7718201153761, 465.62214907299585, 472.2514996771439, 479.1018286609259, 485.7311792903925, 492.5815082741745, 499.4318372579565, 505.6192311787919, 512.4695601625739, 519.0989107920403, 525.9492440817672, 532.578598878277, 539.4289321680038, 546.2792654577307, 552.9086202542408, 559.7589535439676, 566.3883083404775, 573.2386416302044, 580.0889747394842, 586.2763723865758, 593.1267054958557, 599.7560601177395, 606.6063932270196, 613.2357478489033, 620.0860809581833, 626.9364140674634, 633.565768724837, 640.4161018707899, 647.0454565281639, 653.8957896741168, 660.7461228200698, 666.9335205002853, 673.7838536462384, 680.4132084679386, 687.2635417836958, 693.8928966053961, 700.7432299211531, 707.5935632369102, 714.2229180586106, 721.0732513743677, 727.702606196068, 734.5529392777051, 741.4032723593422, 747.8116484679703, 754.6619815496074, 761.29133614474, 768.141669226377, 774.7710238215097, 781.6213569031468, 788.47168996861, 795.1010445480908, 801.9513776135541, 808.5807321930349, 815.4310652584982, 822.2813983239615, 828.4687959314767, 835.3191291874112, 841.9484839512187, 848.7988172071531, 855.4281719709604, 862.2785052268948, 869.1288384828291, 875.7581932466366, 882.6085265025711, 889.2378805098907, 896.088212984121, 902.9385454583515, 909.1259425318499, 915.9762750060803, 922.6056290134, 929.4559614876304, 936.0853144887535, 942.9356459232475, 949.7859773577414, 956.4153303588646, 963.2656617933584, 969.8950147944817, 976.7453462289756, 983.5956776634694, 989.7611487528101, 996.5872060302942, 1003.1930679117305, 1010.0191251892146, 1016.6249870706507, 1023.4510443481349, 1030.277101625619, 1036.8829635070554, 1043.4618114946882, 1049.8284385794943, 1056.4072865671271, 1062.98613455476, 1069.1405407367392, 1075.719388724372, 1082.0860158091782, 1088.664158498819, 1095.0301030371813, 1101.6082457268221, 1108.1863884164632, 1114.5523329548253, 1121.1304756444665, 1127.4964201828286, 1134.0745628724696, 1140.6088132130237, 1146.510716746427, 1153.0449670869812, 1159.3684351584852, 1165.902685499039, 1172.2261535705431, 1178.760403911097, 1185.294654251651, 1191.6181223231551, 1198.152372663709, 1204.4758407352128, 1211.0100910757671, 1217.544341416321, 1223.4462449497246, 1229.9804952902787, 1236.3039633617827, 1242.8382137023368, 1249.1616817738407, 1255.6959321143947, 1262.2301824549488, 1268.5536505264527, 1275.0879008670067, 1281.4113689385106, 1287.9456192790647, 1294.4798696196187, 1300.3817731530223, 1306.9160234935762, 1313.2394915650802, 1319.773741905634, 1326.0972099771382, 1332.6314603176922, 1339.165710658246, 1345.4891787297502, 1352.0234290703042, 1358.3468971418079, 1364.881147482362, 1371.4153978229162, 1377.52808362537, 1384.0623339659242, 1390.3858020374278, 1396.920052377982, 1403.243520449486, 1409.77777079004, 1416.3120211305938, 1422.635489202098, 1429.169739542652, 1435.4932076141556, 1442.02745795471, 1442.2382402237597, 1442.4490224928102, 1442.6598047618602, 1442.8705870309104, 1443.0813692999602, 1443.292151569011, 1443.5029338380607, 1443.713716107111, 1443.9244983761607, 1444.1352806452114, 1444.3460629142612, 1444.5568451833115, 1444.7676274523615, 1444.978409721412, 1445.1891919904617, 1445.3999742595117, 1445.610756528562, 1445.8215387976122, 1446.0323210666622, 1446.2431033357122, 1446.4538856047625, 1446.6646678738127, 1446.875450142863, 1447.0862324119128, 1447.2970146809632, 1447.5077969500132, 1447.7185792190635, 1447.9293614881133, 1448.140143757164, 1448.3509260262138, 1448.561708295264, 1448.7724905643138, 1448.983272833364, 1449.1940551024143, 1449.4048373714643, 1449.6156196405145, 1449.8264019095648, 1450.0371841786148, 1450.2479664476648, 1450.458748716715, 1450.6695309857653, 1450.8803132548155, 1451.0910955238653, 1451.3018777929155, 1451.5126600619658, 1451.723442331016, 1451.9342246000658, 1452.1450068691158, 1452.3557891381663, 1452.566571407216, 1452.7773536762663, 1452.9881359453166, 1453.1989182143668, 1453.4097004834168, 1453.620482752467, 1453.831265021517, 1454.0420472905673, 1454.2528295596173, 1454.4636118286676, 1454.6743940977178, 1454.885176366768, 1455.0959586358179, 1455.3067409048676, 1455.5175231739183, 1455.7283054429681, 1455.9390877120184, 1456.1498699810684, 1456.3606522501188, 1456.5714345191686, 1456.7822167882189, 1456.992999057269, 1457.2037813263194, 1457.4145635953694, 1457.6253458644194, 1457.8361281334696, 1458.0469104025199, 1458.2576926715699, 1458.4684749406201, 1458.6792572096704, 1458.8900394787202, 1459.1008217477704, 1459.3116040168202, 1459.5223862858709, 1459.7331685549207, 1459.943950823971, 1460.154733093021, 1460.3655153620714, 1460.5762976311212, 1460.7870799001714, 1460.9978621692214, 1461.208644438272, 1461.419426707322, 1461.630208976372, 1461.840991245422, 1462.0517735144722, 1462.2625557835224, 1462.4733380525722, 1462.6841203216227, 1462.8949025906727, 1463.105684859723, 1463.3164671287727, 1463.5272493978234, 1463.7380316668732, 1463.9488139359235, 1464.1595962049732, 1464.370378474024, 1464.5811607430737, 1464.791943012124, 1465.002725281174, 1465.2135075502242, 1465.4242898192742, 1465.6350720883243, 1465.8458543573745, 1466.0566366264247, 1466.267418895475, 1466.4782011645248, 1466.688983433575, 1466.8997657026252, 1467.1105479716755, 1467.3213302407253, 1467.5321125097755, 1467.7428947788258, 1467.953677047876, 1468.1644593169258, 1468.375241585976, 1468.5860238550263, 1468.7968061240763, 1469.0075883931265, 1469.2183706621765, 1469.4291529312268, 1469.6399352002768, 1469.850717469327, 1470.0614997383773, 1470.2722820074275, 1470.4830642764773, 1470.6938465455275, 1470.9046288145778, 1471.115411083628, 1471.3261933526778, 1471.536975621728, 1471.7477578907783, 1471.958540159828, 1472.1693224288783, 1472.3801046979283, 1472.5908869669788, 1472.8016692360288, 1473.0124515050788, 1473.223233774129, 1473.4340160431793, 1473.6447983122293, 1473.8555805812796, 1474.0663628503298, 1474.2771451193798, 1474.4879273884299, 1474.69870965748, 1474.9094919265303, 1475.1202741955801, 1475.3310564646304, 1475.5418387336804, 1475.7526210027308, 1475.9634032717806, 1476.1741855408309, 1476.384967809881, 1476.5957500789314, 1476.8065323479814, 1477.0173146170314, 1477.2280968860814, 1477.4388791551319, 1477.6496614241819, 1477.8604436932321, 1478.0712259622821, 1478.2820082313322, 1478.4927905003824, 1478.7035727694322, 1478.9143550384829, 1479.1251373075327, 1479.335919576583, 1479.5467018456327, 1479.7574841146834, 1479.9682663837332, 1480.1790486527834, 1480.3898309218334, 1480.600613190884, 1480.8113954599337, 1481.022177728984, 1481.232959998034, 1481.4437422670844, 1481.6545245361344, 1481.8653068051842, 1482.0760890742345, 1482.2868713432847, 1482.497653612335, 1482.7084358813847, 1482.919218150435, 1483.1300004194852, 1483.3407826885355, 1483.5515649575852, 1483.762347226636, 1483.9731294956857, 1484.183911764736, 1484.394694033786, 1484.6054763028365, 1484.8162585718862, 1485.0270408409363, 1485.2378231099865, 1485.4486053790367, 1485.659387648087, 1485.8701699171368, 1486.080952186187, 1486.2917344552372, 1486.5025167242875, 1486.7132989933373, 1486.9240812623875, 1487.1348635314378, 1487.345645800488, 1487.5564280695378, 1487.767210338588, 1487.9779926076383, 1488.1887748766883, 1488.3995571457383, 1488.6103394147885, 1488.8211216838388, 1489.0319039528888, 1489.242686221939, 1489.4534684909893, 1489.6642507600393, 1489.8750330290893, 1490.0858152981396, 1490.2965975671898, 1490.50737983624, 1490.7181621052898, 1490.92894437434, 1491.1397266433903, 1491.3505089124405, 1491.5612911814903, 1491.7720734505403, 1491.9828557195908, 1492.1936379886408, 1492.4044202576908, 1492.6152025267409, 1492.8259847957913, 1493.0367670648413, 1493.2475493338916, 1493.4583316029414, 1493.6691138719918, 1493.8798961410419, 1494.090678410092, 1494.3014606791423, 1494.5122429481926, 1494.7230252172421, 1494.9338074862922, 1495.1445897553426, 1495.3553720243926, 1495.5661542934427, 1495.7769365624927, 1495.9877188315431, 1496.1985011005931, 1496.4092833696434, 1496.6200656386932, 1496.8308479077436, 1497.0416301767937, 1497.252412445844, 1497.4631947148937, 1497.6739769839444, 1497.8847592529942, 1498.0955415220442, 1498.3063237910942, 1498.5171060601444, 1498.7278883291947, 1498.9386705982447, 1499.1494528672952, 1499.360235136345, 1499.5710174053952, 1499.7817996744452, 1499.9925819434957, 1500.2033642125457, 1500.414146481596, 1500.6249287506457, 1500.8357110196962, 1501.0464932887462, 1501.257275557796, 1501.4680578268462, 1501.6788400958965, 1501.8896223649467, 1502.1004046339965, 1502.3111869030467, 1502.521969172097, 1502.7327514411472, 1502.9435337101972, 1503.1543159792475, 1503.3650982482975, 1503.5758805173477, 1503.7866627863978, 1503.9974450554482, 1504.2082273244982, 1504.4190095935483, 1504.6297918625983, 1504.8405741316485, 1505.0513564006988, 1505.2621386697485]}, {\"mode\": \"lines+markers\", \"name\": \"Real Values\", \"type\": \"scatter\", \"x\": [\"2001-01-31T00:00:00\", \"2001-02-28T00:00:00\", \"2001-03-31T00:00:00\", \"2001-04-30T00:00:00\", \"2001-05-31T00:00:00\", \"2001-06-30T00:00:00\", \"2001-07-31T00:00:00\", \"2001-08-31T00:00:00\", \"2001-09-30T00:00:00\", \"2001-10-31T00:00:00\", \"2001-11-30T00:00:00\", \"2001-12-31T00:00:00\", \"2002-01-31T00:00:00\", \"2002-02-28T00:00:00\", \"2002-03-31T00:00:00\", \"2002-04-30T00:00:00\", \"2002-05-31T00:00:00\", \"2002-06-30T00:00:00\", \"2002-07-31T00:00:00\", \"2002-08-31T00:00:00\", \"2002-09-30T00:00:00\", \"2002-10-31T00:00:00\", \"2002-11-30T00:00:00\", \"2002-12-31T00:00:00\", \"2003-01-31T00:00:00\", \"2003-02-28T00:00:00\", \"2003-03-31T00:00:00\", \"2003-04-30T00:00:00\", \"2003-05-31T00:00:00\", \"2003-06-30T00:00:00\", \"2003-07-31T00:00:00\", \"2003-08-31T00:00:00\", \"2003-09-30T00:00:00\", \"2003-10-31T00:00:00\", \"2003-11-30T00:00:00\", \"2003-12-31T00:00:00\", \"2004-01-31T00:00:00\", \"2004-02-29T00:00:00\", \"2004-03-31T00:00:00\", \"2004-04-30T00:00:00\", \"2004-05-31T00:00:00\", \"2004-06-30T00:00:00\", \"2004-07-31T00:00:00\", \"2004-08-31T00:00:00\", \"2004-09-30T00:00:00\", \"2004-10-31T00:00:00\", \"2004-11-30T00:00:00\", \"2004-12-31T00:00:00\", \"2005-01-31T00:00:00\", \"2005-02-28T00:00:00\", \"2005-03-31T00:00:00\", \"2005-04-30T00:00:00\", \"2005-05-31T00:00:00\", \"2005-06-30T00:00:00\", \"2005-07-31T00:00:00\", \"2005-08-31T00:00:00\", \"2005-09-30T00:00:00\", \"2005-10-31T00:00:00\", \"2005-11-30T00:00:00\", \"2005-12-31T00:00:00\", \"2006-01-31T00:00:00\", \"2006-02-28T00:00:00\", \"2006-03-31T00:00:00\", \"2006-04-30T00:00:00\", \"2006-05-31T00:00:00\", \"2006-06-30T00:00:00\", \"2006-07-31T00:00:00\", \"2006-08-31T00:00:00\", \"2006-09-30T00:00:00\", \"2006-10-31T00:00:00\", \"2006-11-30T00:00:00\", \"2006-12-31T00:00:00\", \"2007-01-31T00:00:00\", \"2007-02-28T00:00:00\", \"2007-03-31T00:00:00\", \"2007-04-30T00:00:00\", \"2007-05-31T00:00:00\", \"2007-06-30T00:00:00\", \"2007-07-31T00:00:00\", \"2007-08-31T00:00:00\", \"2007-09-30T00:00:00\", \"2007-10-31T00:00:00\", \"2007-11-30T00:00:00\", \"2007-12-31T00:00:00\", \"2008-01-31T00:00:00\", \"2008-02-29T00:00:00\", \"2008-03-31T00:00:00\", \"2008-04-30T00:00:00\", \"2008-05-31T00:00:00\", \"2008-06-30T00:00:00\", \"2008-07-31T00:00:00\", \"2008-08-31T00:00:00\", \"2008-09-30T00:00:00\", \"2008-10-31T00:00:00\", \"2008-11-30T00:00:00\", \"2008-12-31T00:00:00\", \"2009-01-31T00:00:00\", \"2009-02-28T00:00:00\", \"2009-03-31T00:00:00\", \"2009-04-30T00:00:00\", \"2009-05-31T00:00:00\", \"2009-06-30T00:00:00\", \"2009-07-31T00:00:00\", \"2009-08-31T00:00:00\", \"2009-09-30T00:00:00\", \"2009-10-31T00:00:00\", \"2009-11-30T00:00:00\", \"2009-12-31T00:00:00\", \"2010-01-31T00:00:00\", \"2010-02-28T00:00:00\", \"2010-03-31T00:00:00\", \"2010-04-30T00:00:00\", \"2010-05-31T00:00:00\", \"2010-06-30T00:00:00\", \"2010-07-31T00:00:00\", \"2010-08-31T00:00:00\", \"2010-09-30T00:00:00\", \"2010-10-31T00:00:00\", \"2010-11-30T00:00:00\", \"2010-12-31T00:00:00\", \"2011-01-31T00:00:00\", \"2011-02-28T00:00:00\", \"2011-03-31T00:00:00\", \"2011-04-30T00:00:00\", \"2011-05-31T00:00:00\", \"2011-06-30T00:00:00\", \"2011-07-31T00:00:00\", \"2011-08-31T00:00:00\", \"2011-09-30T00:00:00\", \"2011-10-31T00:00:00\", \"2011-11-30T00:00:00\", \"2011-12-31T00:00:00\", \"2012-01-31T00:00:00\", \"2012-02-29T00:00:00\", \"2012-03-31T00:00:00\", \"2012-04-30T00:00:00\", \"2012-05-31T00:00:00\", \"2012-06-30T00:00:00\", \"2012-07-31T00:00:00\", \"2012-08-31T00:00:00\", \"2012-09-30T00:00:00\", \"2012-10-31T00:00:00\", \"2012-11-30T00:00:00\", \"2012-12-31T00:00:00\", \"2013-01-31T00:00:00\", \"2013-02-28T00:00:00\", \"2013-03-31T00:00:00\", \"2013-04-30T00:00:00\", \"2013-05-31T00:00:00\", \"2013-06-30T00:00:00\", \"2013-07-31T00:00:00\", \"2013-08-31T00:00:00\", \"2013-09-30T00:00:00\", \"2013-10-31T00:00:00\", \"2013-11-30T00:00:00\", \"2013-12-31T00:00:00\", \"2014-01-31T00:00:00\", \"2014-02-28T00:00:00\", \"2014-03-31T00:00:00\", \"2014-04-30T00:00:00\", \"2014-05-31T00:00:00\", \"2014-06-30T00:00:00\", \"2014-07-31T00:00:00\", \"2014-08-31T00:00:00\", \"2014-09-30T00:00:00\", \"2014-10-31T00:00:00\", \"2014-11-30T00:00:00\", \"2014-12-31T00:00:00\", \"2015-01-31T00:00:00\", \"2015-02-28T00:00:00\", \"2015-03-31T00:00:00\", \"2015-04-30T00:00:00\", \"2015-05-31T00:00:00\", \"2015-06-30T00:00:00\", \"2015-07-31T00:00:00\", \"2015-08-31T00:00:00\", \"2015-09-30T00:00:00\", \"2015-10-31T00:00:00\", \"2015-11-30T00:00:00\", \"2015-12-31T00:00:00\", \"2016-01-31T00:00:00\", \"2016-02-29T00:00:00\", \"2016-03-31T00:00:00\", \"2016-04-30T00:00:00\", \"2016-05-31T00:00:00\", \"2016-06-30T00:00:00\", \"2016-07-31T00:00:00\", \"2016-08-31T00:00:00\", \"2016-09-30T00:00:00\", \"2016-10-31T00:00:00\", \"2016-11-30T00:00:00\", \"2016-12-31T00:00:00\", \"2017-01-31T00:00:00\", \"2017-02-28T00:00:00\", \"2017-03-31T00:00:00\", \"2017-04-30T00:00:00\", \"2017-05-31T00:00:00\", \"2017-06-30T00:00:00\", \"2017-07-31T00:00:00\", \"2017-08-31T00:00:00\", \"2017-09-30T00:00:00\", \"2017-10-31T00:00:00\", \"2017-11-30T00:00:00\", \"2017-12-31T00:00:00\", \"2018-01-31T00:00:00\", \"2018-02-28T00:00:00\", \"2018-03-31T00:00:00\", \"2018-04-30T00:00:00\", \"2018-05-31T00:00:00\", \"2018-06-30T00:00:00\", \"2018-07-31T00:00:00\", \"2018-08-31T00:00:00\", \"2018-09-30T00:00:00\", \"2018-10-31T00:00:00\", \"2018-11-30T00:00:00\", \"2018-12-31T00:00:00\", \"2019-01-31T00:00:00\", \"2019-02-28T00:00:00\", \"2019-03-31T00:00:00\", \"2019-04-30T00:00:00\", \"2019-05-31T00:00:00\", \"2019-06-30T00:00:00\", \"2019-07-31T00:00:00\", \"2019-08-31T00:00:00\", \"2019-09-30T00:00:00\", \"2019-10-31T00:00:00\", \"2019-11-30T00:00:00\", \"2019-12-31T00:00:00\", \"2020-01-31T00:00:00\", \"2020-02-29T00:00:00\", \"2020-03-31T00:00:00\", \"2020-04-30T00:00:00\", \"2020-05-31T00:00:00\", \"2020-06-30T00:00:00\", \"2020-07-31T00:00:00\", \"2020-08-31T00:00:00\", \"2020-09-30T00:00:00\", \"2020-10-31T00:00:00\", \"2020-11-30T00:00:00\", \"2020-12-31T00:00:00\"], \"y\": [3, 0, 0, 0, 0, 0, 0, 24, 2, 1, 1, 1, 1, 1, 0, 0, 0, 0, 0, 0, 1, 1, 1, 0, 4, 0, 1, 0, 1, 1, 3, 1, 0, 0, 0, 2, 1, 0, 0, 0, 0, 0, 0, 0, 1, 0, 0, 0, 1, 0, 0, 0, 0, 2, 0, 1, 2, 2, 1, 1, 0, 4, 4, 0, 1, 0, 3, 0, 1, 2, 0, 2, 6, 1, 0, 2, 0, 4, 0, 2, 0, 1, 1, 1, 4, 1, 3, 0, 1, 1, 4, 1, 3, 3, 0, 2, 12, 1, 1, 1, 2, 2, 3, 2, 1, 1, 4, 3, 21, 3, 5, 11, 4, 6, 10, 5, 6, 6, 6, 6, 26, 10, 10, 6, 6, 10, 2, 10, 14, 9, 8, 7, 35, 7, 10, 12, 10, 6, 17, 8, 18, 18, 11, 14, 47, 18, 28, 17, 15, 16, 22, 14, 18, 24, 24, 25, 70, 30, 38, 36, 39, 45, 56, 47, 50, 83, 71, 94, 241, 126, 423, 725, 827, 1030, 13586, 23915, 22073, 21945, 18966, 19040, 18858, 3087, 29, 30, 17, 31, 37, 16, 26, 15, 18, 25, 52, 33, 36, 43, 47, 58, 86, 106, 87, 132, 148, 255, 28, 63, 85, 44, 26, 35, 58, 114, 60, 61, 97, 117, 6, 41, 66, 29, 32, 7, 2, 6, 15, 993, 2, 1, 3, 13, 359, 0, 1, 1, 7, 115, 0, 0, 8, 123]}],\n",
              "                        {\"template\": {\"data\": {\"bar\": [{\"error_x\": {\"color\": \"#2a3f5f\"}, \"error_y\": {\"color\": \"#2a3f5f\"}, \"marker\": {\"line\": {\"color\": \"#E5ECF6\", \"width\": 0.5}}, \"type\": \"bar\"}], \"barpolar\": [{\"marker\": {\"line\": {\"color\": \"#E5ECF6\", \"width\": 0.5}}, \"type\": \"barpolar\"}], \"carpet\": [{\"aaxis\": {\"endlinecolor\": \"#2a3f5f\", \"gridcolor\": \"white\", \"linecolor\": \"white\", \"minorgridcolor\": \"white\", \"startlinecolor\": \"#2a3f5f\"}, \"baxis\": {\"endlinecolor\": \"#2a3f5f\", \"gridcolor\": \"white\", \"linecolor\": \"white\", \"minorgridcolor\": \"white\", \"startlinecolor\": \"#2a3f5f\"}, \"type\": \"carpet\"}], \"choropleth\": [{\"colorbar\": {\"outlinewidth\": 0, \"ticks\": \"\"}, \"type\": \"choropleth\"}], \"contour\": [{\"colorbar\": {\"outlinewidth\": 0, \"ticks\": \"\"}, \"colorscale\": [[0.0, \"#0d0887\"], [0.1111111111111111, \"#46039f\"], [0.2222222222222222, \"#7201a8\"], [0.3333333333333333, \"#9c179e\"], [0.4444444444444444, \"#bd3786\"], [0.5555555555555556, \"#d8576b\"], [0.6666666666666666, \"#ed7953\"], [0.7777777777777778, \"#fb9f3a\"], [0.8888888888888888, \"#fdca26\"], [1.0, \"#f0f921\"]], \"type\": \"contour\"}], \"contourcarpet\": [{\"colorbar\": {\"outlinewidth\": 0, \"ticks\": \"\"}, \"type\": \"contourcarpet\"}], \"heatmap\": [{\"colorbar\": {\"outlinewidth\": 0, \"ticks\": \"\"}, \"colorscale\": [[0.0, \"#0d0887\"], [0.1111111111111111, \"#46039f\"], [0.2222222222222222, \"#7201a8\"], [0.3333333333333333, \"#9c179e\"], [0.4444444444444444, \"#bd3786\"], [0.5555555555555556, \"#d8576b\"], [0.6666666666666666, \"#ed7953\"], [0.7777777777777778, \"#fb9f3a\"], [0.8888888888888888, \"#fdca26\"], [1.0, \"#f0f921\"]], \"type\": \"heatmap\"}], \"heatmapgl\": [{\"colorbar\": {\"outlinewidth\": 0, \"ticks\": \"\"}, \"colorscale\": [[0.0, \"#0d0887\"], [0.1111111111111111, \"#46039f\"], [0.2222222222222222, \"#7201a8\"], [0.3333333333333333, \"#9c179e\"], [0.4444444444444444, \"#bd3786\"], [0.5555555555555556, \"#d8576b\"], [0.6666666666666666, \"#ed7953\"], [0.7777777777777778, \"#fb9f3a\"], [0.8888888888888888, \"#fdca26\"], [1.0, \"#f0f921\"]], \"type\": \"heatmapgl\"}], \"histogram\": [{\"marker\": {\"colorbar\": {\"outlinewidth\": 0, \"ticks\": \"\"}}, \"type\": \"histogram\"}], \"histogram2d\": [{\"colorbar\": {\"outlinewidth\": 0, \"ticks\": \"\"}, \"colorscale\": [[0.0, \"#0d0887\"], [0.1111111111111111, \"#46039f\"], [0.2222222222222222, \"#7201a8\"], [0.3333333333333333, \"#9c179e\"], [0.4444444444444444, \"#bd3786\"], [0.5555555555555556, \"#d8576b\"], [0.6666666666666666, \"#ed7953\"], [0.7777777777777778, \"#fb9f3a\"], [0.8888888888888888, \"#fdca26\"], [1.0, \"#f0f921\"]], \"type\": \"histogram2d\"}], \"histogram2dcontour\": [{\"colorbar\": {\"outlinewidth\": 0, \"ticks\": \"\"}, \"colorscale\": [[0.0, \"#0d0887\"], [0.1111111111111111, \"#46039f\"], [0.2222222222222222, \"#7201a8\"], [0.3333333333333333, \"#9c179e\"], [0.4444444444444444, \"#bd3786\"], [0.5555555555555556, \"#d8576b\"], [0.6666666666666666, \"#ed7953\"], [0.7777777777777778, \"#fb9f3a\"], [0.8888888888888888, \"#fdca26\"], [1.0, \"#f0f921\"]], \"type\": \"histogram2dcontour\"}], \"mesh3d\": [{\"colorbar\": {\"outlinewidth\": 0, \"ticks\": \"\"}, \"type\": \"mesh3d\"}], \"parcoords\": [{\"line\": {\"colorbar\": {\"outlinewidth\": 0, \"ticks\": \"\"}}, \"type\": \"parcoords\"}], \"pie\": [{\"automargin\": true, \"type\": \"pie\"}], \"scatter\": [{\"marker\": {\"colorbar\": {\"outlinewidth\": 0, \"ticks\": \"\"}}, \"type\": \"scatter\"}], \"scatter3d\": [{\"line\": {\"colorbar\": {\"outlinewidth\": 0, \"ticks\": \"\"}}, \"marker\": {\"colorbar\": {\"outlinewidth\": 0, \"ticks\": \"\"}}, \"type\": \"scatter3d\"}], \"scattercarpet\": [{\"marker\": {\"colorbar\": {\"outlinewidth\": 0, \"ticks\": \"\"}}, \"type\": \"scattercarpet\"}], \"scattergeo\": [{\"marker\": {\"colorbar\": {\"outlinewidth\": 0, \"ticks\": \"\"}}, \"type\": \"scattergeo\"}], \"scattergl\": [{\"marker\": {\"colorbar\": {\"outlinewidth\": 0, \"ticks\": \"\"}}, \"type\": \"scattergl\"}], \"scattermapbox\": [{\"marker\": {\"colorbar\": {\"outlinewidth\": 0, \"ticks\": \"\"}}, \"type\": \"scattermapbox\"}], \"scatterpolar\": [{\"marker\": {\"colorbar\": {\"outlinewidth\": 0, \"ticks\": \"\"}}, \"type\": \"scatterpolar\"}], \"scatterpolargl\": [{\"marker\": {\"colorbar\": {\"outlinewidth\": 0, \"ticks\": \"\"}}, \"type\": \"scatterpolargl\"}], \"scatterternary\": [{\"marker\": {\"colorbar\": {\"outlinewidth\": 0, \"ticks\": \"\"}}, \"type\": \"scatterternary\"}], \"surface\": [{\"colorbar\": {\"outlinewidth\": 0, \"ticks\": \"\"}, \"colorscale\": [[0.0, \"#0d0887\"], [0.1111111111111111, \"#46039f\"], [0.2222222222222222, \"#7201a8\"], [0.3333333333333333, \"#9c179e\"], [0.4444444444444444, \"#bd3786\"], [0.5555555555555556, \"#d8576b\"], [0.6666666666666666, \"#ed7953\"], [0.7777777777777778, \"#fb9f3a\"], [0.8888888888888888, \"#fdca26\"], [1.0, \"#f0f921\"]], \"type\": \"surface\"}], \"table\": [{\"cells\": {\"fill\": {\"color\": \"#EBF0F8\"}, \"line\": {\"color\": \"white\"}}, \"header\": {\"fill\": {\"color\": \"#C8D4E3\"}, \"line\": {\"color\": \"white\"}}, \"type\": \"table\"}]}, \"layout\": {\"annotationdefaults\": {\"arrowcolor\": \"#2a3f5f\", \"arrowhead\": 0, \"arrowwidth\": 1}, \"coloraxis\": {\"colorbar\": {\"outlinewidth\": 0, \"ticks\": \"\"}}, \"colorscale\": {\"diverging\": [[0, \"#8e0152\"], [0.1, \"#c51b7d\"], [0.2, \"#de77ae\"], [0.3, \"#f1b6da\"], [0.4, \"#fde0ef\"], [0.5, \"#f7f7f7\"], [0.6, \"#e6f5d0\"], [0.7, \"#b8e186\"], [0.8, \"#7fbc41\"], [0.9, \"#4d9221\"], [1, \"#276419\"]], \"sequential\": [[0.0, \"#0d0887\"], [0.1111111111111111, \"#46039f\"], [0.2222222222222222, \"#7201a8\"], [0.3333333333333333, \"#9c179e\"], [0.4444444444444444, \"#bd3786\"], [0.5555555555555556, \"#d8576b\"], [0.6666666666666666, \"#ed7953\"], [0.7777777777777778, \"#fb9f3a\"], [0.8888888888888888, \"#fdca26\"], [1.0, \"#f0f921\"]], \"sequentialminus\": [[0.0, \"#0d0887\"], [0.1111111111111111, \"#46039f\"], [0.2222222222222222, \"#7201a8\"], [0.3333333333333333, \"#9c179e\"], [0.4444444444444444, \"#bd3786\"], [0.5555555555555556, \"#d8576b\"], [0.6666666666666666, \"#ed7953\"], [0.7777777777777778, \"#fb9f3a\"], [0.8888888888888888, \"#fdca26\"], [1.0, \"#f0f921\"]]}, \"colorway\": [\"#636efa\", \"#EF553B\", \"#00cc96\", \"#ab63fa\", \"#FFA15A\", \"#19d3f3\", \"#FF6692\", \"#B6E880\", \"#FF97FF\", \"#FECB52\"], \"font\": {\"color\": \"#2a3f5f\"}, \"geo\": {\"bgcolor\": \"white\", \"lakecolor\": \"white\", \"landcolor\": \"#E5ECF6\", \"showlakes\": true, \"showland\": true, \"subunitcolor\": \"white\"}, \"hoverlabel\": {\"align\": \"left\"}, \"hovermode\": \"closest\", \"mapbox\": {\"style\": \"light\"}, \"paper_bgcolor\": \"white\", \"plot_bgcolor\": \"#E5ECF6\", \"polar\": {\"angularaxis\": {\"gridcolor\": \"white\", \"linecolor\": \"white\", \"ticks\": \"\"}, \"bgcolor\": \"#E5ECF6\", \"radialaxis\": {\"gridcolor\": \"white\", \"linecolor\": \"white\", \"ticks\": \"\"}}, \"scene\": {\"xaxis\": {\"backgroundcolor\": \"#E5ECF6\", \"gridcolor\": \"white\", \"gridwidth\": 2, \"linecolor\": \"white\", \"showbackground\": true, \"ticks\": \"\", \"zerolinecolor\": \"white\"}, \"yaxis\": {\"backgroundcolor\": \"#E5ECF6\", \"gridcolor\": \"white\", \"gridwidth\": 2, \"linecolor\": \"white\", \"showbackground\": true, \"ticks\": \"\", \"zerolinecolor\": \"white\"}, \"zaxis\": {\"backgroundcolor\": \"#E5ECF6\", \"gridcolor\": \"white\", \"gridwidth\": 2, \"linecolor\": \"white\", \"showbackground\": true, \"ticks\": \"\", \"zerolinecolor\": \"white\"}}, \"shapedefaults\": {\"line\": {\"color\": \"#2a3f5f\"}}, \"ternary\": {\"aaxis\": {\"gridcolor\": \"white\", \"linecolor\": \"white\", \"ticks\": \"\"}, \"baxis\": {\"gridcolor\": \"white\", \"linecolor\": \"white\", \"ticks\": \"\"}, \"bgcolor\": \"#E5ECF6\", \"caxis\": {\"gridcolor\": \"white\", \"linecolor\": \"white\", \"ticks\": \"\"}}, \"title\": {\"x\": 0.05}, \"xaxis\": {\"automargin\": true, \"gridcolor\": \"white\", \"linecolor\": \"white\", \"ticks\": \"\", \"title\": {\"standoff\": 15}, \"zerolinecolor\": \"white\", \"zerolinewidth\": 2}, \"yaxis\": {\"automargin\": true, \"gridcolor\": \"white\", \"linecolor\": \"white\", \"ticks\": \"\", \"title\": {\"standoff\": 15}, \"zerolinecolor\": \"white\", \"zerolinewidth\": 2}}}, \"title\": {\"text\": \"Comperating the real x predicted\"}, \"xaxis\": {\"title\": {\"text\": \"Date\"}}, \"yaxis\": {\"title\": {\"text\": \"Crime counts\"}}},\n",
              "                        {\"responsive\": true}\n",
              "                    ).then(function(){\n",
              "                            \n",
              "var gd = document.getElementById('42469070-c48d-4dcc-9b8e-d75c9e262cce');\n",
              "var x = new MutationObserver(function (mutations, observer) {{\n",
              "        var display = window.getComputedStyle(gd).display;\n",
              "        if (!display || display === 'none') {{\n",
              "            console.log([gd, 'removed!']);\n",
              "            Plotly.purge(gd);\n",
              "            observer.disconnect();\n",
              "        }}\n",
              "}});\n",
              "\n",
              "// Listen for the removal of the full notebook cells\n",
              "var notebookContainer = gd.closest('#notebook-container');\n",
              "if (notebookContainer) {{\n",
              "    x.observe(notebookContainer, {childList: true});\n",
              "}}\n",
              "\n",
              "// Listen for the clearing of the current output cell\n",
              "var outputEl = gd.closest('.output');\n",
              "if (outputEl) {{\n",
              "    x.observe(outputEl, {childList: true});\n",
              "}}\n",
              "\n",
              "                        })\n",
              "                };\n",
              "                \n",
              "            </script>\n",
              "        </div>\n",
              "</body>\n",
              "</html>"
            ]
          },
          "metadata": {
            "tags": []
          }
        }
      ]
    },
    {
      "cell_type": "code",
      "metadata": {
        "colab": {
          "base_uri": "https://localhost:8080/",
          "height": 865
        },
        "id": "WwaX-dcKFjSS",
        "outputId": "54192bcf-99ac-4123-df1f-4b35577ea38d"
      },
      "source": [
        "crime_model.plot_components(futureForecast)"
      ],
      "execution_count": null,
      "outputs": [
        {
          "output_type": "execute_result",
          "data": {
            "image/png": "[encoded data removed]",
            "text/plain": [
              "<Figure size 648x432 with 2 Axes>"
            ]
          },
          "metadata": {
            "tags": []
          },
          "execution_count": 31
        },
        {
          "output_type": "display_data",
          "data": {
            "image/png": "[encoded data removed]",
            "text/plain": [
              "<Figure size 648x432 with 2 Axes>"
            ]
          },
          "metadata": {
            "tags": []
          }
        }
      ]
    },
    {
      "cell_type": "code",
      "metadata": {
        "id": "ImyWF3jJheTy"
      },
      "source": [
        ""
      ],
      "execution_count": null,
      "outputs": []
    }
  ]
}