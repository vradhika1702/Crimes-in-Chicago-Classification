{
  "nbformat": 4,
  "nbformat_minor": 0,
  "metadata": {
    "kernelspec": {
      "display_name": "Python 3",
      "language": "python",
      "name": "python3"
    },
    "language_info": {
      "codemirror_mode": {
        "name": "ipython",
        "version": 3
      },
      "file_extension": ".py",
      "mimetype": "text/x-python",
      "name": "python",
      "nbconvert_exporter": "python",
      "pygments_lexer": "ipython3",
      "version": "3.8.3"
    },
    "colab": {
      "name": "Chicago_Crime_DataProcessing.ipynb",
      "provenance": [],
      "collapsed_sections": []
    }
  },
  "cells": [
    {
      "cell_type": "code",
      "metadata": {
        "colab": {
          "base_uri": "https://localhost:8080/"
        },
        "id": "L_iOOuGsTuP5",
        "outputId": "2351f6f8-ae6b-4f0b-d5e0-9c7793bada32"
      },
      "source": [
        "#Mouting drive for getting access to MyDrive\n",
        "from google.colab import drive\n",
        "drive.mount('/content/drive/')"
      ],
      "execution_count": null,
      "outputs": [
        {
          "output_type": "stream",
          "text": [
            "Mounted at /content/drive/\n"
          ],
          "name": "stdout"
        }
      ]
    },
    {
      "cell_type": "markdown",
      "metadata": {
        "id": "4qbj9XJRQODT"
      },
      "source": [
        "##Importing the required libraries."
      ]
    },
    {
      "cell_type": "code",
      "metadata": {
        "id": "2D1Fpq6Iuddk"
      },
      "source": [
        "# Visualization Libraries\n",
        "import matplotlib\n",
        "import matplotlib.pyplot as plt\n",
        "import seaborn as sns\n",
        "\n",
        "#Preprocessing Libraries\n",
        "import pandas as pd\n",
        "from sklearn.model_selection import train_test_split\n",
        "from sklearn.metrics import precision_score, recall_score, confusion_matrix, classification_report, accuracy_score, f1_score\n",
        "\n",
        "# ML Libraries\n",
        "from sklearn.ensemble import RandomForestClassifier,VotingClassifier\n",
        "from sklearn.neighbors import KNeighborsClassifier\n",
        "from sklearn.neural_network import MLPClassifier\n",
        "\n",
        "# Evaluation Metrics\n",
        "from sklearn import metrics"
      ],
      "execution_count": null,
      "outputs": []
    },
    {
      "cell_type": "markdown",
      "metadata": {
        "id": "oJYYFZkPQSpe"
      },
      "source": [
        "##Loading original data file for processing "
      ]
    },
    {
      "cell_type": "code",
      "metadata": {
        "id": "SNC6j78kQJam"
      },
      "source": [
        "#reading the Pokemon.csv file\n",
        "df = pd.read_csv('drive/My Drive/Colab Notebooks/CMPE_255_Project/Chicago_Crime/Crimes_-_2001_to_Present.csv')"
      ],
      "execution_count": null,
      "outputs": []
    },
    {
      "cell_type": "code",
      "metadata": {
        "colab": {
          "base_uri": "https://localhost:8080/",
          "height": 413
        },
        "id": "4POVvCvPQJan",
        "outputId": "571883f5-babc-48c6-a58a-f10475e4cdc8"
      },
      "source": [
        "df.head()"
      ],
      "execution_count": null,
      "outputs": [
        {
          "output_type": "execute_result",
          "data": {
            "text/html": [
              "<div>\n",
              "<style scoped>\n",
              "    .dataframe tbody tr th:only-of-type {\n",
              "        vertical-align: middle;\n",
              "    }\n",
              "\n",
              "    .dataframe tbody tr th {\n",
              "        vertical-align: top;\n",
              "    }\n",
              "\n",
              "    .dataframe thead th {\n",
              "        text-align: right;\n",
              "    }\n",
              "</style>\n",
              "<table border=\"1\" class=\"dataframe\">\n",
              "  <thead>\n",
              "    <tr style=\"text-align: right;\">\n",
              "      <th></th>\n",
              "      <th>ID</th>\n",
              "      <th>Case Number</th>\n",
              "      <th>Date</th>\n",
              "      <th>Block</th>\n",
              "      <th>IUCR</th>\n",
              "      <th>Primary Type</th>\n",
              "      <th>Description</th>\n",
              "      <th>Location Description</th>\n",
              "      <th>Arrest</th>\n",
              "      <th>Domestic</th>\n",
              "      <th>Beat</th>\n",
              "      <th>District</th>\n",
              "      <th>Ward</th>\n",
              "      <th>Community Area</th>\n",
              "      <th>FBI Code</th>\n",
              "      <th>X Coordinate</th>\n",
              "      <th>Y Coordinate</th>\n",
              "      <th>Year</th>\n",
              "      <th>Updated On</th>\n",
              "      <th>Latitude</th>\n",
              "      <th>Longitude</th>\n",
              "      <th>Location</th>\n",
              "    </tr>\n",
              "  </thead>\n",
              "  <tbody>\n",
              "    <tr>\n",
              "      <th>0</th>\n",
              "      <td>10224738</td>\n",
              "      <td>HY411648</td>\n",
              "      <td>09/05/2015 01:30:00 PM</td>\n",
              "      <td>043XX S WOOD ST</td>\n",
              "      <td>0486</td>\n",
              "      <td>BATTERY</td>\n",
              "      <td>DOMESTIC BATTERY SIMPLE</td>\n",
              "      <td>RESIDENCE</td>\n",
              "      <td>False</td>\n",
              "      <td>True</td>\n",
              "      <td>924</td>\n",
              "      <td>9.0</td>\n",
              "      <td>12.0</td>\n",
              "      <td>61.0</td>\n",
              "      <td>08B</td>\n",
              "      <td>1165074.0</td>\n",
              "      <td>1875917.0</td>\n",
              "      <td>2015</td>\n",
              "      <td>02/10/2018 03:50:01 PM</td>\n",
              "      <td>41.815117</td>\n",
              "      <td>-87.670000</td>\n",
              "      <td>(41.815117282, -87.669999562)</td>\n",
              "    </tr>\n",
              "    <tr>\n",
              "      <th>1</th>\n",
              "      <td>10224739</td>\n",
              "      <td>HY411615</td>\n",
              "      <td>09/04/2015 11:30:00 AM</td>\n",
              "      <td>008XX N CENTRAL AVE</td>\n",
              "      <td>0870</td>\n",
              "      <td>THEFT</td>\n",
              "      <td>POCKET-PICKING</td>\n",
              "      <td>CTA BUS</td>\n",
              "      <td>False</td>\n",
              "      <td>False</td>\n",
              "      <td>1511</td>\n",
              "      <td>15.0</td>\n",
              "      <td>29.0</td>\n",
              "      <td>25.0</td>\n",
              "      <td>06</td>\n",
              "      <td>1138875.0</td>\n",
              "      <td>1904869.0</td>\n",
              "      <td>2015</td>\n",
              "      <td>02/10/2018 03:50:01 PM</td>\n",
              "      <td>41.895080</td>\n",
              "      <td>-87.765400</td>\n",
              "      <td>(41.895080471, -87.765400451)</td>\n",
              "    </tr>\n",
              "    <tr>\n",
              "      <th>2</th>\n",
              "      <td>11646166</td>\n",
              "      <td>JC213529</td>\n",
              "      <td>09/01/2018 12:01:00 AM</td>\n",
              "      <td>082XX S INGLESIDE AVE</td>\n",
              "      <td>0810</td>\n",
              "      <td>THEFT</td>\n",
              "      <td>OVER $500</td>\n",
              "      <td>RESIDENCE</td>\n",
              "      <td>False</td>\n",
              "      <td>True</td>\n",
              "      <td>631</td>\n",
              "      <td>6.0</td>\n",
              "      <td>8.0</td>\n",
              "      <td>44.0</td>\n",
              "      <td>06</td>\n",
              "      <td>NaN</td>\n",
              "      <td>NaN</td>\n",
              "      <td>2018</td>\n",
              "      <td>04/06/2019 04:04:43 PM</td>\n",
              "      <td>NaN</td>\n",
              "      <td>NaN</td>\n",
              "      <td>NaN</td>\n",
              "    </tr>\n",
              "    <tr>\n",
              "      <th>3</th>\n",
              "      <td>10224740</td>\n",
              "      <td>HY411595</td>\n",
              "      <td>09/05/2015 12:45:00 PM</td>\n",
              "      <td>035XX W BARRY AVE</td>\n",
              "      <td>2023</td>\n",
              "      <td>NARCOTICS</td>\n",
              "      <td>POSS: HEROIN(BRN/TAN)</td>\n",
              "      <td>SIDEWALK</td>\n",
              "      <td>True</td>\n",
              "      <td>False</td>\n",
              "      <td>1412</td>\n",
              "      <td>14.0</td>\n",
              "      <td>35.0</td>\n",
              "      <td>21.0</td>\n",
              "      <td>18</td>\n",
              "      <td>1152037.0</td>\n",
              "      <td>1920384.0</td>\n",
              "      <td>2015</td>\n",
              "      <td>02/10/2018 03:50:01 PM</td>\n",
              "      <td>41.937406</td>\n",
              "      <td>-87.716650</td>\n",
              "      <td>(41.937405765, -87.716649687)</td>\n",
              "    </tr>\n",
              "    <tr>\n",
              "      <th>4</th>\n",
              "      <td>10224741</td>\n",
              "      <td>HY411610</td>\n",
              "      <td>09/05/2015 01:00:00 PM</td>\n",
              "      <td>0000X N LARAMIE AVE</td>\n",
              "      <td>0560</td>\n",
              "      <td>ASSAULT</td>\n",
              "      <td>SIMPLE</td>\n",
              "      <td>APARTMENT</td>\n",
              "      <td>False</td>\n",
              "      <td>True</td>\n",
              "      <td>1522</td>\n",
              "      <td>15.0</td>\n",
              "      <td>28.0</td>\n",
              "      <td>25.0</td>\n",
              "      <td>08A</td>\n",
              "      <td>1141706.0</td>\n",
              "      <td>1900086.0</td>\n",
              "      <td>2015</td>\n",
              "      <td>02/10/2018 03:50:01 PM</td>\n",
              "      <td>41.881903</td>\n",
              "      <td>-87.755121</td>\n",
              "      <td>(41.881903443, -87.755121152)</td>\n",
              "    </tr>\n",
              "  </tbody>\n",
              "</table>\n",
              "</div>"
            ],
            "text/plain": [
              "         ID Case Number  ...  Longitude                       Location\n",
              "0  10224738    HY411648  ... -87.670000  (41.815117282, -87.669999562)\n",
              "1  10224739    HY411615  ... -87.765400  (41.895080471, -87.765400451)\n",
              "2  11646166    JC213529  ...        NaN                            NaN\n",
              "3  10224740    HY411595  ... -87.716650  (41.937405765, -87.716649687)\n",
              "4  10224741    HY411610  ... -87.755121  (41.881903443, -87.755121152)\n",
              "\n",
              "[5 rows x 22 columns]"
            ]
          },
          "metadata": {
            "tags": []
          },
          "execution_count": 5
        }
      ]
    },
    {
      "cell_type": "code",
      "metadata": {
        "colab": {
          "base_uri": "https://localhost:8080/"
        },
        "id": "q700TKGIQJap",
        "outputId": "927c5b1d-b258-4eaf-ef75-878ad7cf54f4"
      },
      "source": [
        "df.shape"
      ],
      "execution_count": null,
      "outputs": [
        {
          "output_type": "execute_result",
          "data": {
            "text/plain": [
              "(7311030, 22)"
            ]
          },
          "metadata": {
            "tags": []
          },
          "execution_count": 6
        }
      ]
    },
    {
      "cell_type": "code",
      "metadata": {
        "colab": {
          "base_uri": "https://localhost:8080/"
        },
        "id": "fUXv4NHFuorz",
        "outputId": "2458e19e-0163-41b5-f33b-ff5f8e53bee2"
      },
      "source": [
        "df.info()"
      ],
      "execution_count": null,
      "outputs": [
        {
          "output_type": "stream",
          "text": [
            "<class 'pandas.core.frame.DataFrame'>\n",
            "RangeIndex: 7311030 entries, 0 to 7311029\n",
            "Data columns (total 22 columns):\n",
            " #   Column                Dtype  \n",
            "---  ------                -----  \n",
            " 0   ID                    int64  \n",
            " 1   Case Number           object \n",
            " 2   Date                  object \n",
            " 3   Block                 object \n",
            " 4   IUCR                  object \n",
            " 5   Primary Type          object \n",
            " 6   Description           object \n",
            " 7   Location Description  object \n",
            " 8   Arrest                bool   \n",
            " 9   Domestic              bool   \n",
            " 10  Beat                  int64  \n",
            " 11  District              float64\n",
            " 12  Ward                  float64\n",
            " 13  Community Area        float64\n",
            " 14  FBI Code              object \n",
            " 15  X Coordinate          float64\n",
            " 16  Y Coordinate          float64\n",
            " 17  Year                  int64  \n",
            " 18  Updated On            object \n",
            " 19  Latitude              float64\n",
            " 20  Longitude             float64\n",
            " 21  Location              object \n",
            "dtypes: bool(2), float64(7), int64(3), object(10)\n",
            "memory usage: 1.1+ GB\n"
          ],
          "name": "stdout"
        }
      ]
    },
    {
      "cell_type": "code",
      "metadata": {
        "colab": {
          "base_uri": "https://localhost:8080/"
        },
        "id": "tsnHZaqnusUU",
        "outputId": "acf3147a-fadc-4a33-fded-81ef20c077b2"
      },
      "source": [
        "df.isnull().sum().sum()"
      ],
      "execution_count": null,
      "outputs": [
        {
          "output_type": "execute_result",
          "data": {
            "text/plain": [
              "1597240"
            ]
          },
          "metadata": {
            "tags": []
          },
          "execution_count": 8
        }
      ]
    },
    {
      "cell_type": "code",
      "metadata": {
        "id": "EDgeVFLbQJaq",
        "colab": {
          "base_uri": "https://localhost:8080/"
        },
        "outputId": "f7b57030-0258-471c-f604-a2ec433f8a38"
      },
      "source": [
        "df.apply(lambda x: sum(x.isnull()),axis=0)"
      ],
      "execution_count": null,
      "outputs": [
        {
          "output_type": "execute_result",
          "data": {
            "text/plain": [
              "ID                           0\n",
              "Case Number                  4\n",
              "Date                         0\n",
              "Block                        0\n",
              "IUCR                         0\n",
              "Primary Type                 0\n",
              "Description                  0\n",
              "Location Description      8190\n",
              "Arrest                       0\n",
              "Domestic                     0\n",
              "Beat                         0\n",
              "District                    47\n",
              "Ward                    614835\n",
              "Community Area          613484\n",
              "FBI Code                     0\n",
              "X Coordinate             72136\n",
              "Y Coordinate             72136\n",
              "Year                         0\n",
              "Updated On                   0\n",
              "Latitude                 72136\n",
              "Longitude                72136\n",
              "Location                 72136\n",
              "dtype: int64"
            ]
          },
          "metadata": {
            "tags": []
          },
          "execution_count": 9
        }
      ]
    },
    {
      "cell_type": "code",
      "metadata": {
        "id": "Pg4nQSfIuwD8"
      },
      "source": [
        "# Preprocessing\n",
        "# Remove NaN Value (As Dataset is huge, the NaN row could be neglectable)  \n",
        "df = df.dropna()"
      ],
      "execution_count": null,
      "outputs": []
    },
    {
      "cell_type": "code",
      "metadata": {
        "id": "WBb_4msHu9Ak"
      },
      "source": [
        "# Remove irrelevant/not meaningful attributes\n",
        "df = df.drop(['ID'], axis=1)\n",
        "df = df.drop(['Case Number'], axis=1) \n",
        "df = df.drop(['Updated On'], axis=1)\n",
        "df = df.drop(['Location'], axis=1)"
      ],
      "execution_count": null,
      "outputs": []
    },
    {
      "cell_type": "code",
      "metadata": {
        "colab": {
          "base_uri": "https://localhost:8080/"
        },
        "id": "7ru6dYnau1dJ",
        "outputId": "e7e07f6c-74d2-4b9c-a2d0-0aa7af5f945d"
      },
      "source": [
        "df.info()"
      ],
      "execution_count": null,
      "outputs": [
        {
          "output_type": "stream",
          "text": [
            "<class 'pandas.core.frame.DataFrame'>\n",
            "Int64Index: 6626783 entries, 0 to 7311029\n",
            "Data columns (total 18 columns):\n",
            " #   Column                Dtype  \n",
            "---  ------                -----  \n",
            " 0   Date                  object \n",
            " 1   Block                 object \n",
            " 2   IUCR                  object \n",
            " 3   Primary Type          object \n",
            " 4   Description           object \n",
            " 5   Location Description  object \n",
            " 6   Arrest                bool   \n",
            " 7   Domestic              bool   \n",
            " 8   Beat                  int64  \n",
            " 9   District              float64\n",
            " 10  Ward                  float64\n",
            " 11  Community Area        float64\n",
            " 12  FBI Code              object \n",
            " 13  X Coordinate          float64\n",
            " 14  Y Coordinate          float64\n",
            " 15  Year                  int64  \n",
            " 16  Latitude              float64\n",
            " 17  Longitude             float64\n",
            "dtypes: bool(2), float64(7), int64(2), object(7)\n",
            "memory usage: 872.1+ MB\n"
          ],
          "name": "stdout"
        }
      ]
    },
    {
      "cell_type": "code",
      "metadata": {
        "id": "5BBswANiw-MN"
      },
      "source": [
        "# Splitting the Date to Day_num, Month, Year, Hour(Time), Minute, day_of_week\n",
        "\n",
        "df['date'] = pd.to_datetime(df['Date'])\n",
        "df['Year'] = df['date'].dt.year\n",
        "df['Month'] = df['date'].dt.month\n",
        "df['Day_num'] = df['date'].dt.day\n",
        "df['Time'] = df['date'].dt.hour\n",
        "df['day_of_week'] = df['date'].dt.day_name()"
      ],
      "execution_count": null,
      "outputs": []
    },
    {
      "cell_type": "code",
      "metadata": {
        "colab": {
          "base_uri": "https://localhost:8080/",
          "height": 413
        },
        "id": "tkCKq_w4xPho",
        "outputId": "7a88e486-b8be-4582-cb3d-24cb3d846e01"
      },
      "source": [
        "df = df.drop(['Date'], axis=1) \n",
        "df = df.drop(['date'], axis=1) \n",
        "df.head()"
      ],
      "execution_count": null,
      "outputs": [
        {
          "output_type": "execute_result",
          "data": {
            "text/html": [
              "<div>\n",
              "<style scoped>\n",
              "    .dataframe tbody tr th:only-of-type {\n",
              "        vertical-align: middle;\n",
              "    }\n",
              "\n",
              "    .dataframe tbody tr th {\n",
              "        vertical-align: top;\n",
              "    }\n",
              "\n",
              "    .dataframe thead th {\n",
              "        text-align: right;\n",
              "    }\n",
              "</style>\n",
              "<table border=\"1\" class=\"dataframe\">\n",
              "  <thead>\n",
              "    <tr style=\"text-align: right;\">\n",
              "      <th></th>\n",
              "      <th>Block</th>\n",
              "      <th>IUCR</th>\n",
              "      <th>Primary Type</th>\n",
              "      <th>Description</th>\n",
              "      <th>Location Description</th>\n",
              "      <th>Arrest</th>\n",
              "      <th>Domestic</th>\n",
              "      <th>Beat</th>\n",
              "      <th>District</th>\n",
              "      <th>Ward</th>\n",
              "      <th>Community Area</th>\n",
              "      <th>FBI Code</th>\n",
              "      <th>X Coordinate</th>\n",
              "      <th>Y Coordinate</th>\n",
              "      <th>Year</th>\n",
              "      <th>Latitude</th>\n",
              "      <th>Longitude</th>\n",
              "      <th>Month</th>\n",
              "      <th>Day_num</th>\n",
              "      <th>Time</th>\n",
              "      <th>day_of_week</th>\n",
              "    </tr>\n",
              "  </thead>\n",
              "  <tbody>\n",
              "    <tr>\n",
              "      <th>0</th>\n",
              "      <td>043XX S WOOD ST</td>\n",
              "      <td>0486</td>\n",
              "      <td>BATTERY</td>\n",
              "      <td>DOMESTIC BATTERY SIMPLE</td>\n",
              "      <td>RESIDENCE</td>\n",
              "      <td>False</td>\n",
              "      <td>True</td>\n",
              "      <td>924</td>\n",
              "      <td>9.0</td>\n",
              "      <td>12.0</td>\n",
              "      <td>61.0</td>\n",
              "      <td>08B</td>\n",
              "      <td>1165074.0</td>\n",
              "      <td>1875917.0</td>\n",
              "      <td>2015</td>\n",
              "      <td>41.815117</td>\n",
              "      <td>-87.670000</td>\n",
              "      <td>9</td>\n",
              "      <td>5</td>\n",
              "      <td>13</td>\n",
              "      <td>Saturday</td>\n",
              "    </tr>\n",
              "    <tr>\n",
              "      <th>1</th>\n",
              "      <td>008XX N CENTRAL AVE</td>\n",
              "      <td>0870</td>\n",
              "      <td>THEFT</td>\n",
              "      <td>POCKET-PICKING</td>\n",
              "      <td>CTA BUS</td>\n",
              "      <td>False</td>\n",
              "      <td>False</td>\n",
              "      <td>1511</td>\n",
              "      <td>15.0</td>\n",
              "      <td>29.0</td>\n",
              "      <td>25.0</td>\n",
              "      <td>06</td>\n",
              "      <td>1138875.0</td>\n",
              "      <td>1904869.0</td>\n",
              "      <td>2015</td>\n",
              "      <td>41.895080</td>\n",
              "      <td>-87.765400</td>\n",
              "      <td>9</td>\n",
              "      <td>4</td>\n",
              "      <td>11</td>\n",
              "      <td>Friday</td>\n",
              "    </tr>\n",
              "    <tr>\n",
              "      <th>3</th>\n",
              "      <td>035XX W BARRY AVE</td>\n",
              "      <td>2023</td>\n",
              "      <td>NARCOTICS</td>\n",
              "      <td>POSS: HEROIN(BRN/TAN)</td>\n",
              "      <td>SIDEWALK</td>\n",
              "      <td>True</td>\n",
              "      <td>False</td>\n",
              "      <td>1412</td>\n",
              "      <td>14.0</td>\n",
              "      <td>35.0</td>\n",
              "      <td>21.0</td>\n",
              "      <td>18</td>\n",
              "      <td>1152037.0</td>\n",
              "      <td>1920384.0</td>\n",
              "      <td>2015</td>\n",
              "      <td>41.937406</td>\n",
              "      <td>-87.716650</td>\n",
              "      <td>9</td>\n",
              "      <td>5</td>\n",
              "      <td>12</td>\n",
              "      <td>Saturday</td>\n",
              "    </tr>\n",
              "    <tr>\n",
              "      <th>4</th>\n",
              "      <td>0000X N LARAMIE AVE</td>\n",
              "      <td>0560</td>\n",
              "      <td>ASSAULT</td>\n",
              "      <td>SIMPLE</td>\n",
              "      <td>APARTMENT</td>\n",
              "      <td>False</td>\n",
              "      <td>True</td>\n",
              "      <td>1522</td>\n",
              "      <td>15.0</td>\n",
              "      <td>28.0</td>\n",
              "      <td>25.0</td>\n",
              "      <td>08A</td>\n",
              "      <td>1141706.0</td>\n",
              "      <td>1900086.0</td>\n",
              "      <td>2015</td>\n",
              "      <td>41.881903</td>\n",
              "      <td>-87.755121</td>\n",
              "      <td>9</td>\n",
              "      <td>5</td>\n",
              "      <td>13</td>\n",
              "      <td>Saturday</td>\n",
              "    </tr>\n",
              "    <tr>\n",
              "      <th>5</th>\n",
              "      <td>082XX S LOOMIS BLVD</td>\n",
              "      <td>0610</td>\n",
              "      <td>BURGLARY</td>\n",
              "      <td>FORCIBLE ENTRY</td>\n",
              "      <td>RESIDENCE</td>\n",
              "      <td>False</td>\n",
              "      <td>False</td>\n",
              "      <td>614</td>\n",
              "      <td>6.0</td>\n",
              "      <td>21.0</td>\n",
              "      <td>71.0</td>\n",
              "      <td>05</td>\n",
              "      <td>1168430.0</td>\n",
              "      <td>1850165.0</td>\n",
              "      <td>2015</td>\n",
              "      <td>41.744379</td>\n",
              "      <td>-87.658431</td>\n",
              "      <td>9</td>\n",
              "      <td>5</td>\n",
              "      <td>10</td>\n",
              "      <td>Saturday</td>\n",
              "    </tr>\n",
              "  </tbody>\n",
              "</table>\n",
              "</div>"
            ],
            "text/plain": [
              "                 Block  IUCR Primary Type  ... Day_num Time  day_of_week\n",
              "0      043XX S WOOD ST  0486      BATTERY  ...       5   13     Saturday\n",
              "1  008XX N CENTRAL AVE  0870        THEFT  ...       4   11       Friday\n",
              "3    035XX W BARRY AVE  2023    NARCOTICS  ...       5   12     Saturday\n",
              "4  0000X N LARAMIE AVE  0560      ASSAULT  ...       5   13     Saturday\n",
              "5  082XX S LOOMIS BLVD  0610     BURGLARY  ...       5   10     Saturday\n",
              "\n",
              "[5 rows x 21 columns]"
            ]
          },
          "metadata": {
            "tags": []
          },
          "execution_count": 14
        }
      ]
    },
    {
      "cell_type": "code",
      "metadata": {
        "colab": {
          "base_uri": "https://localhost:8080/"
        },
        "id": "UweZXIpQy3Bn",
        "outputId": "a6529650-a195-4f1d-e14e-ac37d04d0e58"
      },
      "source": [
        "df.shape"
      ],
      "execution_count": null,
      "outputs": [
        {
          "output_type": "execute_result",
          "data": {
            "text/plain": [
              "(6626783, 21)"
            ]
          },
          "metadata": {
            "tags": []
          },
          "execution_count": 15
        }
      ]
    },
    {
      "cell_type": "code",
      "metadata": {
        "colab": {
          "base_uri": "https://localhost:8080/"
        },
        "id": "Jb5b9PUUy6P4",
        "outputId": "947e01db-fd63-4011-b888-2986081ae745"
      },
      "source": [
        "df.info()"
      ],
      "execution_count": null,
      "outputs": [
        {
          "output_type": "stream",
          "text": [
            "<class 'pandas.core.frame.DataFrame'>\n",
            "Int64Index: 6626783 entries, 0 to 7311029\n",
            "Data columns (total 21 columns):\n",
            " #   Column                Dtype  \n",
            "---  ------                -----  \n",
            " 0   Block                 object \n",
            " 1   IUCR                  object \n",
            " 2   Primary Type          object \n",
            " 3   Description           object \n",
            " 4   Location Description  object \n",
            " 5   Arrest                bool   \n",
            " 6   Domestic              bool   \n",
            " 7   Beat                  int64  \n",
            " 8   District              float64\n",
            " 9   Ward                  float64\n",
            " 10  Community Area        float64\n",
            " 11  FBI Code              object \n",
            " 12  X Coordinate          float64\n",
            " 13  Y Coordinate          float64\n",
            " 14  Year                  int64  \n",
            " 15  Latitude              float64\n",
            " 16  Longitude             float64\n",
            " 17  Month                 int64  \n",
            " 18  Day_num               int64  \n",
            " 19  Time                  int64  \n",
            " 20  day_of_week           object \n",
            "dtypes: bool(2), float64(7), int64(5), object(7)\n",
            "memory usage: 1023.8+ MB\n"
          ],
          "name": "stdout"
        }
      ]
    },
    {
      "cell_type": "code",
      "metadata": {
        "colab": {
          "base_uri": "https://localhost:8080/"
        },
        "id": "9GX9ds4G2qbM",
        "outputId": "71b65d66-9620-4696-f9ef-cf07811293de"
      },
      "source": [
        "n = len(pd.unique(df['Primary Type']))\n",
        "print (\"Unique Values of Primary Type: \" , n)"
      ],
      "execution_count": null,
      "outputs": [
        {
          "output_type": "stream",
          "text": [
            "Unique Values of Primary Type:  35\n"
          ],
          "name": "stdout"
        }
      ]
    },
    {
      "cell_type": "markdown",
      "metadata": {
        "id": "X4pIX4ohQo-h"
      },
      "source": [
        "##We have total 35 unque values for primary type (crime type)."
      ]
    },
    {
      "cell_type": "code",
      "metadata": {
        "colab": {
          "base_uri": "https://localhost:8080/",
          "height": 621
        },
        "id": "5dZEZRaS_DCM",
        "outputId": "b2773988-2383-46e6-dca0-d7e212ff77ba"
      },
      "source": [
        "# Plot Bar Chart visualize Primary Types\n",
        "plt.figure(figsize=(14,10))\n",
        "plt.title('Amount of Crimes by Primary Type')\n",
        "plt.ylabel('Crime Type')\n",
        "plt.xlabel('Amount of Crimes')\n",
        "\n",
        "df.groupby([df['Primary Type']]).size().sort_values(ascending=True).plot(kind='barh')\n",
        "plt.show()"
      ],
      "execution_count": null,
      "outputs": [
        {
          "output_type": "display_data",
          "data": {
            "image/png": "[encoded data removed]",
            "text/plain": [
              "<Figure size 1008x720 with 1 Axes>"
            ]
          },
          "metadata": {
            "tags": [],
            "needs_background": "light"
          }
        }
      ]
    },
    {
      "cell_type": "markdown",
      "metadata": {
        "id": "r-ja68FYQxJR"
      },
      "source": [
        "##Mapping primary type to the total of 8 unique values for crime type for fast processing."
      ]
    },
    {
      "cell_type": "code",
      "metadata": {
        "id": "E4JdcKeqZEbL"
      },
      "source": [
        "primary_type_map = {\n",
        "    ('BURGLARY','MOTOR VEHICLE THEFT','THEFT','ROBBERY') : 'THEFT',\n",
        "    ('BATTERY','ASSAULT','NON-CRIMINAL','NON-CRIMINAL (SUBJECT SPECIFIED)') : 'NON-CRIMINAL_ASSAULT',\n",
        "    ('CRIM SEXUAL ASSAULT','SEX OFFENSE','STALKING','PROSTITUTION') : 'SEXUAL_OFFENSE',\n",
        "    ('WEAPONS VIOLATION','CONCEALED CARRY LICENSE VIOLATION') :  'WEAPONS_OFFENSE',\n",
        "    ('HOMICIDE','CRIMINAL DAMAGE','DECEPTIVE PRACTICE','CRIMINAL TRESPASS') : 'CRIMINAL_OFFENSE',\n",
        "    ('KIDNAPPING','HUMAN TRAFFICKING','OFFENSE INVOLVING CHILDREN') : 'HUMAN_TRAFFICKING_OFFENSE',\n",
        "    ('NARCOTICS','OTHER NARCOTIC VIOLATION') : 'NARCOTIC_OFFENSE',\n",
        "    ('OTHER OFFENSE','ARSON','GAMBLING','PUBLIC PEACE VIOLATION','INTIMIDATION','INTERFERENCE WITH PUBLIC OFFICER','LIQUOR LAW VIOLATION','OBSCENITY','PUBLIC INDECENCY') : 'OTHER_OFFENSE'\n",
        "}\n",
        "primary_type_mapping = {}\n",
        "for keys, values in primary_type_map.items():\n",
        "    for key in keys:\n",
        "        primary_type_mapping[key] = values\n",
        "df['primary_type_grouped'] = df['Primary Type'].map(primary_type_mapping)"
      ],
      "execution_count": null,
      "outputs": []
    },
    {
      "cell_type": "markdown",
      "metadata": {
        "id": "5BcIx5qsQ9jJ"
      },
      "source": [
        "##Also mapping Block variable to final 4 unique values for ease of processing."
      ]
    },
    {
      "cell_type": "code",
      "metadata": {
        "id": "2qRdikshZNIi"
      },
      "source": [
        "zone_mapping = {\n",
        "    'N' : 'North',\n",
        "    'S' : 'South',\n",
        "    'E' : 'East',\n",
        "    'W' : 'West'\n",
        "}\n",
        "df['zone'] = df.Block.str.split(\" \", n = 2, expand = True)[1].map(zone_mapping)"
      ],
      "execution_count": null,
      "outputs": []
    },
    {
      "cell_type": "code",
      "metadata": {
        "colab": {
          "base_uri": "https://localhost:8080/"
        },
        "id": "Tk45CC5-Zazy",
        "outputId": "aea85b65-e934-4e4e-c608-e32077c14290"
      },
      "source": [
        "df.info()"
      ],
      "execution_count": null,
      "outputs": [
        {
          "output_type": "stream",
          "text": [
            "<class 'pandas.core.frame.DataFrame'>\n",
            "Int64Index: 6626783 entries, 0 to 7311029\n",
            "Data columns (total 23 columns):\n",
            " #   Column                Dtype  \n",
            "---  ------                -----  \n",
            " 0   Block                 object \n",
            " 1   IUCR                  object \n",
            " 2   Primary Type          object \n",
            " 3   Description           object \n",
            " 4   Location Description  object \n",
            " 5   Arrest                bool   \n",
            " 6   Domestic              bool   \n",
            " 7   Beat                  int64  \n",
            " 8   District              float64\n",
            " 9   Ward                  float64\n",
            " 10  Community Area        float64\n",
            " 11  FBI Code              object \n",
            " 12  X Coordinate          float64\n",
            " 13  Y Coordinate          float64\n",
            " 14  Year                  int64  \n",
            " 15  Latitude              float64\n",
            " 16  Longitude             float64\n",
            " 17  Month                 int64  \n",
            " 18  Day_num               int64  \n",
            " 19  Time                  int64  \n",
            " 20  day_of_week           object \n",
            " 21  primary_type_grouped  object \n",
            " 22  zone                  object \n",
            "dtypes: bool(2), float64(7), int64(5), object(9)\n",
            "memory usage: 1.1+ GB\n"
          ],
          "name": "stdout"
        }
      ]
    },
    {
      "cell_type": "markdown",
      "metadata": {
        "id": "dJdqWfPMRMmI"
      },
      "source": [
        "##To get the counts for each crime type and to anlayze it."
      ]
    },
    {
      "cell_type": "code",
      "metadata": {
        "id": "VA_WhLj3FzxT"
      },
      "source": [
        "df['Count_CrimeType_Column'] = df['primary_type_grouped'].map(df['primary_type_grouped'].value_counts())"
      ],
      "execution_count": null,
      "outputs": []
    },
    {
      "cell_type": "code",
      "metadata": {
        "colab": {
          "base_uri": "https://localhost:8080/",
          "height": 413
        },
        "id": "jEyau6oSGwnE",
        "outputId": "b610283a-4405-408d-a5e9-c4b6ee3bed25"
      },
      "source": [
        "df.head(5)"
      ],
      "execution_count": null,
      "outputs": [
        {
          "output_type": "execute_result",
          "data": {
            "text/html": [
              "<div>\n",
              "<style scoped>\n",
              "    .dataframe tbody tr th:only-of-type {\n",
              "        vertical-align: middle;\n",
              "    }\n",
              "\n",
              "    .dataframe tbody tr th {\n",
              "        vertical-align: top;\n",
              "    }\n",
              "\n",
              "    .dataframe thead th {\n",
              "        text-align: right;\n",
              "    }\n",
              "</style>\n",
              "<table border=\"1\" class=\"dataframe\">\n",
              "  <thead>\n",
              "    <tr style=\"text-align: right;\">\n",
              "      <th></th>\n",
              "      <th>Block</th>\n",
              "      <th>IUCR</th>\n",
              "      <th>Primary Type</th>\n",
              "      <th>Description</th>\n",
              "      <th>Location Description</th>\n",
              "      <th>Arrest</th>\n",
              "      <th>Domestic</th>\n",
              "      <th>Beat</th>\n",
              "      <th>District</th>\n",
              "      <th>Ward</th>\n",
              "      <th>Community Area</th>\n",
              "      <th>FBI Code</th>\n",
              "      <th>X Coordinate</th>\n",
              "      <th>Y Coordinate</th>\n",
              "      <th>Year</th>\n",
              "      <th>Latitude</th>\n",
              "      <th>Longitude</th>\n",
              "      <th>Month</th>\n",
              "      <th>Day_num</th>\n",
              "      <th>Time</th>\n",
              "      <th>day_of_week</th>\n",
              "      <th>primary_type_grouped</th>\n",
              "      <th>zone</th>\n",
              "      <th>Count_CrimeType_Column</th>\n",
              "    </tr>\n",
              "  </thead>\n",
              "  <tbody>\n",
              "    <tr>\n",
              "      <th>0</th>\n",
              "      <td>043XX S WOOD ST</td>\n",
              "      <td>0486</td>\n",
              "      <td>BATTERY</td>\n",
              "      <td>DOMESTIC BATTERY SIMPLE</td>\n",
              "      <td>RESIDENCE</td>\n",
              "      <td>False</td>\n",
              "      <td>True</td>\n",
              "      <td>924</td>\n",
              "      <td>9.0</td>\n",
              "      <td>12.0</td>\n",
              "      <td>61.0</td>\n",
              "      <td>08B</td>\n",
              "      <td>1165074.0</td>\n",
              "      <td>1875917.0</td>\n",
              "      <td>2015</td>\n",
              "      <td>41.815117</td>\n",
              "      <td>-87.670000</td>\n",
              "      <td>9</td>\n",
              "      <td>5</td>\n",
              "      <td>13</td>\n",
              "      <td>Saturday</td>\n",
              "      <td>NON-CRIMINAL_ASSAULT</td>\n",
              "      <td>South</td>\n",
              "      <td>1640154.0</td>\n",
              "    </tr>\n",
              "    <tr>\n",
              "      <th>1</th>\n",
              "      <td>008XX N CENTRAL AVE</td>\n",
              "      <td>0870</td>\n",
              "      <td>THEFT</td>\n",
              "      <td>POCKET-PICKING</td>\n",
              "      <td>CTA BUS</td>\n",
              "      <td>False</td>\n",
              "      <td>False</td>\n",
              "      <td>1511</td>\n",
              "      <td>15.0</td>\n",
              "      <td>29.0</td>\n",
              "      <td>25.0</td>\n",
              "      <td>06</td>\n",
              "      <td>1138875.0</td>\n",
              "      <td>1904869.0</td>\n",
              "      <td>2015</td>\n",
              "      <td>41.895080</td>\n",
              "      <td>-87.765400</td>\n",
              "      <td>9</td>\n",
              "      <td>4</td>\n",
              "      <td>11</td>\n",
              "      <td>Friday</td>\n",
              "      <td>THEFT</td>\n",
              "      <td>North</td>\n",
              "      <td>2327482.0</td>\n",
              "    </tr>\n",
              "    <tr>\n",
              "      <th>3</th>\n",
              "      <td>035XX W BARRY AVE</td>\n",
              "      <td>2023</td>\n",
              "      <td>NARCOTICS</td>\n",
              "      <td>POSS: HEROIN(BRN/TAN)</td>\n",
              "      <td>SIDEWALK</td>\n",
              "      <td>True</td>\n",
              "      <td>False</td>\n",
              "      <td>1412</td>\n",
              "      <td>14.0</td>\n",
              "      <td>35.0</td>\n",
              "      <td>21.0</td>\n",
              "      <td>18</td>\n",
              "      <td>1152037.0</td>\n",
              "      <td>1920384.0</td>\n",
              "      <td>2015</td>\n",
              "      <td>41.937406</td>\n",
              "      <td>-87.716650</td>\n",
              "      <td>9</td>\n",
              "      <td>5</td>\n",
              "      <td>12</td>\n",
              "      <td>Saturday</td>\n",
              "      <td>NARCOTIC_OFFENSE</td>\n",
              "      <td>West</td>\n",
              "      <td>661033.0</td>\n",
              "    </tr>\n",
              "    <tr>\n",
              "      <th>4</th>\n",
              "      <td>0000X N LARAMIE AVE</td>\n",
              "      <td>0560</td>\n",
              "      <td>ASSAULT</td>\n",
              "      <td>SIMPLE</td>\n",
              "      <td>APARTMENT</td>\n",
              "      <td>False</td>\n",
              "      <td>True</td>\n",
              "      <td>1522</td>\n",
              "      <td>15.0</td>\n",
              "      <td>28.0</td>\n",
              "      <td>25.0</td>\n",
              "      <td>08A</td>\n",
              "      <td>1141706.0</td>\n",
              "      <td>1900086.0</td>\n",
              "      <td>2015</td>\n",
              "      <td>41.881903</td>\n",
              "      <td>-87.755121</td>\n",
              "      <td>9</td>\n",
              "      <td>5</td>\n",
              "      <td>13</td>\n",
              "      <td>Saturday</td>\n",
              "      <td>NON-CRIMINAL_ASSAULT</td>\n",
              "      <td>North</td>\n",
              "      <td>1640154.0</td>\n",
              "    </tr>\n",
              "    <tr>\n",
              "      <th>5</th>\n",
              "      <td>082XX S LOOMIS BLVD</td>\n",
              "      <td>0610</td>\n",
              "      <td>BURGLARY</td>\n",
              "      <td>FORCIBLE ENTRY</td>\n",
              "      <td>RESIDENCE</td>\n",
              "      <td>False</td>\n",
              "      <td>False</td>\n",
              "      <td>614</td>\n",
              "      <td>6.0</td>\n",
              "      <td>21.0</td>\n",
              "      <td>71.0</td>\n",
              "      <td>05</td>\n",
              "      <td>1168430.0</td>\n",
              "      <td>1850165.0</td>\n",
              "      <td>2015</td>\n",
              "      <td>41.744379</td>\n",
              "      <td>-87.658431</td>\n",
              "      <td>9</td>\n",
              "      <td>5</td>\n",
              "      <td>10</td>\n",
              "      <td>Saturday</td>\n",
              "      <td>THEFT</td>\n",
              "      <td>South</td>\n",
              "      <td>2327482.0</td>\n",
              "    </tr>\n",
              "  </tbody>\n",
              "</table>\n",
              "</div>"
            ],
            "text/plain": [
              "                 Block  IUCR  ...   zone Count_CrimeType_Column\n",
              "0      043XX S WOOD ST  0486  ...  South              1640154.0\n",
              "1  008XX N CENTRAL AVE  0870  ...  North              2327482.0\n",
              "3    035XX W BARRY AVE  2023  ...   West               661033.0\n",
              "4  0000X N LARAMIE AVE  0560  ...  North              1640154.0\n",
              "5  082XX S LOOMIS BLVD  0610  ...  South              2327482.0\n",
              "\n",
              "[5 rows x 24 columns]"
            ]
          },
          "metadata": {
            "tags": []
          },
          "execution_count": 24
        }
      ]
    },
    {
      "cell_type": "code",
      "metadata": {
        "colab": {
          "base_uri": "https://localhost:8080/"
        },
        "id": "A9qI5BgyTMsD",
        "outputId": "b8f43414-f55d-4392-c1f3-f627e955e09c"
      },
      "source": [
        "df['primary_type_grouped'].unique()"
      ],
      "execution_count": null,
      "outputs": [
        {
          "output_type": "execute_result",
          "data": {
            "text/plain": [
              "array(['NON-CRIMINAL_ASSAULT', 'THEFT', 'NARCOTIC_OFFENSE',\n",
              "       'OTHER_OFFENSE', 'CRIMINAL_OFFENSE', 'WEAPONS_OFFENSE',\n",
              "       'SEXUAL_OFFENSE', 'HUMAN_TRAFFICKING_OFFENSE', nan], dtype=object)"
            ]
          },
          "metadata": {
            "tags": []
          },
          "execution_count": 25
        }
      ]
    },
    {
      "cell_type": "code",
      "metadata": {
        "id": "dkKIDxPTTbl6"
      },
      "source": [
        "df.drop('Primary Type', inplace=True, axis=1)\n",
        "df.drop('Block', inplace=True, axis=1)\n",
        "df.drop('X Coordinate', inplace=True, axis=1)\n",
        "df.drop('Y Coordinate', inplace=True, axis=1)"
      ],
      "execution_count": null,
      "outputs": []
    },
    {
      "cell_type": "code",
      "metadata": {
        "colab": {
          "base_uri": "https://localhost:8080/"
        },
        "id": "erwhZCLKTvEO",
        "outputId": "39eb81d8-bd3a-49b8-b66a-5034df9a4496"
      },
      "source": [
        "df.info()"
      ],
      "execution_count": null,
      "outputs": [
        {
          "output_type": "stream",
          "text": [
            "<class 'pandas.core.frame.DataFrame'>\n",
            "Int64Index: 6626783 entries, 0 to 7311029\n",
            "Data columns (total 20 columns):\n",
            " #   Column                  Dtype  \n",
            "---  ------                  -----  \n",
            " 0   IUCR                    object \n",
            " 1   Description             object \n",
            " 2   Location Description    object \n",
            " 3   Arrest                  bool   \n",
            " 4   Domestic                bool   \n",
            " 5   Beat                    int64  \n",
            " 6   District                float64\n",
            " 7   Ward                    float64\n",
            " 8   Community Area          float64\n",
            " 9   FBI Code                object \n",
            " 10  Year                    int64  \n",
            " 11  Latitude                float64\n",
            " 12  Longitude               float64\n",
            " 13  Month                   int64  \n",
            " 14  Day_num                 int64  \n",
            " 15  Time                    int64  \n",
            " 16  day_of_week             object \n",
            " 17  primary_type_grouped    object \n",
            " 18  zone                    object \n",
            " 19  Count_CrimeType_Column  float64\n",
            "dtypes: bool(2), float64(6), int64(5), object(7)\n",
            "memory usage: 973.2+ MB\n"
          ],
          "name": "stdout"
        }
      ]
    },
    {
      "cell_type": "code",
      "metadata": {
        "id": "VK8phJVqG1f5"
      },
      "source": [
        "all_crime_type = df[['primary_type_grouped','Count_CrimeType_Column']].copy()"
      ],
      "execution_count": null,
      "outputs": []
    },
    {
      "cell_type": "code",
      "metadata": {
        "colab": {
          "base_uri": "https://localhost:8080/",
          "height": 202
        },
        "id": "636HgZ6BHPcu",
        "outputId": "c172b088-8e5f-4b7e-e25e-d210014ffe32"
      },
      "source": [
        "all_crime_type.head()"
      ],
      "execution_count": null,
      "outputs": [
        {
          "output_type": "execute_result",
          "data": {
            "text/html": [
              "<div>\n",
              "<style scoped>\n",
              "    .dataframe tbody tr th:only-of-type {\n",
              "        vertical-align: middle;\n",
              "    }\n",
              "\n",
              "    .dataframe tbody tr th {\n",
              "        vertical-align: top;\n",
              "    }\n",
              "\n",
              "    .dataframe thead th {\n",
              "        text-align: right;\n",
              "    }\n",
              "</style>\n",
              "<table border=\"1\" class=\"dataframe\">\n",
              "  <thead>\n",
              "    <tr style=\"text-align: right;\">\n",
              "      <th></th>\n",
              "      <th>primary_type_grouped</th>\n",
              "      <th>Count_CrimeType_Column</th>\n",
              "    </tr>\n",
              "  </thead>\n",
              "  <tbody>\n",
              "    <tr>\n",
              "      <th>0</th>\n",
              "      <td>NON-CRIMINAL_ASSAULT</td>\n",
              "      <td>1640154.0</td>\n",
              "    </tr>\n",
              "    <tr>\n",
              "      <th>1</th>\n",
              "      <td>THEFT</td>\n",
              "      <td>2327482.0</td>\n",
              "    </tr>\n",
              "    <tr>\n",
              "      <th>3</th>\n",
              "      <td>NARCOTIC_OFFENSE</td>\n",
              "      <td>661033.0</td>\n",
              "    </tr>\n",
              "    <tr>\n",
              "      <th>4</th>\n",
              "      <td>NON-CRIMINAL_ASSAULT</td>\n",
              "      <td>1640154.0</td>\n",
              "    </tr>\n",
              "    <tr>\n",
              "      <th>5</th>\n",
              "      <td>THEFT</td>\n",
              "      <td>2327482.0</td>\n",
              "    </tr>\n",
              "  </tbody>\n",
              "</table>\n",
              "</div>"
            ],
            "text/plain": [
              "   primary_type_grouped  Count_CrimeType_Column\n",
              "0  NON-CRIMINAL_ASSAULT               1640154.0\n",
              "1                 THEFT               2327482.0\n",
              "3      NARCOTIC_OFFENSE                661033.0\n",
              "4  NON-CRIMINAL_ASSAULT               1640154.0\n",
              "5                 THEFT               2327482.0"
            ]
          },
          "metadata": {
            "tags": []
          },
          "execution_count": 29
        }
      ]
    },
    {
      "cell_type": "code",
      "metadata": {
        "colab": {
          "base_uri": "https://localhost:8080/"
        },
        "id": "SdfLDyoKIUTR",
        "outputId": "45205278-16cc-45f6-e798-49a14d66c570"
      },
      "source": [
        "all_crime_type.info()"
      ],
      "execution_count": null,
      "outputs": [
        {
          "output_type": "stream",
          "text": [
            "<class 'pandas.core.frame.DataFrame'>\n",
            "Int64Index: 6626783 entries, 0 to 7311029\n",
            "Data columns (total 2 columns):\n",
            " #   Column                  Dtype  \n",
            "---  ------                  -----  \n",
            " 0   primary_type_grouped    object \n",
            " 1   Count_CrimeType_Column  float64\n",
            "dtypes: float64(1), object(1)\n",
            "memory usage: 151.7+ MB\n"
          ],
          "name": "stdout"
        }
      ]
    },
    {
      "cell_type": "code",
      "metadata": {
        "colab": {
          "base_uri": "https://localhost:8080/"
        },
        "id": "Eh6MpZhwIcpR",
        "outputId": "cec95afb-4b68-49e7-f9dd-3c9edeb0637f"
      },
      "source": [
        "all_crime_type.shape"
      ],
      "execution_count": null,
      "outputs": [
        {
          "output_type": "execute_result",
          "data": {
            "text/plain": [
              "(6626783, 2)"
            ]
          },
          "metadata": {
            "tags": []
          },
          "execution_count": 31
        }
      ]
    },
    {
      "cell_type": "code",
      "metadata": {
        "colab": {
          "base_uri": "https://localhost:8080/",
          "height": 415
        },
        "id": "I2NS1H9qRmTv",
        "outputId": "279ad116-bcf1-4fc8-92ab-f0cdd98ce8eb"
      },
      "source": [
        "all_crime_type.sort_values(['Count_CrimeType_Column'],ascending=[False])"
      ],
      "execution_count": null,
      "outputs": [
        {
          "output_type": "execute_result",
          "data": {
            "text/html": [
              "<div>\n",
              "<style scoped>\n",
              "    .dataframe tbody tr th:only-of-type {\n",
              "        vertical-align: middle;\n",
              "    }\n",
              "\n",
              "    .dataframe tbody tr th {\n",
              "        vertical-align: top;\n",
              "    }\n",
              "\n",
              "    .dataframe thead th {\n",
              "        text-align: right;\n",
              "    }\n",
              "</style>\n",
              "<table border=\"1\" class=\"dataframe\">\n",
              "  <thead>\n",
              "    <tr style=\"text-align: right;\">\n",
              "      <th></th>\n",
              "      <th>primary_type_grouped</th>\n",
              "      <th>Count_CrimeType_Column</th>\n",
              "    </tr>\n",
              "  </thead>\n",
              "  <tbody>\n",
              "    <tr>\n",
              "      <th>2186108</th>\n",
              "      <td>THEFT</td>\n",
              "      <td>2327482.0</td>\n",
              "    </tr>\n",
              "    <tr>\n",
              "      <th>2243514</th>\n",
              "      <td>THEFT</td>\n",
              "      <td>2327482.0</td>\n",
              "    </tr>\n",
              "    <tr>\n",
              "      <th>2243498</th>\n",
              "      <td>THEFT</td>\n",
              "      <td>2327482.0</td>\n",
              "    </tr>\n",
              "    <tr>\n",
              "      <th>4290986</th>\n",
              "      <td>THEFT</td>\n",
              "      <td>2327482.0</td>\n",
              "    </tr>\n",
              "    <tr>\n",
              "      <th>2243500</th>\n",
              "      <td>THEFT</td>\n",
              "      <td>2327482.0</td>\n",
              "    </tr>\n",
              "    <tr>\n",
              "      <th>...</th>\n",
              "      <td>...</td>\n",
              "      <td>...</td>\n",
              "    </tr>\n",
              "    <tr>\n",
              "      <th>7310671</th>\n",
              "      <td>NaN</td>\n",
              "      <td>NaN</td>\n",
              "    </tr>\n",
              "    <tr>\n",
              "      <th>7310759</th>\n",
              "      <td>NaN</td>\n",
              "      <td>NaN</td>\n",
              "    </tr>\n",
              "    <tr>\n",
              "      <th>7310762</th>\n",
              "      <td>NaN</td>\n",
              "      <td>NaN</td>\n",
              "    </tr>\n",
              "    <tr>\n",
              "      <th>7310840</th>\n",
              "      <td>NaN</td>\n",
              "      <td>NaN</td>\n",
              "    </tr>\n",
              "    <tr>\n",
              "      <th>7310859</th>\n",
              "      <td>NaN</td>\n",
              "      <td>NaN</td>\n",
              "    </tr>\n",
              "  </tbody>\n",
              "</table>\n",
              "<p>6626783 rows × 2 columns</p>\n",
              "</div>"
            ],
            "text/plain": [
              "        primary_type_grouped  Count_CrimeType_Column\n",
              "2186108                THEFT               2327482.0\n",
              "2243514                THEFT               2327482.0\n",
              "2243498                THEFT               2327482.0\n",
              "4290986                THEFT               2327482.0\n",
              "2243500                THEFT               2327482.0\n",
              "...                      ...                     ...\n",
              "7310671                  NaN                     NaN\n",
              "7310759                  NaN                     NaN\n",
              "7310762                  NaN                     NaN\n",
              "7310840                  NaN                     NaN\n",
              "7310859                  NaN                     NaN\n",
              "\n",
              "[6626783 rows x 2 columns]"
            ]
          },
          "metadata": {
            "tags": []
          },
          "execution_count": 32
        }
      ]
    },
    {
      "cell_type": "code",
      "metadata": {
        "id": "QlxcSMs_cJga"
      },
      "source": [
        "# dropping ALL duplicte values\n",
        "final_crime_type_counts= all_crime_type.drop_duplicates()"
      ],
      "execution_count": null,
      "outputs": []
    },
    {
      "cell_type": "code",
      "metadata": {
        "colab": {
          "base_uri": "https://localhost:8080/"
        },
        "id": "aCzS06ipcLNw",
        "outputId": "eacfebaf-4b16-4168-f6d0-6c9f63e69644"
      },
      "source": [
        "final_crime_type_counts.shape"
      ],
      "execution_count": null,
      "outputs": [
        {
          "output_type": "execute_result",
          "data": {
            "text/plain": [
              "(9, 2)"
            ]
          },
          "metadata": {
            "tags": []
          },
          "execution_count": 34
        }
      ]
    },
    {
      "cell_type": "code",
      "metadata": {
        "id": "aDj4pUORcPPl"
      },
      "source": [
        "final_crime_type_counts= final_crime_type_counts.sort_values(['Count_CrimeType_Column'],ascending=[False])"
      ],
      "execution_count": null,
      "outputs": []
    },
    {
      "cell_type": "code",
      "metadata": {
        "id": "MoBf6xpvcVeR"
      },
      "source": [
        "final_crime_type_counts = final_crime_type_counts.dropna()"
      ],
      "execution_count": null,
      "outputs": []
    },
    {
      "cell_type": "code",
      "metadata": {
        "id": "fbV_6cz4ct6b"
      },
      "source": [
        "final_crime_type_counts.reset_index(drop=True, inplace =True)"
      ],
      "execution_count": null,
      "outputs": []
    },
    {
      "cell_type": "markdown",
      "metadata": {
        "id": "ZIogUDUxRf9t"
      },
      "source": [
        "##We can see from below code that the crime type are arranged in descending order according to the crime type count."
      ]
    },
    {
      "cell_type": "code",
      "metadata": {
        "colab": {
          "base_uri": "https://localhost:8080/",
          "height": 294
        },
        "id": "TF_NpSt6R89h",
        "outputId": "73516277-a1e3-4702-e114-9368d52c7219"
      },
      "source": [
        "final_crime_type_counts"
      ],
      "execution_count": null,
      "outputs": [
        {
          "output_type": "execute_result",
          "data": {
            "text/html": [
              "<div>\n",
              "<style scoped>\n",
              "    .dataframe tbody tr th:only-of-type {\n",
              "        vertical-align: middle;\n",
              "    }\n",
              "\n",
              "    .dataframe tbody tr th {\n",
              "        vertical-align: top;\n",
              "    }\n",
              "\n",
              "    .dataframe thead th {\n",
              "        text-align: right;\n",
              "    }\n",
              "</style>\n",
              "<table border=\"1\" class=\"dataframe\">\n",
              "  <thead>\n",
              "    <tr style=\"text-align: right;\">\n",
              "      <th></th>\n",
              "      <th>primary_type_grouped</th>\n",
              "      <th>Count_CrimeType_Column</th>\n",
              "    </tr>\n",
              "  </thead>\n",
              "  <tbody>\n",
              "    <tr>\n",
              "      <th>0</th>\n",
              "      <td>THEFT</td>\n",
              "      <td>2327482.0</td>\n",
              "    </tr>\n",
              "    <tr>\n",
              "      <th>1</th>\n",
              "      <td>NON-CRIMINAL_ASSAULT</td>\n",
              "      <td>1640154.0</td>\n",
              "    </tr>\n",
              "    <tr>\n",
              "      <th>2</th>\n",
              "      <td>CRIMINAL_OFFENSE</td>\n",
              "      <td>1230761.0</td>\n",
              "    </tr>\n",
              "    <tr>\n",
              "      <th>3</th>\n",
              "      <td>NARCOTIC_OFFENSE</td>\n",
              "      <td>661033.0</td>\n",
              "    </tr>\n",
              "    <tr>\n",
              "      <th>4</th>\n",
              "      <td>OTHER_OFFENSE</td>\n",
              "      <td>517088.0</td>\n",
              "    </tr>\n",
              "    <tr>\n",
              "      <th>5</th>\n",
              "      <td>SEXUAL_OFFENSE</td>\n",
              "      <td>112895.0</td>\n",
              "    </tr>\n",
              "    <tr>\n",
              "      <th>6</th>\n",
              "      <td>WEAPONS_OFFENSE</td>\n",
              "      <td>83250.0</td>\n",
              "    </tr>\n",
              "    <tr>\n",
              "      <th>7</th>\n",
              "      <td>HUMAN_TRAFFICKING_OFFENSE</td>\n",
              "      <td>51446.0</td>\n",
              "    </tr>\n",
              "  </tbody>\n",
              "</table>\n",
              "</div>"
            ],
            "text/plain": [
              "        primary_type_grouped  Count_CrimeType_Column\n",
              "0                      THEFT               2327482.0\n",
              "1       NON-CRIMINAL_ASSAULT               1640154.0\n",
              "2           CRIMINAL_OFFENSE               1230761.0\n",
              "3           NARCOTIC_OFFENSE                661033.0\n",
              "4              OTHER_OFFENSE                517088.0\n",
              "5             SEXUAL_OFFENSE                112895.0\n",
              "6            WEAPONS_OFFENSE                 83250.0\n",
              "7  HUMAN_TRAFFICKING_OFFENSE                 51446.0"
            ]
          },
          "metadata": {
            "tags": []
          },
          "execution_count": 38
        }
      ]
    },
    {
      "cell_type": "code",
      "metadata": {
        "colab": {
          "base_uri": "https://localhost:8080/",
          "height": 609
        },
        "id": "Ul2d8rX7fch8",
        "outputId": "63f977c4-fac8-4ca5-bb5f-e03281271778"
      },
      "source": [
        "df.dropna(how='all')"
      ],
      "execution_count": null,
      "outputs": [
        {
          "output_type": "execute_result",
          "data": {
            "text/html": [
              "<div>\n",
              "<style scoped>\n",
              "    .dataframe tbody tr th:only-of-type {\n",
              "        vertical-align: middle;\n",
              "    }\n",
              "\n",
              "    .dataframe tbody tr th {\n",
              "        vertical-align: top;\n",
              "    }\n",
              "\n",
              "    .dataframe thead th {\n",
              "        text-align: right;\n",
              "    }\n",
              "</style>\n",
              "<table border=\"1\" class=\"dataframe\">\n",
              "  <thead>\n",
              "    <tr style=\"text-align: right;\">\n",
              "      <th></th>\n",
              "      <th>IUCR</th>\n",
              "      <th>Description</th>\n",
              "      <th>Location Description</th>\n",
              "      <th>Arrest</th>\n",
              "      <th>Domestic</th>\n",
              "      <th>Beat</th>\n",
              "      <th>District</th>\n",
              "      <th>Ward</th>\n",
              "      <th>Community Area</th>\n",
              "      <th>FBI Code</th>\n",
              "      <th>Year</th>\n",
              "      <th>Latitude</th>\n",
              "      <th>Longitude</th>\n",
              "      <th>Month</th>\n",
              "      <th>Day_num</th>\n",
              "      <th>Time</th>\n",
              "      <th>day_of_week</th>\n",
              "      <th>primary_type_grouped</th>\n",
              "      <th>zone</th>\n",
              "      <th>Count_CrimeType_Column</th>\n",
              "    </tr>\n",
              "  </thead>\n",
              "  <tbody>\n",
              "    <tr>\n",
              "      <th>0</th>\n",
              "      <td>0486</td>\n",
              "      <td>DOMESTIC BATTERY SIMPLE</td>\n",
              "      <td>RESIDENCE</td>\n",
              "      <td>False</td>\n",
              "      <td>True</td>\n",
              "      <td>924</td>\n",
              "      <td>9.0</td>\n",
              "      <td>12.0</td>\n",
              "      <td>61.0</td>\n",
              "      <td>08B</td>\n",
              "      <td>2015</td>\n",
              "      <td>41.815117</td>\n",
              "      <td>-87.670000</td>\n",
              "      <td>9</td>\n",
              "      <td>5</td>\n",
              "      <td>13</td>\n",
              "      <td>Saturday</td>\n",
              "      <td>NON-CRIMINAL_ASSAULT</td>\n",
              "      <td>South</td>\n",
              "      <td>1640154.0</td>\n",
              "    </tr>\n",
              "    <tr>\n",
              "      <th>1</th>\n",
              "      <td>0870</td>\n",
              "      <td>POCKET-PICKING</td>\n",
              "      <td>CTA BUS</td>\n",
              "      <td>False</td>\n",
              "      <td>False</td>\n",
              "      <td>1511</td>\n",
              "      <td>15.0</td>\n",
              "      <td>29.0</td>\n",
              "      <td>25.0</td>\n",
              "      <td>06</td>\n",
              "      <td>2015</td>\n",
              "      <td>41.895080</td>\n",
              "      <td>-87.765400</td>\n",
              "      <td>9</td>\n",
              "      <td>4</td>\n",
              "      <td>11</td>\n",
              "      <td>Friday</td>\n",
              "      <td>THEFT</td>\n",
              "      <td>North</td>\n",
              "      <td>2327482.0</td>\n",
              "    </tr>\n",
              "    <tr>\n",
              "      <th>3</th>\n",
              "      <td>2023</td>\n",
              "      <td>POSS: HEROIN(BRN/TAN)</td>\n",
              "      <td>SIDEWALK</td>\n",
              "      <td>True</td>\n",
              "      <td>False</td>\n",
              "      <td>1412</td>\n",
              "      <td>14.0</td>\n",
              "      <td>35.0</td>\n",
              "      <td>21.0</td>\n",
              "      <td>18</td>\n",
              "      <td>2015</td>\n",
              "      <td>41.937406</td>\n",
              "      <td>-87.716650</td>\n",
              "      <td>9</td>\n",
              "      <td>5</td>\n",
              "      <td>12</td>\n",
              "      <td>Saturday</td>\n",
              "      <td>NARCOTIC_OFFENSE</td>\n",
              "      <td>West</td>\n",
              "      <td>661033.0</td>\n",
              "    </tr>\n",
              "    <tr>\n",
              "      <th>4</th>\n",
              "      <td>0560</td>\n",
              "      <td>SIMPLE</td>\n",
              "      <td>APARTMENT</td>\n",
              "      <td>False</td>\n",
              "      <td>True</td>\n",
              "      <td>1522</td>\n",
              "      <td>15.0</td>\n",
              "      <td>28.0</td>\n",
              "      <td>25.0</td>\n",
              "      <td>08A</td>\n",
              "      <td>2015</td>\n",
              "      <td>41.881903</td>\n",
              "      <td>-87.755121</td>\n",
              "      <td>9</td>\n",
              "      <td>5</td>\n",
              "      <td>13</td>\n",
              "      <td>Saturday</td>\n",
              "      <td>NON-CRIMINAL_ASSAULT</td>\n",
              "      <td>North</td>\n",
              "      <td>1640154.0</td>\n",
              "    </tr>\n",
              "    <tr>\n",
              "      <th>5</th>\n",
              "      <td>0610</td>\n",
              "      <td>FORCIBLE ENTRY</td>\n",
              "      <td>RESIDENCE</td>\n",
              "      <td>False</td>\n",
              "      <td>False</td>\n",
              "      <td>614</td>\n",
              "      <td>6.0</td>\n",
              "      <td>21.0</td>\n",
              "      <td>71.0</td>\n",
              "      <td>05</td>\n",
              "      <td>2015</td>\n",
              "      <td>41.744379</td>\n",
              "      <td>-87.658431</td>\n",
              "      <td>9</td>\n",
              "      <td>5</td>\n",
              "      <td>10</td>\n",
              "      <td>Saturday</td>\n",
              "      <td>THEFT</td>\n",
              "      <td>South</td>\n",
              "      <td>2327482.0</td>\n",
              "    </tr>\n",
              "    <tr>\n",
              "      <th>...</th>\n",
              "      <td>...</td>\n",
              "      <td>...</td>\n",
              "      <td>...</td>\n",
              "      <td>...</td>\n",
              "      <td>...</td>\n",
              "      <td>...</td>\n",
              "      <td>...</td>\n",
              "      <td>...</td>\n",
              "      <td>...</td>\n",
              "      <td>...</td>\n",
              "      <td>...</td>\n",
              "      <td>...</td>\n",
              "      <td>...</td>\n",
              "      <td>...</td>\n",
              "      <td>...</td>\n",
              "      <td>...</td>\n",
              "      <td>...</td>\n",
              "      <td>...</td>\n",
              "      <td>...</td>\n",
              "      <td>...</td>\n",
              "    </tr>\n",
              "    <tr>\n",
              "      <th>7311025</th>\n",
              "      <td>1130</td>\n",
              "      <td>FRAUD OR CONFIDENCE GAME</td>\n",
              "      <td>RESIDENCE</td>\n",
              "      <td>False</td>\n",
              "      <td>False</td>\n",
              "      <td>431</td>\n",
              "      <td>4.0</td>\n",
              "      <td>7.0</td>\n",
              "      <td>51.0</td>\n",
              "      <td>11</td>\n",
              "      <td>2021</td>\n",
              "      <td>41.710890</td>\n",
              "      <td>-87.568176</td>\n",
              "      <td>3</td>\n",
              "      <td>1</td>\n",
              "      <td>0</td>\n",
              "      <td>Monday</td>\n",
              "      <td>CRIMINAL_OFFENSE</td>\n",
              "      <td>South</td>\n",
              "      <td>1230761.0</td>\n",
              "    </tr>\n",
              "    <tr>\n",
              "      <th>7311026</th>\n",
              "      <td>1582</td>\n",
              "      <td>CHILD PORNOGRAPHY</td>\n",
              "      <td>RESIDENCE</td>\n",
              "      <td>False</td>\n",
              "      <td>False</td>\n",
              "      <td>1814</td>\n",
              "      <td>18.0</td>\n",
              "      <td>43.0</td>\n",
              "      <td>7.0</td>\n",
              "      <td>17</td>\n",
              "      <td>2021</td>\n",
              "      <td>41.924251</td>\n",
              "      <td>-87.638070</td>\n",
              "      <td>1</td>\n",
              "      <td>2</td>\n",
              "      <td>9</td>\n",
              "      <td>Saturday</td>\n",
              "      <td>HUMAN_TRAFFICKING_OFFENSE</td>\n",
              "      <td>North</td>\n",
              "      <td>51446.0</td>\n",
              "    </tr>\n",
              "    <tr>\n",
              "      <th>7311027</th>\n",
              "      <td>1750</td>\n",
              "      <td>CHILD ABUSE</td>\n",
              "      <td>APARTMENT</td>\n",
              "      <td>False</td>\n",
              "      <td>True</td>\n",
              "      <td>2535</td>\n",
              "      <td>25.0</td>\n",
              "      <td>37.0</td>\n",
              "      <td>23.0</td>\n",
              "      <td>08B</td>\n",
              "      <td>2021</td>\n",
              "      <td>41.902680</td>\n",
              "      <td>-87.725422</td>\n",
              "      <td>4</td>\n",
              "      <td>14</td>\n",
              "      <td>0</td>\n",
              "      <td>Wednesday</td>\n",
              "      <td>HUMAN_TRAFFICKING_OFFENSE</td>\n",
              "      <td>West</td>\n",
              "      <td>51446.0</td>\n",
              "    </tr>\n",
              "    <tr>\n",
              "      <th>7311028</th>\n",
              "      <td>0530</td>\n",
              "      <td>AGGRAVATED - OTHER DANGEROUS WEAPON</td>\n",
              "      <td>APARTMENT</td>\n",
              "      <td>True</td>\n",
              "      <td>False</td>\n",
              "      <td>1824</td>\n",
              "      <td>18.0</td>\n",
              "      <td>2.0</td>\n",
              "      <td>8.0</td>\n",
              "      <td>04A</td>\n",
              "      <td>2021</td>\n",
              "      <td>41.903497</td>\n",
              "      <td>-87.629975</td>\n",
              "      <td>4</td>\n",
              "      <td>14</td>\n",
              "      <td>19</td>\n",
              "      <td>Wednesday</td>\n",
              "      <td>NON-CRIMINAL_ASSAULT</td>\n",
              "      <td>North</td>\n",
              "      <td>1640154.0</td>\n",
              "    </tr>\n",
              "    <tr>\n",
              "      <th>7311029</th>\n",
              "      <td>0486</td>\n",
              "      <td>DOMESTIC BATTERY SIMPLE</td>\n",
              "      <td>ALLEY</td>\n",
              "      <td>False</td>\n",
              "      <td>True</td>\n",
              "      <td>632</td>\n",
              "      <td>6.0</td>\n",
              "      <td>6.0</td>\n",
              "      <td>44.0</td>\n",
              "      <td>08B</td>\n",
              "      <td>2021</td>\n",
              "      <td>41.741397</td>\n",
              "      <td>-87.614657</td>\n",
              "      <td>4</td>\n",
              "      <td>14</td>\n",
              "      <td>11</td>\n",
              "      <td>Wednesday</td>\n",
              "      <td>NON-CRIMINAL_ASSAULT</td>\n",
              "      <td>South</td>\n",
              "      <td>1640154.0</td>\n",
              "    </tr>\n",
              "  </tbody>\n",
              "</table>\n",
              "<p>6626783 rows × 20 columns</p>\n",
              "</div>"
            ],
            "text/plain": [
              "         IUCR  ... Count_CrimeType_Column\n",
              "0        0486  ...              1640154.0\n",
              "1        0870  ...              2327482.0\n",
              "3        2023  ...               661033.0\n",
              "4        0560  ...              1640154.0\n",
              "5        0610  ...              2327482.0\n",
              "...       ...  ...                    ...\n",
              "7311025  1130  ...              1230761.0\n",
              "7311026  1582  ...                51446.0\n",
              "7311027  1750  ...                51446.0\n",
              "7311028  0530  ...              1640154.0\n",
              "7311029  0486  ...              1640154.0\n",
              "\n",
              "[6626783 rows x 20 columns]"
            ]
          },
          "metadata": {
            "tags": []
          },
          "execution_count": 39
        }
      ]
    },
    {
      "cell_type": "code",
      "metadata": {
        "colab": {
          "base_uri": "https://localhost:8080/"
        },
        "id": "hXomsRYYgI18",
        "outputId": "afcceb3f-040c-4b1a-b8fe-c1408c8e8a0b"
      },
      "source": [
        "df.shape"
      ],
      "execution_count": null,
      "outputs": [
        {
          "output_type": "execute_result",
          "data": {
            "text/plain": [
              "(6626783, 20)"
            ]
          },
          "metadata": {
            "tags": []
          },
          "execution_count": 40
        }
      ]
    },
    {
      "cell_type": "code",
      "metadata": {
        "colab": {
          "base_uri": "https://localhost:8080/"
        },
        "id": "GlWFtiKnnisR",
        "outputId": "5cde521f-8a8b-4cfb-e506-24af1ad50ed2"
      },
      "source": [
        "df.info()"
      ],
      "execution_count": null,
      "outputs": [
        {
          "output_type": "stream",
          "text": [
            "<class 'pandas.core.frame.DataFrame'>\n",
            "Int64Index: 6626783 entries, 0 to 7311029\n",
            "Data columns (total 20 columns):\n",
            " #   Column                  Dtype  \n",
            "---  ------                  -----  \n",
            " 0   IUCR                    object \n",
            " 1   Description             object \n",
            " 2   Location Description    object \n",
            " 3   Arrest                  bool   \n",
            " 4   Domestic                bool   \n",
            " 5   Beat                    int64  \n",
            " 6   District                float64\n",
            " 7   Ward                    float64\n",
            " 8   Community Area          float64\n",
            " 9   FBI Code                object \n",
            " 10  Year                    int64  \n",
            " 11  Latitude                float64\n",
            " 12  Longitude               float64\n",
            " 13  Month                   int64  \n",
            " 14  Day_num                 int64  \n",
            " 15  Time                    int64  \n",
            " 16  day_of_week             object \n",
            " 17  primary_type_grouped    object \n",
            " 18  zone                    object \n",
            " 19  Count_CrimeType_Column  float64\n",
            "dtypes: bool(2), float64(6), int64(5), object(7)\n",
            "memory usage: 973.2+ MB\n"
          ],
          "name": "stdout"
        }
      ]
    },
    {
      "cell_type": "code",
      "metadata": {
        "colab": {
          "base_uri": "https://localhost:8080/",
          "height": 621
        },
        "id": "ZGfZFAfLfXsd",
        "outputId": "6aeccbe7-cfaf-471a-f209-96d46ce2bd64"
      },
      "source": [
        "# Plot Bar Chart visualize Primary Types\n",
        "plt.figure(figsize=(14,10))\n",
        "plt.title('Amount of Crimes by Primary Type')\n",
        "plt.ylabel('Crime Type')\n",
        "plt.xlabel('Amount of Crimes')\n",
        "\n",
        "df.groupby([df['primary_type_grouped']]).size().sort_values(ascending=True).plot(kind='barh')\n",
        "plt.show()"
      ],
      "execution_count": null,
      "outputs": [
        {
          "output_type": "display_data",
          "data": {
            "image/png": "[encoded data removed]",
            "text/plain": [
              "<Figure size 1008x720 with 1 Axes>"
            ]
          },
          "metadata": {
            "tags": [],
            "needs_background": "light"
          }
        }
      ]
    },
    {
      "cell_type": "markdown",
      "metadata": {
        "id": "pPGo2IZGRz7K"
      },
      "source": [
        "## To check how many unique values we have for different variables , which will be used in classification models."
      ]
    },
    {
      "cell_type": "code",
      "metadata": {
        "id": "zfHJzsig197v",
        "colab": {
          "base_uri": "https://localhost:8080/"
        },
        "outputId": "bfcbff9c-338c-4507-a78f-91a03b1f6806"
      },
      "source": [
        "n = len(pd.unique(df['Description']))\n",
        "print (\"Unique Values of Description: \" , n)"
      ],
      "execution_count": null,
      "outputs": [
        {
          "output_type": "stream",
          "text": [
            "Unique Values of Description:  533\n"
          ],
          "name": "stdout"
        }
      ]
    },
    {
      "cell_type": "code",
      "metadata": {
        "colab": {
          "base_uri": "https://localhost:8080/"
        },
        "id": "mBg1FxLYn2Mk",
        "outputId": "fe8bbfc5-d0b3-4173-f29b-18302c3eb3b7"
      },
      "source": [
        "n = len(pd.unique(df['Year']))\n",
        "print (\"Unique Values of Year: \" , n)"
      ],
      "execution_count": null,
      "outputs": [
        {
          "output_type": "stream",
          "text": [
            "Unique Values of Year:  21\n"
          ],
          "name": "stdout"
        }
      ]
    },
    {
      "cell_type": "code",
      "metadata": {
        "colab": {
          "base_uri": "https://localhost:8080/"
        },
        "id": "S8fsYP7aoYnA",
        "outputId": "006790b1-f15e-4269-f8b0-94a3f2fb45d4"
      },
      "source": [
        "n = len(pd.unique(df['District']))\n",
        "print (\"Unique Values of District: \" , n)"
      ],
      "execution_count": null,
      "outputs": [
        {
          "output_type": "stream",
          "text": [
            "Unique Values of District:  24\n"
          ],
          "name": "stdout"
        }
      ]
    },
    {
      "cell_type": "code",
      "metadata": {
        "colab": {
          "base_uri": "https://localhost:8080/"
        },
        "id": "V_aNVvhRogZZ",
        "outputId": "0a9de39d-709d-4584-f978-db0bf6e05332"
      },
      "source": [
        "n = len(pd.unique(df['Ward']))\n",
        "print (\"Unique Values of Ward: \" , n)"
      ],
      "execution_count": null,
      "outputs": [
        {
          "output_type": "stream",
          "text": [
            "Unique Values of Ward:  50\n"
          ],
          "name": "stdout"
        }
      ]
    },
    {
      "cell_type": "code",
      "metadata": {
        "colab": {
          "base_uri": "https://localhost:8080/"
        },
        "id": "GDwY2h1-oj-T",
        "outputId": "eb6794fe-e6ec-42f0-94c5-d7df20970506"
      },
      "source": [
        "n = len(pd.unique(df['Beat']))\n",
        "print (\"Unique Values of Beat: \" , n)"
      ],
      "execution_count": null,
      "outputs": [
        {
          "output_type": "stream",
          "text": [
            "Unique Values of Beat:  303\n"
          ],
          "name": "stdout"
        }
      ]
    },
    {
      "cell_type": "code",
      "metadata": {
        "colab": {
          "base_uri": "https://localhost:8080/"
        },
        "id": "Vkuf0p8_ongo",
        "outputId": "68ac717e-f31f-4223-bdf6-4d75b2c240c5"
      },
      "source": [
        "n = len(pd.unique(df['Community Area']))\n",
        "print (\"Unique Values of Community Area: \" , n)"
      ],
      "execution_count": null,
      "outputs": [
        {
          "output_type": "stream",
          "text": [
            "Unique Values of Community Area:  78\n"
          ],
          "name": "stdout"
        }
      ]
    },
    {
      "cell_type": "code",
      "metadata": {
        "colab": {
          "base_uri": "https://localhost:8080/"
        },
        "id": "7WGOskuaos_r",
        "outputId": "eae6e0f1-617d-47c3-f112-3aaab2fe891c"
      },
      "source": [
        "n = len(pd.unique(df['Location Description']))\n",
        "print (\"Unique Values of Location Description: \" , n)"
      ],
      "execution_count": null,
      "outputs": [
        {
          "output_type": "stream",
          "text": [
            "Unique Values of Location Description:  214\n"
          ],
          "name": "stdout"
        }
      ]
    },
    {
      "cell_type": "code",
      "metadata": {
        "colab": {
          "base_uri": "https://localhost:8080/"
        },
        "id": "a5YBy-Fzoz0V",
        "outputId": "da681749-8aee-4692-f636-a71a1637b664"
      },
      "source": [
        "n = len(pd.unique(df['Arrest']))\n",
        "print (\"Unique Values of Arrest: \" , n)"
      ],
      "execution_count": null,
      "outputs": [
        {
          "output_type": "stream",
          "text": [
            "Unique Values of Arrest:  2\n"
          ],
          "name": "stdout"
        }
      ]
    },
    {
      "cell_type": "code",
      "metadata": {
        "colab": {
          "base_uri": "https://localhost:8080/"
        },
        "id": "ZhiOavWDo7GQ",
        "outputId": "accc4109-7213-4930-b1a6-b5902e284e1f"
      },
      "source": [
        "n = len(pd.unique(df['Domestic']))\n",
        "print (\"Unique Values of Domestic: \" , n)"
      ],
      "execution_count": null,
      "outputs": [
        {
          "output_type": "stream",
          "text": [
            "Unique Values of Domestic:  2\n"
          ],
          "name": "stdout"
        }
      ]
    },
    {
      "cell_type": "code",
      "metadata": {
        "colab": {
          "base_uri": "https://localhost:8080/"
        },
        "id": "ZyzAdA2so-fT",
        "outputId": "78edb975-9649-42f9-e4f9-c7120b69e922"
      },
      "source": [
        "n = len(pd.unique(df['Latitude']))\n",
        "print (\"Unique Values of Latitude: \" , n)"
      ],
      "execution_count": null,
      "outputs": [
        {
          "output_type": "stream",
          "text": [
            "Unique Values of Latitude:  658272\n"
          ],
          "name": "stdout"
        }
      ]
    },
    {
      "cell_type": "code",
      "metadata": {
        "colab": {
          "base_uri": "https://localhost:8080/"
        },
        "id": "4Akhr_VEpHIP",
        "outputId": "c53ac2e2-eb97-481b-ff09-adcbbb1fb70b"
      },
      "source": [
        "n = len(pd.unique(df['Longitude']))\n",
        "print (\"Unique Values of Longitude: \" , n)"
      ],
      "execution_count": null,
      "outputs": [
        {
          "output_type": "stream",
          "text": [
            "Unique Values of Longitude:  657903\n"
          ],
          "name": "stdout"
        }
      ]
    },
    {
      "cell_type": "code",
      "metadata": {
        "colab": {
          "base_uri": "https://localhost:8080/"
        },
        "id": "zQQMBUiqpLG-",
        "outputId": "750e363a-d59e-429d-bcf7-d98b27ea145f"
      },
      "source": [
        "n = len(pd.unique(df['Time']))\n",
        "print (\"Unique Values of Time: \" , n)"
      ],
      "execution_count": null,
      "outputs": [
        {
          "output_type": "stream",
          "text": [
            "Unique Values of Time:  24\n"
          ],
          "name": "stdout"
        }
      ]
    },
    {
      "cell_type": "code",
      "metadata": {
        "colab": {
          "base_uri": "https://localhost:8080/"
        },
        "id": "Ruc7uxThpSe2",
        "outputId": "02155ce6-a359-4ec1-ee80-0d6381e0b847"
      },
      "source": [
        "n = len(pd.unique(df['IUCR']))\n",
        "print (\"Unique Values of IUCR: \" , n)"
      ],
      "execution_count": null,
      "outputs": [
        {
          "output_type": "stream",
          "text": [
            "Unique Values of IUCR:  400\n"
          ],
          "name": "stdout"
        }
      ]
    },
    {
      "cell_type": "code",
      "metadata": {
        "colab": {
          "base_uri": "https://localhost:8080/"
        },
        "id": "l6w1eVD1pVj7",
        "outputId": "29ad0976-89f5-4c96-d669-1c1ca5b663cb"
      },
      "source": [
        "n = len(pd.unique(df['FBI Code']))\n",
        "print (\"Unique Values of FBI Code: \" , n)"
      ],
      "execution_count": null,
      "outputs": [
        {
          "output_type": "stream",
          "text": [
            "Unique Values of FBI Code:  26\n"
          ],
          "name": "stdout"
        }
      ]
    },
    {
      "cell_type": "markdown",
      "metadata": {
        "id": "vEa8yo8kSChm"
      },
      "source": [
        "##To save the processed data file in the drive so it can be futher used for bulding different classification model and also for clustering purposes."
      ]
    },
    {
      "cell_type": "code",
      "metadata": {
        "colab": {
          "base_uri": "https://localhost:8080/"
        },
        "id": "PNUs1c0et8yo",
        "outputId": "53a942c7-9601-48a6-bef3-f3b3f5b0e800"
      },
      "source": [
        "import os\n",
        "print(os.listdir(r\"drive/My Drive/Colab Notebooks/CMPE_255_Project\"))"
      ],
      "execution_count": null,
      "outputs": [
        {
          "output_type": "stream",
          "text": [
            "['Chicago_Crime']\n"
          ],
          "name": "stdout"
        }
      ]
    },
    {
      "cell_type": "code",
      "metadata": {
        "id": "cM1JuFMYsV06"
      },
      "source": [
        "# storing pandas dataframe as a picklefile for later use ...(Merged dataset for three files review, user, business)\n",
        "os.path.isfile(\"drive/My Drive/Colab Notebooks/CMPE_255_Project/Chicago_Crime_Processed_Data.pkl\")\n",
        "df.to_pickle(\"drive/My Drive/Colab Notebooks/CMPE_255_Project/Chicago_Crime_Processed_Data.pkl\")\n"
      ],
      "execution_count": null,
      "outputs": []
    },
    {
      "cell_type": "code",
      "metadata": {
        "id": "MFis6Du4rXMA"
      },
      "source": [
        ""
      ],
      "execution_count": null,
      "outputs": []
    }
  ]
}